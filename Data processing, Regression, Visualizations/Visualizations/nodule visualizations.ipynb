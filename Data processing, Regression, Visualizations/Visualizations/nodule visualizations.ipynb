{
 "cells": [
  {
   "cell_type": "markdown",
   "metadata": {},
   "source": [
    "## visualization for nodules -- ALM Ortho Powders"
   ]
  },
  {
   "cell_type": "code",
   "execution_count": 28,
   "metadata": {},
   "outputs": [],
   "source": [
    "## import modules and libraries for visualization \n",
    "import matplotlib.pyplot as plt \n",
    "import pandas as pd \n",
    "import numpy as np\n",
    "import os"
   ]
  },
  {
   "cell_type": "code",
   "execution_count": 27,
   "metadata": {},
   "outputs": [
    {
     "ename": "FileNotFoundError",
     "evalue": "[Errno 2] No such file or directory: '/Users/sarah/Documents/areospace research/material recycling project/PyImageJ-Particle-Analysis/FlowCam Ti64 Powders/ImageJ Ti64 Data'",
     "output_type": "error",
     "traceback": [
      "\u001b[0;31m---------------------------------------------------------------------------\u001b[0m",
      "\u001b[0;31mFileNotFoundError\u001b[0m                         Traceback (most recent call last)",
      "Cell \u001b[0;32mIn[27], line 16\u001b[0m\n\u001b[1;32m     13\u001b[0m unmatched_files \u001b[38;5;241m=\u001b[39m []\n\u001b[1;32m     15\u001b[0m \u001b[38;5;66;03m# Iterate over files in the folder\u001b[39;00m\n\u001b[0;32m---> 16\u001b[0m \u001b[38;5;28;01mfor\u001b[39;00m file_name \u001b[38;5;129;01min\u001b[39;00m \u001b[43mos\u001b[49m\u001b[38;5;241;43m.\u001b[39;49m\u001b[43mlistdir\u001b[49m\u001b[43m(\u001b[49m\u001b[43mfolder_path\u001b[49m\u001b[43m)\u001b[49m:\n\u001b[1;32m     17\u001b[0m     \u001b[38;5;28;01mif\u001b[39;00m file_name\u001b[38;5;241m.\u001b[39mendswith(\u001b[38;5;124m\"\u001b[39m\u001b[38;5;124m.csv\u001b[39m\u001b[38;5;124m\"\u001b[39m):\n\u001b[1;32m     18\u001b[0m         match \u001b[38;5;241m=\u001b[39m re\u001b[38;5;241m.\u001b[39msearch(pattern, file_name)\n",
      "\u001b[0;31mFileNotFoundError\u001b[0m: [Errno 2] No such file or directory: '/Users/sarah/Documents/areospace research/material recycling project/PyImageJ-Particle-Analysis/FlowCam Ti64 Powders/ImageJ Ti64 Data'"
     ]
    }
   ],
   "source": [
    "import os\n",
    "import pandas as pd\n",
    "import re\n",
    "\n",
    "# Path to the folder containing the CSV files\n",
    "folder_path = '/Users/sarah/Documents/areospace research/material recycling project/PyImageJ-Particle-Analysis/FlowCam Ti64 Powders/ImageJ Ti64 Data'\n",
    "output_path = '/Users/sarah/Documents/areospace research/material recycling project/PyImageJ-Particle-Analysis/FlowCam Ti64 Powders/ImageJ Ti64 Data/ImageJoutput.csv'\n",
    "\n",
    "# Pattern to match filenames\n",
    "pattern = r\"(?P<Lot>P\\d+) Group (?P<Group>\\d+) Rev (?P<Rev>\\d+)\"\n",
    "\n",
    "dataframes = []\n",
    "unmatched_files = []\n",
    "\n",
    "# Iterate over files in the folder\n",
    "for file_name in os.listdir(folder_path):\n",
    "    if file_name.endswith(\".csv\"):\n",
    "        match = re.search(pattern, file_name)\n",
    "        if match:\n",
    "            # Extract Lot, Rev, and Group from the filename\n",
    "            lot = match.group(\"Lot\")\n",
    "            group = int(match.group(\"Group\"))\n",
    "            rev = int(match.group(\"Rev\"))\n",
    "            \n",
    "            # Full path to the file\n",
    "            file_path = os.path.join(folder_path, file_name)\n",
    "            \n",
    "            try:\n",
    "                # Read the CSV into a DataFrame\n",
    "                df = pd.read_csv(file_path, encoding='ISO-8859-1')\n",
    "                \n",
    "                # Check if the DataFrame is empty\n",
    "                if df.empty:\n",
    "                    print(f\"Warning: {file_name} is empty and will be skipped.\")\n",
    "                    continue\n",
    "                \n",
    "                # Add new columns\n",
    "                df['Lot'] = lot\n",
    "                df['Rev'] = rev\n",
    "                df['Group'] = group\n",
    "                \n",
    "                # Append the DataFrame to the list\n",
    "                dataframes.append(df)\n",
    "                print(f\"Processed file: {file_name}, shape: {df.shape}\")\n",
    "            except Exception as e:\n",
    "                print(f\"Error processing file {file_name}: {e}\")\n",
    "        else:\n",
    "            unmatched_files.append(file_name)\n",
    "\n",
    "# Concatenate all DataFrames\n",
    "if dataframes:\n",
    "    final_df = pd.concat(dataframes, ignore_index=True)\n",
    "    print(f\"Concatenation complete. Combined DataFrame shape: {final_df.shape}\")\n",
    "    \n",
    "    # Save the final DataFrame to the specified file\n",
    "    try:\n",
    "        final_df.to_csv(output_path, index=False)\n",
    "        print(f\"Output saved to: {output_path}\")\n",
    "    except Exception as e:\n",
    "        print(f\"Error saving the output file: {e}\")\n",
    "else:\n",
    "    print(\"No dataframes to concatenate.\")\n",
    "\n",
    "# List unmatched files\n",
    "if unmatched_files:\n",
    "    print(\"Unmatched files:\")\n",
    "    for file in unmatched_files:\n",
    "        print(file)\n"
   ]
  },
  {
   "cell_type": "code",
   "execution_count": 29,
   "metadata": {},
   "outputs": [
    {
     "name": "stderr",
     "output_type": "stream",
     "text": [
      "/var/folders/27/_cqkc85s1rz_whsq2n2qsjjr0000gn/T/ipykernel_71603/1965729722.py:3: DtypeWarning: Columns (73) have mixed types. Specify dtype option on import or set low_memory=False.\n",
      "  flowcam_data = pd.read_csv('/Users/sarah/Documents/Roux co-op/material recycling project/PyImageJ-Particle-Analysis/FlowCam Ti64 Powders/FlowCam Ti64 Data/FlowCamoutput.csv')\n"
     ]
    }
   ],
   "source": [
    "# import imagej \n",
    "imagej_nodules = pd.read_csv('/Users/sarah/Documents/Roux co-op/material recycling project/PyImageJ-Particle-Analysis/FlowCam Ti64 Powders/ImageJ Ti64 Data/ImageJoutput.csv')\n",
    "flowcam_data = pd.read_csv('/Users/sarah/Documents/Roux co-op/material recycling project/PyImageJ-Particle-Analysis/FlowCam Ti64 Powders/FlowCam Ti64 Data/FlowCamoutput.csv')"
   ]
  },
  {
   "cell_type": "code",
   "execution_count": 34,
   "metadata": {},
   "outputs": [
    {
     "data": {
      "text/plain": [
       "[1606, 1009, 112, 0, 2748, 4098, 4650, 6151, 3993, 2260]"
      ]
     },
     "execution_count": 34,
     "metadata": {},
     "output_type": "execute_result"
    }
   ],
   "source": [
    "imagej_nodules['Rev'] = pd.to_numeric(imagej_nodules['Rev'], errors='coerce')\n",
    "filtered_lots = ['P1444', 'P1440', 'P1442', 'P2328']\n",
    "filtered_nodules = imagej_nodules[imagej_nodules['Lot'].isin(filtered_lots)]\n",
    "Imagej_particle_count = filtered_nodules.groupby('Rev')['Count'].sum()\n",
    "Imagej_particle_count = Imagej_particle_count.reindex(range(1, 11), fill_value=0)\n",
    "Imagej_particle_count = Imagej_particle_count.tolist()\n",
    "\n",
    "Imagej_particle_count\n"
   ]
  },
  {
   "cell_type": "code",
   "execution_count": 35,
   "metadata": {},
   "outputs": [
    {
     "data": {
      "text/plain": [
       "[1545, 965, 110, 0, 2708, 3960, 4575, 6048, 3871, 2214]"
      ]
     },
     "execution_count": 35,
     "metadata": {},
     "output_type": "execute_result"
    }
   ],
   "source": [
    "\n",
    "selected_lots = ['P1444', 'P1442', 'P1440', 'P2328']\n",
    "\n",
    "filtered_data = flowcam_data[flowcam_data['Lot'].isin(selected_lots)]\n",
    "\n",
    "\n",
    "flowcam_particle_count = [filtered_data[filtered_data['Rev'] == rev].shape[0] for rev in range(1, 11)]\n",
    "flowcam_particle_count\n"
   ]
  },
  {
   "cell_type": "code",
   "execution_count": 32,
   "metadata": {},
   "outputs": [
    {
     "data": {
      "image/png": "[encoded data removed]",
      "text/plain": [
       "<Figure size 640x480 with 1 Axes>"
      ]
     },
     "metadata": {},
     "output_type": "display_data"
    }
   ],
   "source": [
    "X = [1, 2, 3, 4, 5, 6, 7, 8, 9, 10]\n",
    "\n",
    "\n",
    "# Exclude 3 and 4\n",
    "exclude = [3, 4]\n",
    "X_filtered = [x for x in X if x not in exclude]\n",
    "flowcam_filtered = [flowcam_particle_count[i] for i in range(len(X)) if X[i] not in exclude]\n",
    "Imagej_filtered = [Imagej_particle_count[i] for i in range(len(X)) if X[i] not in exclude]\n",
    "\n",
    "# X_axis for filtered data\n",
    "X_axis = np.arange(len(X_filtered))\n",
    "\n",
    "# Plot\n",
    "plt.bar(X_axis - 0.2, flowcam_filtered, 0.4, label='Flowcam Data')\n",
    "plt.bar(X_axis + 0.2, Imagej_filtered, 0.4, label='ImageJ Data', color='red')\n",
    "\n",
    "plt.xticks(X_axis, X_filtered)\n",
    "plt.xlabel('Build Cycles')\n",
    "plt.ylabel('Particle Count')\n",
    "plt.title('Particles per Build Cycle')\n",
    "plt.legend()\n",
    "plt.show()"
   ]
  },
  {
   "cell_type": "code",
   "execution_count": 36,
   "metadata": {},
   "outputs": [
    {
     "data": {
      "image/png": "[encoded data removed]",
      "text/plain": [
       "<Figure size 1200x600 with 1 Axes>"
      ]
     },
     "metadata": {},
     "output_type": "display_data"
    }
   ],
   "source": [
    "import numpy as np\n",
    "import matplotlib.pyplot as plt\n",
    "\n",
    "# Sample data\n",
    "X = [1, 2, 3, 4, 5, 6, 7, 8, 9, 10]\n",
    "\n",
    "# Remove data for revisions 3 and 4\n",
    "filtered_X = [x for i, x in enumerate(X) if x not in [3, 4]]\n",
    "filtered_flowcam = [flowcam_particle_count[i] for i, x in enumerate(X) if x not in [3, 4]]\n",
    "filtered_imagej = [Imagej_particle_count[i] for i, x in enumerate(X) if x not in [3, 4]]\n",
    "\n",
    "# Calculate ImageJ particle count as percentage of Flowcam data\n",
    "imagej_percentage = [(imagej / flowcam) * 100 if flowcam != 0 else 0 for imagej, flowcam in zip(filtered_imagej, filtered_flowcam)]\n",
    "\n",
    "X_axis = np.arange(len(filtered_X))\n",
    "\n",
    "# Create a larger figure\n",
    "plt.figure(figsize=(12, 6))\n",
    "\n",
    "plt.bar(X_axis + 0.2, imagej_percentage, 0.4, label='ImageJ Data', color='red')\n",
    "plt.bar(X_axis - 0.2, np.ones(len(filtered_X)) * 100, 0.4, label='Flowcam Data (100%)')\n",
    "\n",
    "plt.xticks(X_axis, filtered_X)\n",
    "plt.xlabel('Build Cycles')\n",
    "plt.ylabel('Particle Count (%)')\n",
    "plt.title('Particle Count Percentage per Build Cycle')\n",
    "plt.legend()\n",
    "plt.show()\n"
   ]
  },
  {
   "cell_type": "code",
   "execution_count": 41,
   "metadata": {},
   "outputs": [
    {
     "data": {
      "text/plain": [
       "[103.95, 104.56, 101.48, 103.48, 101.64, 101.7, 103.15, 102.08]"
      ]
     },
     "execution_count": 41,
     "metadata": {},
     "output_type": "execute_result"
    }
   ],
   "source": [
    "imagej_percentage = [round(value,2) for value in imagej_percentage]\n",
    "imagej_percentage"
   ]
  },
  {
   "cell_type": "code",
   "execution_count": 42,
   "metadata": {},
   "outputs": [
    {
     "data": {
      "text/html": [
       "<div>\n",
       "<style scoped>\n",
       "    .dataframe tbody tr th:only-of-type {\n",
       "        vertical-align: middle;\n",
       "    }\n",
       "\n",
       "    .dataframe tbody tr th {\n",
       "        vertical-align: top;\n",
       "    }\n",
       "\n",
       "    .dataframe thead th {\n",
       "        text-align: right;\n",
       "    }\n",
       "</style>\n",
       "<table border=\"1\" class=\"dataframe\">\n",
       "  <thead>\n",
       "    <tr style=\"text-align: right;\">\n",
       "      <th></th>\n",
       "      <th>build cycles</th>\n",
       "      <th>flowcam particle counts</th>\n",
       "      <th>imagej particle counts</th>\n",
       "      <th>imagej particle percentage of flowcam counts</th>\n",
       "    </tr>\n",
       "  </thead>\n",
       "  <tbody>\n",
       "    <tr>\n",
       "      <th>0</th>\n",
       "      <td>1</td>\n",
       "      <td>1545</td>\n",
       "      <td>1606</td>\n",
       "      <td>103.95</td>\n",
       "    </tr>\n",
       "    <tr>\n",
       "      <th>1</th>\n",
       "      <td>2</td>\n",
       "      <td>965</td>\n",
       "      <td>1009</td>\n",
       "      <td>104.56</td>\n",
       "    </tr>\n",
       "    <tr>\n",
       "      <th>2</th>\n",
       "      <td>5</td>\n",
       "      <td>2708</td>\n",
       "      <td>2748</td>\n",
       "      <td>101.48</td>\n",
       "    </tr>\n",
       "    <tr>\n",
       "      <th>3</th>\n",
       "      <td>6</td>\n",
       "      <td>3960</td>\n",
       "      <td>4098</td>\n",
       "      <td>103.48</td>\n",
       "    </tr>\n",
       "    <tr>\n",
       "      <th>4</th>\n",
       "      <td>7</td>\n",
       "      <td>4575</td>\n",
       "      <td>4650</td>\n",
       "      <td>101.64</td>\n",
       "    </tr>\n",
       "    <tr>\n",
       "      <th>5</th>\n",
       "      <td>8</td>\n",
       "      <td>6048</td>\n",
       "      <td>6151</td>\n",
       "      <td>101.70</td>\n",
       "    </tr>\n",
       "    <tr>\n",
       "      <th>6</th>\n",
       "      <td>9</td>\n",
       "      <td>3871</td>\n",
       "      <td>3993</td>\n",
       "      <td>103.15</td>\n",
       "    </tr>\n",
       "    <tr>\n",
       "      <th>7</th>\n",
       "      <td>10</td>\n",
       "      <td>2214</td>\n",
       "      <td>2260</td>\n",
       "      <td>102.08</td>\n",
       "    </tr>\n",
       "  </tbody>\n",
       "</table>\n",
       "</div>"
      ],
      "text/plain": [
       "   build cycles  flowcam particle counts  imagej particle counts  \\\n",
       "0             1                     1545                    1606   \n",
       "1             2                      965                    1009   \n",
       "2             5                     2708                    2748   \n",
       "3             6                     3960                    4098   \n",
       "4             7                     4575                    4650   \n",
       "5             8                     6048                    6151   \n",
       "6             9                     3871                    3993   \n",
       "7            10                     2214                    2260   \n",
       "\n",
       "   imagej particle percentage of flowcam counts  \n",
       "0                                        103.95  \n",
       "1                                        104.56  \n",
       "2                                        101.48  \n",
       "3                                        103.48  \n",
       "4                                        101.64  \n",
       "5                                        101.70  \n",
       "6                                        103.15  \n",
       "7                                        102.08  "
      ]
     },
     "execution_count": 42,
     "metadata": {},
     "output_type": "execute_result"
    }
   ],
   "source": [
    "df = pd.DataFrame(\n",
    "    {\n",
    "    'build cycles': [1, 2, 5, 6, 7, 8, 9, 10],\n",
    "    'flowcam particle counts': filtered_flowcam,\n",
    "    'imagej particle counts': filtered_imagej,\n",
    "    'imagej particle percentage of flowcam counts':imagej_percentage\n",
    "    }\n",
    ")\n",
    "df"
   ]
  }
 ],
 "metadata": {
  "kernelspec": {
   "display_name": "ds",
   "language": "python",
   "name": "python3"
  },
  "language_info": {
   "codemirror_mode": {
    "name": "ipython",
    "version": 3
   },
   "file_extension": ".py",
   "mimetype": "text/x-python",
   "name": "python",
   "nbconvert_exporter": "python",
   "pygments_lexer": "ipython3",
   "version": "3.11.8"
  }
 },
 "nbformat": 4,
 "nbformat_minor": 2
}
