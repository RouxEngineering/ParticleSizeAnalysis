{
 "cells": [
  {
   "cell_type": "markdown",
   "metadata": {},
   "source": [
    "### PyImageJ Testing \n",
    "Testing PyImageJ's capabilities to do particle image processing"
   ]
  },
  {
   "cell_type": "code",
   "execution_count": 3,
   "metadata": {},
   "outputs": [],
   "source": [
    "import scyjava as sj              # {optional} Set memory pool\n",
    "from skimage import io, color            # ImageJ opener, open the image on the background ImageJ\n",
    "from IPython.display import Image # Display only images\n",
    "import os                         # Used to manipulate and create directory with python. \n",
    "from skimage import io\n",
    "import pandas as pd\n",
    "import matplotlib.pyplot as plt\n",
    "import numpy as np\n",
    "import imagej\n",
    "from imagej import Mode"
   ]
  },
  {
   "cell_type": "code",
   "execution_count": 5,
   "metadata": {},
   "outputs": [
    {
     "name": "stderr",
     "output_type": "stream",
     "text": [
      "Jul 22, 2024 4:05:27 PM java.util.prefs.FileSystemPreferences$1 run\n",
      "INFO: Created user preferences directory.\n",
      "[ERROR] Cannot create plugin: org.scijava.plugins.scripting.javascript.JavaScriptScriptLanguage\n",
      "Operating in headless mode - the original ImageJ will have limited functionality.\n"
     ]
    },
    {
     "name": "stdout",
     "output_type": "stream",
     "text": [
      "[INFO] script:macro.ijm = [[result], [NaN]]\n",
      "Number of dots: org.scijava.script.ScriptModule@1aa4c4d3\n"
     ]
    }
   ],
   "source": [
    "# Initialize ImageJ\n",
    "ij = imagej.init('net.imagej:imagej+net.imagej:imagej-legacy', mode=Mode.HEADLESS)\n",
    "\n",
    "# Open the image\n",
    "image_path = '/workspaces/PyImageJ-Particle-Analysis/Particle Images/Ti64_Lot232-EZ2316_1Use_10X_Scale.png'\n",
    "dataset1 = ij.io().open(image_path)\n",
    "\n",
    "# Convert to 8-bit grayscale\n",
    "grayscale = ij.op().run(\"convert.uint8\", dataset1)\n",
    "\n",
    "# Apply Otsu threshold\n",
    "thresholded = ij.op().threshold().otsu(grayscale)\n",
    "\n",
    "# Convert thresholded image to binary\n",
    "binary_mask = ij.op().convert().bit(thresholded)\n",
    "\n",
    "# Convert binary mask to a NumPy array\n",
    "binary_array = ij.py.from_java(binary_mask)\n",
    "binary_array = np.array(binary_array, dtype=np.uint8)  # Ensure the array is in 8-bit format\n",
    "\n",
    "# Convert the NumPy array back to ImageJ image\n",
    "binary_mask_8bit = ij.py.to_java(binary_array)\n",
    "\n",
    "# Save the binary image temporarily\n",
    "binary_image_path = '/workspaces/PyImageJ-Particle-Analysis/Particle Images/Binary.tif'\n",
    "ij.io().save(binary_mask_8bit, binary_image_path)\n",
    "\n",
    "# Extract the min and max threshold values from the binary mask\n",
    "min_val = np.min(binary_array)\n",
    "max_val = np.max(binary_array)\n",
    "\n",
    "# Prepare macro code with setThreshold and return the result as a string\n",
    "macro_code = f\"\"\"\n",
    "// Open the binary image\n",
    "open(\"{binary_image_path}\");\n",
    "\n",
    "// Set the image to 8-bit if it's not already\n",
    "run(\"8-bit\");\n",
    "\n",
    "// Set the threshold\n",
    "setThreshold({min_val}, {max_val});\n",
    "\n",
    "// Run the Analyze Particles command\n",
    "run(\"Analyze Particles...\", \"size=0-Infinity clear summarize\");\n",
    "\n",
    "// Get the particle count from the results table\n",
    "count = getResult(\"Count\", 0);\n",
    "\n",
    "// Return the particle count as a string\n",
    "return \"\" + count;\n",
    "\"\"\"\n",
    "\n",
    "# Execute the macro using ij.py.run_macro\n",
    "result = ij.py.run_macro(macro_code)\n",
    "\n",
    "# Print the number of dots\n",
    "print(f\"Number of dots: {result}\")"
   ]
  }
 ],
 "metadata": {
  "kernelspec": {
   "display_name": "Python 3",
   "language": "python",
   "name": "python3"
  },
  "language_info": {
   "codemirror_mode": {
    "name": "ipython",
    "version": 3
   },
   "file_extension": ".py",
   "mimetype": "text/x-python",
   "name": "python",
   "nbconvert_exporter": "python",
   "pygments_lexer": "ipython3",
   "version": "3.11.9"
  }
 },
 "nbformat": 4,
 "nbformat_minor": 2
}
