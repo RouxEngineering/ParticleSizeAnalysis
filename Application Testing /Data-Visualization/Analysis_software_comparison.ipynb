{
 "cells": [
  {
   "cell_type": "markdown",
   "metadata": {},
   "source": [
    "# Analysis Software comparison\n",
    "This notebook will investigate the output of the same powder batches viewed with different methods, mainly: FlowCam Image Software, Scanning Electron Microsopy (SEM), and Optical Imaging"
   ]
  },
  {
   "cell_type": "code",
   "execution_count": 1,
   "metadata": {},
   "outputs": [],
   "source": [
    "# Import \n",
    "import plotly.graph_objects as go\n",
    "import pandas as pd\n",
    "import os\n",
    "from diameter_operations import build_diameter_metrics_dataframe\n"
   ]
  },
  {
   "cell_type": "code",
   "execution_count": 2,
   "metadata": {},
   "outputs": [],
   "source": [
    "# Assign file paths\n",
    "flow_data_path = \"/Users/Daniel/Desktop/results/particle_analysis/flowcam_results/Run_01/Results_3_Full_8_14_2024.csv\"\n",
    "imagej_data_path = \"/Users/Daniel/Desktop/results/particle_analysis/pyImagej_results/Run_01/PyImageJ Results.csv\"\n",
    "\n",
    "if not os.path.isfile( flow_data_path ):\n",
    "    print(\"FlowCam File path doesn't exist.\")\n",
    "\n",
    "if not os.path.isfile( imagej_data_path ):\n",
    "    print(\"PyImageJ File path doesn't exist.\")"
   ]
  },
  {
   "cell_type": "code",
   "execution_count": 3,
   "metadata": {},
   "outputs": [],
   "source": [
    "# Create pandas dataframes from file paths\n",
    "\n",
    "# Try to open file with decoding method \"ISO-8859-1\" (latin1)\n",
    "try: \n",
    "    flow_df = pd.read_csv( flow_data_path , encoding= \"latin1\" )\n",
    "except UnicodeDecodeError:\n",
    "    print( \"Error caught: \", UnicodeDecodeError )\n",
    "\n",
    "imagej_df = pd.read_csv( imagej_data_path )"
   ]
  },
  {
   "cell_type": "markdown",
   "metadata": {},
   "source": []
  },
  {
   "cell_type": "code",
   "execution_count": 4,
   "metadata": {},
   "outputs": [
    {
     "name": "stdout",
     "output_type": "stream",
     "text": [
      "FlowCam column names: \n",
      "['Name' 'Area (ABD) (µm²)' 'Area (Filled) (µm²)' 'Aspect Ratio'\n",
      " 'Biovolume (Cylinder) (µm³)' 'Biovolume (P. Spheroid) (µm³)'\n",
      " 'Biovolume (Sphere) (µm³)' 'Capture ID' 'Capture X (px)' 'Capture Y (px)'\n",
      " 'Ch1 Area' 'Ch2 Area' 'Ch2/Ch1 Ratio' 'Circle Fit' 'Circularity'\n",
      " 'Circularity (Hu)' 'Convex Perimeter (µm)' 'Convexity'\n",
      " 'Diameter (ABD) (µm)' 'Diameter (ESD) (µm)' 'Diameter (FD) (µm)'\n",
      " 'Edge Gradient' 'Elongation' 'Feret Angle Max (°)' 'Feret Angle Min (°)'\n",
      " 'Fiber Straightness' 'Geodesic Aspect Ratio' 'Geodesic Length (µm)'\n",
      " 'Geodesic Thickness (µm)' 'Length (µm)' 'Particles Per Chain'\n",
      " 'Perimeter (µm)' 'Roughness' 'Sphere Complement (µm³)' 'Sphere Count'\n",
      " 'Sphere Unknown (µm³)' 'Sphere Volume (µm³)' 'Sqrt Circularity'\n",
      " 'Symmetry' 'Timestamp' 'Volume (ABD) (µm³)' 'Volume (ESD) (µm³)'\n",
      " 'Width (µm)']\n",
      "\n",
      "PyImageJ column names: \n",
      "[' ' 'Area' 'Mean' 'StdDev' 'Min' 'Max' 'X' 'Y' 'Perim.' 'BX' 'BY' 'Width'\n",
      " 'Height' 'Major' 'Minor' 'Angle' 'Circ.' 'Feret' 'IntDen' 'Median' 'Skew'\n",
      " 'Kurt' '%Area' 'RawIntDen' 'Slice' 'FeretX' 'FeretY' 'FeretAngle'\n",
      " 'MinFeret' 'AR' 'Round' 'Solidity']\n"
     ]
    }
   ],
   "source": [
    "# Get Information about columns\n",
    "\n",
    "flow_column_names = flow_df.columns.values\n",
    "imagej_column_names = imagej_df.columns.values\n",
    "\n",
    "# Display column names\n",
    "print( \"FlowCam column names: \")\n",
    "print( flow_column_names )\n",
    "\n",
    "print( \"\\nPyImageJ column names: \")\n",
    "print( imagej_column_names )\n"
   ]
  },
  {
   "cell_type": "code",
   "execution_count": 5,
   "metadata": {},
   "outputs": [],
   "source": [
    "def get_column_indicies( is_flowcam = True):\n",
    "    area_index = None\n",
    "    perimeter_index = None\n",
    "    diameter_index = None\n",
    "\n",
    "    for item in list([\"area\", \"perimeter\", (\"diameter\", is_flowcam)]):\n",
    "        if item == \"area\":\n",
    "            area_index = int( input( prompt=\"Enter the index of the area column: \") )\n",
    "        elif item == \"perimeter\":\n",
    "            perimeter_index = int( input(prompt=\"Enter rthe index of the perimeter column: \"))\n",
    "        # Set diameter index if the dataset is flowcam\n",
    "        elif isinstance(item, tuple) and item[0] == \"diameter\" and item[1] == True:\n",
    "            diameter_index = int( input(prompt=\"Enter the index of the diameter column: \"))\n",
    "        elif isinstance(item, tuple) and item[0] == \"diameter\" and item[1] == False:\n",
    "            diameter_index = None\n",
    "    \n",
    "    return area_index, perimeter_index, diameter_index"
   ]
  },
  {
   "cell_type": "markdown",
   "metadata": {},
   "source": [
    "### unpacking indicies results for each dataframe "
   ]
  },
  {
   "cell_type": "code",
   "execution_count": 6,
   "metadata": {},
   "outputs": [],
   "source": [
    "flow_area_index, flow_perimeter_index, flow_diameter_index = get_column_indicies( is_flowcam=True)\n"
   ]
  },
  {
   "cell_type": "code",
   "execution_count": 12,
   "metadata": {},
   "outputs": [],
   "source": [
    "imagej_area_index, imagej_perimeter_index, imagej_diameter_index = get_column_indicies( is_flowcam=False)"
   ]
  },
  {
   "cell_type": "code",
   "execution_count": 8,
   "metadata": {},
   "outputs": [],
   "source": [
    "# Determine area perimeter diameter column names\n",
    "\n",
    "flow_area = flow_column_names[flow_area_index]\n",
    "flow_perimeter = flow_column_names[flow_perimeter_index]\n",
    "flow_diameter = flow_column_names[flow_diameter_index]\n",
    "\n",
    "imagej_area = imagej_column_names[imagej_area_index]\n",
    "imagej_perimeter = imagej_column_names[imagej_perimeter_index]"
   ]
  },
  {
   "cell_type": "code",
   "execution_count": 15,
   "metadata": {},
   "outputs": [
    {
     "name": "stdout",
     "output_type": "stream",
     "text": [
      "FlowCam (area, perimeter, diameter) values are: (('Area (Filled) (µm²)', 'Perimeter (µm)', 'Diameter (ABD) (µm)')).\n",
      "PyImageJ (area, perimeter, diameter) values are: (('Area', 'Perim.', None)).\n"
     ]
    }
   ],
   "source": [
    "print(f\"FlowCam (area, perimeter, diameter) values are: ({flow_area, flow_perimeter,flow_diameter}).\")\n",
    "\n",
    "print(f\"PyImageJ (area, perimeter, diameter) values are: ({imagej_area, imagej_perimeter, imagej_diameter_index}).\")\n"
   ]
  },
  {
   "cell_type": "code",
   "execution_count": 16,
   "metadata": {},
   "outputs": [
    {
     "name": "stdout",
     "output_type": "stream",
     "text": [
      "Target column exist.\n",
      "\n",
      "123     30.31\n",
      "9       39.11\n",
      "47      43.34\n",
      "63      44.61\n",
      "31      45.57\n",
      "        ...  \n",
      "30     107.11\n",
      "35     110.99\n",
      "53     114.57\n",
      "15     144.95\n",
      "8      180.76\n",
      "Name: Diameter (ABD) (µm), Length: 144, dtype: float64\n",
      "\n",
      "total_particles:  144\n",
      "Target column exist.\n",
      "\n",
      "123     30.31\n",
      "9       39.11\n",
      "47      43.34\n",
      "63      44.61\n",
      "31      45.57\n",
      "        ...  \n",
      "30     107.11\n",
      "35     110.99\n",
      "53     114.57\n",
      "15     144.95\n",
      "8      180.76\n",
      "Name: Diameter (ABD) (µm), Length: 144, dtype: float64\n",
      "\n",
      "total_particles:  144\n"
     ]
    }
   ],
   "source": [
    "flow_diameter_df = build_diameter_metrics_dataframe(flow_df,\n",
    "                                                    flow_area,\n",
    "                                                    flow_perimeter,\n",
    "                                                    flow_diameter,\n",
    "                                                    unit=\"\",\n",
    "                                                    suf=\"d\",\n",
    "                                                    FlowCam=True)\n",
    "\n",
    "\n",
    "                                             \n",
    "                                                \n"
   ]
  },
  {
   "cell_type": "code",
   "execution_count": 17,
   "metadata": {},
   "outputs": [
    {
     "name": "stdout",
     "output_type": "stream",
     "text": [
      "A KeyError has occured: <class 'KeyError'>. \n",
      "The input dataframe consist of one file.\n",
      "\n",
      "Target column exist.\n",
      "\n",
      "92      27.081100\n",
      "107     33.405436\n",
      "134     36.326870\n",
      "73      37.401421\n",
      "93      37.732804\n",
      "          ...    \n",
      "16      82.019708\n",
      "22      84.947963\n",
      "40      87.365022\n",
      "117    108.439269\n",
      "68     136.022615\n",
      "Name: eff_diameter_microns, Length: 144, dtype: float64\n",
      "\n",
      "total_particles:  144\n",
      "Target column exist.\n",
      "\n",
      "92      27.081100\n",
      "107     33.405436\n",
      "134     36.326870\n",
      "73      37.401421\n",
      "93      37.732804\n",
      "          ...    \n",
      "16      82.019708\n",
      "22      84.947963\n",
      "40      87.365022\n",
      "117    108.439269\n",
      "68     136.022615\n",
      "Name: eff_diameter_microns, Length: 144, dtype: float64\n",
      "\n",
      "total_particles:  144\n"
     ]
    }
   ],
   "source": [
    "\n",
    "imagej_diameter_df = build_diameter_metrics_dataframe(imagej_df,\n",
    "                                                      imagej_area,\n",
    "                                                      imagej_perimeter,\n",
    "                                                      \"eff_diameter_microns\",\n",
    "                                                      unit=\"microns\",\n",
    "                                                      suf=\"d\",\n",
    "                                                      FlowCam=False)"
   ]
  },
  {
   "cell_type": "code",
   "execution_count": 39,
   "metadata": {},
   "outputs": [],
   "source": [
    "# Define function to extract columns\n",
    "def get_column_names(df, guess_name):\n",
    "    filtered_df = df.filter( like= guess_name)\n",
    "    return filtered_df.columns.values\n",
    "\n",
    "def index_series(df, guess_name):\n",
    "    names = get_column_names( df, guess_name )\n",
    "\n",
    "    if len(names) == 1:\n",
    "        # If there is only one matching column, use it\n",
    "        x_data = df[names[0]]\n",
    "    else:\n",
    "        #if there are multiple matching columns\n",
    "        print( \"The following column names were found: \" )\n",
    "        for idx, name in enumerate( names ):\n",
    "            print(f\"{idx}: {name}\")\n",
    "        # Prompt user for input\n",
    "        user_index = int( input(prompt=\"Select the index of the column wanted\") )\n",
    "        #Ensure the user_index is valid\n",
    "        if 0 <= user_index <= len(names):\n",
    "            x_data = df[names[user_index]]\n",
    "        else:\n",
    "            print( \"Invalid index Selection.\" )\n",
    "    return x_data\n",
    "\n",
    "\n",
    "# For earlier steps\n",
    "def index_column_name(df, guess_name):\n",
    "    names = get_column_names( df, guess_name )\n",
    "\n",
    "    if len(names) == 1:\n",
    "        # If there is only one matching column, use it\n",
    "        column_index = df.columns.tolist().index( names[0] ) \n",
    "        column_name = df.columns.values[ column_index ]\n",
    "        \n",
    "    else:\n",
    "        #if there are multiple matching columns\n",
    "        print( \"The following column names were found: \" )\n",
    "        for idx, name in enumerate( names ):\n",
    "            print(f\"{idx}: {name}\")\n",
    "        # Prompt user for input\n",
    "        user_index = int( input(prompt=\"Select the index of the column wanted\") )\n",
    "        # Ensure the user_index is valid\n",
    "        if 0 <= user_index <= len(names):\n",
    "            column_index = df.columns.tolist().index( names[0] ) \n",
    "            column_name = df.columns.values[ column_index ]\n",
    "        else:\n",
    "            print( \"Invalid index Selection.\" )\n",
    "    return column_name\n",
    "\n",
    "# Invoke function : index_column_names\n",
    "# flow_area_name1 = index_column_name(flow_df,\"Area\" )\n",
    "# # flow_df.columns.tolist()\n",
    "# print( flow_area_name1 )\n"
   ]
  },
  {
   "cell_type": "code",
   "execution_count": 42,
   "metadata": {},
   "outputs": [
    {
     "name": "stdout",
     "output_type": "stream",
     "text": [
      "The following column names were found: \n",
      "0: cumulative frequency d\n",
      "1: cumulative_%_particle d\n",
      "The following column names were found: \n",
      "0: cumulative frequency d\n",
      "1: cumulative_%_particle d\n"
     ]
    }
   ],
   "source": [
    "# FlowCam Data\n",
    "x1_data = index_series(flow_diameter_df, \"Diameter (ABD)\")\n",
    "y1_data = index_series( flow_diameter_df, \"cumulative\")\n",
    "\n",
    "# PyImageJ Data\n",
    "x2_data = index_series( imagej_diameter_df, \"diameter\")\n",
    "y2_data = index_series( imagej_diameter_df, \"cumulative\")\n"
   ]
  },
  {
   "cell_type": "code",
   "execution_count": 113,
   "metadata": {},
   "outputs": [],
   "source": [
    "# Create Traces\n",
    "trace1 = go.Scatter(\n",
    "    x=x1_data,\n",
    "    y=y1_data,\n",
    "    name=\"FlowCam Series\",\n",
    "    mode=\"lines\",\n",
    "    \n",
    ")\n",
    "\n",
    "trace2 = go.Scatter(\n",
    "    x=x2_data,\n",
    "    y=y2_data,\n",
    "    name=\"PyImageJ Series\",\n",
    "    mode=\"lines\",\n",
    ")"
   ]
  },
  {
   "cell_type": "code",
   "execution_count": 118,
   "metadata": {},
   "outputs": [
    {
     "ename": "ValueError",
     "evalue": "\n    Invalid value of type 'builtins.int' received for the 'autosize' property of layout\n        Received value: 11\n\n    The 'autosize' property must be specified as a bool\n    (either True, or False)",
     "output_type": "error",
     "traceback": [
      "\u001b[0;31m---------------------------------------------------------------------------\u001b[0m",
      "\u001b[0;31mValueError\u001b[0m                                Traceback (most recent call last)",
      "Cell \u001b[0;32mIn[118], line 2\u001b[0m\n\u001b[1;32m      1\u001b[0m \u001b[38;5;66;03m# Create Layout\u001b[39;00m\n\u001b[0;32m----> 2\u001b[0m mylayout \u001b[38;5;241m=\u001b[39m \u001b[43mgo\u001b[49m\u001b[38;5;241;43m.\u001b[39;49m\u001b[43mLayout\u001b[49m\u001b[43m(\u001b[49m\u001b[43m \u001b[49m\n\u001b[1;32m      3\u001b[0m \u001b[43m    \u001b[49m\u001b[43mtitle\u001b[49m\u001b[38;5;241;43m=\u001b[39;49m\u001b[38;5;124;43m\"\u001b[39;49m\u001b[38;5;124;43mVirgin Ti64 Powder Run #1 - Count (\u001b[39;49m\u001b[38;5;124;43m%\u001b[39;49m\u001b[38;5;124;43m) vs Effective Diameter (microns)\u001b[39;49m\u001b[38;5;124;43m\"\u001b[39;49m\u001b[43m,\u001b[49m\n\u001b[1;32m      4\u001b[0m \u001b[43m    \u001b[49m\u001b[43mautosize\u001b[49m\u001b[38;5;241;43m=\u001b[39;49m\u001b[38;5;241;43m11\u001b[39;49m\u001b[43m,\u001b[49m\n\u001b[1;32m      5\u001b[0m \u001b[43m    \u001b[49m\u001b[43mwidth\u001b[49m\u001b[38;5;241;43m=\u001b[39;49m\u001b[38;5;241;43m600\u001b[39;49m\u001b[43m,\u001b[49m\u001b[43m \u001b[49m\u001b[43mheight\u001b[49m\u001b[38;5;241;43m=\u001b[39;49m\u001b[43m \u001b[49m\u001b[38;5;241;43m400\u001b[39;49m\u001b[43m,\u001b[49m\n\u001b[1;32m      6\u001b[0m \u001b[43m    \u001b[49m\u001b[43mplot_bgcolor\u001b[49m\u001b[38;5;241;43m=\u001b[39;49m\u001b[38;5;124;43m\"\u001b[39;49m\u001b[38;5;124;43mWhite\u001b[39;49m\u001b[38;5;124;43m\"\u001b[39;49m\u001b[43m,\u001b[49m\n\u001b[1;32m      7\u001b[0m \u001b[43m    \u001b[49m\u001b[43mpaper_bgcolor\u001b[49m\u001b[38;5;241;43m=\u001b[39;49m\u001b[38;5;124;43m\"\u001b[39;49m\u001b[38;5;124;43mwhite\u001b[39;49m\u001b[38;5;124;43m\"\u001b[39;49m\u001b[43m,\u001b[49m\n\u001b[1;32m      8\u001b[0m \u001b[43m    \u001b[49m\u001b[43mxaxis\u001b[49m\u001b[38;5;241;43m=\u001b[39;49m\u001b[38;5;28;43mdict\u001b[39;49m\u001b[43m(\u001b[49m\n\u001b[1;32m      9\u001b[0m \u001b[43m        \u001b[49m\u001b[43mtitle\u001b[49m\u001b[38;5;241;43m=\u001b[39;49m\u001b[38;5;124;43m\"\u001b[39;49m\u001b[38;5;124;43mEffective Diameter (microns)\u001b[39;49m\u001b[38;5;124;43m\"\u001b[39;49m\u001b[43m,\u001b[49m\u001b[43m \u001b[49m\n\u001b[1;32m     10\u001b[0m \u001b[43m        \u001b[49m\u001b[43mticks\u001b[49m\u001b[38;5;241;43m=\u001b[39;49m\u001b[38;5;124;43m\"\u001b[39;49m\u001b[38;5;124;43moutside\u001b[39;49m\u001b[38;5;124;43m\"\u001b[39;49m\u001b[43m,\u001b[49m\u001b[43m \u001b[49m\u001b[38;5;28;43mrange\u001b[39;49m\u001b[38;5;241;43m=\u001b[39;49m\u001b[43m[\u001b[49m\u001b[38;5;241;43m0\u001b[39;49m\u001b[43m,\u001b[49m\u001b[43m \u001b[49m\u001b[38;5;241;43m200\u001b[39;49m\u001b[43m]\u001b[49m\u001b[43m,\u001b[49m\u001b[43m \u001b[49m\u001b[43mdtick\u001b[49m\u001b[38;5;241;43m=\u001b[39;49m\u001b[38;5;241;43m20\u001b[39;49m\u001b[43m,\u001b[49m\u001b[43m \u001b[49m\u001b[43mshowticklabels\u001b[49m\u001b[38;5;241;43m=\u001b[39;49m\u001b[38;5;28;43;01mTrue\u001b[39;49;00m\u001b[43m,\u001b[49m\u001b[43m \u001b[49m\u001b[38;5;66;43;03m# tick numbers\u001b[39;49;00m\n\u001b[1;32m     11\u001b[0m \u001b[43m        \u001b[49m\u001b[43mzeroline\u001b[49m\u001b[38;5;241;43m=\u001b[39;49m\u001b[38;5;28;43;01mTrue\u001b[39;49;00m\u001b[43m,\u001b[49m\u001b[43m \u001b[49m\u001b[43mzerolinewidth\u001b[49m\u001b[38;5;241;43m=\u001b[39;49m\u001b[38;5;241;43m1\u001b[39;49m\u001b[43m,\u001b[49m\u001b[43m \u001b[49m\u001b[43mzerolinecolor\u001b[49m\u001b[38;5;241;43m=\u001b[39;49m\u001b[38;5;124;43m\"\u001b[39;49m\u001b[38;5;124;43mblack\u001b[39;49m\u001b[38;5;124;43m\"\u001b[39;49m\u001b[43m,\u001b[49m\n\u001b[1;32m     12\u001b[0m \u001b[43m        \u001b[49m\u001b[43m)\u001b[49m\u001b[43m,\u001b[49m\n\u001b[1;32m     13\u001b[0m \u001b[43m    \u001b[49m\u001b[43myaxis\u001b[49m\u001b[38;5;241;43m=\u001b[39;49m\u001b[38;5;28;43mdict\u001b[39;49m\u001b[43m(\u001b[49m\n\u001b[1;32m     14\u001b[0m \u001b[43m        \u001b[49m\u001b[43mtitle\u001b[49m\u001b[38;5;241;43m=\u001b[39;49m\u001b[38;5;124;43m\"\u001b[39;49m\u001b[38;5;124;43mCumulative Percentage (\u001b[39;49m\u001b[38;5;124;43m%\u001b[39;49m\u001b[38;5;124;43m)\u001b[39;49m\u001b[38;5;124;43m\"\u001b[39;49m\u001b[43m,\u001b[49m\u001b[43m \u001b[49m\n\u001b[1;32m     15\u001b[0m \u001b[43m        \u001b[49m\u001b[43mticks\u001b[49m\u001b[38;5;241;43m=\u001b[39;49m\u001b[38;5;124;43m\"\u001b[39;49m\u001b[38;5;124;43moutside\u001b[39;49m\u001b[38;5;124;43m\"\u001b[39;49m\u001b[43m,\u001b[49m\u001b[43m \u001b[49m\u001b[38;5;28;43mrange\u001b[39;49m\u001b[38;5;241;43m=\u001b[39;49m\u001b[43m[\u001b[49m\u001b[38;5;241;43m0\u001b[39;49m\u001b[43m,\u001b[49m\u001b[38;5;241;43m110\u001b[39;49m\u001b[43m]\u001b[49m\u001b[43m,\u001b[49m\u001b[43m \u001b[49m\u001b[43mdtick\u001b[49m\u001b[38;5;241;43m=\u001b[39;49m\u001b[38;5;241;43m10\u001b[39;49m\u001b[43m,\u001b[49m\u001b[43m \u001b[49m\u001b[43mshowticklabels\u001b[49m\u001b[38;5;241;43m=\u001b[39;49m\u001b[38;5;28;43;01mTrue\u001b[39;49;00m\u001b[43m,\u001b[49m\n\u001b[1;32m     16\u001b[0m \u001b[43m        \u001b[49m\u001b[43mzeroline\u001b[49m\u001b[38;5;241;43m=\u001b[39;49m\u001b[38;5;28;43;01mTrue\u001b[39;49;00m\u001b[43m,\u001b[49m\u001b[43m \u001b[49m\u001b[43mzerolinewidth\u001b[49m\u001b[38;5;241;43m=\u001b[39;49m\u001b[38;5;241;43m1\u001b[39;49m\u001b[43m,\u001b[49m\u001b[43m \u001b[49m\u001b[43mzerolinecolor\u001b[49m\u001b[38;5;241;43m=\u001b[39;49m\u001b[38;5;124;43m\"\u001b[39;49m\u001b[38;5;124;43mblack\u001b[39;49m\u001b[38;5;124;43m\"\u001b[39;49m\n\u001b[1;32m     17\u001b[0m \u001b[43m        \u001b[49m\u001b[43m)\u001b[49m\u001b[43m,\u001b[49m\n\u001b[1;32m     18\u001b[0m \u001b[43m    \u001b[49m\u001b[43mlegend\u001b[49m\u001b[38;5;241;43m=\u001b[39;49m\u001b[43m \u001b[49m\u001b[38;5;28;43mdict\u001b[39;49m\u001b[43m(\u001b[49m\n\u001b[1;32m     19\u001b[0m \u001b[43m        \u001b[49m\u001b[43mbordercolor\u001b[49m\u001b[38;5;241;43m=\u001b[39;49m\u001b[38;5;124;43m\"\u001b[39;49m\u001b[38;5;124;43mBlack\u001b[39;49m\u001b[38;5;124;43m\"\u001b[39;49m\u001b[43m,\u001b[49m\n\u001b[1;32m     20\u001b[0m \u001b[43m        \u001b[49m\u001b[43mtitle\u001b[49m\u001b[38;5;241;43m=\u001b[39;49m\u001b[38;5;28;43mdict\u001b[39;49m\u001b[43m(\u001b[49m\u001b[43mtext\u001b[49m\u001b[38;5;241;43m=\u001b[39;49m\u001b[38;5;124;43m\"\u001b[39;49m\u001b[38;5;124;43mSoftware\u001b[39;49m\u001b[38;5;124;43m\"\u001b[39;49m\u001b[43m)\u001b[49m\u001b[43m,\u001b[49m\u001b[43m)\u001b[49m\u001b[43m,\u001b[49m\u001b[43m)\u001b[49m\n",
      "File \u001b[0;32m/opt/anaconda3/envs/imageprocessing-py-dev/lib/python3.9/site-packages/plotly/graph_objs/_layout.py:6841\u001b[0m, in \u001b[0;36mLayout.__init__\u001b[0;34m(self, arg, activeselection, activeshape, annotations, annotationdefaults, autosize, autotypenumbers, barcornerradius, bargap, bargroupgap, barmode, barnorm, boxgap, boxgroupgap, boxmode, calendar, clickmode, coloraxis, colorscale, colorway, computed, datarevision, dragmode, editrevision, extendfunnelareacolors, extendiciclecolors, extendpiecolors, extendsunburstcolors, extendtreemapcolors, font, funnelareacolorway, funnelgap, funnelgroupgap, funnelmode, geo, grid, height, hiddenlabels, hiddenlabelssrc, hidesources, hoverdistance, hoverlabel, hovermode, hoversubplots, iciclecolorway, images, imagedefaults, legend, mapbox, margin, meta, metasrc, minreducedheight, minreducedwidth, modebar, newselection, newshape, paper_bgcolor, piecolorway, plot_bgcolor, polar, scattergap, scattermode, scene, selectdirection, selectionrevision, selections, selectiondefaults, separators, shapes, shapedefaults, showlegend, sliders, sliderdefaults, smith, spikedistance, sunburstcolorway, template, ternary, title, titlefont, transition, treemapcolorway, uirevision, uniformtext, updatemenus, updatemenudefaults, violingap, violingroupgap, violinmode, waterfallgap, waterfallgroupgap, waterfallmode, width, xaxis, yaxis, **kwargs)\u001b[0m\n\u001b[1;32m   6839\u001b[0m _v \u001b[38;5;241m=\u001b[39m autosize \u001b[38;5;28;01mif\u001b[39;00m autosize \u001b[38;5;129;01mis\u001b[39;00m \u001b[38;5;129;01mnot\u001b[39;00m \u001b[38;5;28;01mNone\u001b[39;00m \u001b[38;5;28;01melse\u001b[39;00m _v\n\u001b[1;32m   6840\u001b[0m \u001b[38;5;28;01mif\u001b[39;00m _v \u001b[38;5;129;01mis\u001b[39;00m \u001b[38;5;129;01mnot\u001b[39;00m \u001b[38;5;28;01mNone\u001b[39;00m:\n\u001b[0;32m-> 6841\u001b[0m     \u001b[38;5;28;43mself\u001b[39;49m\u001b[43m[\u001b[49m\u001b[38;5;124;43m\"\u001b[39;49m\u001b[38;5;124;43mautosize\u001b[39;49m\u001b[38;5;124;43m\"\u001b[39;49m\u001b[43m]\u001b[49m \u001b[38;5;241m=\u001b[39m _v\n\u001b[1;32m   6842\u001b[0m _v \u001b[38;5;241m=\u001b[39m arg\u001b[38;5;241m.\u001b[39mpop(\u001b[38;5;124m\"\u001b[39m\u001b[38;5;124mautotypenumbers\u001b[39m\u001b[38;5;124m\"\u001b[39m, \u001b[38;5;28;01mNone\u001b[39;00m)\n\u001b[1;32m   6843\u001b[0m _v \u001b[38;5;241m=\u001b[39m autotypenumbers \u001b[38;5;28;01mif\u001b[39;00m autotypenumbers \u001b[38;5;129;01mis\u001b[39;00m \u001b[38;5;129;01mnot\u001b[39;00m \u001b[38;5;28;01mNone\u001b[39;00m \u001b[38;5;28;01melse\u001b[39;00m _v\n",
      "File \u001b[0;32m/opt/anaconda3/envs/imageprocessing-py-dev/lib/python3.9/site-packages/plotly/basedatatypes.py:5906\u001b[0m, in \u001b[0;36mBaseLayoutType.__setitem__\u001b[0;34m(self, prop, value)\u001b[0m\n\u001b[1;32m   5903\u001b[0m match \u001b[38;5;241m=\u001b[39m \u001b[38;5;28mself\u001b[39m\u001b[38;5;241m.\u001b[39m_subplot_re_match(prop)\n\u001b[1;32m   5904\u001b[0m \u001b[38;5;28;01mif\u001b[39;00m match \u001b[38;5;129;01mis\u001b[39;00m \u001b[38;5;28;01mNone\u001b[39;00m:\n\u001b[1;32m   5905\u001b[0m     \u001b[38;5;66;03m# Set as ordinary property\u001b[39;00m\n\u001b[0;32m-> 5906\u001b[0m     \u001b[38;5;28;43msuper\u001b[39;49m\u001b[43m(\u001b[49m\u001b[43mBaseLayoutHierarchyType\u001b[49m\u001b[43m,\u001b[49m\u001b[43m \u001b[49m\u001b[38;5;28;43mself\u001b[39;49m\u001b[43m)\u001b[49m\u001b[38;5;241;43m.\u001b[39;49m\u001b[38;5;21;43m__setitem__\u001b[39;49m\u001b[43m(\u001b[49m\u001b[43mprop\u001b[49m\u001b[43m,\u001b[49m\u001b[43m \u001b[49m\u001b[43mvalue\u001b[49m\u001b[43m)\u001b[49m\n\u001b[1;32m   5907\u001b[0m \u001b[38;5;28;01melse\u001b[39;00m:\n\u001b[1;32m   5908\u001b[0m     \u001b[38;5;66;03m# Set as subplotid property\u001b[39;00m\n\u001b[1;32m   5909\u001b[0m     \u001b[38;5;28mself\u001b[39m\u001b[38;5;241m.\u001b[39m_set_subplotid_prop(prop, value)\n",
      "File \u001b[0;32m/opt/anaconda3/envs/imageprocessing-py-dev/lib/python3.9/site-packages/plotly/basedatatypes.py:4868\u001b[0m, in \u001b[0;36mBasePlotlyType.__setitem__\u001b[0;34m(self, prop, value)\u001b[0m\n\u001b[1;32m   4864\u001b[0m         \u001b[38;5;28mself\u001b[39m\u001b[38;5;241m.\u001b[39m_set_array_prop(prop, value)\n\u001b[1;32m   4866\u001b[0m     \u001b[38;5;66;03m# ### Handle simple property ###\u001b[39;00m\n\u001b[1;32m   4867\u001b[0m     \u001b[38;5;28;01melse\u001b[39;00m:\n\u001b[0;32m-> 4868\u001b[0m         \u001b[38;5;28;43mself\u001b[39;49m\u001b[38;5;241;43m.\u001b[39;49m\u001b[43m_set_prop\u001b[49m\u001b[43m(\u001b[49m\u001b[43mprop\u001b[49m\u001b[43m,\u001b[49m\u001b[43m \u001b[49m\u001b[43mvalue\u001b[49m\u001b[43m)\u001b[49m\n\u001b[1;32m   4869\u001b[0m \u001b[38;5;28;01melse\u001b[39;00m:\n\u001b[1;32m   4870\u001b[0m     \u001b[38;5;66;03m# Make sure properties dict is initialized\u001b[39;00m\n\u001b[1;32m   4871\u001b[0m     \u001b[38;5;28mself\u001b[39m\u001b[38;5;241m.\u001b[39m_init_props()\n",
      "File \u001b[0;32m/opt/anaconda3/envs/imageprocessing-py-dev/lib/python3.9/site-packages/plotly/basedatatypes.py:5212\u001b[0m, in \u001b[0;36mBasePlotlyType._set_prop\u001b[0;34m(self, prop, val)\u001b[0m\n\u001b[1;32m   5210\u001b[0m         \u001b[38;5;28;01mreturn\u001b[39;00m\n\u001b[1;32m   5211\u001b[0m     \u001b[38;5;28;01melse\u001b[39;00m:\n\u001b[0;32m-> 5212\u001b[0m         \u001b[38;5;28;01mraise\u001b[39;00m err\n\u001b[1;32m   5214\u001b[0m \u001b[38;5;66;03m# val is None\u001b[39;00m\n\u001b[1;32m   5215\u001b[0m \u001b[38;5;66;03m# -----------\u001b[39;00m\n\u001b[1;32m   5216\u001b[0m \u001b[38;5;28;01mif\u001b[39;00m val \u001b[38;5;129;01mis\u001b[39;00m \u001b[38;5;28;01mNone\u001b[39;00m:\n\u001b[1;32m   5217\u001b[0m     \u001b[38;5;66;03m# Check if we should send null update\u001b[39;00m\n",
      "File \u001b[0;32m/opt/anaconda3/envs/imageprocessing-py-dev/lib/python3.9/site-packages/plotly/basedatatypes.py:5207\u001b[0m, in \u001b[0;36mBasePlotlyType._set_prop\u001b[0;34m(self, prop, val)\u001b[0m\n\u001b[1;32m   5204\u001b[0m validator \u001b[38;5;241m=\u001b[39m \u001b[38;5;28mself\u001b[39m\u001b[38;5;241m.\u001b[39m_get_validator(prop)\n\u001b[1;32m   5206\u001b[0m \u001b[38;5;28;01mtry\u001b[39;00m:\n\u001b[0;32m-> 5207\u001b[0m     val \u001b[38;5;241m=\u001b[39m \u001b[43mvalidator\u001b[49m\u001b[38;5;241;43m.\u001b[39;49m\u001b[43mvalidate_coerce\u001b[49m\u001b[43m(\u001b[49m\u001b[43mval\u001b[49m\u001b[43m)\u001b[49m\n\u001b[1;32m   5208\u001b[0m \u001b[38;5;28;01mexcept\u001b[39;00m \u001b[38;5;167;01mValueError\u001b[39;00m \u001b[38;5;28;01mas\u001b[39;00m err:\n\u001b[1;32m   5209\u001b[0m     \u001b[38;5;28;01mif\u001b[39;00m \u001b[38;5;28mself\u001b[39m\u001b[38;5;241m.\u001b[39m_skip_invalid:\n",
      "File \u001b[0;32m/opt/anaconda3/envs/imageprocessing-py-dev/lib/python3.9/site-packages/_plotly_utils/basevalidators.py:651\u001b[0m, in \u001b[0;36mBooleanValidator.validate_coerce\u001b[0;34m(self, v)\u001b[0m\n\u001b[1;32m    649\u001b[0m     \u001b[38;5;28;01mpass\u001b[39;00m\n\u001b[1;32m    650\u001b[0m \u001b[38;5;28;01melif\u001b[39;00m \u001b[38;5;129;01mnot\u001b[39;00m \u001b[38;5;28misinstance\u001b[39m(v, \u001b[38;5;28mbool\u001b[39m):\n\u001b[0;32m--> 651\u001b[0m     \u001b[38;5;28;43mself\u001b[39;49m\u001b[38;5;241;43m.\u001b[39;49m\u001b[43mraise_invalid_val\u001b[49m\u001b[43m(\u001b[49m\u001b[43mv\u001b[49m\u001b[43m)\u001b[49m\n\u001b[1;32m    653\u001b[0m \u001b[38;5;28;01mreturn\u001b[39;00m v\n",
      "File \u001b[0;32m/opt/anaconda3/envs/imageprocessing-py-dev/lib/python3.9/site-packages/_plotly_utils/basevalidators.py:296\u001b[0m, in \u001b[0;36mBaseValidator.raise_invalid_val\u001b[0;34m(self, v, inds)\u001b[0m\n\u001b[1;32m    293\u001b[0m             \u001b[38;5;28;01mfor\u001b[39;00m i \u001b[38;5;129;01min\u001b[39;00m inds:\n\u001b[1;32m    294\u001b[0m                 name \u001b[38;5;241m+\u001b[39m\u001b[38;5;241m=\u001b[39m \u001b[38;5;124m\"\u001b[39m\u001b[38;5;124m[\u001b[39m\u001b[38;5;124m\"\u001b[39m \u001b[38;5;241m+\u001b[39m \u001b[38;5;28mstr\u001b[39m(i) \u001b[38;5;241m+\u001b[39m \u001b[38;5;124m\"\u001b[39m\u001b[38;5;124m]\u001b[39m\u001b[38;5;124m\"\u001b[39m\n\u001b[0;32m--> 296\u001b[0m         \u001b[38;5;28;01mraise\u001b[39;00m \u001b[38;5;167;01mValueError\u001b[39;00m(\n\u001b[1;32m    297\u001b[0m \u001b[38;5;250m            \u001b[39m\u001b[38;5;124;03m\"\"\"\u001b[39;00m\n\u001b[1;32m    298\u001b[0m \u001b[38;5;124;03m    Invalid value of type {typ} received for the '{name}' property of {pname}\u001b[39;00m\n\u001b[1;32m    299\u001b[0m \u001b[38;5;124;03m        Received value: {v}\u001b[39;00m\n\u001b[1;32m    300\u001b[0m \n\u001b[1;32m    301\u001b[0m \u001b[38;5;124;03m{valid_clr_desc}\"\"\"\u001b[39;00m\u001b[38;5;241m.\u001b[39mformat(\n\u001b[1;32m    302\u001b[0m                 name\u001b[38;5;241m=\u001b[39mname,\n\u001b[1;32m    303\u001b[0m                 pname\u001b[38;5;241m=\u001b[39m\u001b[38;5;28mself\u001b[39m\u001b[38;5;241m.\u001b[39mparent_name,\n\u001b[1;32m    304\u001b[0m                 typ\u001b[38;5;241m=\u001b[39mtype_str(v),\n\u001b[1;32m    305\u001b[0m                 v\u001b[38;5;241m=\u001b[39m\u001b[38;5;28mrepr\u001b[39m(v),\n\u001b[1;32m    306\u001b[0m                 valid_clr_desc\u001b[38;5;241m=\u001b[39m\u001b[38;5;28mself\u001b[39m\u001b[38;5;241m.\u001b[39mdescription(),\n\u001b[1;32m    307\u001b[0m             )\n\u001b[1;32m    308\u001b[0m         )\n",
      "\u001b[0;31mValueError\u001b[0m: \n    Invalid value of type 'builtins.int' received for the 'autosize' property of layout\n        Received value: 11\n\n    The 'autosize' property must be specified as a bool\n    (either True, or False)"
     ]
    }
   ],
   "source": [
    "# Create Layout\n",
    "mylayout = go.Layout( \n",
    "    title=\"Virgin Ti64 Powder Run #1 - Count (%) vs Effective Diameter (microns)\",\n",
    "    width=600, height= 400,\n",
    "    plot_bgcolor=\"White\",\n",
    "    paper_bgcolor=\"white\",\n",
    "    xaxis=dict(\n",
    "        title=\"Effective Diameter (microns)\", \n",
    "        ticks=\"outside\", range=[0, 200], dtick=20, showticklabels=True, # tick numbers\n",
    "        zeroline=True, zerolinewidth=1, zerolinecolor=\"black\",\n",
    "        ),\n",
    "    yaxis=dict(\n",
    "        title=\"Cumulative Percentage (%)\", \n",
    "        ticks=\"outside\", range=[0,110], dtick=10, showticklabels=True,\n",
    "        zeroline=True, zerolinewidth=1, zerolinecolor=\"black\"\n",
    "        ),\n",
    "    legend= dict(\n",
    "        bordercolor=\"Black\",\n",
    "        title=dict(text=\"Software\"),),)\n",
    "\n"
   ]
  },
  {
   "cell_type": "code",
   "execution_count": 115,
   "metadata": {},
   "outputs": [],
   "source": [
    "# Create figure 1\n",
    "figure1 = go.Figure(data=[trace1, trace2], layout=mylayout)"
   ]
  },
  {
   "cell_type": "code",
   "execution_count": 116,
   "metadata": {},
   "outputs": [
    {
     "data": {
      "application/vnd.plotly.v1+json": {
       "config": {
        "plotlyServerURL": "https://plot.ly"
       },
       "data": [
        {
         "mode": "lines",
         "name": "FlowCam Series",
         "type": "scatter",
         "x": [
          30.31,
          39.11,
          43.34,
          44.61,
          45.57,
          45.77,
          45.85,
          46.32,
          46.44,
          46.67,
          46.98,
          47.33,
          47.52,
          47.56,
          47.67,
          47.71,
          48.21,
          48.32,
          48.62,
          48.66,
          48.88,
          48.88,
          49.07,
          49.22,
          49.33,
          49.4,
          49.44,
          49.52,
          49.55,
          49.74,
          49.81,
          50.18,
          50.21,
          50.54,
          50.54,
          50.83,
          51.01,
          51.01,
          51.34,
          51.48,
          51.62,
          52.08,
          52.23,
          52.37,
          52.75,
          52.82,
          53.1,
          53.17,
          53.31,
          53.35,
          53.9,
          54,
          55.19,
          55.22,
          55.56,
          55.99,
          56.23,
          56.85,
          56.88,
          56.98,
          57.02,
          57.08,
          57.15,
          57.44,
          57.54,
          57.57,
          58.15,
          58.44,
          58.95,
          59.36,
          59.68,
          59.74,
          59.77,
          60.02,
          60.02,
          60.09,
          60.24,
          60.3,
          60.37,
          60.37,
          60.77,
          60.92,
          61.17,
          61.26,
          61.84,
          63.11,
          63.26,
          63.74,
          63.95,
          64.01,
          64.12,
          64.18,
          65.47,
          66.25,
          66.59,
          66.9,
          67.07,
          67.16,
          67.84,
          68.87,
          69.23,
          69.58,
          70.48,
          71.37,
          72.25,
          72.49,
          72.73,
          72.86,
          74.92,
          75.51,
          76.44,
          76.82,
          78.22,
          79.42,
          79.49,
          80.29,
          80.44,
          81.99,
          82.25,
          82.25,
          82.25,
          85.15,
          86.26,
          86.56,
          86.78,
          86.94,
          88.96,
          89.29,
          89.7,
          95.01,
          95.32,
          96.16,
          96.16,
          97.57,
          97.65,
          99.47,
          99.8,
          105.54,
          106.38,
          107.11,
          110.99,
          114.57,
          144.95,
          180.76
         ],
         "y": [
          0.6944444444444444,
          1.3888888888888888,
          2.083333333333333,
          2.7777777777777777,
          3.4722222222222223,
          4.166666666666666,
          4.861111111111112,
          5.555555555555555,
          6.25,
          6.944444444444445,
          7.638888888888889,
          8.333333333333332,
          9.027777777777777,
          9.722222222222223,
          10.416666666666668,
          11.11111111111111,
          11.805555555555555,
          12.5,
          13.194444444444445,
          13.88888888888889,
          15.277777777777779,
          15.277777777777779,
          15.972222222222221,
          16.666666666666664,
          17.36111111111111,
          18.055555555555554,
          18.75,
          19.444444444444446,
          20.13888888888889,
          20.833333333333336,
          21.52777777777778,
          22.22222222222222,
          23.61111111111111,
          24.305555555555554,
          25,
          25.694444444444443,
          26.38888888888889,
          26.38888888888889,
          27.083333333333332,
          27.77777777777778,
          28.47222222222222,
          29.166666666666668,
          29.86111111111111,
          30.555555555555557,
          31.25,
          31.944444444444443,
          32.63888888888889,
          33.33333333333333,
          34.02777777777778,
          34.72222222222222,
          35.41666666666667,
          36.11111111111111,
          36.80555555555556,
          37.5,
          38.19444444444444,
          38.88888888888889,
          39.58333333333333,
          40.27777777777778,
          40.97222222222222,
          41.66666666666667,
          42.36111111111111,
          43.05555555555556,
          43.75,
          44.44444444444444,
          45.13888888888889,
          45.83333333333333,
          46.52777777777778,
          47.22222222222222,
          47.91666666666667,
          48.61111111111111,
          50,
          50.69444444444444,
          51.388888888888886,
          52.083333333333336,
          52.77777777777778,
          53.47222222222222,
          54.166666666666664,
          54.861111111111114,
          55.55555555555556,
          55.55555555555556,
          56.25,
          56.94444444444444,
          57.638888888888886,
          58.333333333333336,
          59.02777777777778,
          59.72222222222222,
          60.416666666666664,
          61.111111111111114,
          61.80555555555556,
          62.5,
          63.19444444444444,
          63.888888888888886,
          64.58333333333334,
          65.27777777777779,
          65.97222222222221,
          66.66666666666666,
          67.36111111111111,
          68.05555555555556,
          68.75,
          69.44444444444444,
          70.13888888888889,
          70.83333333333334,
          71.52777777777779,
          72.22222222222221,
          72.91666666666666,
          73.61111111111111,
          74.30555555555556,
          75,
          75.69444444444444,
          76.38888888888889,
          77.08333333333334,
          77.77777777777779,
          78.47222222222221,
          80.55555555555556,
          81.25,
          81.94444444444444,
          82.63888888888889,
          83.33333333333334,
          84.02777777777779,
          84.02777777777779,
          84.02777777777779,
          84.72222222222221,
          85.41666666666666,
          86.11111111111111,
          87.5,
          88.19444444444444,
          88.88888888888889,
          89.58333333333334,
          90.27777777777779,
          90.97222222222221,
          91.66666666666666,
          92.36111111111111,
          92.36111111111111,
          93.05555555555556,
          93.75,
          94.44444444444444,
          95.13888888888889,
          95.83333333333334,
          96.52777777777779,
          97.22222222222221,
          97.91666666666666,
          98.61111111111111,
          99.30555555555556,
          100
         ]
        },
        {
         "mode": "lines",
         "name": "PyImageJ Series",
         "type": "scatter",
         "x": [
          27.081100010292303,
          33.405436077768314,
          36.32687003725329,
          37.40142070691362,
          37.73280363546874,
          38.03156745151513,
          38.35752332145528,
          38.826738479640966,
          39.059232375606875,
          39.11714807591083,
          39.14607379422965,
          39.34792607492748,
          39.34792607492748,
          39.46280898264301,
          39.77703816698034,
          39.89068527538756,
          39.94737961771155,
          40.03229443902976,
          40.257826703119434,
          40.42615807966528,
          40.5937757552341,
          40.5937757552341,
          40.677341233146606,
          40.70514262926545,
          40.81620564030242,
          40.84392810176311,
          40.98224358298537,
          41.00985380375897,
          41.0374454482272,
          41.17511087088138,
          41.4490546890533,
          41.53089927208113,
          41.53089927208113,
          41.748336579473104,
          41.802511572087454,
          41.96464726359791,
          41.99161154169645,
          42.04547307915881,
          42.126158929837,
          42.2870386663104,
          42.44732365402701,
          42.527232121098514,
          42.66009022722461,
          43.13498537876731,
          43.23980770111127,
          43.47473752358769,
          43.52677845379694,
          43.52677845379694,
          43.91507624387523,
          43.94082917033279,
          43.9665814919344,
          44.19764836281078,
          44.55470547351407,
          45.08498233065177,
          45.160237947632645,
          45.18529530054372,
          45.21032468439408,
          45.38522803955668,
          45.48486485200515,
          45.65870260421181,
          45.68348655050748,
          45.73301414986197,
          46.27425045384974,
          46.39638004606354,
          46.445133738210906,
          46.6396661733928,
          47.09847074064703,
          47.19449070082435,
          47.21846855225967,
          47.647953133920254,
          47.88489417842084,
          48.026500358679606,
          48.07360089782943,
          48.19117066016281,
          48.28501771770979,
          48.42545386698238,
          48.495512871969005,
          48.54217144438832,
          48.56547081216637,
          48.77475564185992,
          48.86749499990053,
          48.96004569001049,
          48.96004569001049,
          49.32851203491102,
          49.32851203491102,
          49.374383433106686,
          50.10252552376854,
          50.192798988126675,
          50.57466673922307,
          50.95367269691619,
          51.307836245104454,
          51.307836245104454,
          51.68146578489662,
          52.09588650764573,
          52.5931707498477,
          52.765053734146846,
          53.34103855114458,
          53.51050744031415,
          53.67944130973365,
          55.29953641103087,
          55.320001330309715,
          55.585325278384786,
          55.86965227502993,
          55.910145876346,
          56.39388019607717,
          56.79383554209527,
          57.801215950748535,
          57.801215950748535,
          59.613361748397516,
          59.708213214418464,
          59.7461158995255,
          60.3679901620964,
          61.39046385568431,
          62.39618472808411,
          62.46869516024653,
          62.63153924134047,
          62.93798180161608,
          62.95596376175252,
          64.13147736231801,
          64.32531275641298,
          64.32531275641298,
          66.31781093110797,
          67.23305022820814,
          67.58563581229299,
          68.10277287087362,
          68.11938211238264,
          69.1254416391071,
          69.69612753054585,
          70.03630519007773,
          74.0118854011273,
          74.19516475537326,
          74.48441907660622,
          75.18012815012257,
          75.24031947746809,
          76.25631993739898,
          76.72978336249486,
          77.00952629511143,
          81.04803600876562,
          81.92305517916498,
          82.01970760751794,
          84.9479630197278,
          87.36502207359021,
          108.43926925618828,
          136.02261483199595
         ],
         "y": [
          0.6944444444444444,
          1.3888888888888888,
          2.083333333333333,
          2.7777777777777777,
          3.4722222222222223,
          4.166666666666666,
          4.861111111111112,
          5.555555555555555,
          6.25,
          6.944444444444445,
          7.638888888888889,
          9.027777777777777,
          9.027777777777777,
          9.722222222222223,
          10.416666666666668,
          11.11111111111111,
          11.805555555555555,
          12.5,
          13.194444444444445,
          14.583333333333334,
          15.277777777777779,
          15.277777777777779,
          15.972222222222221,
          16.666666666666664,
          17.36111111111111,
          18.055555555555554,
          18.75,
          19.444444444444446,
          20.13888888888889,
          21.52777777777778,
          22.22222222222222,
          22.916666666666664,
          22.916666666666664,
          23.61111111111111,
          24.305555555555554,
          25,
          25.694444444444443,
          26.38888888888889,
          27.083333333333332,
          27.77777777777778,
          28.47222222222222,
          29.166666666666668,
          29.86111111111111,
          31.25,
          31.944444444444443,
          32.63888888888889,
          33.33333333333333,
          33.33333333333333,
          34.02777777777778,
          34.72222222222222,
          35.41666666666667,
          36.11111111111111,
          36.80555555555556,
          37.5,
          38.19444444444444,
          38.88888888888889,
          39.58333333333333,
          40.27777777777778,
          40.97222222222222,
          41.66666666666667,
          42.36111111111111,
          43.05555555555556,
          43.75,
          44.44444444444444,
          45.13888888888889,
          45.83333333333333,
          46.52777777777778,
          47.22222222222222,
          47.91666666666667,
          48.61111111111111,
          49.30555555555556,
          50,
          50.69444444444444,
          51.388888888888886,
          52.083333333333336,
          52.77777777777778,
          53.47222222222222,
          54.861111111111114,
          56.25,
          56.94444444444444,
          57.638888888888886,
          58.333333333333336,
          58.333333333333336,
          59.02777777777778,
          59.72222222222222,
          60.416666666666664,
          61.111111111111114,
          61.80555555555556,
          62.5,
          63.19444444444444,
          63.888888888888886,
          63.888888888888886,
          64.58333333333334,
          65.27777777777779,
          65.97222222222221,
          66.66666666666666,
          67.36111111111111,
          68.05555555555556,
          68.75,
          70.13888888888889,
          70.83333333333334,
          71.52777777777779,
          72.22222222222221,
          72.91666666666666,
          73.61111111111111,
          74.30555555555556,
          75,
          75,
          75.69444444444444,
          76.38888888888889,
          77.08333333333334,
          78.47222222222221,
          79.16666666666666,
          79.86111111111111,
          80.55555555555556,
          81.25,
          81.94444444444444,
          82.63888888888889,
          83.33333333333334,
          84.02777777777779,
          84.02777777777779,
          84.72222222222221,
          85.41666666666666,
          86.11111111111111,
          86.80555555555556,
          87.5,
          88.19444444444444,
          88.88888888888889,
          89.58333333333334,
          90.27777777777779,
          90.97222222222221,
          91.66666666666666,
          92.36111111111111,
          93.05555555555556,
          93.75,
          94.44444444444444,
          95.13888888888889,
          95.83333333333334,
          96.52777777777779,
          97.22222222222221,
          97.91666666666666,
          98.61111111111111,
          99.30555555555556,
          100
         ]
        }
       ],
       "layout": {
        "height": 400,
        "legend": {
         "bordercolor": "Black",
         "title": {
          "text": "Software"
         }
        },
        "paper_bgcolor": "white",
        "plot_bgcolor": "White",
        "template": {
         "data": {
          "bar": [
           {
            "error_x": {
             "color": "#2a3f5f"
            },
            "error_y": {
             "color": "#2a3f5f"
            },
            "marker": {
             "line": {
              "color": "#E5ECF6",
              "width": 0.5
             },
             "pattern": {
              "fillmode": "overlay",
              "size": 10,
              "solidity": 0.2
             }
            },
            "type": "bar"
           }
          ],
          "barpolar": [
           {
            "marker": {
             "line": {
              "color": "#E5ECF6",
              "width": 0.5
             },
             "pattern": {
              "fillmode": "overlay",
              "size": 10,
              "solidity": 0.2
             }
            },
            "type": "barpolar"
           }
          ],
          "carpet": [
           {
            "aaxis": {
             "endlinecolor": "#2a3f5f",
             "gridcolor": "white",
             "linecolor": "white",
             "minorgridcolor": "white",
             "startlinecolor": "#2a3f5f"
            },
            "baxis": {
             "endlinecolor": "#2a3f5f",
             "gridcolor": "white",
             "linecolor": "white",
             "minorgridcolor": "white",
             "startlinecolor": "#2a3f5f"
            },
            "type": "carpet"
           }
          ],
          "choropleth": [
           {
            "colorbar": {
             "outlinewidth": 0,
             "ticks": ""
            },
            "type": "choropleth"
           }
          ],
          "contour": [
           {
            "colorbar": {
             "outlinewidth": 0,
             "ticks": ""
            },
            "colorscale": [
             [
              0,
              "#0d0887"
             ],
             [
              0.1111111111111111,
              "#46039f"
             ],
             [
              0.2222222222222222,
              "#7201a8"
             ],
             [
              0.3333333333333333,
              "#9c179e"
             ],
             [
              0.4444444444444444,
              "#bd3786"
             ],
             [
              0.5555555555555556,
              "#d8576b"
             ],
             [
              0.6666666666666666,
              "#ed7953"
             ],
             [
              0.7777777777777778,
              "#fb9f3a"
             ],
             [
              0.8888888888888888,
              "#fdca26"
             ],
             [
              1,
              "#f0f921"
             ]
            ],
            "type": "contour"
           }
          ],
          "contourcarpet": [
           {
            "colorbar": {
             "outlinewidth": 0,
             "ticks": ""
            },
            "type": "contourcarpet"
           }
          ],
          "heatmap": [
           {
            "colorbar": {
             "outlinewidth": 0,
             "ticks": ""
            },
            "colorscale": [
             [
              0,
              "#0d0887"
             ],
             [
              0.1111111111111111,
              "#46039f"
             ],
             [
              0.2222222222222222,
              "#7201a8"
             ],
             [
              0.3333333333333333,
              "#9c179e"
             ],
             [
              0.4444444444444444,
              "#bd3786"
             ],
             [
              0.5555555555555556,
              "#d8576b"
             ],
             [
              0.6666666666666666,
              "#ed7953"
             ],
             [
              0.7777777777777778,
              "#fb9f3a"
             ],
             [
              0.8888888888888888,
              "#fdca26"
             ],
             [
              1,
              "#f0f921"
             ]
            ],
            "type": "heatmap"
           }
          ],
          "heatmapgl": [
           {
            "colorbar": {
             "outlinewidth": 0,
             "ticks": ""
            },
            "colorscale": [
             [
              0,
              "#0d0887"
             ],
             [
              0.1111111111111111,
              "#46039f"
             ],
             [
              0.2222222222222222,
              "#7201a8"
             ],
             [
              0.3333333333333333,
              "#9c179e"
             ],
             [
              0.4444444444444444,
              "#bd3786"
             ],
             [
              0.5555555555555556,
              "#d8576b"
             ],
             [
              0.6666666666666666,
              "#ed7953"
             ],
             [
              0.7777777777777778,
              "#fb9f3a"
             ],
             [
              0.8888888888888888,
              "#fdca26"
             ],
             [
              1,
              "#f0f921"
             ]
            ],
            "type": "heatmapgl"
           }
          ],
          "histogram": [
           {
            "marker": {
             "pattern": {
              "fillmode": "overlay",
              "size": 10,
              "solidity": 0.2
             }
            },
            "type": "histogram"
           }
          ],
          "histogram2d": [
           {
            "colorbar": {
             "outlinewidth": 0,
             "ticks": ""
            },
            "colorscale": [
             [
              0,
              "#0d0887"
             ],
             [
              0.1111111111111111,
              "#46039f"
             ],
             [
              0.2222222222222222,
              "#7201a8"
             ],
             [
              0.3333333333333333,
              "#9c179e"
             ],
             [
              0.4444444444444444,
              "#bd3786"
             ],
             [
              0.5555555555555556,
              "#d8576b"
             ],
             [
              0.6666666666666666,
              "#ed7953"
             ],
             [
              0.7777777777777778,
              "#fb9f3a"
             ],
             [
              0.8888888888888888,
              "#fdca26"
             ],
             [
              1,
              "#f0f921"
             ]
            ],
            "type": "histogram2d"
           }
          ],
          "histogram2dcontour": [
           {
            "colorbar": {
             "outlinewidth": 0,
             "ticks": ""
            },
            "colorscale": [
             [
              0,
              "#0d0887"
             ],
             [
              0.1111111111111111,
              "#46039f"
             ],
             [
              0.2222222222222222,
              "#7201a8"
             ],
             [
              0.3333333333333333,
              "#9c179e"
             ],
             [
              0.4444444444444444,
              "#bd3786"
             ],
             [
              0.5555555555555556,
              "#d8576b"
             ],
             [
              0.6666666666666666,
              "#ed7953"
             ],
             [
              0.7777777777777778,
              "#fb9f3a"
             ],
             [
              0.8888888888888888,
              "#fdca26"
             ],
             [
              1,
              "#f0f921"
             ]
            ],
            "type": "histogram2dcontour"
           }
          ],
          "mesh3d": [
           {
            "colorbar": {
             "outlinewidth": 0,
             "ticks": ""
            },
            "type": "mesh3d"
           }
          ],
          "parcoords": [
           {
            "line": {
             "colorbar": {
              "outlinewidth": 0,
              "ticks": ""
             }
            },
            "type": "parcoords"
           }
          ],
          "pie": [
           {
            "automargin": true,
            "type": "pie"
           }
          ],
          "scatter": [
           {
            "fillpattern": {
             "fillmode": "overlay",
             "size": 10,
             "solidity": 0.2
            },
            "type": "scatter"
           }
          ],
          "scatter3d": [
           {
            "line": {
             "colorbar": {
              "outlinewidth": 0,
              "ticks": ""
             }
            },
            "marker": {
             "colorbar": {
              "outlinewidth": 0,
              "ticks": ""
             }
            },
            "type": "scatter3d"
           }
          ],
          "scattercarpet": [
           {
            "marker": {
             "colorbar": {
              "outlinewidth": 0,
              "ticks": ""
             }
            },
            "type": "scattercarpet"
           }
          ],
          "scattergeo": [
           {
            "marker": {
             "colorbar": {
              "outlinewidth": 0,
              "ticks": ""
             }
            },
            "type": "scattergeo"
           }
          ],
          "scattergl": [
           {
            "marker": {
             "colorbar": {
              "outlinewidth": 0,
              "ticks": ""
             }
            },
            "type": "scattergl"
           }
          ],
          "scattermapbox": [
           {
            "marker": {
             "colorbar": {
              "outlinewidth": 0,
              "ticks": ""
             }
            },
            "type": "scattermapbox"
           }
          ],
          "scatterpolar": [
           {
            "marker": {
             "colorbar": {
              "outlinewidth": 0,
              "ticks": ""
             }
            },
            "type": "scatterpolar"
           }
          ],
          "scatterpolargl": [
           {
            "marker": {
             "colorbar": {
              "outlinewidth": 0,
              "ticks": ""
             }
            },
            "type": "scatterpolargl"
           }
          ],
          "scatterternary": [
           {
            "marker": {
             "colorbar": {
              "outlinewidth": 0,
              "ticks": ""
             }
            },
            "type": "scatterternary"
           }
          ],
          "surface": [
           {
            "colorbar": {
             "outlinewidth": 0,
             "ticks": ""
            },
            "colorscale": [
             [
              0,
              "#0d0887"
             ],
             [
              0.1111111111111111,
              "#46039f"
             ],
             [
              0.2222222222222222,
              "#7201a8"
             ],
             [
              0.3333333333333333,
              "#9c179e"
             ],
             [
              0.4444444444444444,
              "#bd3786"
             ],
             [
              0.5555555555555556,
              "#d8576b"
             ],
             [
              0.6666666666666666,
              "#ed7953"
             ],
             [
              0.7777777777777778,
              "#fb9f3a"
             ],
             [
              0.8888888888888888,
              "#fdca26"
             ],
             [
              1,
              "#f0f921"
             ]
            ],
            "type": "surface"
           }
          ],
          "table": [
           {
            "cells": {
             "fill": {
              "color": "#EBF0F8"
             },
             "line": {
              "color": "white"
             }
            },
            "header": {
             "fill": {
              "color": "#C8D4E3"
             },
             "line": {
              "color": "white"
             }
            },
            "type": "table"
           }
          ]
         },
         "layout": {
          "annotationdefaults": {
           "arrowcolor": "#2a3f5f",
           "arrowhead": 0,
           "arrowwidth": 1
          },
          "autotypenumbers": "strict",
          "coloraxis": {
           "colorbar": {
            "outlinewidth": 0,
            "ticks": ""
           }
          },
          "colorscale": {
           "diverging": [
            [
             0,
             "#8e0152"
            ],
            [
             0.1,
             "#c51b7d"
            ],
            [
             0.2,
             "#de77ae"
            ],
            [
             0.3,
             "#f1b6da"
            ],
            [
             0.4,
             "#fde0ef"
            ],
            [
             0.5,
             "#f7f7f7"
            ],
            [
             0.6,
             "#e6f5d0"
            ],
            [
             0.7,
             "#b8e186"
            ],
            [
             0.8,
             "#7fbc41"
            ],
            [
             0.9,
             "#4d9221"
            ],
            [
             1,
             "#276419"
            ]
           ],
           "sequential": [
            [
             0,
             "#0d0887"
            ],
            [
             0.1111111111111111,
             "#46039f"
            ],
            [
             0.2222222222222222,
             "#7201a8"
            ],
            [
             0.3333333333333333,
             "#9c179e"
            ],
            [
             0.4444444444444444,
             "#bd3786"
            ],
            [
             0.5555555555555556,
             "#d8576b"
            ],
            [
             0.6666666666666666,
             "#ed7953"
            ],
            [
             0.7777777777777778,
             "#fb9f3a"
            ],
            [
             0.8888888888888888,
             "#fdca26"
            ],
            [
             1,
             "#f0f921"
            ]
           ],
           "sequentialminus": [
            [
             0,
             "#0d0887"
            ],
            [
             0.1111111111111111,
             "#46039f"
            ],
            [
             0.2222222222222222,
             "#7201a8"
            ],
            [
             0.3333333333333333,
             "#9c179e"
            ],
            [
             0.4444444444444444,
             "#bd3786"
            ],
            [
             0.5555555555555556,
             "#d8576b"
            ],
            [
             0.6666666666666666,
             "#ed7953"
            ],
            [
             0.7777777777777778,
             "#fb9f3a"
            ],
            [
             0.8888888888888888,
             "#fdca26"
            ],
            [
             1,
             "#f0f921"
            ]
           ]
          },
          "colorway": [
           "#636efa",
           "#EF553B",
           "#00cc96",
           "#ab63fa",
           "#FFA15A",
           "#19d3f3",
           "#FF6692",
           "#B6E880",
           "#FF97FF",
           "#FECB52"
          ],
          "font": {
           "color": "#2a3f5f"
          },
          "geo": {
           "bgcolor": "white",
           "lakecolor": "white",
           "landcolor": "#E5ECF6",
           "showlakes": true,
           "showland": true,
           "subunitcolor": "white"
          },
          "hoverlabel": {
           "align": "left"
          },
          "hovermode": "closest",
          "mapbox": {
           "style": "light"
          },
          "paper_bgcolor": "white",
          "plot_bgcolor": "#E5ECF6",
          "polar": {
           "angularaxis": {
            "gridcolor": "white",
            "linecolor": "white",
            "ticks": ""
           },
           "bgcolor": "#E5ECF6",
           "radialaxis": {
            "gridcolor": "white",
            "linecolor": "white",
            "ticks": ""
           }
          },
          "scene": {
           "xaxis": {
            "backgroundcolor": "#E5ECF6",
            "gridcolor": "white",
            "gridwidth": 2,
            "linecolor": "white",
            "showbackground": true,
            "ticks": "",
            "zerolinecolor": "white"
           },
           "yaxis": {
            "backgroundcolor": "#E5ECF6",
            "gridcolor": "white",
            "gridwidth": 2,
            "linecolor": "white",
            "showbackground": true,
            "ticks": "",
            "zerolinecolor": "white"
           },
           "zaxis": {
            "backgroundcolor": "#E5ECF6",
            "gridcolor": "white",
            "gridwidth": 2,
            "linecolor": "white",
            "showbackground": true,
            "ticks": "",
            "zerolinecolor": "white"
           }
          },
          "shapedefaults": {
           "line": {
            "color": "#2a3f5f"
           }
          },
          "ternary": {
           "aaxis": {
            "gridcolor": "white",
            "linecolor": "white",
            "ticks": ""
           },
           "baxis": {
            "gridcolor": "white",
            "linecolor": "white",
            "ticks": ""
           },
           "bgcolor": "#E5ECF6",
           "caxis": {
            "gridcolor": "white",
            "linecolor": "white",
            "ticks": ""
           }
          },
          "title": {
           "x": 0.05
          },
          "xaxis": {
           "automargin": true,
           "gridcolor": "white",
           "linecolor": "white",
           "ticks": "",
           "title": {
            "standoff": 15
           },
           "zerolinecolor": "white",
           "zerolinewidth": 2
          },
          "yaxis": {
           "automargin": true,
           "gridcolor": "white",
           "linecolor": "white",
           "ticks": "",
           "title": {
            "standoff": 15
           },
           "zerolinecolor": "white",
           "zerolinewidth": 2
          }
         }
        },
        "title": {
         "text": "Virgin Ti64 Powder Run #1 - Count (%) vs Effective Diameter (microns)"
        },
        "width": 600,
        "xaxis": {
         "dtick": 20,
         "range": [
          0,
          200
         ],
         "showticklabels": true,
         "ticks": "outside",
         "title": {
          "text": "Effective Diameter (microns)"
         },
         "zeroline": true,
         "zerolinecolor": "black",
         "zerolinewidth": 1
        },
        "yaxis": {
         "dtick": 10,
         "range": [
          0,
          110
         ],
         "showticklabels": true,
         "ticks": "outside",
         "title": {
          "text": "Cumulative Percentage (%)"
         },
         "zeroline": true,
         "zerolinecolor": "black",
         "zerolinewidth": 1
        }
       }
      }
     },
     "metadata": {},
     "output_type": "display_data"
    }
   ],
   "source": [
    "# Display figure \n",
    "figure1.show()\n",
    "\n",
    "# save = True\n"
   ]
  }
 ],
 "metadata": {
  "kernelspec": {
   "display_name": "imageprocessing-py-dev",
   "language": "python",
   "name": "python3"
  },
  "language_info": {
   "codemirror_mode": {
    "name": "ipython",
    "version": 3
   },
   "file_extension": ".py",
   "mimetype": "text/x-python",
   "name": "python",
   "nbconvert_exporter": "python",
   "pygments_lexer": "ipython3",
   "version": "3.9.19"
  }
 },
 "nbformat": 4,
 "nbformat_minor": 2
}
