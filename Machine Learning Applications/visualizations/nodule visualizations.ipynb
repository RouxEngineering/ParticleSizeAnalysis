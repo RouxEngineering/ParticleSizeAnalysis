{
 "cells": [
  {
   "cell_type": "markdown",
   "metadata": {},
   "source": [
    "## visualization for nodules -- ALM Ortho Powders"
   ]
  },
  {
   "cell_type": "code",
   "execution_count": 71,
   "metadata": {},
   "outputs": [],
   "source": [
    "## import modules and libraries for visualization \n",
    "import matplotlib.pyplot as plt \n",
    "import pandas as pd \n",
    "import numpy as np\n",
    "import os"
   ]
  },
  {
   "cell_type": "code",
   "execution_count": 82,
   "metadata": {},
   "outputs": [
    {
     "name": "stdout",
     "output_type": "stream",
     "text": [
      "Processed file: 2024-10-30 P1440 Group 1 Rev 8 R01 PP1 Results.csv, shape: (555, 25)\n",
      "Processed file: 2024-10-30 P2002 Group 3 Rev 1 R01_PP2Results.csv, shape: (483, 25)\n",
      "Processed file: 2024-10-30 P2002 Group 7 Rev 1 R01 PP1Results.csv, shape: (251, 25)\n",
      "Processed file: 2024-10-30 P2328 Group 1 Rev 3 R01 PP1Results.csv, shape: (110, 25)\n",
      "Processed file: 2024-10-30 P2002 Group 6 Rev 1 R01 PP1Results.csv, shape: (431, 25)\n",
      "Processed file: 2024-10-29 P1444 Group 1 Rev 6 R01_PP2.csv, shape: (1802, 25)\n",
      "Processed file: 2024-10-30 P1444 Group 3 Rev 8 R02 PP1Results.csv, shape: (745, 25)\n",
      "Processed file: 2024-10-30 P1444 Group 3 Rev 5 R02 PP1Results.csv, shape: (1622, 25)\n",
      "Processed file: 2024-10-30 P2002 Group 12 Rev 1 R01 PP1Results.csv, shape: (280, 25)\n",
      "Processed file: 2024-10-30 P1444 Group 4 Rev 5 R02 PP1 Results.csv, shape: (1086, 25)\n",
      "Processed file: 2024-10-30 P2328 Group 2 Rev 2 R01 PP1Resultscsv.csv, shape: (136, 25)\n",
      "Processed file: 2024-10-29 P1444 Group 2 Rev 6 R01_PP2 Results.csv, shape: (2039, 25)\n",
      "Processed file: 2024-10-29 P1444 Group 2 Rev 7 R01_PP2 Results.csv, shape: (2605, 25)\n",
      "Processed file: 2024-10-29 P1444 Group 1 Rev 9 R01_PP2 Resultscsv.csv, shape: (2102, 25)\n",
      "Processed file: 2024-10-29 P1444 Group 3 Rev 6 R01 PP1Results.csv, shape: (119, 25)\n",
      "Processed file: 2024-10-30 P222 Group 3 Rev 2 R02 PP1 Results.csv, shape: (2868, 25)\n",
      "Processed file: 2024-10-29 P2001 Group 1 Rev 1 R02 PP1Results.csv, shape: (377, 25)\n",
      "Processed file: 2024-10-30 P2328 Group 4 Rev 1 R01 PP1Results.csv, shape: (1545, 25)\n",
      "Processed file: 2024-10-29 P1444 Group 1 Rev 10 R01_PP2.csv, shape: (2214, 25)\n",
      "Processed file: 2024-10-29 P1444 Group 2 Rev 9 R01 PP1 Results.csv, shape: (836, 25)\n",
      "Processed file: 2024-10-29 P1444 Group 2 Rev 8 R01 PP1 Results.csv, shape: (2195, 25)\n",
      "Processed file: 2024-10-30 P222 Group 2 Rev 2 combinedrun.csv, shape: (961, 25)\n",
      "Processed file: 2024-10-29 P1444 Group 1 Rev 8 R01_PP2 Results.csv, shape: (2553, 25)\n",
      "Processed file: 2024-10-30 P2001 Group 2 Rev 1 R01Results.csv, shape: (1792, 25)\n",
      "Processed file: 2024-10-30 P2002 Group 1 Rev 2 R01 PP1Results.csv, shape: (252, 25)\n",
      "Processed file: 2024-10-29 P1444 Group 1 Rev 7 R01 Results.csv, shape: (1621, 25)\n",
      "Processed file: 2024-10-30 P1440 Group 2 Rev 7 R01 PP1 Results.csv, shape: (349, 25)\n",
      "Processed file: 2024-10-30 P2328 Group 5 Rev 2 R01 PP1Results.csv, shape: (829, 25)\n",
      "Processed file: 2024-10-30 P2002 Group 3 Rev 2 R01  PP2Results.csv, shape: (115, 25)\n",
      "Processed file: 2024-10-30 P1444 Group 3 Rev 9 R01 PP1Results.csv, shape: (933, 25)\n",
      "Concatenation complete. Combined DataFrame shape: (33806, 25)\n",
      "Output saved to: /Users/sarah/Documents/areospace research/material recycling project/PyImageJ-Particle-Analysis/FlowCam Ti64 Powders/ImageJ Ti64 Data/ImageJoutput.csv\n"
     ]
    }
   ],
   "source": [
    "import os\n",
    "import pandas as pd\n",
    "import re\n",
    "\n",
    "# Path to the folder containing the CSV files\n",
    "folder_path = '/Users/sarah/Documents/areospace research/material recycling project/PyImageJ-Particle-Analysis/FlowCam Ti64 Powders/ImageJ Ti64 Data'\n",
    "output_path = '/Users/sarah/Documents/areospace research/material recycling project/PyImageJ-Particle-Analysis/FlowCam Ti64 Powders/ImageJ Ti64 Data/ImageJoutput.csv'\n",
    "\n",
    "# Pattern to match filenames\n",
    "pattern = r\"(?P<Lot>P\\d+) Group (?P<Group>\\d+) Rev (?P<Rev>\\d+)\"\n",
    "\n",
    "dataframes = []\n",
    "unmatched_files = []\n",
    "\n",
    "# Iterate over files in the folder\n",
    "for file_name in os.listdir(folder_path):\n",
    "    if file_name.endswith(\".csv\"):\n",
    "        match = re.search(pattern, file_name)\n",
    "        if match:\n",
    "            # Extract Lot, Rev, and Group from the filename\n",
    "            lot = match.group(\"Lot\")\n",
    "            group = int(match.group(\"Group\"))\n",
    "            rev = int(match.group(\"Rev\"))\n",
    "            \n",
    "            # Full path to the file\n",
    "            file_path = os.path.join(folder_path, file_name)\n",
    "            \n",
    "            try:\n",
    "                # Read the CSV into a DataFrame\n",
    "                df = pd.read_csv(file_path, encoding='ISO-8859-1')\n",
    "                \n",
    "                # Check if the DataFrame is empty\n",
    "                if df.empty:\n",
    "                    print(f\"Warning: {file_name} is empty and will be skipped.\")\n",
    "                    continue\n",
    "                \n",
    "                # Add new columns\n",
    "                df['Lot'] = lot\n",
    "                df['Rev'] = rev\n",
    "                df['Group'] = group\n",
    "                \n",
    "                # Append the DataFrame to the list\n",
    "                dataframes.append(df)\n",
    "                print(f\"Processed file: {file_name}, shape: {df.shape}\")\n",
    "            except Exception as e:\n",
    "                print(f\"Error processing file {file_name}: {e}\")\n",
    "        else:\n",
    "            unmatched_files.append(file_name)\n",
    "\n",
    "# Concatenate all DataFrames\n",
    "if dataframes:\n",
    "    final_df = pd.concat(dataframes, ignore_index=True)\n",
    "    print(f\"Concatenation complete. Combined DataFrame shape: {final_df.shape}\")\n",
    "    \n",
    "    # Save the final DataFrame to the specified file\n",
    "    try:\n",
    "        final_df.to_csv(output_path, index=False)\n",
    "        print(f\"Output saved to: {output_path}\")\n",
    "    except Exception as e:\n",
    "        print(f\"Error saving the output file: {e}\")\n",
    "else:\n",
    "    print(\"No dataframes to concatenate.\")\n",
    "\n",
    "# List unmatched files\n",
    "if unmatched_files:\n",
    "    print(\"Unmatched files:\")\n",
    "    for file in unmatched_files:\n",
    "        print(file)\n"
   ]
  },
  {
   "cell_type": "code",
   "execution_count": 83,
   "metadata": {},
   "outputs": [
    {
     "name": "stderr",
     "output_type": "stream",
     "text": [
      "/var/folders/27/_cqkc85s1rz_whsq2n2qsjjr0000gn/T/ipykernel_65445/3685061138.py:3: DtypeWarning: Columns (73) have mixed types. Specify dtype option on import or set low_memory=False.\n",
      "  flowcam_data = pd.read_csv('/Users/sarah/Documents/areospace research/material recycling project/PyImageJ-Particle-Analysis/FlowCam Ti64 Powders/FlowCam Ti64 Data/FlowCamoutput.csv')\n"
     ]
    }
   ],
   "source": [
    "# import imagej \n",
    "imagej_nodules = pd.read_csv('/Users/sarah/Documents/areospace research/material recycling project/PyImageJ-Particle-Analysis/FlowCam Ti64 Powders/ImageJ Ti64 Data/ImageJoutput.csv')\n",
    "flowcam_data = pd.read_csv('/Users/sarah/Documents/areospace research/material recycling project/PyImageJ-Particle-Analysis/FlowCam Ti64 Powders/FlowCam Ti64 Data/FlowCamoutput.csv')"
   ]
  },
  {
   "cell_type": "code",
   "execution_count": 93,
   "metadata": {},
   "outputs": [
    {
     "data": {
      "text/plain": [
       "[5397, 5377, 112, 0, 2748, 4098, 4650, 6151, 3993, 2260]"
      ]
     },
     "execution_count": 93,
     "metadata": {},
     "output_type": "execute_result"
    }
   ],
   "source": [
    "imagej_nodules['Rev'] = pd.to_numeric(imagej_nodules['Rev'], errors='coerce')\n",
    "Imagej_particle_count = imagej_nodules.groupby('Rev')['Count'].sum()\n",
    "Imagej_particle_count = Imagej_particle_count.reindex(range(1, 11), fill_value=0)\n",
    "Imagej_particle_count = Imagej_particle_count.tolist()\n",
    "\n",
    "Imagej_particle_count\n"
   ]
  },
  {
   "cell_type": "code",
   "execution_count": 94,
   "metadata": {},
   "outputs": [
    {
     "data": {
      "text/plain": [
       "[5159, 5161, 110, 0, 2708, 3960, 4575, 6048, 3871, 2214]"
      ]
     },
     "execution_count": 94,
     "metadata": {},
     "output_type": "execute_result"
    }
   ],
   "source": [
    "flowcam_data['Rev'] = pd.to_numeric(flowcam_data['Rev'], errors='coerce')\n",
    "flowcam_particle_count = [flowcam_data[flowcam_data['Rev'] == rev].shape[0] for rev in range(1, 11)]\n",
    "flowcam_particle_count"
   ]
  },
  {
   "cell_type": "code",
   "execution_count": 96,
   "metadata": {},
   "outputs": [
    {
     "data": {
      "image/png": "[encoded data removed]",
      "text/plain": [
       "<Figure size 640x480 with 1 Axes>"
      ]
     },
     "metadata": {},
     "output_type": "display_data"
    }
   ],
   "source": [
    "# plot \n",
    "X = [1,2,3,4,5,6,7,8,9,10]\n",
    "X_axis = np.arange(len(X))\n",
    "\n",
    "plt.bar(X_axis - 0.2, flowcam_particle_count, 0.4, label = 'Flowcam Data')\n",
    "plt.bar(X_axis + 0.2, Imagej_particle_count, 0.4, label = 'ImageJ Data', color='red')\n",
    "\n",
    "plt.xticks(X_axis, X)\n",
    "plt.xlabel('Build Cycles')\n",
    "plt.ylabel('Particle Count')\n",
    "plt.title('Particles per Build Cycle')\n",
    "plt.legend()\n",
    "plt.show()"
   ]
  }
 ],
 "metadata": {
  "kernelspec": {
   "display_name": "ds",
   "language": "python",
   "name": "python3"
  },
  "language_info": {
   "codemirror_mode": {
    "name": "ipython",
    "version": 3
   },
   "file_extension": ".py",
   "mimetype": "text/x-python",
   "name": "python",
   "nbconvert_exporter": "python",
   "pygments_lexer": "ipython3",
   "version": "3.11.8"
  }
 },
 "nbformat": 4,
 "nbformat_minor": 2
}
