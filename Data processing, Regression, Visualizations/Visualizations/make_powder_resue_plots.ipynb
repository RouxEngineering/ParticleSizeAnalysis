{
 "cells": [
  {
   "cell_type": "markdown",
   "metadata": {},
   "source": [
    "# Particle Morphology and Elemental Composition Analysis Notebook\n",
    "\n",
    "## Overview\n",
    "This Jupyter notebook provides a comprehensive analysis of particle morphology and elemental composition data, focusing on detailed characterization of material properties through advanced data visualization and statistical techniques.\n",
    "\n",
    "## Key Objectives\n",
    "- Analyze particle frequency and area distributions based on a morphological parameter\n",
    "- Track morphological characteristics across different build cycles\n",
    "- Track elemental composition changes over build cycles\n",
    "- Visualize average morphological parameters across build cycls\n",
    "\n",
    "## Data Sources\n",
    "- Primary:\n",
    "  - FlowCAM exported CSV\n",
    "  - ImageJ (PyImageJ) Analyze Particle results CSV\n",
    "- Secondary:\n",
    "  - [alm_ortho_powder_reuse_lot_configurations.json](alm_ortho_powder_reuse_lot_configurations.json)\n",
    "\n",
    "## Key Visualization Techniques\n",
    "\n",
    "### 1. Particle Distribution Analysis (`prepare_distribution_subplots`)\n",
    "- **Frequency Distribution Plot** (`plot_particle_frequency_distribution`)\n",
    "  - Dual-axis histogram showing:\n",
    "    - Particle count distribution\n",
    "    - Cumulative frequency percentage\n",
    "  - Enables detailed analysis of particle count characteristics\n",
    "\n",
    "- **Area Distribution Plot** (`plot_particle_area_distribution`)\n",
    "  - Dual-axis histogram depicting:\n",
    "    - Binned area percentage distribution\n",
    "    - Cumulative area percentage\n",
    "  - Provides insights into particle size and area contributions\n",
    "\n",
    "### 2. **Average Morphological Parameter Visualization** (`plot_average-data`)\n",
    "- Error bar plots for key morphological parameters\n",
    "- Supports data filtering based on size ranges\n",
    "- Highlights variations across build cycles\n",
    "\n",
    "### 3. **Elemental Composition Trend Analysis** (`prepare_element_plot`)\n",
    "- Plots element compositions over build cycles\n",
    "- Supports:\n",
    "  - Individual lot scatter plots\n",
    "  - Individual lot trend lines\n",
    "  - Average trend line calculations\n",
    "  - Threshold line visualization\n",
    "\n",
    "## Typical Workflow\n",
    "1. Load raw data from CSV source\n",
    "2. Preprocess and filter morphological data\n",
    "3. Generate distribution and trend plots\n",
    "4. Analyze elemental composition changes\n",
    "5. Visualize particle morphological characteristics\n",
    "\n",
    "## Visualization Customization\n",
    "- Supports extensive plot styling options\n",
    "- Configurable:\n",
    "  - Line styles and colors\n",
    "  - Marker types\n",
    "  - Axis limits\n",
    "  - Font sizes\n",
    "\n",
    "## Dependencies\n",
    "- pandas\n",
    "- numpy\n",
    "- matplotlib\n",
    "- plotly.express\n",
    "- utils.calculations.compute_bin_and_cumulative_area_percentages\n",
    "- utils.calculations.build_diameter_metrics_dataframe\n",
    "- utils.calculations.add_frequency_stats_to_dataframe\n",
    "- utils.column_utils.index_column_name\n",
    "\n",
    "## Notes\n",
    "- Meaningful results depend on:\n",
    "  - Data quality\n",
    "  - Appropriate preprocessing\n",
    "  - Careful parameter selection\n",
    "- Visualization parameters may need adjustment based on specific datasets\n",
    "- Focuses on understanding material evolution across build cycles\n"
   ]
  },
  {
   "cell_type": "code",
   "execution_count": 1,
   "metadata": {},
   "outputs": [
    {
     "name": "stdout",
     "output_type": "stream",
     "text": [
      "current working directory: /Users/Daniel/Desktop/projects/data_visualization/Data Processing, Regression, Visualizations/Visualization\n",
      "Folder paths in system environment (Python): ['/Users/Daniel/Desktop/projects/data_visualization/src', '/Users/Daniel/Desktop/Ti64_Comp_Tools/src', '/Users/Daniel/Desktop/projects/data_visualization/Data Processing, Regression, Visualizations/Visualization', '/opt/anaconda3/envs/imageprocessing-py-dev/lib/python39.zip', '/opt/anaconda3/envs/imageprocessing-py-dev/lib/python3.9', '/opt/anaconda3/envs/imageprocessing-py-dev/lib/python3.9/lib-dynload', '', '/opt/anaconda3/envs/imageprocessing-py-dev/lib/python3.9/site-packages']\n"
     ]
    }
   ],
   "source": [
    "import pandas as pd\n",
    "import sys          # Required for acessing aspects of python runtime environment\n",
    "import os\n",
    "import json\n",
    "import matplotlib as mpl\n",
    "import matplotlib.pyplot as plt\n",
    "import plotly.express as px\n",
    "import numpy as np  # Required for Data filtering\n",
    "from utils.calculations import (\n",
    "    compute_bin_and_cumulative_area_percentages, \n",
    "    build_diameter_metrics_dataframe,\n",
    "    add_frequency_stats_to_dataframe\n",
    "    )\n",
    "from utils.column_utils import index_column_name\n",
    "\n",
    "mpl.rcParams[\"font.weight\"] = \"normal\"\n",
    "mpl.rcParams[\"font.family\"] = \"Times New Roman\"\n",
    "\n",
    "\n",
    "# Notebook and Python environment systus.\n",
    "print(f'current working directory: {os.getcwd()}')\n",
    "print(f'Folder paths in system environment (Python): {sys.path}')"
   ]
  },
  {
   "cell_type": "markdown",
   "metadata": {},
   "source": [
    "# Plot Physical Particle Parameters "
   ]
  },
  {
   "cell_type": "markdown",
   "metadata": {},
   "source": [
    "#### Frequency Distribution "
   ]
  },
  {
   "cell_type": "markdown",
   "metadata": {},
   "source": [
    "Specify inputs:"
   ]
  },
  {
   "cell_type": "code",
   "execution_count": 2,
   "metadata": {},
   "outputs": [
    {
     "name": "stdout",
     "output_type": "stream",
     "text": [
      "Successfully loaded CSV file with shape (2214, 70).\n"
     ]
    },
    {
     "data": {
      "text/plain": [
       "Index(['Name', 'Area (ABD) (µm²)', 'Area (Filled) (µm²)', 'Aspect Ratio',\n",
       "       'Average Blue', 'Average Green', 'Average Red',\n",
       "       'Biovolume (Cylinder) (µm³)', 'Biovolume (P. Spheroid) (µm³)',\n",
       "       'Biovolume (Sphere) (µm³)', 'Calibration Factor', 'Calibration Image',\n",
       "       'Capture ID', 'Capture X (px)', 'Capture Y (px)', 'Ch1 Area',\n",
       "       'Ch1 Peak', 'Ch1 Width', 'Ch2 Area', 'Ch2 Peak', 'Ch2 Width',\n",
       "       'Ch2/Ch1 Ratio', 'Circle Fit', 'Circularity', 'Circularity (Hu)',\n",
       "       'Compactness', 'Convex Perimeter (µm)', 'Convexity', 'Date',\n",
       "       'Diameter (ABD) (µm)', 'Diameter (ESD) (µm)', 'Diameter (FD) (µm)',\n",
       "       'Edge Gradient', 'Elapsed Time (s)', 'Elongation',\n",
       "       'Feret Angle Max (°)', 'Feret Angle Min (°)', 'Fiber Curl',\n",
       "       'Fiber Straightness', 'Filter Score', 'Geodesic Aspect Ratio',\n",
       "       'Geodesic Length (µm)', 'Geodesic Thickness (µm)', 'Group ID',\n",
       "       'Image Height (px)', 'Image Width (px)', 'Intensity', 'Length (µm)',\n",
       "       'Particles Per Chain', 'Perimeter (µm)', 'Ratio Blue/Green',\n",
       "       'Ratio Red/Blue', 'Ratio Red/Green', 'Roughness', 'Sigma Intensity',\n",
       "       'Source Image', 'Sphere Complement (µm³)', 'Sphere Count',\n",
       "       'Sphere Unknown (µm³)', 'Sphere Volume (µm³)', 'Sqrt Circularity',\n",
       "       'Sum Intensity', 'Symmetry', 'Time', 'Timestamp', 'Transparency',\n",
       "       'UUID', 'Volume (ABD) (µm³)', 'Volume (ESD) (µm³)', 'Width (µm)'],\n",
       "      dtype='object')"
      ]
     },
     "execution_count": 2,
     "metadata": {},
     "output_type": "execute_result"
    }
   ],
   "source": [
    "file_path = '/Users/Daniel/Desktop/FlowcamData/P1444/Group\\ 1\\ Rev\\ 10/2024-10-29\\ P1444\\ Group\\ 1\\ Rev\\ 10\\ R01_PP2\\ exported.csv'.replace('\\\\','') # (str) Path to Data File\n",
    "\n",
    "# Load CSV file to DataFrame\n",
    "df = pd.read_csv(file_path, encoding=\"latin1\")\n",
    "print(f\"Successfully loaded CSV file with shape {df.shape}.\")\n",
    "\n",
    "df.columns"
   ]
  },
  {
   "cell_type": "markdown",
   "metadata": {},
   "source": [
    "Plotting Configurations"
   ]
  },
  {
   "cell_type": "code",
   "execution_count": 9,
   "metadata": {},
   "outputs": [
    {
     "name": "stdout",
     "output_type": "stream",
     "text": [
      "Multiple columns matched the guess 'Diameter':\n",
      "\t0: Diameter (ABD) (µm)\n",
      "\t1: Diameter (ESD) (µm)\n",
      "\t2: Diameter (FD) (µm)\n",
      "Multiple columns matched the guess 'Area':\n",
      "\t0: Area (ABD) (µm²)\n",
      "\t1: Area (Filled) (µm²)\n",
      "\t2: Ch1 Area\n",
      "\t3: Ch2 Area\n",
      "Selected x_col: Diameter (ABD) (µm), area_col: Area (ABD) (µm²).\n"
     ]
    }
   ],
   "source": [
    "# Plotting parameters:\n",
    "x_col = index_column_name(df, 'Diameter')\n",
    "area_col = index_column_name(df, 'Area')\n",
    "y_col = \"Cumulative Frequency\" # (str) Column name for the y_axis for the particle distribution, e.g., \"Cumulative Frequency\"\n",
    "bin_width = 5 # (float) The size of the bin width for particle and area distribution plots.\n",
    "print(f\"Selected x_col: {x_col}, area_col: {area_col}.\")\n",
    "\n",
    "# Plot Titles\n",
    "# parameter_distribution_title = f\"Particle Distrbution of {x_col}\" # (str) The title of the Particle Distribution Plot.\n",
    "# area_parameter_distribution_title = \"Area (µm²) Distribution\" # (str) The title of the Area Distribution Plot.\n",
    "\n",
    "# Specify output directories (if needed)\n",
    "output_filepath1 = None # Example filename: f\"particle_distrbution_{x_col}_{y_col}.png\" (not full file path)\n",
    "output_filepath2 = None # Example filename: \"area_distribution_{x_col}_{area_col}.png\"\n",
    "output_subplot = None # Example filename, \"distribution_subplots.png\""
   ]
  },
  {
   "cell_type": "markdown",
   "metadata": {},
   "source": [
    "Filter parameter column :"
   ]
  },
  {
   "cell_type": "code",
   "execution_count": 6,
   "metadata": {},
   "outputs": [
    {
     "name": "stdout",
     "output_type": "stream",
     "text": [
      "Filtering based on `Diameter (ABD) (µm)` Column, closed interval: [40, 110].\n"
     ]
    }
   ],
   "source": [
    "\n",
    "# Define the range \n",
    "lower_limit = 40\n",
    "upper_limit = 110\n",
    "\n",
    "print(f'Filtering based on `{x_col}` Column, closed interval: [{lower_limit}, {upper_limit}].')\n",
    "\n",
    "# Filter the DataFrame in place\n",
    "df.loc[:] = df.loc[\n",
    "    (df[x_col] >= lower_limit) & (df[x_col] <= upper_limit)\n",
    "]\n"
   ]
  },
  {
   "cell_type": "markdown",
   "metadata": {},
   "source": [
    "Calculate and add Columns to DataFrame "
   ]
  },
  {
   "cell_type": "code",
   "execution_count": 7,
   "metadata": {},
   "outputs": [
    {
     "name": "stderr",
     "output_type": "stream",
     "text": [
      "2024-12-11 13:33:01,786 - INFO - Adding frequency-related columns for 'Diameter (ABD) (µm)'.\n",
      "2024-12-11 13:33:01,806 - INFO - Frequency columns added successfully.\n"
     ]
    },
    {
     "name": "stdout",
     "output_type": "stream",
     "text": [
      "User selected 'Diameter' column. Calling build_diameter_metrics_dataframe.\n"
     ]
    }
   ],
   "source": [
    "def process_physical_parameter(\n",
    "    df, parameter_column, area_column=None\n",
    "):\n",
    "    \"\"\"\n",
    "    Process a user-selected physical parameter (e.g., diameter, circularity, aspect ratio).\n",
    "\n",
    "    Args:\n",
    "        df (pandas.DataFrame): The DataFrame containing the data to process.\n",
    "        parameter_column (str): The physical parameter chosen by the user.\n",
    "        area_column (str, optional): The name of the column containing particle \n",
    "            area for diameter calculation, if required. Defaults to None indicating Flowcam Dataset.\n",
    "\n",
    "    Returns:\n",
    "        pandas.DataFrame: The updated DataFrame with relevant metrics added.\n",
    "\n",
    "    Raises:\n",
    "        KeyError: If the required column for the chosen parameter is missing in the DataFrame.\n",
    "    \"\"\"\n",
    "    # Process diameter-specific logic\n",
    "    if \"diameter\" in parameter_column.lower():\n",
    "        print(\"User selected 'Diameter' column. Calling build_diameter_metrics_dataframe.\")\n",
    "        df, _ = build_diameter_metrics_dataframe(\n",
    "            df, target_column=parameter_column, area_col=area_column\n",
    "        )\n",
    "    else:\n",
    "        print(f\"User selected '{parameter_column}'. Calling add_frequency_stats_to_dataframe.\")\n",
    "        df, _ = add_frequency_stats_to_dataframe(df, parameter_column)\n",
    "\n",
    "    return df\n",
    "\n",
    "df = process_physical_parameter(df=df, parameter_column=x_col, area_column=None)"
   ]
  },
  {
   "cell_type": "code",
   "execution_count": 10,
   "metadata": {},
   "outputs": [
    {
     "data": {
      "image/png": "[encoded data removed]",
      "text/plain": [
       "<Figure size 640x480 with 2 Axes>"
      ]
     },
     "metadata": {},
     "output_type": "display_data"
    }
   ],
   "source": [
    "# Build Figure 1: particle distribution\n",
    "def plot_particle_frequency_distribution(\n",
    "        dataframe: pd.DataFrame,\n",
    "        parameter_column: str,\n",
    "        bin_width: float = 1,\n",
    "        plot_title: str = None,\n",
    "        output_path: str = None\n",
    ") -> plt.Figure:\n",
    "    \"\"\" \n",
    "    Creates a histogram and overlays a line plot based on a specified physical particle parameter \n",
    "    from the provided DataFrame. \n",
    "    \n",
    "    The histogram shows the count distribution of the particle parameter, while the scatter plot \n",
    "    displays the cumulative frequency percentage. The histogram is plotted on the primary y-axis, \n",
    "    and the scatter plot appears on the secondary y-axis.\n",
    "\n",
    "    Parameters:\n",
    "        dataframe (pd.DataFrame): Input DataFrame containing distribution data\n",
    "        parameter_column (str): Name of the column to visualize\n",
    "        bin_width (float, optional): Width of histogram bins. Defaults to 1.0.\n",
    "        plot_title (str, optional): Title for the plot. Defaults to None.\n",
    "        output_filepath (str, optional): Path to save the plot image. Defaults to None.\n",
    "\n",
    "    Returns:\n",
    "        plt.Figure: Matplotlib figure with the distribution plot\n",
    "    \"\"\"\n",
    "    # Validate input column\n",
    "    if parameter_column not in dataframe.columns:\n",
    "        raise ValueError(f\"The specified column '{parameter_column}' does not exist in the DataFrame.\")\n",
    "    \n",
    "    # Calculate histogram bin edges \n",
    "    bin_edges = np.arange(df[parameter_column].min(), df[parameter_column].max() + bin_width, bin_width)\n",
    "\n",
    "    # Calculate histogram counts\n",
    "    histogram_counts, _ = np.histogram(df[parameter_column], bins=bin_edges)\n",
    "\n",
    "    # Create figure and primary axis for count distribution\n",
    "    fig, primary_axis = plt.subplots()\n",
    "    primary_axis.hist(\n",
    "        x=bin_edges[:-1], \n",
    "        bins=bin_edges, \n",
    "        weights=histogram_counts,\n",
    "        edgecolor='white',\n",
    "        linewidth=1\n",
    "    )\n",
    "    # Set Primary axis labels and limits\n",
    "    primary_axis.set_ylabel('Particle Count')\n",
    "    primary_axis.set_xlabel(x_col) # Change x_col to be any \"string\"\n",
    "    primary_axis.set_xlim(left=0)\n",
    "    # primary_axis.set_xlim(right=1)\n",
    "\n",
    "    # Create Secondary axis for Cumulative Frequency (%)\n",
    "    secondary_axis = primary_axis.twinx()\n",
    "    secondary_axis.plot(\n",
    "        dataframe[parameter_column], \n",
    "        dataframe['Cumulative Frequency'], \n",
    "        color='red'\n",
    "    )\n",
    "    secondary_axis.set_ylabel('Cumulative Frequency (%)')\n",
    "    secondary_axis.set_ylim(0, 100.01)\n",
    "\n",
    "    # Set optional title\n",
    "    if plot_title:\n",
    "        plt.title(plot_title)\n",
    "    \n",
    "    # Save optional Figure \n",
    "    if output_path is not None:\n",
    "        plt.savefig(output_path, dpi=300)\n",
    "\n",
    "    return fig\n",
    "\n",
    "figure1 = plot_particle_frequency_distribution(df, x_col, bin_width=bin_width, plot_title=None, output_path=None)"
   ]
  },
  {
   "cell_type": "code",
   "execution_count": 14,
   "metadata": {},
   "outputs": [
    {
     "name": "stderr",
     "output_type": "stream",
     "text": [
      "2024-12-11 13:39:08,055 - INFO - Using 'Area (ABD) (µm²)' as the area column.\n"
     ]
    },
    {
     "data": {
      "image/png": "[encoded data removed]",
      "text/plain": [
       "<Figure size 640x480 with 2 Axes>"
      ]
     },
     "metadata": {},
     "output_type": "display_data"
    }
   ],
   "source": [
    "# # Build Figure 2: area distribution \n",
    "def plot_particle_area_distribution(\n",
    "        dataframe: pd.DataFrame, \n",
    "        parameter_column: str, \n",
    "        area_col: str = None,\n",
    "        bin_width: float = 1, \n",
    "        plot_title: str = None,\n",
    "        output_path: str = None \n",
    ") -> plt.Figure:\n",
    "    \"\"\"\n",
    "    Creates a histogram showing the area percentage distribution based on a specified physical particle parameter\n",
    "    from the provided data file. The plot overlays a line plot of the cumulative area percentage using the same parameter. \n",
    "    \n",
    "    The histogram is displayed on the primary y-axis, and the scatter plot appears on the secondary y-axis.\n",
    "\n",
    "    Parameters:\n",
    "        dataframe (pd.DataFrame): Input DataFrame containing distribution data\n",
    "        parameter_column (str): Name of the column to visualize\n",
    "        area_column (str, optional): Column for area percentage calculations. Defaults to None.\n",
    "        bin_width (float, optional): Width of histogram bins. Defaults to 1.0.\n",
    "        plot_title (str, optional): Title for the plot. Defaults to None.\n",
    "        output_filepath (str, optional): Path to save the plot image. Defaults to None.\n",
    "\n",
    "    Returns:\n",
    "        plt.Figure: Matplotlib figure with the distribution plot\n",
    "        \n",
    "    \"\"\"\n",
    "    # Validate input column\n",
    "    if parameter_column not in dataframe.columns:\n",
    "        raise ValueError(f\"The specified column '{parameter_column}' does not exist in the DataFrame.\")\n",
    "\n",
    "    # Calculate area percentage data using the specified x_col and area_col (or compute it if None)\n",
    "    area_col, bin_edges, area_percent_distribution, cumulative_area_percent = (\n",
    "            compute_bin_and_cumulative_area_percentages(\n",
    "            df,\n",
    "            target_column=parameter_column,\n",
    "            area_column=area_col,\n",
    "            bin_width=bin_width\n",
    "        )\n",
    "    )\n",
    "    \n",
    "    # Create plot\n",
    "    fig, primary_axis = plt.subplots()\n",
    "\n",
    "    # Primary axis: Area percentage  histogram\n",
    "    primary_axis.hist(\n",
    "        x=bin_edges[:-1], \n",
    "        bins=bin_edges, \n",
    "        weights=area_percent_distribution,\n",
    "        edgecolor='white',\n",
    "        linewidth=1,\n",
    "        # color=\"black\"\n",
    "    )\n",
    "    \n",
    "    primary_axis.set_ylabel('Binned Area Percent (%)')\n",
    "    primary_axis.set_xlabel(area_col) # Replace `area_col` to be any `string`\n",
    "    primary_axis.set_xlim(0,200)\n",
    "    primary_axis.set_ylim(0, 25)\n",
    "\n",
    "    # Secondary axis: Cumulative area percentage\n",
    "    secondary_axis = primary_axis.twinx()\n",
    "    secondary_axis.plot(bin_edges[:-1], cumulative_area_percent, color='red')\n",
    "    secondary_axis.set_ylabel('Cumulative Area Percent (%)')\n",
    "    secondary_axis.set_ylim(0, 100.01)\n",
    "\n",
    "    # Set title\n",
    "    if plot_title:\n",
    "        plt.title(plot_title)\n",
    "    \n",
    "    # Save Figure \n",
    "    if output_path is not None:\n",
    "        plt.savefig(output_path, dpi=300)\n",
    "\n",
    "    return fig\n",
    "\n",
    "# Call function, store in variable\n",
    "figure2 = plot_particle_area_distribution(\n",
    "    dataframe=df, \n",
    "    parameter_column=x_col, \n",
    "    area_col=area_col,\n",
    "    bin_width=bin_width,\n",
    "    plot_title=None, \n",
    "    output_path=None)"
   ]
  },
  {
   "cell_type": "code",
   "execution_count": 20,
   "metadata": {},
   "outputs": [
    {
     "ename": "NameError",
     "evalue": "name 'process_physical_parameter' is not defined",
     "output_type": "error",
     "traceback": [
      "\u001b[0;31m---------------------------------------------------------------------------\u001b[0m",
      "\u001b[0;31mNameError\u001b[0m                                 Traceback (most recent call last)",
      "Cell \u001b[0;32mIn[20], line 109\u001b[0m\n\u001b[1;32m    106\u001b[0m df3 \u001b[38;5;241m=\u001b[39m pd\u001b[38;5;241m.\u001b[39mread_csv(file3, encoding\u001b[38;5;241m=\u001b[39m\u001b[38;5;124m'\u001b[39m\u001b[38;5;124mlatin1\u001b[39m\u001b[38;5;124m'\u001b[39m)\n\u001b[1;32m    108\u001b[0m \u001b[38;5;66;03m# Process DataFrames: add columns for plotting\u001b[39;00m\n\u001b[0;32m--> 109\u001b[0m df1 \u001b[38;5;241m=\u001b[39m \u001b[43mprocess_physical_parameter\u001b[49m(df\u001b[38;5;241m=\u001b[39mdf1, parameter_column\u001b[38;5;241m=\u001b[39mx_col, area_column\u001b[38;5;241m=\u001b[39m\u001b[38;5;28;01mNone\u001b[39;00m)\n\u001b[1;32m    110\u001b[0m df2 \u001b[38;5;241m=\u001b[39m process_physical_parameter(df\u001b[38;5;241m=\u001b[39mdf2, parameter_column\u001b[38;5;241m=\u001b[39mx_col, area_column\u001b[38;5;241m=\u001b[39m\u001b[38;5;28;01mNone\u001b[39;00m)\n\u001b[1;32m    111\u001b[0m df3 \u001b[38;5;241m=\u001b[39m process_physical_parameter(df\u001b[38;5;241m=\u001b[39mdf3, parameter_column\u001b[38;5;241m=\u001b[39mx_col, area_column\u001b[38;5;241m=\u001b[39m\u001b[38;5;28;01mNone\u001b[39;00m)\n",
      "\u001b[0;31mNameError\u001b[0m: name 'process_physical_parameter' is not defined"
     ]
    }
   ],
   "source": [
    "def prepare_distribution_subplots(\n",
    "    dataframes: list[pd.DataFrame],\n",
    "    parameter_column: str,\n",
    "    area_col: str = None, \n",
    "    bin_width: float = 1,\n",
    "    plot_titles: list[str] = None,\n",
    "    output_path: str = None\n",
    "):\n",
    "    \"\"\"\n",
    "    Create side-by-side subplots visualizing distributions and cumulative statistics for multiple datasets.\n",
    "\n",
    "    Parameters:\n",
    "        dataframes (list[pd.DataFrame]): List of dataframes to visualize.\n",
    "        parameter_column (str): Column to analyze (e.g., \"diameter\").\n",
    "        area_col (str, optional): Column for area percentages; computed if None. Defaults to None.\n",
    "        bin_width (float, optional): Width of histogram bins. Defaults to 1.0.\n",
    "        plot_titles (list[str], optional): List of titles for each dataset's row. Defaults to None.\n",
    "        output_path (str, optional): Path to save the figure. Defaults to None.\n",
    "    \"\"\"\n",
    "    num_files = len(dataframes)\n",
    "    fig, axes = plt.subplots(num_files, 2, figsize=(10, 5 * num_files))\n",
    "\n",
    "    for idx, df in enumerate(dataframes):\n",
    "        # Calculate histogram data\n",
    "        histogram_counts, bin_edges = np.histogram(\n",
    "            df[parameter_column], \n",
    "            bins=np.arange(\n",
    "                df[parameter_column].min(),\n",
    "                df[parameter_column].max() + bin_width, \n",
    "                bin_width\n",
    "            )\n",
    "        )\n",
    "        \n",
    "        # Access axes for this row\n",
    "        ax1_primary, ax2_primary = axes[idx] if num_files > 1 else axes\n",
    "\n",
    "        # Left subplot (Particle count and cumulative frequency)\n",
    "        ax1_primary.hist(\n",
    "            x=bin_edges[:-1], \n",
    "            bins=bin_edges, \n",
    "            weights=histogram_counts,\n",
    "            edgecolor='white',\n",
    "            linewidth=1\n",
    "        )\n",
    "        ax1_primary.set_ylabel('Particle Count')\n",
    "        ax1_primary.set_xlabel(parameter_column)\n",
    "        ax1_primary.set_xlim(left=0)\n",
    "        ax1_primary.set_ylim(bottom=0)\n",
    "\n",
    "        ax1_secondary = ax1_primary.twinx()\n",
    "        ax1_secondary.plot(\n",
    "            df[parameter_column], \n",
    "            df['Cumulative Frequency'], \n",
    "            color='red'\n",
    "        )\n",
    "        ax1_secondary.set_ylabel('Cumulative Frequency (%)')\n",
    "        ax1_secondary.set_ylim(0, 100.01)\n",
    "\n",
    "        # Right subplot (Area percent and cumulative area percentage)\n",
    "        area_col, bin_edges, area_percent_distribution, cumulative_area_percent = (\n",
    "            compute_bin_and_cumulative_area_percentages(\n",
    "                df,\n",
    "                target_column=parameter_column,\n",
    "                area_column=area_col,\n",
    "                bin_width=bin_width\n",
    "            )\n",
    "        )\n",
    "\n",
    "        ax2_primary.hist(\n",
    "            x=bin_edges[:-1], \n",
    "            bins=bin_edges, \n",
    "            weights=area_percent_distribution,\n",
    "            edgecolor='white',\n",
    "            linewidth=1\n",
    "        )\n",
    "        ax2_primary.set_ylabel('Binned Area Percent (%)')\n",
    "        ax2_primary.set_xlabel(area_col)\n",
    "        ax2_primary.set_xlim(left=0)\n",
    "        ax2_primary.set_ylim(bottom=0)\n",
    "\n",
    "        ax2_secondary = ax2_primary.twinx()\n",
    "        ax2_secondary.plot(bin_edges[:-1], cumulative_area_percent, color='red')\n",
    "        ax2_secondary.set_ylabel('Cumulative Area Percent (%)')\n",
    "        ax2_secondary.set_ylim(0, 100.01)\n",
    "\n",
    "        # Add titles if provided\n",
    "        if plot_titles and idx < len(plot_titles):\n",
    "            ax1_primary.set_title(plot_titles[idx])\n",
    "\n",
    "    # Save optional figure\n",
    "    if output_path:\n",
    "        plt.savefig(output_path, dpi=300)\n",
    "\n",
    "    # Tighten layout and show\n",
    "    plt.tight_layout()\n",
    "    plt.show()\n",
    "\n",
    "# Example Usage\n",
    "# Define dile paths\n",
    "file1 = \"/Users/Daniel/Desktop/MorphologyData/Ti64 P2328/Group 4 Rev 1/2024-10-30 P2328 Group 4 Rev 1 R01 PP1 exported.csv\"\n",
    "file2 = \"/Users/Daniel/Desktop/MorphologyData/P1444/Group 3 Rev 5/2024-10-30 P1444 Group 3 Rev 5 R02 PP1 exported.csv\"\n",
    "file3 = \"/Users/Daniel/Desktop/MorphologyData/P1444/Group 1 Rev 10/2024-10-29 P1444 Group 1 Rev 10 R01_PP2 exported.csv\"\n",
    "# Define DataFrames\n",
    "df1 = pd.read_csv(file1, encoding='latin1')\n",
    "df2 = pd.read_csv(file2, encoding='latin1')\n",
    "df3 = pd.read_csv(file3, encoding='latin1')\n",
    "\n",
    "# Process DataFrames: add columns for plotting\n",
    "df1 = process_physical_parameter(df=df1, parameter_column=x_col, area_column=None)\n",
    "df2 = process_physical_parameter(df=df2, parameter_column=x_col, area_column=None)\n",
    "df3 = process_physical_parameter(df=df3, parameter_column=x_col, area_column=None)\n",
    "\n",
    "# Establish list of DataFrames to plot\n",
    "dataframes = [df1, df2, df3]  # Replace with actual DataFrames\n",
    "\n",
    "prepare_distribution_subplots(\n",
    "    dataframes=dataframes, # Change to [df1] if one dataframe is desired\n",
    "    parameter_column=x_col,\n",
    "    area_col=area_col,\n",
    "    bin_width=bin_width,\n",
    "    plot_titles=[\"File 1\", \"File 2\", \"File 3\"],\n",
    "    output_path=None # example: \"combined_plot.png\"\n",
    ")\n",
    "\n"
   ]
  },
  {
   "cell_type": "markdown",
   "metadata": {},
   "source": [
    "### Plot for Average Physical Parameter across Build Cycles"
   ]
  },
  {
   "cell_type": "code",
   "execution_count": 17,
   "metadata": {},
   "outputs": [
    {
     "name": "stdout",
     "output_type": "stream",
     "text": [
      "Index(['Name', 'Area (ABD) (ÂµmÂ²)', 'Area (Filled) (ÂµmÂ²)', 'Aspect Ratio',\n",
      "       'Average Blue', 'Average Green', 'Average Red',\n",
      "       'Biovolume (Cylinder) (ÂµmÂ³)', 'Biovolume (P. Spheroid) (ÂµmÂ³)',\n",
      "       'Biovolume (Sphere) (ÂµmÂ³)', 'Calibration Factor', 'Calibration Image',\n",
      "       'Capture ID', 'Capture X (px)', 'Capture Y (px)', 'Ch1 Area',\n",
      "       'Ch1 Peak', 'Ch1 Width', 'Ch2 Area', 'Ch2 Peak', 'Ch2 Width',\n",
      "       'Ch2/Ch1 Ratio', 'Circle Fit', 'Circularity', 'Circularity (Hu)',\n",
      "       'Compactness', 'Convex Perimeter (Âµm)', 'Convexity', 'Date',\n",
      "       'Diameter (ABD) (Âµm)', 'Diameter (ESD) (Âµm)', 'Diameter (FD) (Âµm)',\n",
      "       'Edge Gradient', 'Elapsed Time (s)', 'Elongation',\n",
      "       'Feret Angle Max (Â°)', 'Feret Angle Min (Â°)', 'Fiber Curl',\n",
      "       'Fiber Straightness', 'Filter Score', 'Geodesic Aspect Ratio',\n",
      "       'Geodesic Length (Âµm)', 'Geodesic Thickness (Âµm)', 'Group ID',\n",
      "       'Image Height (px)', 'Image Width (px)', 'Intensity', 'Length (Âµm)',\n",
      "       'Particles Per Chain', 'Perimeter (Âµm)', 'Ratio Blue/Green',\n",
      "       'Ratio Red/Blue', 'Ratio Red/Green', 'Roughness', 'Sigma Intensity',\n",
      "       'Source Image', 'Sphere Complement (ÂµmÂ³)', 'Sphere Count',\n",
      "       'Sphere Unknown (ÂµmÂ³)', 'Sphere Volume (ÂµmÂ³)', 'Sqrt Circularity',\n",
      "       'Sum Intensity', 'Symmetry', 'Time', 'Timestamp', 'Transparency',\n",
      "       'UUID', 'Volume (ABD) (ÂµmÂ³)', 'Volume (ESD) (ÂµmÂ³)', 'Width (Âµm)'],\n",
      "      dtype='object')\n"
     ]
    },
    {
     "data": {
      "image/png": "[encoded data removed]",
      "text/plain": [
       "<Figure size 600x400 with 1 Axes>"
      ]
     },
     "metadata": {},
     "output_type": "display_data"
    }
   ],
   "source": [
    "# Create plot \n",
    "def plot_average_data(\n",
    "        df: pd.DataFrame,\n",
    "        x_col: str, \n",
    "        y_col: tuple[str, str],\n",
    "        filter_column: str = None,\n",
    "        lower_limit: float = 40, \n",
    "        upper_limit: float = 110, \n",
    "        title: str = None,\n",
    "        figsize: tuple = (6, 4),\n",
    "        data_label: str = None,\n",
    "        color: str = 'b',\n",
    "        line_width: float = 2,\n",
    "        x_limits: tuple[float, float] = (0,11),\n",
    "        y_limits: tuple[float, float] = (0,80),\n",
    "        \n",
    ") -> plt.Figure:\n",
    "    \n",
    "    \"\"\"\n",
    "    Preprocess the data from Flowcam Export CSV file and plot average values with error bars.\n",
    "\n",
    "    Parameters:\n",
    "        df (pd.DataFrame): Input DataFrame containing data to plot.\n",
    "        x_col (str): Column name for x-axis values.\n",
    "        y_col (tuple[str, str]): Tuple where the first element is the column name for y-axis values,\n",
    "                                 and the second is the label for the y-axis.\n",
    "        filter_column (str, optional): The column name to apply filtering on (i.e., 'Diameter (ABD) (Âµm)'). Defaults to None.\n",
    "        lower_limit (float, optional): The lower limit for filtering the data. Defaults to None.\n",
    "        upper_limit (float, optional): The upper limit for filtering the data. Defaults to None.                   \n",
    "        title (str, optional): Plot title. Defaults to None.\n",
    "        figsize (tuple, optional): Figure size in inches (width, height). Defaults to (6, 4).\n",
    "        label (str, optional): Label for the data series. Defaults to None.\n",
    "        color (str, optional): Line color for the plot. Defaults to 'b' (blue).\n",
    "        line_width (float, optional): Line width of the plot. Defaults to 2.\n",
    "        x_limits (tuple[float], optional): Limits for the x-axis. Defaults to (0, 11).\n",
    "        y_limits (tuple[float], optional): Limits for the y-axis. Defaults to (0, 80).\n",
    "\n",
    "    Returns:\n",
    "        plt.Figure: The Matplotlib Figure object of the plot.\n",
    "    \"\"\"\n",
    "    # Apply filtering if limits are provided\n",
    "    if (filter_column is not None) and (lower_limit is not None) and (upper_limit is not None):\n",
    "        if filter_column not in df.columns:\n",
    "            raise KeyError(f\"Filter column '{filter_column}' does not exist in the DataFrame.\")\n",
    "     # Filter the DataFrame based upon y-axis column ranges\n",
    "        df = df.loc[(df[filter_column] >= lower_limit) & \n",
    "            (df[filter_column] <= upper_limit)].copy()\n",
    "\n",
    "    # Extract 'Rev' number and cast to float\n",
    "    df['Rev'] = df['Name'].str.extract(r'Rev (\\d+)').astype(float)\n",
    "    \n",
    "    # Group by 'Rev' and calculate mean and std\n",
    "    grouped = df.groupby('Rev')\n",
    "    mean_df = grouped.mean().reset_index()\n",
    "    std_df = grouped.std().reset_index()\n",
    "\n",
    "    # Combine mean and std into a single DataFrame\n",
    "    mean_key = 'Mean'\n",
    "    error_key = 'Std'\n",
    "    processed_df = pd.concat([mean_df, std_df], axis=1, keys=[mean_key, error_key])\n",
    "\n",
    "    # Ensure necessary MultiIndex columns exist\n",
    "    multindex_combinations = [(mean_key, x_col), (mean_key, y_col[0]), (error_key, x_col), (error_key, y_col[0])]\n",
    "    if any(tuple(col) not in processed_df for col in multindex_combinations):\n",
    "        raise ValueError(f\"Missing required columns in DataFrame: {multindex_combinations}\")\n",
    "    \n",
    "    # Sort values by the x_col (e.g., `Rev`) to ensure consistent plotting\n",
    "    processed_df[mean_key]  = processed_df[mean_key].copy().sort_values(by=\"Rev\", ignore_index=True)\n",
    "    \n",
    "    # Extract relevant data\n",
    "    x = processed_df[mean_key][x_col]\n",
    "    y = processed_df[mean_key][y_col[0]]\n",
    "    y_error = processed_df[error_key][y_col[0]]\n",
    "\n",
    "    # Initialize figure and axes\n",
    "    fig, ax = plt.subplots(figsize=figsize)\n",
    "   \n",
    "    # Add data to axes with error bars\n",
    "    ax.errorbar(\n",
    "        x, y, \n",
    "        yerr=y_error,\n",
    "        label= data_label,\n",
    "        fmt='o',\n",
    "        color=color,\n",
    "        linewidth=line_width,\n",
    "        capsize=2,\n",
    "        ecolor='red', # Change color for error bars\n",
    "        elinewidth=1\n",
    "    )\n",
    "\n",
    "    # Customize axes and labels\n",
    "    ax.set_ylim(y_limits)\n",
    "    ax.set_xlim(x_limits)\n",
    "    ax.set_xlabel(\"Build Cycle\" if x_col == 'Rev' else x_col)\n",
    "    ax.set_ylabel(y_col[1])\n",
    "\n",
    "    # Add title and legend if provided\n",
    "    if title:\n",
    "        ax.set_title(title)\n",
    "    if data_label:\n",
    "        ax.legend()\n",
    "\n",
    "    plt.show()\n",
    "    return fig\n",
    "\n",
    "\n",
    "# Load file and store as pandas DataFrame\n",
    "morphology_file = \"/Users/Daniel/Desktop/MorphologyData/selected_combined_flowcam_output.csv\"\n",
    "morphology_df = pd.read_csv(morphology_file, encoding=\"latin1\")\n",
    "print(morphology_df.columns) # view column names \n",
    "\n",
    "# Make the plot\n",
    "figure6 = plot_average_data(\n",
    "    morphology_df, \n",
    "    x_col='Rev',\n",
    "    y_col=('Diameter (ABD) (Âµm)','Average Diameter (ABD) (µm)'), # column name : Alias\n",
    "    title=None,\n",
    "    color='black',\n",
    "    filter_column='Diameter (ABD) (Âµm)',\n",
    "    lower_limit=40,\n",
    "    upper_limit=110,\n",
    "    )\n",
    "\n"
   ]
  },
  {
   "cell_type": "code",
   "execution_count": 19,
   "metadata": {},
   "outputs": [
    {
     "data": {
      "image/png": "[encoded data removed]",
      "text/plain": [
       "<Figure size 600x400 with 1 Axes>"
      ]
     },
     "metadata": {},
     "output_type": "display_data"
    },
    {
     "data": {
      "image/png": "[encoded data removed]",
      "text/plain": [
       "<Figure size 600x400 with 1 Axes>"
      ]
     },
     "metadata": {},
     "output_type": "display_data"
    },
    {
     "data": {
      "image/png": "[encoded data removed]",
      "text/plain": [
       "<Figure size 600x400 with 1 Axes>"
      ]
     },
     "metadata": {},
     "output_type": "display_data"
    },
    {
     "data": {
      "image/png": "[encoded data removed]",
      "text/plain": [
       "<Figure size 600x400 with 1 Axes>"
      ]
     },
     "metadata": {},
     "output_type": "display_data"
    }
   ],
   "source": [
    "parameter_tuples = [\n",
    "    (('Circularity','Average Circularity'), ((0,1.0))), \n",
    "    (('Aspect Ratio','Average Aspect Ratio'), (0,1.05)),\n",
    "    (('Elongation','Average Elongation'), (0,2.0)),\n",
    "    (('Roughness','Average Roughness'), (0,1.2))\n",
    "    ]\n",
    "\n",
    "\n",
    "for param, y_limit in parameter_tuples:\n",
    "    figure7 = plot_average_data(\n",
    "    morphology_df, \n",
    "    x_col='Rev',\n",
    "    y_col=param, # column name : Alias\n",
    "    title=None,\n",
    "    color='black',\n",
    "    filter_column='Diameter (ABD) (Âµm)',\n",
    "    lower_limit=40,\n",
    "    upper_limit=110,\n",
    "    y_limits=y_limit\n",
    "    )"
   ]
  },
  {
   "cell_type": "markdown",
   "metadata": {},
   "source": []
  },
  {
   "cell_type": "markdown",
   "metadata": {},
   "source": [
    "# Plot Chemical Content"
   ]
  },
  {
   "cell_type": "markdown",
   "metadata": {},
   "source": [
    "Load plotting configuration dictionaries:"
   ]
  },
  {
   "cell_type": "code",
   "execution_count": 18,
   "metadata": {},
   "outputs": [],
   "source": [
    "\n",
    "# Load the lot_dict from the JSON file \n",
    "lot_data_file = '/path/to/alm_ortho_powder_reuse_lot_configurations.json'  # Dictionary for reused lots\n",
    "with open(lot_data_file, 'r') as f:\n",
    "    lot_config_dictionary = json.load(f)\n",
    "\n",
    "# Dictionary for Element specific configurations      \n",
    "elements_config_dictionary = {\n",
    "    \"Oxygen\": {\n",
    "        \"name\": \"Oxygen (wt%)\",            # Y-axis label\n",
    "        \"y_range\": (0, 0.3),               # Example Y-axis range\n",
    "    },\n",
    "    \"Aluminum\": {\n",
    "        \"name\": \"Aluminum (wt%)\",          # Y-axis label\n",
    "        \"y_range\": (0, 7),                 # Example Y-axis range\n",
    "    },\n",
    "    \"Iron\": {\n",
    "        \"name\": \"Iron (wt%)\",              # Y-axis label\n",
    "        \"y_range\": (0, 0.3),               # Example Y-axis range\n",
    "    },\n",
    "    \"Vanadium\": {\n",
    "        \"name\": \"Vanadium (wt%)\",          # Y-axis label\n",
    "        \"y_range\": (0, 4.5),               # Example Y-axis range\n",
    "    },\n",
    "}\n"
   ]
  },
  {
   "cell_type": "markdown",
   "metadata": {},
   "source": [
    "```python\n",
    "# Accessing data for a specific lot (e.g., P1444)\n",
    "lot_data = lot_config_dictionary['P1444']\n",
    "print(f\"Alias: {lot_data['alias']}\")\n",
    "print(f\"Color: {lot_data['color']['name']}\")\n",
    "print(f\"Marker Style: {lot_data.get('marker', {}).get('style', 'N/A')}\") \n",
    "# Alternatively, to access the Marker Style:\n",
    "print(f\"Marker Style: {lot_config_dictionary['P1444']['marker']['style']}\")\n",
    "```"
   ]
  },
  {
   "cell_type": "markdown",
   "metadata": {},
   "source": [
    "Define Functions:"
   ]
  },
  {
   "cell_type": "code",
   "execution_count": 25,
   "metadata": {},
   "outputs": [],
   "source": [
    "# Helper Function\n",
    "def initialize_fig(fig: plt.Figure = None, figsize: tuple[float, float] = None):\n",
    "    \"\"\"\n",
    "    Initialize or retrieve a Matplotlib figure and its first axis.\n",
    "\n",
    "    If no figure is provided, this function creates a new figure with a single axis.\n",
    "    If a figure is provided, it retrieves the first axis of that figure.\n",
    "\n",
    "    Parameters:\n",
    "        fig (matplotlib.figure.Figure, optional): An existing Matplotlib figure. Defaults to None.\n",
    "        figsize (tuple[float, float], optional): The size of the figure in inches as (width, height). \n",
    "            Default is None, meaning Matplotlib assigns a default size based on `rcParams[\"figure.figsize\"]`.\n",
    "\n",
    "    Returns:\n",
    "        tuple: A tuple containing the Matplotlib figure (fig) and its first axis (ax).\n",
    "    \"\"\"\n",
    "    # Guard clause to initialize fig and ax if not provided\n",
    "    if fig is None:\n",
    "        fig, ax = plt.subplots(figsize)\n",
    "    else:\n",
    "        ax = fig.axes[0]\n",
    "    return fig, ax\n",
    "\n",
    "\n",
    "\n",
    "def compute_and_plot_avg(\n",
    "        df: pd.DataFrame, \n",
    "        element: str, \n",
    "        fig: plt.Figure = None,\n",
    "        line_style: str = '--',\n",
    "        line_color: str = 'black',\n",
    "        line_width: float = 2,\n",
    "        line_alpha: float = 0.7,  # Add alpha for transparency\n",
    ") -> plt.Figure:\n",
    "    \"\"\"\n",
    "    Compute and plot the average linear trend line for a given element.\n",
    "    \n",
    "    Parameters:\n",
    "        df (pd.DataFrame): DataFrame containing the data.\n",
    "        element (str): The name of the column for the dependent variable (e.g., \"Oxygen (wt%)\").\n",
    "        fig (plt.Figure, optional): An existing matplotlib figure to plot on. Defaults to None.\n",
    "        line_style (str, optional): Line style for the trend line. Defaults to '--'.\n",
    "        line_color (str, optional): Color of the trend line. Defaults to 'black'.\n",
    "        line_width (float, optional): Width of the trend line. Defaults to 2.\n",
    "        line_alpha (float, optional): Transparency of the trend line. Defaults to 0.7.\n",
    "    \n",
    "    Returns:\n",
    "        plt.Figure: The figure object with the average trend line plotted.\n",
    "    \"\"\"\n",
    "    # call guard clause to initialize fig and ax if not provided\n",
    "    fig, ax = initialize_fig(fig=fig, figsize=None)\n",
    "\n",
    "    # Compute the linear fit\n",
    "    x_values = df['Rev']        # build cycles\n",
    "    poly_fit = np.polyfit(x_values, df[element], 1)\n",
    "    y_fit = np.poly1d(poly_fit)(x_values)\n",
    "\n",
    "    print(f\"Average function: {np.poly1d(poly_fit)}\")\n",
    "\n",
    "    # Plot the trend line\n",
    "    ax.plot(\n",
    "        x_values, y_fit,\n",
    "        label=f'Average Linear fit: slope={poly_fit[0]:.4f}, y-int={poly_fit[1]:.4f}',\n",
    "        linestyle=line_style, linewidth=line_width, color=line_color,\n",
    "        alpha=line_alpha, zorder=10  # Add transparency and ensure line is on top\n",
    "    )\n",
    "    return fig\n",
    "\n",
    "\n",
    "\n",
    "def plot_lot_linear_fit(\n",
    "        x:pd.Series,\n",
    "        y:pd.Series,\n",
    "        fig:plt.Figure,\n",
    "        line_color: str = 'black',\n",
    "        line_width: float = 2,\n",
    "        set_label: str = None\n",
    ")-> plt.Figure:\n",
    "\n",
    "    \"\"\"\n",
    "    Compute and plot a linear trend line for a given individual Reuse powder lot describing how an element changes with build cycle.\n",
    "\n",
    "    Parameters:\n",
    "        x (pd.Series): The name of the column for the independent variable (e.g., \"Rev\").\n",
    "        y (pd.Series): The name of the column for the dependent variable (e.g., \"Oxygen (wt%)\").\n",
    "        fig (plt.Figure): An existing matplotlib figure to plot on.\n",
    "        line_style (str, optional): Line style for the trend line. Defaults to '--'.\n",
    "        line_color (str, optional): Color of the trend line. Defaults to 'black'.\n",
    "        line_width (float, optional): Width of the trend line. Defaults to 2.\n",
    "    \n",
    "    Returns:\n",
    "        plt.Figure: The figure object with the individual lot trend line plotted.\n",
    "    \"\"\"\n",
    "    # call guard clause to initialize fig and ax if not provided\n",
    "    fig, ax = initialize_fig(fig=fig, figsize=None)\n",
    "\n",
    "    # Preform linear fir\n",
    "    coef = np.polyfit(x,y,1)  \n",
    "    trend_line = np.poly1d(coef)\n",
    "    y_fit  = trend_line(x)\n",
    "\n",
    "    # Use np.corrcoef to calculate Pearson correlation coefficient\n",
    "    correlation_matrix = np.corrcoef(y, y_fit)\n",
    "    r = correlation_matrix[0, 1]  # Extract the correlation coefficient\n",
    "    r_squared = r**2  # Square it to get R^2\n",
    "\n",
    "    print(f\"\\tFunction\", trend_line)\n",
    "    print(f\"\\tR^2: {r_squared}\")\n",
    "\n",
    "    ax.plot(\n",
    "            x, y_fit, \n",
    "            label=set_label, #f'Lot {lot} Linear Fit Data - r^2: {r_squared:.4f}',\n",
    "            linewidth=line_width, \n",
    "            color=line_color,\n",
    "    )\n",
    "    return fig\n",
    "\n",
    "\n",
    "\n",
    "def plot_threshold(\n",
    "        y:float, \n",
    "        xmin:float , \n",
    "        xmax:float, \n",
    "        fig:plt.Figure=None, \n",
    "        color: str='r', \n",
    "        line_style:str ='--'\n",
    ") -> plt.Figure:\n",
    "\n",
    "    # call guard clause to initialize fig and ax if not provided\n",
    "    fig, ax = initialize_fig(fig=fig, figsize=None)\n",
    "    \n",
    "    ax.axhline(y=y, xmin=xmin, xmax=xmax, color=color, linestyle=line_style)\n",
    "    return fig\n",
    "\n",
    "\n",
    "\n",
    "def prepare_element_plot(\n",
    "        df: pd.DataFrame, \n",
    "        element_names: list[str],\n",
    "        styling_dict: dict,\n",
    "        elements_dict: dict,\n",
    "        avg_callback: callable = None,  \n",
    "        add_lot_linearfit: callable = None,\n",
    "        threshold_callback: callable = None,\n",
    "        min_length: int = 2,\n",
    "        line_width: int = 2, \n",
    "        font_size: int = 14,\n",
    "        show_legend: tuple[bool, bool] = (True, True),\n",
    "        plot_title: str = None\n",
    ") -> plt.Figure:\n",
    "    \"\"\"\n",
    "    Prepare plots for multiple elements' data, including optional average and individual lot trend lines.\n",
    "\n",
    "    Parameters:\n",
    "        df (pd.DataFrame): Input DataFrame containing the data to be plotted.\n",
    "        element_names (list[str]): List of column names for the elements to plot.\n",
    "        styling_dict (dict): A dictionary with lot-specific styles (e.g., colors, markers).\n",
    "        elements_dict (dict): A dictionary containing element-specific properties \n",
    "                              (e.g., column names, y_range, x_range) for each element.\n",
    "        avg_callback (callable, optional): Callback function to compute and plot the average trend line. Defaults to None.\n",
    "        add_lot_linearfit (callable, optional): Callback function to compute and plot individual lot linear fits. Defaults to None.\n",
    "        threshold_callback (callable, optional): Callback function to add threshold lines to the plot. Defaults to None.\n",
    "        min_length (int, optional): Minimum unique build cycles required for a lot to be plotted. Defaults to 2.\n",
    "        line_width (int, optional): Line width for scatter and trend lines. Defaults to 2.\n",
    "        font_size (int, optional): Font size for plot labels and titles. Defaults to 14.\n",
    "        show_legend (tuple[bool, bool], optional): A tuple with two flags: \n",
    "            - First flag determines if the average trend line legend is shown.\n",
    "            - Second flag determines if the lot-specific legends are shown. Defaults to (True, True).\n",
    "        plot_title (str, optional): Title for the plot. Defaults to None.\n",
    "\n",
    "    Returns:\n",
    "        plt.Figure: The generated matplotlib figure.\n",
    "    \"\"\"\n",
    "    # Set global plotting parameters\n",
    "    plt.rcParams['font.size'] = font_size\n",
    "    plt.rcParams['lines.dash_capstyle'] = 'butt'\n",
    "\n",
    "    # Initialize figure and axes\n",
    "    fig, ax = plt.subplots(figsize=(10,6))\n",
    "    \n",
    "    # Set x-axis label and limits\n",
    "    ax.set_xlabel(\"Build Cycles\")\n",
    "    ax.set_xlim(0, 10.5) # Fixed x_axis range\n",
    "\n",
    "    # Initialize y_max to store the highest y limit\n",
    "    y_max = 0  # Start with 0\n",
    "\n",
    "    # Loop through the elements to gather their y_range and compute the max y_limit\n",
    "    for element_name in element_names:\n",
    "        element_info = elements_config_dictionary[element_name]\n",
    "        y_range = element_info[\"y_range\"]\n",
    "\n",
    "        # Check the top y limit and update y_max\n",
    "        y_max = max(y_max, y_range[1])\n",
    "\n",
    "    # Set the y-axis limits (bottom=0 and top as the rounded max y_max)\n",
    "    ax.set_ylim(0, round(y_max, 2))  # Round to 2 decimal places\n",
    "\n",
    "    # Set the y-axis label\n",
    "    if len(element_names) == 1:\n",
    "        ax.set_ylabel(element_names[0])\n",
    "    else:\n",
    "        ax.set_ylabel(\"Element Compositions (wt%)\")\n",
    "    \n",
    "    # Sort the DataFrame by build cycles\n",
    "    df.sort_values(by='Rev', inplace=True)\n",
    "\n",
    "    for element_name in element_names:\n",
    "        # Access element-specific properties\n",
    "        element_info = elements_dict[element_name]\n",
    "        col_name = element_info[\"name\"]\n",
    "\n",
    "        print(f\"Processing element: {col_name}\")\n",
    "        \n",
    "        # Group data by lot and plot each lot's data\n",
    "        for lot, lot_data in df.groupby('Lot'):\n",
    "            unique_build_cycles = lot_data['Rev'].unique()\n",
    "            if len(unique_build_cycles) > min_length:\n",
    "                x, y = lot_data['Rev'], lot_data[col_name]\n",
    "                print(f\"\\t+ {lot}, added ({len(unique_build_cycles)} build cycles).\")\n",
    "                ax.scatter(\n",
    "                    x, y, \n",
    "                    label=f'Lot {lot}' if show_legend[1] else None,\n",
    "                    marker=styling_dict[lot][\"marker\"][\"style\"],\n",
    "                    linewidth=line_width,\n",
    "                    color=styling_dict[lot]['color']['rgb_norm'],\n",
    "                )\n",
    "                if add_lot_linearfit:\n",
    "                    fig = add_lot_linearfit(\n",
    "                        x, y, fig,\n",
    "                        line_color=styling_dict[lot]['color']['rgb_norm'],\n",
    "                        line_width=line_width\n",
    "                    )\n",
    "                \n",
    "            else:\n",
    "                print(f\"\\t- {lot}, insufficient build cycles ({len(unique_build_cycles)}).\")\n",
    "\n",
    "        # Add average trend line\n",
    "        if avg_callback:\n",
    "            avg_callback(df, col_name, fig, \n",
    "                        line_style=(0, (3, 8, 3, 10)), \n",
    "                        line_alpha=0.9)\n",
    "\n",
    "    # Add threshold horizontal line if callback is provided\n",
    "    if threshold_callback:\n",
    "        threshold_callback(y=0.20, xmin=0, xmax=11, fig=fig)\n",
    "\n",
    "    # Set y-axis label\n",
    "    if len(element_names) == 1:\n",
    "        ax.set_ylabel(col_name)\n",
    "    else:\n",
    "        ax.set_ylabel(\"Element Compositions (wt%)\") #  \"Major Elements (wt%)\"\n",
    "\n",
    "    # Show legend and title if specified\n",
    "    if show_legend[0]:\n",
    "        plt.legend()\n",
    "    if plot_title:\n",
    "        plt.title(plot_title)\n",
    "\n",
    "    return fig\n",
    "\n"
   ]
  },
  {
   "cell_type": "markdown",
   "metadata": {},
   "source": [
    "Example:  \n",
    "```python\n",
    "# Load CSV as DataFrame\n",
    "chemistry_dataframe = pd.read_csv('/path/to/Merged_Element_Composition_Tables.csv', encoding=\"latin1\")\n",
    "\n",
    "# Plot the element data \n",
    "figure = prepare_element_plot(\n",
    "    df=chemistry_df, \n",
    "    element_names=[\"Oxygen\"],\n",
    "    styling_dict=lot_config_dictionary, \n",
    "    elements_dict=elements_config_dictionary,\n",
    "    avg_callback=compute_and_plot_avg,\n",
    "    add_lot_linearfit=plot_lot_linear_fit,\n",
    "    threshold_callback=None,\n",
    "    show_legend= (True,False),\n",
    "    plot_title=None\n",
    ")\n",
    "# Show Figure\n",
    "figure.show()\n",
    "```"
   ]
  },
  {
   "cell_type": "markdown",
   "metadata": {},
   "source": [
    "Note:\n",
    "    see [here](https://community.plotly.com/t/plotly-colours-list/11730) for plotly colors. "
   ]
  },
  {
   "cell_type": "code",
   "execution_count": 24,
   "metadata": {},
   "outputs": [
    {
     "ename": "ValueError",
     "evalue": "Key lines.dash_capstyle: Unrecognized capstyle string \"but\": valid strings are ['butt', 'round', 'projecting']",
     "output_type": "error",
     "traceback": [
      "\u001b[0;31m---------------------------------------------------------------------------\u001b[0m",
      "\u001b[0;31mValueError\u001b[0m                                Traceback (most recent call last)",
      "File \u001b[0;32m/opt/anaconda3/envs/imageprocessing-py-dev/lib/python3.9/site-packages/matplotlib/__init__.py:924\u001b[0m, in \u001b[0;36mRcParams.__setitem__\u001b[0;34m(self, key, val)\u001b[0m\n\u001b[1;32m    923\u001b[0m \u001b[38;5;28;01mtry\u001b[39;00m:\n\u001b[0;32m--> 924\u001b[0m     cval \u001b[38;5;241m=\u001b[39m \u001b[38;5;28;43mself\u001b[39;49m\u001b[38;5;241;43m.\u001b[39;49m\u001b[43mvalidate\u001b[49m\u001b[43m[\u001b[49m\u001b[43mkey\u001b[49m\u001b[43m]\u001b[49m\u001b[43m(\u001b[49m\u001b[43mval\u001b[49m\u001b[43m)\u001b[49m\n\u001b[1;32m    925\u001b[0m \u001b[38;5;28;01mexcept\u001b[39;00m \u001b[38;5;167;01mValueError\u001b[39;00m \u001b[38;5;28;01mas\u001b[39;00m ve:\n",
      "File \u001b[0;32m/opt/anaconda3/envs/imageprocessing-py-dev/lib/python3.9/site-packages/matplotlib/rcsetup.py:73\u001b[0m, in \u001b[0;36mValidateInStrings.__call__\u001b[0;34m(self, s)\u001b[0m\n\u001b[1;32m     72\u001b[0m     \u001b[38;5;28;01mreturn\u001b[39;00m \u001b[38;5;28mself\u001b[39m\u001b[38;5;241m.\u001b[39mvalid[s]\n\u001b[0;32m---> 73\u001b[0m \u001b[38;5;28;01mraise\u001b[39;00m \u001b[38;5;167;01mValueError\u001b[39;00m(\u001b[38;5;124m'\u001b[39m\u001b[38;5;124mUnrecognized \u001b[39m\u001b[38;5;132;01m%s\u001b[39;00m\u001b[38;5;124m string \u001b[39m\u001b[38;5;124m\"\u001b[39m\u001b[38;5;132;01m%s\u001b[39;00m\u001b[38;5;124m\"\u001b[39m\u001b[38;5;124m: valid strings are \u001b[39m\u001b[38;5;132;01m%s\u001b[39;00m\u001b[38;5;124m'\u001b[39m\n\u001b[1;32m     74\u001b[0m                  \u001b[38;5;241m%\u001b[39m (\u001b[38;5;28mself\u001b[39m\u001b[38;5;241m.\u001b[39mkey, s, \u001b[38;5;28mlist\u001b[39m(six\u001b[38;5;241m.\u001b[39mitervalues(\u001b[38;5;28mself\u001b[39m\u001b[38;5;241m.\u001b[39mvalid))))\n",
      "\u001b[0;31mValueError\u001b[0m: Unrecognized capstyle string \"but\": valid strings are ['butt', 'round', 'projecting']",
      "\nDuring handling of the above exception, another exception occurred:\n",
      "\u001b[0;31mValueError\u001b[0m                                Traceback (most recent call last)",
      "Cell \u001b[0;32mIn[24], line 6\u001b[0m\n\u001b[1;32m      3\u001b[0m chemistry_df \u001b[38;5;241m=\u001b[39m pd\u001b[38;5;241m.\u001b[39mread_csv(filepath_or_buffer\u001b[38;5;241m=\u001b[39mchemistry_datafile,encoding\u001b[38;5;241m=\u001b[39m\u001b[38;5;124m'\u001b[39m\u001b[38;5;124mlatin1\u001b[39m\u001b[38;5;124m'\u001b[39m)\n\u001b[1;32m      5\u001b[0m \u001b[38;5;66;03m# Make Plot\u001b[39;00m\n\u001b[0;32m----> 6\u001b[0m figure1 \u001b[38;5;241m=\u001b[39m \u001b[43mprepare_element_plot\u001b[49m\u001b[43m(\u001b[49m\n\u001b[1;32m      7\u001b[0m \u001b[43m    \u001b[49m\u001b[43mdf\u001b[49m\u001b[38;5;241;43m=\u001b[39;49m\u001b[43mchemistry_df\u001b[49m\u001b[43m,\u001b[49m\u001b[43m \u001b[49m\n\u001b[1;32m      8\u001b[0m \u001b[43m    \u001b[49m\u001b[43melement_names\u001b[49m\u001b[38;5;241;43m=\u001b[39;49m\u001b[43m[\u001b[49m\u001b[38;5;124;43m\"\u001b[39;49m\u001b[38;5;124;43mOxygen\u001b[39;49m\u001b[38;5;124;43m\"\u001b[39;49m\u001b[43m]\u001b[49m\u001b[43m,\u001b[49m\n\u001b[1;32m      9\u001b[0m \u001b[43m    \u001b[49m\u001b[43mstyling_dict\u001b[49m\u001b[38;5;241;43m=\u001b[39;49m\u001b[43mlot_config_dictionary\u001b[49m\u001b[43m,\u001b[49m\u001b[43m \u001b[49m\n\u001b[1;32m     10\u001b[0m \u001b[43m    \u001b[49m\u001b[43melements_dict\u001b[49m\u001b[38;5;241;43m=\u001b[39;49m\u001b[43melements_config_dictionary\u001b[49m\u001b[43m,\u001b[49m\n\u001b[1;32m     11\u001b[0m \u001b[43m    \u001b[49m\u001b[43mavg_callback\u001b[49m\u001b[38;5;241;43m=\u001b[39;49m\u001b[43mcompute_and_plot_avg\u001b[49m\u001b[43m,\u001b[49m\n\u001b[1;32m     12\u001b[0m \u001b[43m    \u001b[49m\u001b[43madd_lot_linearfit\u001b[49m\u001b[38;5;241;43m=\u001b[39;49m\u001b[43mplot_lot_linear_fit\u001b[49m\u001b[43m,\u001b[49m\n\u001b[1;32m     13\u001b[0m \u001b[43m    \u001b[49m\u001b[43mthreshold_callback\u001b[49m\u001b[38;5;241;43m=\u001b[39;49m\u001b[38;5;28;43;01mNone\u001b[39;49;00m\u001b[43m,\u001b[49m\u001b[43m \u001b[49m\u001b[38;5;66;43;03m# plot_threshold\u001b[39;49;00m\n\u001b[1;32m     14\u001b[0m \u001b[43m    \u001b[49m\u001b[43mshow_legend\u001b[49m\u001b[38;5;241;43m=\u001b[39;49m\u001b[43m \u001b[49m\u001b[43m(\u001b[49m\u001b[38;5;28;43;01mTrue\u001b[39;49;00m\u001b[43m,\u001b[49m\u001b[38;5;28;43;01mTrue\u001b[39;49;00m\u001b[43m)\u001b[49m\u001b[43m,\u001b[49m\n\u001b[1;32m     15\u001b[0m \u001b[43m    \u001b[49m\u001b[43mplot_title\u001b[49m\u001b[38;5;241;43m=\u001b[39;49m\u001b[38;5;28;43;01mNone\u001b[39;49;00m\n\u001b[1;32m     16\u001b[0m \u001b[43m)\u001b[49m\n\u001b[1;32m     17\u001b[0m \u001b[38;5;66;03m# Show Figure\u001b[39;00m\n\u001b[1;32m     18\u001b[0m figure1\u001b[38;5;241m.\u001b[39mshow()\n",
      "Cell \u001b[0;32mIn[23], line 175\u001b[0m, in \u001b[0;36mprepare_element_plot\u001b[0;34m(df, element_names, styling_dict, elements_dict, avg_callback, add_lot_linearfit, threshold_callback, min_length, line_width, font_size, show_legend, plot_title)\u001b[0m\n\u001b[1;32m    173\u001b[0m \u001b[38;5;66;03m# Set global plotting parameters\u001b[39;00m\n\u001b[1;32m    174\u001b[0m plt\u001b[38;5;241m.\u001b[39mrcParams[\u001b[38;5;124m'\u001b[39m\u001b[38;5;124mfont.size\u001b[39m\u001b[38;5;124m'\u001b[39m] \u001b[38;5;241m=\u001b[39m font_size\n\u001b[0;32m--> 175\u001b[0m \u001b[43mplt\u001b[49m\u001b[38;5;241;43m.\u001b[39;49m\u001b[43mrcParams\u001b[49m\u001b[43m[\u001b[49m\u001b[38;5;124;43m'\u001b[39;49m\u001b[38;5;124;43mlines.dash_capstyle\u001b[39;49m\u001b[38;5;124;43m'\u001b[39;49m\u001b[43m]\u001b[49m \u001b[38;5;241m=\u001b[39m \u001b[38;5;124m'\u001b[39m\u001b[38;5;124mbut\u001b[39m\u001b[38;5;124m'\u001b[39m\n\u001b[1;32m    177\u001b[0m \u001b[38;5;66;03m# Initialize figure and axes\u001b[39;00m\n\u001b[1;32m    178\u001b[0m fig, ax \u001b[38;5;241m=\u001b[39m plt\u001b[38;5;241m.\u001b[39msubplots(figsize\u001b[38;5;241m=\u001b[39m(\u001b[38;5;241m10\u001b[39m,\u001b[38;5;241m6\u001b[39m))\n",
      "File \u001b[0;32m/opt/anaconda3/envs/imageprocessing-py-dev/lib/python3.9/site-packages/matplotlib/__init__.py:926\u001b[0m, in \u001b[0;36mRcParams.__setitem__\u001b[0;34m(self, key, val)\u001b[0m\n\u001b[1;32m    924\u001b[0m         cval \u001b[38;5;241m=\u001b[39m \u001b[38;5;28mself\u001b[39m\u001b[38;5;241m.\u001b[39mvalidate[key](val)\n\u001b[1;32m    925\u001b[0m     \u001b[38;5;28;01mexcept\u001b[39;00m \u001b[38;5;167;01mValueError\u001b[39;00m \u001b[38;5;28;01mas\u001b[39;00m ve:\n\u001b[0;32m--> 926\u001b[0m         \u001b[38;5;28;01mraise\u001b[39;00m \u001b[38;5;167;01mValueError\u001b[39;00m(\u001b[38;5;124m\"\u001b[39m\u001b[38;5;124mKey \u001b[39m\u001b[38;5;132;01m%s\u001b[39;00m\u001b[38;5;124m: \u001b[39m\u001b[38;5;132;01m%s\u001b[39;00m\u001b[38;5;124m\"\u001b[39m \u001b[38;5;241m%\u001b[39m (key, \u001b[38;5;28mstr\u001b[39m(ve)))\n\u001b[1;32m    927\u001b[0m     \u001b[38;5;28mdict\u001b[39m\u001b[38;5;241m.\u001b[39m\u001b[38;5;21m__setitem__\u001b[39m(\u001b[38;5;28mself\u001b[39m, key, cval)\n\u001b[1;32m    928\u001b[0m \u001b[38;5;28;01mexcept\u001b[39;00m \u001b[38;5;167;01mKeyError\u001b[39;00m:\n",
      "\u001b[0;31mValueError\u001b[0m: Key lines.dash_capstyle: Unrecognized capstyle string \"but\": valid strings are ['butt', 'round', 'projecting']"
     ]
    }
   ],
   "source": [
    "# Load CSV as DataFrame\n",
    "chemistry_datafile = \"/Users/Daniel/Desktop/Ti64_Comp_Tools/Ti_Powder_All_Lots/Powder Results Summary/Merged_Element_Composition_Tables.csv\"     \n",
    "chemistry_df = pd.read_csv(filepath_or_buffer=chemistry_datafile,encoding='latin1')\n",
    "\n",
    "# Make Plot\n",
    "figure1 = prepare_element_plot(\n",
    "    df=chemistry_df, \n",
    "    element_names=[\"Oxygen\"],\n",
    "    styling_dict=lot_config_dictionary, \n",
    "    elements_dict=elements_config_dictionary,\n",
    "    avg_callback=compute_and_plot_avg,\n",
    "    add_lot_linearfit=plot_lot_linear_fit,\n",
    "    threshold_callback=None, # plot_threshold\n",
    "    show_legend= (True,True),\n",
    "    plot_title=None\n",
    ")\n",
    "# Show Figure\n",
    "figure1.show()"
   ]
  },
  {
   "cell_type": "markdown",
   "metadata": {},
   "source": [
    "Plot Major Elements"
   ]
  },
  {
   "cell_type": "code",
   "execution_count": 27,
   "metadata": {},
   "outputs": [
    {
     "name": "stdout",
     "output_type": "stream",
     "text": [
      "Processing element: Aluminum (wt%)\n",
      "\t- P0525, insufficient build cycles (1).\n",
      "\t+ P1440, added (8 build cycles).\n",
      "\tFunction  \n",
      "-0.01107 x + 6.448\n",
      "\tR^2: 0.0870418097149172\n",
      "\t+ P1442, added (8 build cycles).\n",
      "\tFunction  \n",
      "0.001429 x + 6.41\n",
      "\tR^2: 0.0019466498662964737\n",
      "\t+ P1444, added (10 build cycles).\n",
      "\tFunction  \n",
      "0.002396 x + 6.385\n",
      "\tR^2: 0.009722775771164685\n",
      "\t- P2002, insufficient build cycles (1).\n",
      "\t- P222, insufficient build cycles (2).\n",
      "\t- P2328, insufficient build cycles (2).\n",
      "Average function:  \n",
      "-0.000533 x + 6.406\n",
      "Processing element: Iron (wt%)\n",
      "\t- P0525, insufficient build cycles (1).\n",
      "\t+ P1440, added (8 build cycles).\n",
      "\tFunction  \n",
      "-0.002465 x + 0.1952\n",
      "\tR^2: 0.18532246108228304\n",
      "\t+ P1442, added (8 build cycles).\n",
      "\tFunction  \n",
      "-0.000315 x + 0.1841\n",
      "\tR^2: 0.0019540482848150547\n",
      "\t+ P1444, added (10 build cycles).\n",
      "\tFunction  \n",
      "0.001423 x + 0.1846\n",
      "\tR^2: 0.15270052313627133\n",
      "\t- P2002, insufficient build cycles (1).\n",
      "\t- P222, insufficient build cycles (2).\n",
      "\t- P2328, insufficient build cycles (2).\n",
      "Average function:  \n",
      "-0.0005896 x + 0.1921\n",
      "Processing element: Vanadium (wt%)\n",
      "\t- P0525, insufficient build cycles (1).\n",
      "\t+ P1440, added (8 build cycles).\n",
      "\tFunction  \n",
      "-0.001718 x + 3.961\n",
      "\tR^2: 0.003667010151168524\n",
      "\t+ P1442, added (8 build cycles).\n",
      "\tFunction  \n",
      "-0.00499 x + 3.989\n",
      "\tR^2: 0.023551685508958208\n",
      "\t+ P1444, added (10 build cycles).\n",
      "\tFunction  \n",
      "0.006861 x + 3.98\n",
      "\tR^2: 0.11756331826951405\n",
      "\t- P2002, insufficient build cycles (1).\n",
      "\t- P222, insufficient build cycles (2).\n",
      "\t- P2328, insufficient build cycles (2).\n",
      "Average function:  \n",
      "0.002724 x + 3.976\n"
     ]
    },
    {
     "name": "stderr",
     "output_type": "stream",
     "text": [
      "/opt/anaconda3/envs/imageprocessing-py-dev/lib/python3.9/site-packages/matplotlib/figure.py:456: UserWarning: matplotlib is currently using a non-GUI backend, so cannot show the figure\n",
      "  warnings.warn(\n"
     ]
    },
    {
     "data": {
      "image/png": "[encoded data removed]",
      "text/plain": [
       "<Figure size 1000x600 with 1 Axes>"
      ]
     },
     "metadata": {},
     "output_type": "display_data"
    }
   ],
   "source": [
    "# Load CSV as DataFrame\n",
    "# chemistry_datafile = \"/Users/Daniel/Desktop/Ti64_Comp_Tools/Ti_Powder_All_Lots/Powder Results Summary/Merged_Element_Composition_Tables.csv\"     \n",
    "# chemistry_df = pd.read_csv(filepath_or_buffer=chemistry_datafile,encoding='latin1')\n",
    "\n",
    "# Update the Chemistry Content DataFrame\n",
    "condition = (chemistry_df[\"Vanadium (wt%)\"] < 2) & (chemistry_df[\"Iron (wt%)\"] > 2)\n",
    "chemistry_df.loc[ condition, [\"Vanadium (wt%)\", \"Iron (wt%)\"]] = (\n",
    "    chemistry_df.loc[condition, [\"Iron (wt%)\", \"Vanadium (wt%)\"]].values \n",
    ")\n",
    "\n",
    "figure2 = prepare_element_plot(\n",
    "    df=chemistry_df, \n",
    "    element_names=[\"Aluminum\", \"Iron\", \"Vanadium\"],\n",
    "    styling_dict=lot_config_dictionary, \n",
    "    elements_dict=elements_config_dictionary,\n",
    "    avg_callback=compute_and_plot_avg,\n",
    "    add_lot_linearfit=plot_lot_linear_fit,\n",
    "    threshold_callback=None,\n",
    "    show_legend= (False,True),\n",
    "    plot_title=None # \n",
    ")\n",
    "# Show Figure\n",
    "figure2.show()\n",
    "\n"
   ]
  },
  {
   "cell_type": "markdown",
   "metadata": {},
   "source": [
    "# Available samples"
   ]
  },
  {
   "cell_type": "code",
   "execution_count": 7,
   "metadata": {},
   "outputs": [],
   "source": [
    "file1= \"/Users/Daniel/Downloads/ALM Ortho powder inventory.xlsx\"\n",
    "file2 = \"/Users/Daniel/Desktop/Ti64_Comp_Tools/Ti_Powder_All_Lots/Powder Results Summary/Merged_Element_Composition_Tables.csv\"     \n",
    "file1_df = pd.read_excel(file1, sheet_name=\"Flowcam and chemical content\")\n",
    "file2_df = pd.read_csv(file2)"
   ]
  },
  {
   "cell_type": "code",
   "execution_count": 9,
   "metadata": {},
   "outputs": [
    {
     "name": "stdout",
     "output_type": "stream",
     "text": [
      "(143, 4)\n"
     ]
    }
   ],
   "source": [
    "# Rename 'GroupID' to 'Group' to match file1_df keys\n",
    "file2_df = file2_df.rename(columns={'GroupID': 'Group'})\n",
    "\n",
    "# Clean and Cast strings\n",
    "# Ensure 'Lot', 'Group', and 'Rev' columns are of the same type in both DataFrames\n",
    "file1_df['Lot'] = file1_df['Lot'].astype(str)\n",
    "file1_df['Lot'] = file1_df['Lot'].str.strip()\n",
    "file1_df['Group'] = file1_df['Group'].astype(str)\n",
    "file1_df['Group'] = file1_df['Group'].str.strip()\n",
    "file1_df['Rev'] = file1_df['Rev'].astype(str)\n",
    "file1_df['Rev'] = file1_df['Rev'].str.strip()\n",
    "\n",
    "file2_df['Lot'] = file2_df['Lot'].astype(str)\n",
    "file2_df['Lot'] = file2_df['Lot'].str.strip()\n",
    "file2_df['Group'] = file2_df['Group'].astype(str)\n",
    "file2_df['Group'] = file2_df['Group'].str.strip()\n",
    "file2_df['Rev'] = file2_df['Rev'].astype(str)\n",
    "file2_df['Rev'] = file2_df['Rev'].str.strip()\n",
    "\n",
    "# Compare Specifc columns\n",
    "comparison_df = file1_df[['Lot','Group','Rev']].merge(\n",
    "    file2_df[['Lot','Group','Rev']], how='right', indicator=True\n",
    ")\n",
    "print(comparison_df.shape)\n",
    "\n",
    "# Filter for rows that are only in file2_df (missingin file1_df)\n",
    "missing_in_file1 = comparison_df.loc[comparison_df['_merge'] == 'right_only']\n",
    "missing_in_file1.head()\n",
    "\n",
    "# Remove the merge indicator column\n",
    "missing_in_file1 = missing_in_file1.drop(columns=['_merge'])\n",
    "\n",
    "# Fill in the missing colums from file1_df  ('FlowCam' and 'Composition' column)\n",
    "missing_in_file1['Composition'] = missing_in_file1.get('Composition','Yes')\n",
    "missing_in_file1['FlowCam'] = missing_in_file1.get('FlowCam','DNE')\n",
    "\n",
    "# Add the missing rows to file1_df\n",
    "file1_df = pd.concat([file1_df, missing_in_file1], ignore_index=True)\n",
    "\n",
    "file1_df.loc[:,'P/N'] = file1_df['P/N'].fillna(0)\n",
    "# file1_df.to_csv(\"/Users/Daniel/Desktop/FlowcamData/total_titanium_powder_inventory.csv\", index=False)"
   ]
  },
  {
   "cell_type": "code",
   "execution_count": 17,
   "metadata": {},
   "outputs": [
    {
     "name": "stdout",
     "output_type": "stream",
     "text": [
      "Duplicate rows found:\n",
      "       Lot Group Rev  P/N FlowCam Composition\n",
      "119  P1442     6   3  0.0     DNE         Yes\n",
      "124  P1442     6   3  0.0     DNE         Yes\n",
      "There are duplicate entries based on the specified columns.\n",
      "Duplicates removed, keeping the first occurrence of each. \n",
      "Saved as 'Ti64_powder_inventory_cleaned.xlsx' in current working directory: /Users/Daniel/Desktop/projects/data_visualization/Data Processing, Regression, Visualizations/Visualization.\n"
     ]
    }
   ],
   "source": [
    "# Check for duplicates based on all relevant columns\n",
    "duplicate_rows = file1_df[file1_df.duplicated(subset=['Lot', 'Group', 'Rev', 'P/N', 'FlowCam', 'Composition'], keep=False)]\n",
    "\n",
    "# Step 3: Handle duplicates\n",
    "if not duplicate_rows.empty:\n",
    "    print(\"Duplicate rows found:\")\n",
    "    print(duplicate_rows)\n",
    "    print(\"There are duplicate entries based on the specified columns.\")\n",
    "else:\n",
    "    print(\"No duplicates found.\")\n",
    "\n",
    "# Remove duplicates based on specified columns\n",
    "df_cleaned = file1_df.drop_duplicates(subset=['Lot', 'Group', 'Rev', 'P/N', 'FlowCam', 'Composition'], keep='first')\n",
    "\n",
    "# Step 3: Save or use the cleaned DataFrame\n",
    "df_cleaned.to_excel('Ti64_powder_inventory_cleaned.xlsx', index=False)  # Save the cleaned file (optional)\n",
    "print(f\"Duplicates removed, keeping the first occurrence of each. \\nSaved as 'Ti64_powder_inventory_cleaned.xlsx' in current working directory: {os.getcwd()}.\")"
   ]
  },
  {
   "cell_type": "markdown",
   "metadata": {},
   "source": [
    "Plot Available Chemical Composition Data "
   ]
  },
  {
   "cell_type": "code",
   "execution_count": 18,
   "metadata": {},
   "outputs": [
    {
     "name": "stdout",
     "output_type": "stream",
     "text": [
      "Total Chemcial Composition datapoints: 140\n"
     ]
    },
    {
     "data": {
      "application/vnd.plotly.v1+json": {
       "config": {
        "plotlyServerURL": "https://plot.ly"
       },
       "data": [
        {
         "hovertemplate": "Lot=%{x}<br>Group=%{y}<br>Rev=%{z}<extra></extra>",
         "legendgroup": "P1440",
         "marker": {
          "color": "#636efa",
          "symbol": "circle"
         },
         "mode": "markers",
         "name": "P1440",
         "scene": "scene",
         "showlegend": true,
         "type": "scatter3d",
         "x": [
          "P1440",
          "P1440",
          "P1440",
          "P1440",
          "P1440",
          "P1440",
          "P1440",
          "P1440",
          "P1440",
          "P1440",
          "P1440",
          "P1440",
          "P1440",
          "P1440",
          "P1440",
          "P1440",
          "P1440",
          "P1440",
          "P1440",
          "P1440",
          "P1440",
          "P1440",
          "P1440",
          "P1440",
          "P1440",
          "P1440",
          "P1440",
          "P1440"
         ],
         "y": [
          "1",
          "2",
          "1",
          "1",
          "2",
          "2",
          "5",
          "6",
          "3",
          "4",
          "2",
          "7",
          "8",
          "1",
          "2",
          "3",
          "4",
          "1",
          "2",
          "3",
          "4",
          "6",
          "1",
          "5",
          "3",
          "3",
          "5",
          "4"
         ],
         "z": [
          "8",
          "7",
          "6",
          "3",
          "3",
          "4",
          "1",
          "1",
          "3",
          "3",
          "5",
          "1",
          "1",
          "5",
          "1",
          "1",
          "1",
          "2",
          "2",
          "2",
          "2",
          "3",
          "4",
          "2",
          "5",
          "4",
          "3",
          "5"
         ]
        },
        {
         "hovertemplate": "Lot=%{x}<br>Group=%{y}<br>Rev=%{z}<extra></extra>",
         "legendgroup": "P1442",
         "marker": {
          "color": "#EF553B",
          "symbol": "circle"
         },
         "mode": "markers",
         "name": "P1442",
         "scene": "scene",
         "showlegend": true,
         "type": "scatter3d",
         "x": [
          "P1442",
          "P1442",
          "P1442",
          "P1442",
          "P1442",
          "P1442",
          "P1442",
          "P1442",
          "P1442",
          "P1442",
          "P1442",
          "P1442",
          "P1442",
          "P1442",
          "P1442",
          "P1442",
          "P1442",
          "P1442",
          "P1442",
          "P1442",
          "P1442",
          "P1442",
          "P1442",
          "P1442",
          "P1442",
          "P1442",
          "P1442",
          "P1442",
          "P1442",
          "P1442",
          "P1442",
          "P1442",
          "P1442",
          "P1442",
          "P1442"
         ],
         "y": [
          "1",
          "2",
          "3",
          "4",
          "5",
          "6",
          "7",
          "8",
          "2",
          "3",
          "2",
          "1",
          "3",
          "2",
          "3",
          "4",
          "1",
          "2",
          "3",
          "4",
          "5",
          "1",
          "1",
          "1",
          "1",
          "7",
          "6",
          "1",
          "6",
          "7",
          "VAC",
          "6",
          "PRS",
          "2",
          "2"
         ],
         "z": [
          "8",
          "5",
          "3",
          "3",
          "1",
          "1",
          "1",
          "1",
          "4",
          "1",
          "1",
          "1",
          "4",
          "7",
          "5",
          "1",
          "2",
          "2",
          "2",
          "2",
          "2",
          "7",
          "4",
          "3",
          "6",
          "3",
          "3",
          "5",
          "2",
          "2",
          "1",
          "3",
          "1",
          "3",
          "6"
         ]
        },
        {
         "hovertemplate": "Lot=%{x}<br>Group=%{y}<br>Rev=%{z}<extra></extra>",
         "legendgroup": "P1444",
         "marker": {
          "color": "#00cc96",
          "symbol": "circle"
         },
         "mode": "markers",
         "name": "P1444",
         "scene": "scene",
         "showlegend": true,
         "type": "scatter3d",
         "x": [
          "P1444",
          "P1444",
          "P1444",
          "P1444",
          "P1444",
          "P1444",
          "P1444",
          "P1444",
          "P1444",
          "P1444",
          "P1444",
          "P1444",
          "P1444",
          "P1444",
          "P1444",
          "P1444",
          "P1444",
          "P1444",
          "P1444",
          "P1444",
          "P1444",
          "P1444",
          "P1444",
          "P1444",
          "P1444",
          "P1444",
          "P1444",
          "P1444",
          "P1444",
          "P1444",
          "P1444",
          "P1444",
          "P1444",
          "P1444",
          "P1444",
          "P1444",
          "P1444",
          "P1444",
          "P1444",
          "P1444",
          "P1444",
          "P1444",
          "P1444",
          "P1444"
         ],
         "y": [
          "1",
          "1",
          "1",
          "1",
          "2",
          "2",
          "2",
          "2",
          "3",
          "3",
          "3",
          "3",
          "4",
          "1",
          "3",
          "1",
          "8",
          "VAC",
          "PRS",
          "4",
          "1",
          "3",
          "5",
          "7",
          "2",
          "5",
          "7",
          "1",
          "2",
          "4",
          "5",
          "3",
          "4",
          "6",
          "4",
          "6",
          "3",
          "1",
          "1",
          "2",
          "7",
          "5",
          "2",
          "6"
         ],
         "z": [
          "6",
          "7",
          "9",
          "10",
          "6",
          "7",
          "8",
          "9",
          "5",
          "6",
          "8",
          "9",
          "5",
          "8",
          "2",
          "5",
          "2",
          "1",
          "1",
          "4",
          "2",
          "4",
          "3",
          "2",
          "5",
          "4",
          "1",
          "3",
          "2",
          "3",
          "1",
          "1",
          "1",
          "2",
          "2",
          "1",
          "3",
          "4",
          "1",
          "1",
          "3",
          "2",
          "3",
          "3"
         ]
        },
        {
         "hovertemplate": "Lot=%{x}<br>Group=%{y}<br>Rev=%{z}<extra></extra>",
         "legendgroup": "P2002",
         "marker": {
          "color": "#ab63fa",
          "symbol": "circle"
         },
         "mode": "markers",
         "name": "P2002",
         "scene": "scene",
         "showlegend": true,
         "type": "scatter3d",
         "x": [
          "P2002",
          "P2002",
          "P2002",
          "P2002",
          "P2002",
          "P2002",
          "P2002",
          "P2002",
          "P2002",
          "P2002",
          "P2002",
          "P2002",
          "P2002",
          "P2002"
         ],
         "y": [
          "2",
          "3",
          "4",
          "5",
          "6",
          "7",
          "8",
          "9",
          "10",
          "11",
          "12",
          "13",
          "14",
          "1"
         ],
         "z": [
          "1",
          "1",
          "1",
          "1",
          "1",
          "1",
          "1",
          "1",
          "1",
          "1",
          "1",
          "1",
          "1",
          "1"
         ]
        },
        {
         "hovertemplate": "Lot=%{x}<br>Group=%{y}<br>Rev=%{z}<extra></extra>",
         "legendgroup": "P222",
         "marker": {
          "color": "#FFA15A",
          "symbol": "circle"
         },
         "mode": "markers",
         "name": "P222",
         "scene": "scene",
         "showlegend": true,
         "type": "scatter3d",
         "x": [
          "P222",
          "P222",
          "P222",
          "P222",
          "P222",
          "P222",
          "P222",
          "P222"
         ],
         "y": [
          "2",
          "3",
          "4",
          "5",
          "2",
          "1",
          "3",
          "4"
         ],
         "z": [
          "2",
          "2",
          "2",
          "1",
          "1",
          "2",
          "1",
          "1"
         ]
        },
        {
         "hovertemplate": "Lot=%{x}<br>Group=%{y}<br>Rev=%{z}<extra></extra>",
         "legendgroup": "P2328",
         "marker": {
          "color": "#19d3f3",
          "symbol": "circle"
         },
         "mode": "markers",
         "name": "P2328",
         "scene": "scene",
         "showlegend": true,
         "type": "scatter3d",
         "x": [
          "P2328",
          "P2328",
          "P2328",
          "P2328",
          "P2328",
          "P2328",
          "P2328",
          "P2328",
          "P2328",
          "P2328",
          "P2328"
         ],
         "y": [
          "1",
          "1",
          "2",
          "2",
          "3",
          "4",
          "5",
          "5",
          "6",
          "3",
          "4"
         ],
         "z": [
          "1",
          "2",
          "1",
          "2",
          "1",
          "1",
          "1",
          "2",
          "1",
          "2",
          "2"
         ]
        }
       ],
       "layout": {
        "legend": {
         "title": {
          "text": "Lot"
         },
         "tracegroupgap": 0
        },
        "scene": {
         "domain": {
          "x": [
           0,
           1
          ],
          "y": [
           0,
           1
          ]
         },
         "xaxis": {
          "categoryarray": [
           "P1440",
           "P1442",
           "P1444",
           "P2002",
           "P222",
           "P2328"
          ],
          "categoryorder": "array",
          "title": {
           "text": "Lot"
          }
         },
         "yaxis": {
          "title": {
           "text": "Group"
          }
         },
         "zaxis": {
          "title": {
           "text": "Rev"
          }
         }
        },
        "template": {
         "data": {
          "bar": [
           {
            "error_x": {
             "color": "#2a3f5f"
            },
            "error_y": {
             "color": "#2a3f5f"
            },
            "marker": {
             "line": {
              "color": "#E5ECF6",
              "width": 0.5
             },
             "pattern": {
              "fillmode": "overlay",
              "size": 10,
              "solidity": 0.2
             }
            },
            "type": "bar"
           }
          ],
          "barpolar": [
           {
            "marker": {
             "line": {
              "color": "#E5ECF6",
              "width": 0.5
             },
             "pattern": {
              "fillmode": "overlay",
              "size": 10,
              "solidity": 0.2
             }
            },
            "type": "barpolar"
           }
          ],
          "carpet": [
           {
            "aaxis": {
             "endlinecolor": "#2a3f5f",
             "gridcolor": "white",
             "linecolor": "white",
             "minorgridcolor": "white",
             "startlinecolor": "#2a3f5f"
            },
            "baxis": {
             "endlinecolor": "#2a3f5f",
             "gridcolor": "white",
             "linecolor": "white",
             "minorgridcolor": "white",
             "startlinecolor": "#2a3f5f"
            },
            "type": "carpet"
           }
          ],
          "choropleth": [
           {
            "colorbar": {
             "outlinewidth": 0,
             "ticks": ""
            },
            "type": "choropleth"
           }
          ],
          "contour": [
           {
            "colorbar": {
             "outlinewidth": 0,
             "ticks": ""
            },
            "colorscale": [
             [
              0,
              "#0d0887"
             ],
             [
              0.1111111111111111,
              "#46039f"
             ],
             [
              0.2222222222222222,
              "#7201a8"
             ],
             [
              0.3333333333333333,
              "#9c179e"
             ],
             [
              0.4444444444444444,
              "#bd3786"
             ],
             [
              0.5555555555555556,
              "#d8576b"
             ],
             [
              0.6666666666666666,
              "#ed7953"
             ],
             [
              0.7777777777777778,
              "#fb9f3a"
             ],
             [
              0.8888888888888888,
              "#fdca26"
             ],
             [
              1,
              "#f0f921"
             ]
            ],
            "type": "contour"
           }
          ],
          "contourcarpet": [
           {
            "colorbar": {
             "outlinewidth": 0,
             "ticks": ""
            },
            "type": "contourcarpet"
           }
          ],
          "heatmap": [
           {
            "colorbar": {
             "outlinewidth": 0,
             "ticks": ""
            },
            "colorscale": [
             [
              0,
              "#0d0887"
             ],
             [
              0.1111111111111111,
              "#46039f"
             ],
             [
              0.2222222222222222,
              "#7201a8"
             ],
             [
              0.3333333333333333,
              "#9c179e"
             ],
             [
              0.4444444444444444,
              "#bd3786"
             ],
             [
              0.5555555555555556,
              "#d8576b"
             ],
             [
              0.6666666666666666,
              "#ed7953"
             ],
             [
              0.7777777777777778,
              "#fb9f3a"
             ],
             [
              0.8888888888888888,
              "#fdca26"
             ],
             [
              1,
              "#f0f921"
             ]
            ],
            "type": "heatmap"
           }
          ],
          "heatmapgl": [
           {
            "colorbar": {
             "outlinewidth": 0,
             "ticks": ""
            },
            "colorscale": [
             [
              0,
              "#0d0887"
             ],
             [
              0.1111111111111111,
              "#46039f"
             ],
             [
              0.2222222222222222,
              "#7201a8"
             ],
             [
              0.3333333333333333,
              "#9c179e"
             ],
             [
              0.4444444444444444,
              "#bd3786"
             ],
             [
              0.5555555555555556,
              "#d8576b"
             ],
             [
              0.6666666666666666,
              "#ed7953"
             ],
             [
              0.7777777777777778,
              "#fb9f3a"
             ],
             [
              0.8888888888888888,
              "#fdca26"
             ],
             [
              1,
              "#f0f921"
             ]
            ],
            "type": "heatmapgl"
           }
          ],
          "histogram": [
           {
            "marker": {
             "pattern": {
              "fillmode": "overlay",
              "size": 10,
              "solidity": 0.2
             }
            },
            "type": "histogram"
           }
          ],
          "histogram2d": [
           {
            "colorbar": {
             "outlinewidth": 0,
             "ticks": ""
            },
            "colorscale": [
             [
              0,
              "#0d0887"
             ],
             [
              0.1111111111111111,
              "#46039f"
             ],
             [
              0.2222222222222222,
              "#7201a8"
             ],
             [
              0.3333333333333333,
              "#9c179e"
             ],
             [
              0.4444444444444444,
              "#bd3786"
             ],
             [
              0.5555555555555556,
              "#d8576b"
             ],
             [
              0.6666666666666666,
              "#ed7953"
             ],
             [
              0.7777777777777778,
              "#fb9f3a"
             ],
             [
              0.8888888888888888,
              "#fdca26"
             ],
             [
              1,
              "#f0f921"
             ]
            ],
            "type": "histogram2d"
           }
          ],
          "histogram2dcontour": [
           {
            "colorbar": {
             "outlinewidth": 0,
             "ticks": ""
            },
            "colorscale": [
             [
              0,
              "#0d0887"
             ],
             [
              0.1111111111111111,
              "#46039f"
             ],
             [
              0.2222222222222222,
              "#7201a8"
             ],
             [
              0.3333333333333333,
              "#9c179e"
             ],
             [
              0.4444444444444444,
              "#bd3786"
             ],
             [
              0.5555555555555556,
              "#d8576b"
             ],
             [
              0.6666666666666666,
              "#ed7953"
             ],
             [
              0.7777777777777778,
              "#fb9f3a"
             ],
             [
              0.8888888888888888,
              "#fdca26"
             ],
             [
              1,
              "#f0f921"
             ]
            ],
            "type": "histogram2dcontour"
           }
          ],
          "mesh3d": [
           {
            "colorbar": {
             "outlinewidth": 0,
             "ticks": ""
            },
            "type": "mesh3d"
           }
          ],
          "parcoords": [
           {
            "line": {
             "colorbar": {
              "outlinewidth": 0,
              "ticks": ""
             }
            },
            "type": "parcoords"
           }
          ],
          "pie": [
           {
            "automargin": true,
            "type": "pie"
           }
          ],
          "scatter": [
           {
            "fillpattern": {
             "fillmode": "overlay",
             "size": 10,
             "solidity": 0.2
            },
            "type": "scatter"
           }
          ],
          "scatter3d": [
           {
            "line": {
             "colorbar": {
              "outlinewidth": 0,
              "ticks": ""
             }
            },
            "marker": {
             "colorbar": {
              "outlinewidth": 0,
              "ticks": ""
             }
            },
            "type": "scatter3d"
           }
          ],
          "scattercarpet": [
           {
            "marker": {
             "colorbar": {
              "outlinewidth": 0,
              "ticks": ""
             }
            },
            "type": "scattercarpet"
           }
          ],
          "scattergeo": [
           {
            "marker": {
             "colorbar": {
              "outlinewidth": 0,
              "ticks": ""
             }
            },
            "type": "scattergeo"
           }
          ],
          "scattergl": [
           {
            "marker": {
             "colorbar": {
              "outlinewidth": 0,
              "ticks": ""
             }
            },
            "type": "scattergl"
           }
          ],
          "scattermapbox": [
           {
            "marker": {
             "colorbar": {
              "outlinewidth": 0,
              "ticks": ""
             }
            },
            "type": "scattermapbox"
           }
          ],
          "scatterpolar": [
           {
            "marker": {
             "colorbar": {
              "outlinewidth": 0,
              "ticks": ""
             }
            },
            "type": "scatterpolar"
           }
          ],
          "scatterpolargl": [
           {
            "marker": {
             "colorbar": {
              "outlinewidth": 0,
              "ticks": ""
             }
            },
            "type": "scatterpolargl"
           }
          ],
          "scatterternary": [
           {
            "marker": {
             "colorbar": {
              "outlinewidth": 0,
              "ticks": ""
             }
            },
            "type": "scatterternary"
           }
          ],
          "surface": [
           {
            "colorbar": {
             "outlinewidth": 0,
             "ticks": ""
            },
            "colorscale": [
             [
              0,
              "#0d0887"
             ],
             [
              0.1111111111111111,
              "#46039f"
             ],
             [
              0.2222222222222222,
              "#7201a8"
             ],
             [
              0.3333333333333333,
              "#9c179e"
             ],
             [
              0.4444444444444444,
              "#bd3786"
             ],
             [
              0.5555555555555556,
              "#d8576b"
             ],
             [
              0.6666666666666666,
              "#ed7953"
             ],
             [
              0.7777777777777778,
              "#fb9f3a"
             ],
             [
              0.8888888888888888,
              "#fdca26"
             ],
             [
              1,
              "#f0f921"
             ]
            ],
            "type": "surface"
           }
          ],
          "table": [
           {
            "cells": {
             "fill": {
              "color": "#EBF0F8"
             },
             "line": {
              "color": "white"
             }
            },
            "header": {
             "fill": {
              "color": "#C8D4E3"
             },
             "line": {
              "color": "white"
             }
            },
            "type": "table"
           }
          ]
         },
         "layout": {
          "annotationdefaults": {
           "arrowcolor": "#2a3f5f",
           "arrowhead": 0,
           "arrowwidth": 1
          },
          "autotypenumbers": "strict",
          "coloraxis": {
           "colorbar": {
            "outlinewidth": 0,
            "ticks": ""
           }
          },
          "colorscale": {
           "diverging": [
            [
             0,
             "#8e0152"
            ],
            [
             0.1,
             "#c51b7d"
            ],
            [
             0.2,
             "#de77ae"
            ],
            [
             0.3,
             "#f1b6da"
            ],
            [
             0.4,
             "#fde0ef"
            ],
            [
             0.5,
             "#f7f7f7"
            ],
            [
             0.6,
             "#e6f5d0"
            ],
            [
             0.7,
             "#b8e186"
            ],
            [
             0.8,
             "#7fbc41"
            ],
            [
             0.9,
             "#4d9221"
            ],
            [
             1,
             "#276419"
            ]
           ],
           "sequential": [
            [
             0,
             "#0d0887"
            ],
            [
             0.1111111111111111,
             "#46039f"
            ],
            [
             0.2222222222222222,
             "#7201a8"
            ],
            [
             0.3333333333333333,
             "#9c179e"
            ],
            [
             0.4444444444444444,
             "#bd3786"
            ],
            [
             0.5555555555555556,
             "#d8576b"
            ],
            [
             0.6666666666666666,
             "#ed7953"
            ],
            [
             0.7777777777777778,
             "#fb9f3a"
            ],
            [
             0.8888888888888888,
             "#fdca26"
            ],
            [
             1,
             "#f0f921"
            ]
           ],
           "sequentialminus": [
            [
             0,
             "#0d0887"
            ],
            [
             0.1111111111111111,
             "#46039f"
            ],
            [
             0.2222222222222222,
             "#7201a8"
            ],
            [
             0.3333333333333333,
             "#9c179e"
            ],
            [
             0.4444444444444444,
             "#bd3786"
            ],
            [
             0.5555555555555556,
             "#d8576b"
            ],
            [
             0.6666666666666666,
             "#ed7953"
            ],
            [
             0.7777777777777778,
             "#fb9f3a"
            ],
            [
             0.8888888888888888,
             "#fdca26"
            ],
            [
             1,
             "#f0f921"
            ]
           ]
          },
          "colorway": [
           "#636efa",
           "#EF553B",
           "#00cc96",
           "#ab63fa",
           "#FFA15A",
           "#19d3f3",
           "#FF6692",
           "#B6E880",
           "#FF97FF",
           "#FECB52"
          ],
          "font": {
           "color": "#2a3f5f"
          },
          "geo": {
           "bgcolor": "white",
           "lakecolor": "white",
           "landcolor": "#E5ECF6",
           "showlakes": true,
           "showland": true,
           "subunitcolor": "white"
          },
          "hoverlabel": {
           "align": "left"
          },
          "hovermode": "closest",
          "mapbox": {
           "style": "light"
          },
          "paper_bgcolor": "white",
          "plot_bgcolor": "#E5ECF6",
          "polar": {
           "angularaxis": {
            "gridcolor": "white",
            "linecolor": "white",
            "ticks": ""
           },
           "bgcolor": "#E5ECF6",
           "radialaxis": {
            "gridcolor": "white",
            "linecolor": "white",
            "ticks": ""
           }
          },
          "scene": {
           "xaxis": {
            "backgroundcolor": "#E5ECF6",
            "gridcolor": "white",
            "gridwidth": 2,
            "linecolor": "white",
            "showbackground": true,
            "ticks": "",
            "zerolinecolor": "white"
           },
           "yaxis": {
            "backgroundcolor": "#E5ECF6",
            "gridcolor": "white",
            "gridwidth": 2,
            "linecolor": "white",
            "showbackground": true,
            "ticks": "",
            "zerolinecolor": "white"
           },
           "zaxis": {
            "backgroundcolor": "#E5ECF6",
            "gridcolor": "white",
            "gridwidth": 2,
            "linecolor": "white",
            "showbackground": true,
            "ticks": "",
            "zerolinecolor": "white"
           }
          },
          "shapedefaults": {
           "line": {
            "color": "#2a3f5f"
           }
          },
          "ternary": {
           "aaxis": {
            "gridcolor": "white",
            "linecolor": "white",
            "ticks": ""
           },
           "baxis": {
            "gridcolor": "white",
            "linecolor": "white",
            "ticks": ""
           },
           "bgcolor": "#E5ECF6",
           "caxis": {
            "gridcolor": "white",
            "linecolor": "white",
            "ticks": ""
           }
          },
          "title": {
           "x": 0.05
          },
          "xaxis": {
           "automargin": true,
           "gridcolor": "white",
           "linecolor": "white",
           "ticks": "",
           "title": {
            "standoff": 15
           },
           "zerolinecolor": "white",
           "zerolinewidth": 2
          },
          "yaxis": {
           "automargin": true,
           "gridcolor": "white",
           "linecolor": "white",
           "ticks": "",
           "title": {
            "standoff": 15
           },
           "zerolinecolor": "white",
           "zerolinewidth": 2
          }
         }
        },
        "title": {
         "text": "Chemical Composition Lot, GroupID, Rev Combinations"
        }
       }
      }
     },
     "metadata": {},
     "output_type": "display_data"
    }
   ],
   "source": [
    "composition_df = file1_df[file1_df['Composition'] == \"Yes\"]\n",
    "print(f'Total Chemcial Composition datapoints: {len(composition_df)}')\n",
    "px.scatter_3d(composition_df, x=\"Lot\", y=\"Group\", z=\"Rev\", color=\"Lot\",\n",
    "               title = \"Chemical Composition Lot, GroupID, Rev Combinations\")\n"
   ]
  },
  {
   "cell_type": "markdown",
   "metadata": {},
   "source": [
    "Plot Available FlowCam Data"
   ]
  },
  {
   "cell_type": "code",
   "execution_count": null,
   "metadata": {},
   "outputs": [],
   "source": [
    "imaged_df = file1_df[file1_df['FlowCam'] == \"Yes\"]\n",
    "\n",
    "# Verify Data\n",
    "print(f'Total FlowCam datapoints: {len(imaged_df)}')\n",
    "for lot, lot_dict in imaged_df.groupby(\"Lot\"):\n",
    "    print(f\"{lot}\\t{len(lot_dict)}\")\n",
    "\n",
    "px.scatter_3d(imaged_df, x=\"Lot\", y=\"Group\", z=\"Rev\", color=\"Lot\",\n",
    "               title = \"FlowCam Lot, GroupID, Rev Combination\")"
   ]
  }
 ],
 "metadata": {
  "kernelspec": {
   "display_name": "imageprocessing-py-dev",
   "language": "python",
   "name": "python3"
  },
  "language_info": {
   "codemirror_mode": {
    "name": "ipython",
    "version": 3
   },
   "file_extension": ".py",
   "mimetype": "text/x-python",
   "name": "python",
   "nbconvert_exporter": "python",
   "pygments_lexer": "ipython3",
   "version": "3.9.19"
  }
 },
 "nbformat": 4,
 "nbformat_minor": 2
}
