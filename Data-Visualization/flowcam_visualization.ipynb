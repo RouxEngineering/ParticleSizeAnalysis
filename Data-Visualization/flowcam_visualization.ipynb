{
 "cells": [
  {
   "cell_type": "markdown",
   "metadata": {},
   "source": [
    "# This file will Visualize FlowCam Exported Data"
   ]
  },
  {
   "cell_type": "code",
   "execution_count": 2,
   "metadata": {},
   "outputs": [],
   "source": [
    "# Import Libraries, packages, and modules\n",
    "import os\n",
    "import matplotlib.pyplot as plt\n",
    "import pandas as pd\n",
    "import plotly.express as px\n",
    "import numpy as np\n",
    "# from cum_relative_freq import cum_relative_freq\n",
    "from frequency_operations import *\n",
    "from diameter_operations import add_eff_diameter\n",
    "from sphericity_operations import add_sphericity"
   ]
  },
  {
   "cell_type": "code",
   "execution_count": 3,
   "metadata": {},
   "outputs": [
    {
     "name": "stdout",
     "output_type": "stream",
     "text": [
      "Working path is a file:\n",
      "Results_3_Full_8_14_2024.csv\n"
     ]
    }
   ],
   "source": [
    "working_path = \"/Users/Daniel/Desktop/particle_analysis/flowcam_results/Results_3_Full_8_14_2024.csv\"\n",
    "\n",
    "if os.path.isfile(working_path): \n",
    "    print(\"Working path is a file:\")\n",
    "    print( working_path.split(\"/\")[-1] )    # Use string method to show output file\n",
    "\n",
    "else:\n",
    "    print(\"Error please provide a valid file path.\")"
   ]
  },
  {
   "cell_type": "markdown",
   "metadata": {},
   "source": [
    "## Create a pandas dataframe"
   ]
  },
  {
   "cell_type": "code",
   "execution_count": 4,
   "metadata": {},
   "outputs": [
    {
     "name": "stdout",
     "output_type": "stream",
     "text": [
      "This dataframe has a shape of (144, 43).\n",
      "\n"
     ]
    }
   ],
   "source": [
    "\n",
    "# File not encoded with UFT-8\n",
    "\n",
    "# 1. Try encoding method \"ISO-8859-1\" (latin1)\n",
    "method = \"latin1\"   \n",
    "try: \n",
    "    df = pd.read_csv( working_path, encoding= method )\n",
    "except UnicodeDecodeError:\n",
    "    print( \"The file could not be decoded with {method} encoding. Try another encoding.\".format(method) )\n",
    "\n",
    "print( f\"This dataframe has a shape of {df.shape}.\\n\" )"
   ]
  },
  {
   "cell_type": "markdown",
   "metadata": {},
   "source": [
    "Information about the dataframe"
   ]
  },
  {
   "cell_type": "code",
   "execution_count": 5,
   "metadata": {},
   "outputs": [
    {
     "data": {
      "text/plain": [
       "Name                              object\n",
       "Area (ABD) (µm²)                 float64\n",
       "Area (Filled) (µm²)              float64\n",
       "Aspect Ratio                     float64\n",
       "Biovolume (Cylinder) (µm³)       float64\n",
       "Biovolume (P. Spheroid) (µm³)    float64\n",
       "Biovolume (Sphere) (µm³)         float64\n",
       "Capture ID                       float64\n",
       "Capture X (px)                   float64\n",
       "Capture Y (px)                   float64\n",
       "Ch1 Area                         float64\n",
       "Ch2 Area                         float64\n",
       "Ch2/Ch1 Ratio                    float64\n",
       "Circle Fit                       float64\n",
       "Circularity                      float64\n",
       "Circularity (Hu)                 float64\n",
       "Convex Perimeter (µm)            float64\n",
       "Convexity                        float64\n",
       "Diameter (ABD) (µm)              float64\n",
       "Diameter (ESD) (µm)              float64\n",
       "Diameter (FD) (µm)               float64\n",
       "Edge Gradient                    float64\n",
       "Elongation                       float64\n",
       "Feret Angle Max (°)              float64\n",
       "Feret Angle Min (°)              float64\n",
       "Fiber Straightness               float64\n",
       "Geodesic Aspect Ratio            float64\n",
       "Geodesic Length (µm)             float64\n",
       "Geodesic Thickness (µm)          float64\n",
       "Length (µm)                      float64\n",
       "Particles Per Chain              float64\n",
       "Perimeter (µm)                   float64\n",
       "Roughness                        float64\n",
       "Sphere Complement (µm³)          float64\n",
       "Sphere Count                     float64\n",
       "Sphere Unknown (µm³)             float64\n",
       "Sphere Volume (µm³)              float64\n",
       "Sqrt Circularity                 float64\n",
       "Symmetry                         float64\n",
       "Timestamp                         object\n",
       "Volume (ABD) (µm³)               float64\n",
       "Volume (ESD) (µm³)               float64\n",
       "Width (µm)                       float64\n",
       "dtype: object"
      ]
     },
     "execution_count": 5,
     "metadata": {},
     "output_type": "execute_result"
    }
   ],
   "source": [
    "# df.filter( like=\"Circularity\")\n",
    "df.dtypes\n"
   ]
  },
  {
   "cell_type": "markdown",
   "metadata": {},
   "source": [
    "* Since Area (ABD) and Area (filled) are identical, I will omit one. This could explain why Area (ESD) doesn't exist?"
   ]
  },
  {
   "cell_type": "code",
   "execution_count": 6,
   "metadata": {},
   "outputs": [
    {
     "data": {
      "text/plain": [
       "Index(['Name', 'Area (ABD) (µm²)', 'Area (Filled) (µm²)', 'Aspect Ratio',\n",
       "       'Biovolume (Cylinder) (µm³)', 'Biovolume (P. Spheroid) (µm³)',\n",
       "       'Biovolume (Sphere) (µm³)', 'Capture ID', 'Capture X (px)',\n",
       "       'Capture Y (px)', 'Ch1 Area', 'Ch2 Area', 'Ch2/Ch1 Ratio', 'Circle Fit',\n",
       "       'Circularity', 'Circularity (Hu)', 'Convex Perimeter (µm)', 'Convexity',\n",
       "       'Diameter (ABD) (µm)', 'Diameter (ESD) (µm)', 'Diameter (FD) (µm)',\n",
       "       'Edge Gradient', 'Elongation', 'Feret Angle Max (°)',\n",
       "       'Feret Angle Min (°)', 'Fiber Straightness', 'Geodesic Aspect Ratio',\n",
       "       'Geodesic Length (µm)', 'Geodesic Thickness (µm)', 'Length (µm)',\n",
       "       'Particles Per Chain', 'Perimeter (µm)', 'Roughness',\n",
       "       'Sphere Complement (µm³)', 'Sphere Count', 'Sphere Unknown (µm³)',\n",
       "       'Sphere Volume (µm³)', 'Sqrt Circularity', 'Symmetry', 'Timestamp',\n",
       "       'Volume (ABD) (µm³)', 'Volume (ESD) (µm³)', 'Width (µm)'],\n",
       "      dtype='object')"
      ]
     },
     "execution_count": 6,
     "metadata": {},
     "output_type": "execute_result"
    }
   ],
   "source": [
    "df.columns"
   ]
  },
  {
   "cell_type": "markdown",
   "metadata": {},
   "source": [
    "## Create subsets from the intial dataframe"
   ]
  },
  {
   "cell_type": "code",
   "execution_count": 7,
   "metadata": {},
   "outputs": [],
   "source": [
    "relavent_data = pd.DataFrame( \n",
    "    {\n",
    "    \"Area (Filled) (µm²)\": df[\"Area (Filled) (µm²)\"],\n",
    "    'Aspect Ratio': df['Aspect Ratio'],\n",
    "    'Diameter (FD) (µm)': df['Diameter (FD) (µm)'],\n",
    "    'Convexity': df['Convexity'],\n",
    "    'Convex Perimeter (µm)': df['Convex Perimeter (µm)'],\n",
    "    'Circularity': df['Circularity'],\n",
    "    'Elongation': df['Elongation'],\n",
    "    'Perimeter (µm)': df['Perimeter (µm)'],\n",
    "    'Roughness': df['Roughness']\n",
    "    } )"
   ]
  },
  {
   "cell_type": "code",
   "execution_count": 8,
   "metadata": {},
   "outputs": [
    {
     "data": {
      "text/html": [
       "<div>\n",
       "<style scoped>\n",
       "    .dataframe tbody tr th:only-of-type {\n",
       "        vertical-align: middle;\n",
       "    }\n",
       "\n",
       "    .dataframe tbody tr th {\n",
       "        vertical-align: top;\n",
       "    }\n",
       "\n",
       "    .dataframe thead th {\n",
       "        text-align: right;\n",
       "    }\n",
       "</style>\n",
       "<table border=\"1\" class=\"dataframe\">\n",
       "  <thead>\n",
       "    <tr style=\"text-align: right;\">\n",
       "      <th></th>\n",
       "      <th>Convex Perimeter (µm)</th>\n",
       "      <th>Perimeter (µm)</th>\n",
       "    </tr>\n",
       "  </thead>\n",
       "  <tbody>\n",
       "    <tr>\n",
       "      <th>0</th>\n",
       "      <td>316.46</td>\n",
       "      <td>342.68</td>\n",
       "    </tr>\n",
       "    <tr>\n",
       "      <th>1</th>\n",
       "      <td>332.28</td>\n",
       "      <td>368.14</td>\n",
       "    </tr>\n",
       "    <tr>\n",
       "      <th>2</th>\n",
       "      <td>291.09</td>\n",
       "      <td>318.11</td>\n",
       "    </tr>\n",
       "    <tr>\n",
       "      <th>3</th>\n",
       "      <td>226.76</td>\n",
       "      <td>245.22</td>\n",
       "    </tr>\n",
       "    <tr>\n",
       "      <th>4</th>\n",
       "      <td>239.80</td>\n",
       "      <td>268.72</td>\n",
       "    </tr>\n",
       "    <tr>\n",
       "      <th>...</th>\n",
       "      <td>...</td>\n",
       "      <td>...</td>\n",
       "    </tr>\n",
       "    <tr>\n",
       "      <th>139</th>\n",
       "      <td>258.07</td>\n",
       "      <td>285.77</td>\n",
       "    </tr>\n",
       "    <tr>\n",
       "      <th>140</th>\n",
       "      <td>176.78</td>\n",
       "      <td>193.23</td>\n",
       "    </tr>\n",
       "    <tr>\n",
       "      <th>141</th>\n",
       "      <td>167.69</td>\n",
       "      <td>184.39</td>\n",
       "    </tr>\n",
       "    <tr>\n",
       "      <th>142</th>\n",
       "      <td>170.84</td>\n",
       "      <td>186.98</td>\n",
       "    </tr>\n",
       "    <tr>\n",
       "      <th>143</th>\n",
       "      <td>205.68</td>\n",
       "      <td>231.19</td>\n",
       "    </tr>\n",
       "  </tbody>\n",
       "</table>\n",
       "<p>144 rows × 2 columns</p>\n",
       "</div>"
      ],
      "text/plain": [
       "     Convex Perimeter (µm)  Perimeter (µm)\n",
       "0                   316.46          342.68\n",
       "1                   332.28          368.14\n",
       "2                   291.09          318.11\n",
       "3                   226.76          245.22\n",
       "4                   239.80          268.72\n",
       "..                     ...             ...\n",
       "139                 258.07          285.77\n",
       "140                 176.78          193.23\n",
       "141                 167.69          184.39\n",
       "142                 170.84          186.98\n",
       "143                 205.68          231.19\n",
       "\n",
       "[144 rows x 2 columns]"
      ]
     },
     "execution_count": 8,
     "metadata": {},
     "output_type": "execute_result"
    }
   ],
   "source": [
    "relavent_data.filter( like=\"Perim\", axis=\"columns\" )"
   ]
  },
  {
   "cell_type": "code",
   "execution_count": 9,
   "metadata": {},
   "outputs": [
    {
     "name": "stdout",
     "output_type": "stream",
     "text": [
      "['Name', 'Area (ABD) (µm²)', 'Area (Filled) (µm²)', 'Aspect Ratio', 'Biovolume (Cylinder) (µm³)', 'Biovolume (P. Spheroid) (µm³)', 'Biovolume (Sphere) (µm³)', 'Capture ID', 'Capture X (px)', 'Capture Y (px)', 'Ch1 Area', 'Ch2 Area', 'Ch2/Ch1 Ratio', 'Circle Fit', 'Circularity', 'Circularity (Hu)', 'Convex Perimeter (µm)', 'Convexity', 'Diameter (ABD) (µm)', 'Diameter (ESD) (µm)', 'Diameter (FD) (µm)', 'Edge Gradient', 'Elongation', 'Feret Angle Max (°)', 'Feret Angle Min (°)', 'Fiber Straightness', 'Geodesic Aspect Ratio', 'Geodesic Length (µm)', 'Geodesic Thickness (µm)', 'Length (µm)', 'Particles Per Chain', 'Perimeter (µm)', 'Roughness', 'Sphere Complement (µm³)', 'Sphere Count', 'Sphere Unknown (µm³)', 'Sphere Volume (µm³)', 'Sqrt Circularity', 'Symmetry', 'Timestamp', 'Volume (ABD) (µm³)', 'Volume (ESD) (µm³)', 'Width (µm)']\n"
     ]
    }
   ],
   "source": [
    "# Create a list of all column names in dataframe\n",
    "column_names = df.columns.tolist()\n",
    "print(column_names)\n"
   ]
  },
  {
   "cell_type": "markdown",
   "metadata": {},
   "source": [
    "#### Find index of relavent columns"
   ]
  },
  {
   "cell_type": "code",
   "execution_count": 10,
   "metadata": {},
   "outputs": [
    {
     "name": "stdout",
     "output_type": "stream",
     "text": [
      "2\n",
      "31\n"
     ]
    }
   ],
   "source": [
    "\n",
    "# Grab index for a specific column name\n",
    "area_filled_index = column_names.index(\"Area (Filled) (µm²)\")\n",
    "print( area_filled_index )\n",
    "\n",
    "perimeter_index = column_names.index(\"Perimeter (µm)\")\n",
    "print( perimeter_index )\n"
   ]
  },
  {
   "cell_type": "markdown",
   "metadata": {},
   "source": [
    "### Effecive Diameter "
   ]
  },
  {
   "cell_type": "code",
   "execution_count": 11,
   "metadata": {},
   "outputs": [
    {
     "name": "stdout",
     "output_type": "stream",
     "text": [
      "A KeyError has occured: <class 'KeyError'>. \n",
      "The input dataframe consist of one file.\n",
      "\n",
      "\n",
      "Added Effective Diameter column\n",
      "\n",
      "index of diameter data is:  2\n",
      "['Area_µm^2', 'Perim_µm', 'eff_diameter_µm', 'eff_radius_µm']\n",
      "<class 'str'>\n"
     ]
    }
   ],
   "source": [
    "\n",
    "\n",
    "# Add effective diameter column\n",
    "diameter_data = add_eff_diameter( \n",
    "    df = relavent_data,\n",
    "    area_column_name = column_names[ area_filled_index ],\n",
    "    perimeter_column_name = column_names[ perimeter_index ],\n",
    "    unit=\"µm\")\n",
    "print(\"\\nAdded Effective Diameter column\\n\")\n",
    "print( \"index of diameter data is: \", diameter_data.columns.tolist().index(\"eff_diameter_µm\") )\n",
    "\n",
    "print( diameter_data.columns.tolist() )\n",
    "print( type(diameter_data.columns[2]) )"
   ]
  },
  {
   "cell_type": "code",
   "execution_count": 12,
   "metadata": {},
   "outputs": [
    {
     "data": {
      "text/html": [
       "<div>\n",
       "<style scoped>\n",
       "    .dataframe tbody tr th:only-of-type {\n",
       "        vertical-align: middle;\n",
       "    }\n",
       "\n",
       "    .dataframe tbody tr th {\n",
       "        vertical-align: top;\n",
       "    }\n",
       "\n",
       "    .dataframe thead th {\n",
       "        text-align: right;\n",
       "    }\n",
       "</style>\n",
       "<table border=\"1\" class=\"dataframe\">\n",
       "  <thead>\n",
       "    <tr style=\"text-align: right;\">\n",
       "      <th></th>\n",
       "      <th>Area_µm^2</th>\n",
       "      <th>Perim_µm</th>\n",
       "      <th>eff_diameter_µm</th>\n",
       "      <th>eff_radius_µm</th>\n",
       "    </tr>\n",
       "  </thead>\n",
       "  <tbody>\n",
       "    <tr>\n",
       "      <th>0</th>\n",
       "      <td>7136.33</td>\n",
       "      <td>342.68</td>\n",
       "      <td>95.321863</td>\n",
       "      <td>47.660931</td>\n",
       "    </tr>\n",
       "    <tr>\n",
       "      <th>1</th>\n",
       "      <td>7262.97</td>\n",
       "      <td>368.14</td>\n",
       "      <td>96.163926</td>\n",
       "      <td>48.081963</td>\n",
       "    </tr>\n",
       "    <tr>\n",
       "      <th>2</th>\n",
       "      <td>5884.41</td>\n",
       "      <td>318.11</td>\n",
       "      <td>86.557862</td>\n",
       "      <td>43.278931</td>\n",
       "    </tr>\n",
       "    <tr>\n",
       "      <th>3</th>\n",
       "      <td>3542.34</td>\n",
       "      <td>245.22</td>\n",
       "      <td>67.158375</td>\n",
       "      <td>33.579188</td>\n",
       "    </tr>\n",
       "    <tr>\n",
       "      <th>4</th>\n",
       "      <td>3724.86</td>\n",
       "      <td>268.72</td>\n",
       "      <td>68.866821</td>\n",
       "      <td>34.433411</td>\n",
       "    </tr>\n",
       "    <tr>\n",
       "      <th>...</th>\n",
       "      <td>...</td>\n",
       "      <td>...</td>\n",
       "      <td>...</td>\n",
       "      <td>...</td>\n",
       "    </tr>\n",
       "    <tr>\n",
       "      <th>139</th>\n",
       "      <td>4408.07</td>\n",
       "      <td>285.77</td>\n",
       "      <td>74.916814</td>\n",
       "      <td>37.458407</td>\n",
       "    </tr>\n",
       "    <tr>\n",
       "      <th>140</th>\n",
       "      <td>2081.38</td>\n",
       "      <td>193.23</td>\n",
       "      <td>51.479077</td>\n",
       "      <td>25.739538</td>\n",
       "    </tr>\n",
       "    <tr>\n",
       "      <th>141</th>\n",
       "      <td>1833.77</td>\n",
       "      <td>184.39</td>\n",
       "      <td>48.320063</td>\n",
       "      <td>24.160031</td>\n",
       "    </tr>\n",
       "    <tr>\n",
       "      <th>142</th>\n",
       "      <td>1925.64</td>\n",
       "      <td>186.98</td>\n",
       "      <td>49.515664</td>\n",
       "      <td>24.757832</td>\n",
       "    </tr>\n",
       "    <tr>\n",
       "      <th>143</th>\n",
       "      <td>2541.44</td>\n",
       "      <td>231.19</td>\n",
       "      <td>56.884637</td>\n",
       "      <td>28.442318</td>\n",
       "    </tr>\n",
       "  </tbody>\n",
       "</table>\n",
       "<p>144 rows × 4 columns</p>\n",
       "</div>"
      ],
      "text/plain": [
       "     Area_µm^2  Perim_µm  eff_diameter_µm  eff_radius_µm\n",
       "0      7136.33    342.68        95.321863      47.660931\n",
       "1      7262.97    368.14        96.163926      48.081963\n",
       "2      5884.41    318.11        86.557862      43.278931\n",
       "3      3542.34    245.22        67.158375      33.579188\n",
       "4      3724.86    268.72        68.866821      34.433411\n",
       "..         ...       ...              ...            ...\n",
       "139    4408.07    285.77        74.916814      37.458407\n",
       "140    2081.38    193.23        51.479077      25.739538\n",
       "141    1833.77    184.39        48.320063      24.160031\n",
       "142    1925.64    186.98        49.515664      24.757832\n",
       "143    2541.44    231.19        56.884637      28.442318\n",
       "\n",
       "[144 rows x 4 columns]"
      ]
     },
     "execution_count": 12,
     "metadata": {},
     "output_type": "execute_result"
    }
   ],
   "source": [
    "diameter_data"
   ]
  },
  {
   "cell_type": "markdown",
   "metadata": {},
   "source": [
    "#### Determine cumulative frequency for Eff. Diameter "
   ]
  },
  {
   "cell_type": "code",
   "execution_count": 13,
   "metadata": {},
   "outputs": [
    {
     "name": "stdout",
     "output_type": "stream",
     "text": [
      "Target column exist.\n",
      "\n",
      "123     30.312263\n",
      "9       39.112786\n",
      "47      43.343569\n",
      "63      44.611380\n",
      "31      45.572411\n",
      "          ...    \n",
      "30     107.107020\n",
      "35     110.985542\n",
      "53     114.568055\n",
      "15     145.128775\n",
      "8      180.918068\n",
      "Name: eff_diameter_µm, Length: 144, dtype: float64\n",
      "\n",
      "total_particles:  144\n",
      "\n",
      "Added Diamter-cumulative frequency column\n",
      "\n"
     ]
    }
   ],
   "source": [
    "\n",
    "diameter_data = add_cumulative_frequency(\n",
    "    df= diameter_data,\n",
    "    target_column_name= diameter_data.columns[2],\n",
    "    suffix=\"dia\"\n",
    ")\n",
    "print(\"\\nAdded Diamter-cumulative frequency column\\n\")\n",
    "\n",
    "\n",
    "\n"
   ]
  },
  {
   "cell_type": "markdown",
   "metadata": {},
   "source": [
    "#### Determine cumulative percentage for Effective Diameter"
   ]
  },
  {
   "cell_type": "code",
   "execution_count": 14,
   "metadata": {},
   "outputs": [
    {
     "name": "stdout",
     "output_type": "stream",
     "text": [
      "Target column exist.\n",
      "\n",
      "123     30.312263\n",
      "9       39.112786\n",
      "47      43.343569\n",
      "63      44.611380\n",
      "31      45.572411\n",
      "          ...    \n",
      "30     107.107020\n",
      "35     110.985542\n",
      "53     114.568055\n",
      "15     145.128775\n",
      "8      180.918068\n",
      "Name: eff_diameter_µm, Length: 144, dtype: float64\n",
      "\n",
      "total_particles:  144\n",
      "\n",
      "Added Diamter-cumulative percentage column\n",
      "\n"
     ]
    },
    {
     "data": {
      "text/html": [
       "<div>\n",
       "<style scoped>\n",
       "    .dataframe tbody tr th:only-of-type {\n",
       "        vertical-align: middle;\n",
       "    }\n",
       "\n",
       "    .dataframe tbody tr th {\n",
       "        vertical-align: top;\n",
       "    }\n",
       "\n",
       "    .dataframe thead th {\n",
       "        text-align: right;\n",
       "    }\n",
       "</style>\n",
       "<table border=\"1\" class=\"dataframe\">\n",
       "  <thead>\n",
       "    <tr style=\"text-align: right;\">\n",
       "      <th></th>\n",
       "      <th>Area_µm^2</th>\n",
       "      <th>Perim_µm</th>\n",
       "      <th>eff_diameter_µm</th>\n",
       "      <th>eff_radius_µm</th>\n",
       "      <th>Particle_number</th>\n",
       "      <th>cumulative_frequency_dia</th>\n",
       "      <th>cumulative_%_particle_dia</th>\n",
       "    </tr>\n",
       "  </thead>\n",
       "  <tbody>\n",
       "    <tr>\n",
       "      <th>123</th>\n",
       "      <td>721.65</td>\n",
       "      <td>122.92</td>\n",
       "      <td>30.312263</td>\n",
       "      <td>15.156132</td>\n",
       "      <td>1</td>\n",
       "      <td>1</td>\n",
       "      <td>0.694444</td>\n",
       "    </tr>\n",
       "    <tr>\n",
       "      <th>9</th>\n",
       "      <td>1201.51</td>\n",
       "      <td>151.60</td>\n",
       "      <td>39.112786</td>\n",
       "      <td>19.556393</td>\n",
       "      <td>2</td>\n",
       "      <td>2</td>\n",
       "      <td>1.388889</td>\n",
       "    </tr>\n",
       "    <tr>\n",
       "      <th>47</th>\n",
       "      <td>1475.50</td>\n",
       "      <td>166.70</td>\n",
       "      <td>43.343569</td>\n",
       "      <td>21.671784</td>\n",
       "      <td>3</td>\n",
       "      <td>3</td>\n",
       "      <td>2.083333</td>\n",
       "    </tr>\n",
       "    <tr>\n",
       "      <th>63</th>\n",
       "      <td>1563.08</td>\n",
       "      <td>172.32</td>\n",
       "      <td>44.611380</td>\n",
       "      <td>22.305690</td>\n",
       "      <td>4</td>\n",
       "      <td>4</td>\n",
       "      <td>2.777778</td>\n",
       "    </tr>\n",
       "    <tr>\n",
       "      <th>31</th>\n",
       "      <td>1631.15</td>\n",
       "      <td>174.47</td>\n",
       "      <td>45.572411</td>\n",
       "      <td>22.786206</td>\n",
       "      <td>5</td>\n",
       "      <td>5</td>\n",
       "      <td>3.472222</td>\n",
       "    </tr>\n",
       "  </tbody>\n",
       "</table>\n",
       "</div>"
      ],
      "text/plain": [
       "     Area_µm^2  Perim_µm  eff_diameter_µm  eff_radius_µm  Particle_number  \\\n",
       "123     721.65    122.92        30.312263      15.156132                1   \n",
       "9      1201.51    151.60        39.112786      19.556393                2   \n",
       "47     1475.50    166.70        43.343569      21.671784                3   \n",
       "63     1563.08    172.32        44.611380      22.305690                4   \n",
       "31     1631.15    174.47        45.572411      22.786206                5   \n",
       "\n",
       "     cumulative_frequency_dia  cumulative_%_particle_dia  \n",
       "123                         1                   0.694444  \n",
       "9                           2                   1.388889  \n",
       "47                          3                   2.083333  \n",
       "63                          4                   2.777778  \n",
       "31                          5                   3.472222  "
      ]
     },
     "execution_count": 14,
     "metadata": {},
     "output_type": "execute_result"
    }
   ],
   "source": [
    "\n",
    "diameter_data = add_cumulative_percentage(\n",
    "    df= diameter_data,\n",
    "    target_column_name= diameter_data.columns[2],\n",
    "    column_suffix=\"dia\"\n",
    ")\n",
    "print(\"\\nAdded Diamter-cumulative percentage column\\n\")\n",
    "\n",
    "diameter_data.head()\n"
   ]
  },
  {
   "cell_type": "markdown",
   "metadata": {},
   "source": [
    "### Sphericity"
   ]
  },
  {
   "cell_type": "markdown",
   "metadata": {},
   "source": [
    "#### Add effective diameter column"
   ]
  },
  {
   "cell_type": "code",
   "execution_count": 15,
   "metadata": {},
   "outputs": [
    {
     "name": "stdout",
     "output_type": "stream",
     "text": [
      "\n",
      "Added Sphericity column\n",
      "\n"
     ]
    }
   ],
   "source": [
    "\n",
    "sph_data = add_sphericity( \n",
    "    df= relavent_data, \n",
    "    area_column_name=column_names[area_filled_index], \n",
    "    perim_column_name=column_names[perimeter_index] )\n",
    "print(\"\\nAdded Sphericity column\\n\")\n"
   ]
  },
  {
   "cell_type": "markdown",
   "metadata": {},
   "source": [
    "#### Determine cumulative frequency for Sphericity"
   ]
  },
  {
   "cell_type": "code",
   "execution_count": 16,
   "metadata": {},
   "outputs": [
    {
     "name": "stdout",
     "output_type": "stream",
     "text": [
      "Target column exist.\n",
      "\n",
      "8      0.533987\n",
      "16     0.709129\n",
      "72     0.709143\n",
      "106    0.732586\n",
      "15     0.735095\n",
      "         ...   \n",
      "87     0.880727\n",
      "52     0.881548\n",
      "34     0.881871\n",
      "60     0.882747\n",
      "35     0.883450\n",
      "Name: Sphericity, Length: 144, dtype: float64\n",
      "\n",
      "total_particles:  144\n",
      "\n",
      "Added sphericity-cumulative frequency column\n",
      "\n"
     ]
    }
   ],
   "source": [
    "sph_data = add_cumulative_frequency(\n",
    "    df= sph_data,\n",
    "    target_column_name=\"Sphericity\",\n",
    "    suffix=\"sph\"\n",
    ")\n",
    "print(\"\\nAdded sphericity-cumulative frequency column\\n\")"
   ]
  },
  {
   "cell_type": "markdown",
   "metadata": {},
   "source": [
    "#### Determine cumulative percentage for Sphericity "
   ]
  },
  {
   "cell_type": "code",
   "execution_count": 17,
   "metadata": {},
   "outputs": [
    {
     "name": "stdout",
     "output_type": "stream",
     "text": [
      "Target column exist.\n",
      "\n",
      "8      0.533987\n",
      "16     0.709129\n",
      "72     0.709143\n",
      "106    0.732586\n",
      "15     0.735095\n",
      "         ...   \n",
      "87     0.880727\n",
      "52     0.881548\n",
      "34     0.881871\n",
      "60     0.882747\n",
      "35     0.883450\n",
      "Name: Sphericity, Length: 144, dtype: float64\n",
      "\n",
      "total_particles:  144\n",
      "\n",
      "Added sphericity-cumulative percentage column\n",
      "\n"
     ]
    },
    {
     "data": {
      "text/html": [
       "<div>\n",
       "<style scoped>\n",
       "    .dataframe tbody tr th:only-of-type {\n",
       "        vertical-align: middle;\n",
       "    }\n",
       "\n",
       "    .dataframe tbody tr th {\n",
       "        vertical-align: top;\n",
       "    }\n",
       "\n",
       "    .dataframe thead th {\n",
       "        text-align: right;\n",
       "    }\n",
       "</style>\n",
       "<table border=\"1\" class=\"dataframe\">\n",
       "  <thead>\n",
       "    <tr style=\"text-align: right;\">\n",
       "      <th></th>\n",
       "      <th>Area (Filled) (µm²)</th>\n",
       "      <th>Aspect Ratio</th>\n",
       "      <th>Diameter (FD) (µm)</th>\n",
       "      <th>Convexity</th>\n",
       "      <th>Convex Perimeter (µm)</th>\n",
       "      <th>Circularity</th>\n",
       "      <th>Elongation</th>\n",
       "      <th>Perimeter (µm)</th>\n",
       "      <th>Roughness</th>\n",
       "      <th>Sphericity</th>\n",
       "      <th>Particle_number</th>\n",
       "      <th>cumulative_frequency_sph</th>\n",
       "      <th>cumulative_%_particle_sph</th>\n",
       "    </tr>\n",
       "  </thead>\n",
       "  <tbody>\n",
       "    <tr>\n",
       "      <th>8</th>\n",
       "      <td>25707.14</td>\n",
       "      <td>0.63</td>\n",
       "      <td>180.92</td>\n",
       "      <td>0.80</td>\n",
       "      <td>698.95</td>\n",
       "      <td>0.31</td>\n",
       "      <td>7.95</td>\n",
       "      <td>1064.39</td>\n",
       "      <td>1.52</td>\n",
       "      <td>0.533987</td>\n",
       "      <td>1</td>\n",
       "      <td>1</td>\n",
       "      <td>0.694444</td>\n",
       "    </tr>\n",
       "    <tr>\n",
       "      <th>16</th>\n",
       "      <td>8748.50</td>\n",
       "      <td>0.56</td>\n",
       "      <td>105.54</td>\n",
       "      <td>0.92</td>\n",
       "      <td>390.13</td>\n",
       "      <td>0.58</td>\n",
       "      <td>3.05</td>\n",
       "      <td>467.57</td>\n",
       "      <td>1.20</td>\n",
       "      <td>0.709129</td>\n",
       "      <td>2</td>\n",
       "      <td>2</td>\n",
       "      <td>1.388889</td>\n",
       "    </tr>\n",
       "    <tr>\n",
       "      <th>72</th>\n",
       "      <td>3763.82</td>\n",
       "      <td>0.97</td>\n",
       "      <td>69.23</td>\n",
       "      <td>0.92</td>\n",
       "      <td>258.49</td>\n",
       "      <td>0.63</td>\n",
       "      <td>2.60</td>\n",
       "      <td>306.68</td>\n",
       "      <td>1.19</td>\n",
       "      <td>0.709143</td>\n",
       "      <td>3</td>\n",
       "      <td>3</td>\n",
       "      <td>2.083333</td>\n",
       "    </tr>\n",
       "    <tr>\n",
       "      <th>106</th>\n",
       "      <td>2395.21</td>\n",
       "      <td>0.76</td>\n",
       "      <td>55.22</td>\n",
       "      <td>0.96</td>\n",
       "      <td>206.13</td>\n",
       "      <td>0.71</td>\n",
       "      <td>1.91</td>\n",
       "      <td>236.82</td>\n",
       "      <td>1.15</td>\n",
       "      <td>0.732586</td>\n",
       "      <td>4</td>\n",
       "      <td>4</td>\n",
       "      <td>2.777778</td>\n",
       "    </tr>\n",
       "    <tr>\n",
       "      <th>15</th>\n",
       "      <td>16542.34</td>\n",
       "      <td>0.55</td>\n",
       "      <td>145.13</td>\n",
       "      <td>0.93</td>\n",
       "      <td>524.53</td>\n",
       "      <td>0.60</td>\n",
       "      <td>2.86</td>\n",
       "      <td>620.24</td>\n",
       "      <td>1.18</td>\n",
       "      <td>0.735095</td>\n",
       "      <td>5</td>\n",
       "      <td>5</td>\n",
       "      <td>3.472222</td>\n",
       "    </tr>\n",
       "  </tbody>\n",
       "</table>\n",
       "</div>"
      ],
      "text/plain": [
       "     Area (Filled) (µm²)  Aspect Ratio  Diameter (FD) (µm)  Convexity  \\\n",
       "8               25707.14          0.63              180.92       0.80   \n",
       "16               8748.50          0.56              105.54       0.92   \n",
       "72               3763.82          0.97               69.23       0.92   \n",
       "106              2395.21          0.76               55.22       0.96   \n",
       "15              16542.34          0.55              145.13       0.93   \n",
       "\n",
       "     Convex Perimeter (µm)  Circularity  Elongation  Perimeter (µm)  \\\n",
       "8                   698.95         0.31        7.95         1064.39   \n",
       "16                  390.13         0.58        3.05          467.57   \n",
       "72                  258.49         0.63        2.60          306.68   \n",
       "106                 206.13         0.71        1.91          236.82   \n",
       "15                  524.53         0.60        2.86          620.24   \n",
       "\n",
       "     Roughness  Sphericity  Particle_number  cumulative_frequency_sph  \\\n",
       "8         1.52    0.533987                1                         1   \n",
       "16        1.20    0.709129                2                         2   \n",
       "72        1.19    0.709143                3                         3   \n",
       "106       1.15    0.732586                4                         4   \n",
       "15        1.18    0.735095                5                         5   \n",
       "\n",
       "     cumulative_%_particle_sph  \n",
       "8                     0.694444  \n",
       "16                    1.388889  \n",
       "72                    2.083333  \n",
       "106                   2.777778  \n",
       "15                    3.472222  "
      ]
     },
     "execution_count": 17,
     "metadata": {},
     "output_type": "execute_result"
    }
   ],
   "source": [
    "\n",
    "sph_data = add_cumulative_percentage(\n",
    "    df= sph_data,\n",
    "    target_column_name=\"Sphericity\",\n",
    "    column_suffix=\"sph\"\n",
    ")\n",
    "print(\"\\nAdded sphericity-cumulative percentage column\\n\")\n",
    "\n",
    "sph_data.head()"
   ]
  },
  {
   "cell_type": "markdown",
   "metadata": {},
   "source": [
    "## Plots"
   ]
  },
  {
   "cell_type": "code",
   "execution_count": 18,
   "metadata": {},
   "outputs": [
    {
     "name": "stdout",
     "output_type": "stream",
     "text": [
      "columns in daimeter dataframe:  Index(['Area_µm^2', 'Perim_µm', 'eff_diameter_µm', 'eff_radius_µm',\n",
      "       'Particle_number', 'cumulative_frequency_dia',\n",
      "       'cumulative_%_particle_dia'],\n",
      "      dtype='object')\n",
      "columns in sphericity datafram:  Index(['Area (Filled) (µm²)', 'Aspect Ratio', 'Diameter (FD) (µm)',\n",
      "       'Convexity', 'Convex Perimeter (µm)', 'Circularity', 'Elongation',\n",
      "       'Perimeter (µm)', 'Roughness', 'Sphericity', 'Particle_number',\n",
      "       'cumulative_frequency_sph', 'cumulative_%_particle_sph'],\n",
      "      dtype='object')\n"
     ]
    }
   ],
   "source": [
    "print( \"columns in daimeter dataframe: \", diameter_data.columns )\n",
    "print(\"columns in sphericity datafram: \", sph_data.columns)"
   ]
  },
  {
   "cell_type": "markdown",
   "metadata": {},
   "source": [
    "### Relational plots"
   ]
  },
  {
   "cell_type": "code",
   "execution_count": 19,
   "metadata": {},
   "outputs": [
    {
     "data": {
      "application/vnd.plotly.v1+json": {
       "config": {
        "plotlyServerURL": "https://plot.ly"
       },
       "data": [
        {
         "hovertemplate": "<b>%{hovertext}</b><br><br>eff_diameter_µm=%{x}<br>cumulative_%_particle_dia=%{y}<extra></extra>",
         "hovertext": [
          1,
          2,
          3,
          4,
          5,
          6,
          7,
          8,
          9,
          10,
          11,
          12,
          13,
          14,
          15,
          16,
          17,
          18,
          19,
          20,
          21,
          22,
          23,
          24,
          25,
          26,
          27,
          28,
          29,
          30,
          31,
          32,
          33,
          34,
          35,
          36,
          37,
          38,
          39,
          40,
          41,
          42,
          43,
          44,
          45,
          46,
          47,
          48,
          49,
          50,
          51,
          52,
          53,
          54,
          55,
          56,
          57,
          58,
          59,
          60,
          61,
          62,
          63,
          64,
          65,
          66,
          67,
          68,
          69,
          70,
          71,
          72,
          73,
          74,
          75,
          76,
          77,
          78,
          79,
          80,
          81,
          82,
          83,
          84,
          85,
          86,
          87,
          88,
          89,
          90,
          91,
          92,
          93,
          94,
          95,
          96,
          97,
          98,
          99,
          100,
          101,
          102,
          103,
          104,
          105,
          106,
          107,
          108,
          109,
          110,
          111,
          112,
          113,
          114,
          115,
          116,
          117,
          118,
          119,
          120,
          121,
          122,
          123,
          124,
          125,
          126,
          127,
          128,
          129,
          130,
          131,
          132,
          133,
          134,
          135,
          136,
          137,
          138,
          139,
          140,
          141,
          142,
          143,
          144
         ],
         "legendgroup": "",
         "marker": {
          "color": "#636efa",
          "symbol": "circle"
         },
         "mode": "markers",
         "name": "",
         "orientation": "v",
         "showlegend": false,
         "type": "scatter",
         "x": [
          30.31226348292272,
          39.112786213650715,
          43.34356870698043,
          44.61138047163121,
          45.57241142834951,
          45.77048631296643,
          45.84955997973143,
          46.32130482604842,
          46.43852653239263,
          46.672495916868996,
          46.98273301459814,
          47.32968896813821,
          47.521511454445225,
          47.55980988200974,
          47.67452056714088,
          47.71269617622422,
          48.20662423219735,
          48.32006291333859,
          48.62135945348735,
          48.65879221891113,
          48.88356825318203,
          48.88356825318203,
          49.0702248316217,
          49.21906629950339,
          49.33043494913183,
          49.404584196739826,
          49.441681499940834,
          49.51566415715151,
          49.552678301103526,
          49.737079844578204,
          49.81075156272612,
          50.1774876825454,
          50.21401398037038,
          50.5419406652209,
          50.5419406652209,
          50.8318220694399,
          51.012348641531624,
          51.012348641531624,
          51.33579591365354,
          51.479076561462065,
          51.621959524542056,
          52.0839582714471,
          52.22543016141967,
          52.366519856381565,
          52.75290270066526,
          52.82285047879677,
          53.1020798776236,
          53.171568311353965,
          53.31051228602858,
          53.3452514032316,
          53.89755978608923,
          54.00057714618059,
          55.19020049315351,
          55.2238724642261,
          55.55946980174825,
          55.99319411635053,
          56.22544798249314,
          56.851836528872646,
          56.884636841345234,
          56.98303621750425,
          57.01576105281307,
          57.08115443965393,
          57.14647299611562,
          57.43981981062249,
          57.5372697290239,
          57.569790099773435,
          58.151280657189524,
          58.44012857642828,
          58.95065744671685,
          59.362611323733184,
          59.6778182623658,
          59.74061745139943,
          59.77204555752981,
          60.02277193692176,
          60.02277193692176,
          60.085316544940156,
          60.24139397117652,
          60.30381740238248,
          60.36607082305279,
          60.36607082305279,
          60.76958262762883,
          60.92411608560231,
          61.17074493616154,
          61.2629877724449,
          61.84434061105589,
          63.112719194667335,
          63.262233591526,
          63.73854257636558,
          63.94585568974906,
          64.00506413703049,
          64.12321774031842,
          64.18216338102054,
          65.46826366298812,
          66.24652491107106,
          66.58976476073576,
          66.90298915249772,
          67.07338624653097,
          67.15837526993306,
          67.83511116104923,
          68.86682111584807,
          69.22603891069531,
          69.58367677202983,
          70.48405812678739,
          71.37424148855928,
          72.25460377896225,
          72.49298282535453,
          72.73075563590939,
          72.86254549018669,
          74.91681413381598,
          75.50534673456023,
          76.4436704359858,
          76.82116085193178,
          78.21572451706787,
          79.4177755340537,
          79.49084862690374,
          80.29050132948167,
          80.43515374403384,
          81.98697736898302,
          82.24699941294243,
          82.24699941294243,
          82.24699941294243,
          85.15062013065554,
          86.26449507626927,
          86.55786220462609,
          86.78284874726272,
          86.94005880447084,
          88.96051471887273,
          89.2895211795722,
          89.70465345960608,
          95.01207205909783,
          95.32186297109328,
          96.16392575298258,
          96.16392575298258,
          97.56598181899005,
          97.64666293054705,
          99.46647957181408,
          99.80301641348977,
          105.54115859282373,
          106.38269981602565,
          107.10702013805964,
          110.98554164574554,
          114.56805488036463,
          145.1287754046532,
          180.9180677269219
         ],
         "xaxis": "x",
         "y": [
          0.6944444444444444,
          1.3888888888888888,
          2.083333333333333,
          2.7777777777777777,
          3.4722222222222223,
          4.166666666666666,
          4.861111111111112,
          5.555555555555555,
          6.25,
          6.944444444444445,
          7.638888888888889,
          8.333333333333332,
          9.027777777777777,
          9.722222222222223,
          10.416666666666668,
          11.11111111111111,
          11.805555555555555,
          12.5,
          13.194444444444445,
          13.88888888888889,
          15.277777777777779,
          15.277777777777779,
          15.972222222222221,
          16.666666666666664,
          17.36111111111111,
          18.055555555555554,
          18.75,
          19.444444444444446,
          20.13888888888889,
          20.833333333333336,
          21.52777777777778,
          22.22222222222222,
          23.61111111111111,
          24.305555555555554,
          25,
          25.694444444444443,
          26.38888888888889,
          26.38888888888889,
          27.083333333333332,
          27.77777777777778,
          28.47222222222222,
          29.166666666666668,
          29.86111111111111,
          30.555555555555557,
          31.25,
          31.944444444444443,
          32.63888888888889,
          33.33333333333333,
          34.02777777777778,
          34.72222222222222,
          35.41666666666667,
          36.11111111111111,
          36.80555555555556,
          37.5,
          38.19444444444444,
          38.88888888888889,
          39.58333333333333,
          40.27777777777778,
          40.97222222222222,
          41.66666666666667,
          42.36111111111111,
          43.05555555555556,
          43.75,
          44.44444444444444,
          45.13888888888889,
          45.83333333333333,
          46.52777777777778,
          47.22222222222222,
          47.91666666666667,
          48.61111111111111,
          50,
          50.69444444444444,
          51.388888888888886,
          52.083333333333336,
          52.77777777777778,
          53.47222222222222,
          54.166666666666664,
          54.861111111111114,
          55.55555555555556,
          55.55555555555556,
          56.25,
          56.94444444444444,
          57.638888888888886,
          58.333333333333336,
          59.02777777777778,
          59.72222222222222,
          60.416666666666664,
          61.111111111111114,
          61.80555555555556,
          62.5,
          63.19444444444444,
          63.888888888888886,
          64.58333333333334,
          65.27777777777779,
          65.97222222222221,
          66.66666666666666,
          67.36111111111111,
          68.05555555555556,
          68.75,
          69.44444444444444,
          70.13888888888889,
          70.83333333333334,
          71.52777777777779,
          72.22222222222221,
          72.91666666666666,
          73.61111111111111,
          74.30555555555556,
          75,
          75.69444444444444,
          76.38888888888889,
          77.08333333333334,
          77.77777777777779,
          78.47222222222221,
          80.55555555555556,
          81.25,
          81.94444444444444,
          82.63888888888889,
          83.33333333333334,
          84.02777777777779,
          84.02777777777779,
          84.02777777777779,
          84.72222222222221,
          85.41666666666666,
          86.11111111111111,
          87.5,
          88.19444444444444,
          88.88888888888889,
          89.58333333333334,
          90.27777777777779,
          90.97222222222221,
          91.66666666666666,
          92.36111111111111,
          92.36111111111111,
          93.05555555555556,
          93.75,
          94.44444444444444,
          95.13888888888889,
          95.83333333333334,
          96.52777777777779,
          97.22222222222221,
          97.91666666666666,
          98.61111111111111,
          99.30555555555556,
          100
         ],
         "yaxis": "y"
        }
       ],
       "layout": {
        "legend": {
         "tracegroupgap": 0
        },
        "template": {
         "data": {
          "bar": [
           {
            "error_x": {
             "color": "#2a3f5f"
            },
            "error_y": {
             "color": "#2a3f5f"
            },
            "marker": {
             "line": {
              "color": "#E5ECF6",
              "width": 0.5
             },
             "pattern": {
              "fillmode": "overlay",
              "size": 10,
              "solidity": 0.2
             }
            },
            "type": "bar"
           }
          ],
          "barpolar": [
           {
            "marker": {
             "line": {
              "color": "#E5ECF6",
              "width": 0.5
             },
             "pattern": {
              "fillmode": "overlay",
              "size": 10,
              "solidity": 0.2
             }
            },
            "type": "barpolar"
           }
          ],
          "carpet": [
           {
            "aaxis": {
             "endlinecolor": "#2a3f5f",
             "gridcolor": "white",
             "linecolor": "white",
             "minorgridcolor": "white",
             "startlinecolor": "#2a3f5f"
            },
            "baxis": {
             "endlinecolor": "#2a3f5f",
             "gridcolor": "white",
             "linecolor": "white",
             "minorgridcolor": "white",
             "startlinecolor": "#2a3f5f"
            },
            "type": "carpet"
           }
          ],
          "choropleth": [
           {
            "colorbar": {
             "outlinewidth": 0,
             "ticks": ""
            },
            "type": "choropleth"
           }
          ],
          "contour": [
           {
            "colorbar": {
             "outlinewidth": 0,
             "ticks": ""
            },
            "colorscale": [
             [
              0,
              "#0d0887"
             ],
             [
              0.1111111111111111,
              "#46039f"
             ],
             [
              0.2222222222222222,
              "#7201a8"
             ],
             [
              0.3333333333333333,
              "#9c179e"
             ],
             [
              0.4444444444444444,
              "#bd3786"
             ],
             [
              0.5555555555555556,
              "#d8576b"
             ],
             [
              0.6666666666666666,
              "#ed7953"
             ],
             [
              0.7777777777777778,
              "#fb9f3a"
             ],
             [
              0.8888888888888888,
              "#fdca26"
             ],
             [
              1,
              "#f0f921"
             ]
            ],
            "type": "contour"
           }
          ],
          "contourcarpet": [
           {
            "colorbar": {
             "outlinewidth": 0,
             "ticks": ""
            },
            "type": "contourcarpet"
           }
          ],
          "heatmap": [
           {
            "colorbar": {
             "outlinewidth": 0,
             "ticks": ""
            },
            "colorscale": [
             [
              0,
              "#0d0887"
             ],
             [
              0.1111111111111111,
              "#46039f"
             ],
             [
              0.2222222222222222,
              "#7201a8"
             ],
             [
              0.3333333333333333,
              "#9c179e"
             ],
             [
              0.4444444444444444,
              "#bd3786"
             ],
             [
              0.5555555555555556,
              "#d8576b"
             ],
             [
              0.6666666666666666,
              "#ed7953"
             ],
             [
              0.7777777777777778,
              "#fb9f3a"
             ],
             [
              0.8888888888888888,
              "#fdca26"
             ],
             [
              1,
              "#f0f921"
             ]
            ],
            "type": "heatmap"
           }
          ],
          "heatmapgl": [
           {
            "colorbar": {
             "outlinewidth": 0,
             "ticks": ""
            },
            "colorscale": [
             [
              0,
              "#0d0887"
             ],
             [
              0.1111111111111111,
              "#46039f"
             ],
             [
              0.2222222222222222,
              "#7201a8"
             ],
             [
              0.3333333333333333,
              "#9c179e"
             ],
             [
              0.4444444444444444,
              "#bd3786"
             ],
             [
              0.5555555555555556,
              "#d8576b"
             ],
             [
              0.6666666666666666,
              "#ed7953"
             ],
             [
              0.7777777777777778,
              "#fb9f3a"
             ],
             [
              0.8888888888888888,
              "#fdca26"
             ],
             [
              1,
              "#f0f921"
             ]
            ],
            "type": "heatmapgl"
           }
          ],
          "histogram": [
           {
            "marker": {
             "pattern": {
              "fillmode": "overlay",
              "size": 10,
              "solidity": 0.2
             }
            },
            "type": "histogram"
           }
          ],
          "histogram2d": [
           {
            "colorbar": {
             "outlinewidth": 0,
             "ticks": ""
            },
            "colorscale": [
             [
              0,
              "#0d0887"
             ],
             [
              0.1111111111111111,
              "#46039f"
             ],
             [
              0.2222222222222222,
              "#7201a8"
             ],
             [
              0.3333333333333333,
              "#9c179e"
             ],
             [
              0.4444444444444444,
              "#bd3786"
             ],
             [
              0.5555555555555556,
              "#d8576b"
             ],
             [
              0.6666666666666666,
              "#ed7953"
             ],
             [
              0.7777777777777778,
              "#fb9f3a"
             ],
             [
              0.8888888888888888,
              "#fdca26"
             ],
             [
              1,
              "#f0f921"
             ]
            ],
            "type": "histogram2d"
           }
          ],
          "histogram2dcontour": [
           {
            "colorbar": {
             "outlinewidth": 0,
             "ticks": ""
            },
            "colorscale": [
             [
              0,
              "#0d0887"
             ],
             [
              0.1111111111111111,
              "#46039f"
             ],
             [
              0.2222222222222222,
              "#7201a8"
             ],
             [
              0.3333333333333333,
              "#9c179e"
             ],
             [
              0.4444444444444444,
              "#bd3786"
             ],
             [
              0.5555555555555556,
              "#d8576b"
             ],
             [
              0.6666666666666666,
              "#ed7953"
             ],
             [
              0.7777777777777778,
              "#fb9f3a"
             ],
             [
              0.8888888888888888,
              "#fdca26"
             ],
             [
              1,
              "#f0f921"
             ]
            ],
            "type": "histogram2dcontour"
           }
          ],
          "mesh3d": [
           {
            "colorbar": {
             "outlinewidth": 0,
             "ticks": ""
            },
            "type": "mesh3d"
           }
          ],
          "parcoords": [
           {
            "line": {
             "colorbar": {
              "outlinewidth": 0,
              "ticks": ""
             }
            },
            "type": "parcoords"
           }
          ],
          "pie": [
           {
            "automargin": true,
            "type": "pie"
           }
          ],
          "scatter": [
           {
            "fillpattern": {
             "fillmode": "overlay",
             "size": 10,
             "solidity": 0.2
            },
            "type": "scatter"
           }
          ],
          "scatter3d": [
           {
            "line": {
             "colorbar": {
              "outlinewidth": 0,
              "ticks": ""
             }
            },
            "marker": {
             "colorbar": {
              "outlinewidth": 0,
              "ticks": ""
             }
            },
            "type": "scatter3d"
           }
          ],
          "scattercarpet": [
           {
            "marker": {
             "colorbar": {
              "outlinewidth": 0,
              "ticks": ""
             }
            },
            "type": "scattercarpet"
           }
          ],
          "scattergeo": [
           {
            "marker": {
             "colorbar": {
              "outlinewidth": 0,
              "ticks": ""
             }
            },
            "type": "scattergeo"
           }
          ],
          "scattergl": [
           {
            "marker": {
             "colorbar": {
              "outlinewidth": 0,
              "ticks": ""
             }
            },
            "type": "scattergl"
           }
          ],
          "scattermapbox": [
           {
            "marker": {
             "colorbar": {
              "outlinewidth": 0,
              "ticks": ""
             }
            },
            "type": "scattermapbox"
           }
          ],
          "scatterpolar": [
           {
            "marker": {
             "colorbar": {
              "outlinewidth": 0,
              "ticks": ""
             }
            },
            "type": "scatterpolar"
           }
          ],
          "scatterpolargl": [
           {
            "marker": {
             "colorbar": {
              "outlinewidth": 0,
              "ticks": ""
             }
            },
            "type": "scatterpolargl"
           }
          ],
          "scatterternary": [
           {
            "marker": {
             "colorbar": {
              "outlinewidth": 0,
              "ticks": ""
             }
            },
            "type": "scatterternary"
           }
          ],
          "surface": [
           {
            "colorbar": {
             "outlinewidth": 0,
             "ticks": ""
            },
            "colorscale": [
             [
              0,
              "#0d0887"
             ],
             [
              0.1111111111111111,
              "#46039f"
             ],
             [
              0.2222222222222222,
              "#7201a8"
             ],
             [
              0.3333333333333333,
              "#9c179e"
             ],
             [
              0.4444444444444444,
              "#bd3786"
             ],
             [
              0.5555555555555556,
              "#d8576b"
             ],
             [
              0.6666666666666666,
              "#ed7953"
             ],
             [
              0.7777777777777778,
              "#fb9f3a"
             ],
             [
              0.8888888888888888,
              "#fdca26"
             ],
             [
              1,
              "#f0f921"
             ]
            ],
            "type": "surface"
           }
          ],
          "table": [
           {
            "cells": {
             "fill": {
              "color": "#EBF0F8"
             },
             "line": {
              "color": "white"
             }
            },
            "header": {
             "fill": {
              "color": "#C8D4E3"
             },
             "line": {
              "color": "white"
             }
            },
            "type": "table"
           }
          ]
         },
         "layout": {
          "annotationdefaults": {
           "arrowcolor": "#2a3f5f",
           "arrowhead": 0,
           "arrowwidth": 1
          },
          "autotypenumbers": "strict",
          "coloraxis": {
           "colorbar": {
            "outlinewidth": 0,
            "ticks": ""
           }
          },
          "colorscale": {
           "diverging": [
            [
             0,
             "#8e0152"
            ],
            [
             0.1,
             "#c51b7d"
            ],
            [
             0.2,
             "#de77ae"
            ],
            [
             0.3,
             "#f1b6da"
            ],
            [
             0.4,
             "#fde0ef"
            ],
            [
             0.5,
             "#f7f7f7"
            ],
            [
             0.6,
             "#e6f5d0"
            ],
            [
             0.7,
             "#b8e186"
            ],
            [
             0.8,
             "#7fbc41"
            ],
            [
             0.9,
             "#4d9221"
            ],
            [
             1,
             "#276419"
            ]
           ],
           "sequential": [
            [
             0,
             "#0d0887"
            ],
            [
             0.1111111111111111,
             "#46039f"
            ],
            [
             0.2222222222222222,
             "#7201a8"
            ],
            [
             0.3333333333333333,
             "#9c179e"
            ],
            [
             0.4444444444444444,
             "#bd3786"
            ],
            [
             0.5555555555555556,
             "#d8576b"
            ],
            [
             0.6666666666666666,
             "#ed7953"
            ],
            [
             0.7777777777777778,
             "#fb9f3a"
            ],
            [
             0.8888888888888888,
             "#fdca26"
            ],
            [
             1,
             "#f0f921"
            ]
           ],
           "sequentialminus": [
            [
             0,
             "#0d0887"
            ],
            [
             0.1111111111111111,
             "#46039f"
            ],
            [
             0.2222222222222222,
             "#7201a8"
            ],
            [
             0.3333333333333333,
             "#9c179e"
            ],
            [
             0.4444444444444444,
             "#bd3786"
            ],
            [
             0.5555555555555556,
             "#d8576b"
            ],
            [
             0.6666666666666666,
             "#ed7953"
            ],
            [
             0.7777777777777778,
             "#fb9f3a"
            ],
            [
             0.8888888888888888,
             "#fdca26"
            ],
            [
             1,
             "#f0f921"
            ]
           ]
          },
          "colorway": [
           "#636efa",
           "#EF553B",
           "#00cc96",
           "#ab63fa",
           "#FFA15A",
           "#19d3f3",
           "#FF6692",
           "#B6E880",
           "#FF97FF",
           "#FECB52"
          ],
          "font": {
           "color": "#2a3f5f"
          },
          "geo": {
           "bgcolor": "white",
           "lakecolor": "white",
           "landcolor": "#E5ECF6",
           "showlakes": true,
           "showland": true,
           "subunitcolor": "white"
          },
          "hoverlabel": {
           "align": "left"
          },
          "hovermode": "closest",
          "mapbox": {
           "style": "light"
          },
          "paper_bgcolor": "white",
          "plot_bgcolor": "#E5ECF6",
          "polar": {
           "angularaxis": {
            "gridcolor": "white",
            "linecolor": "white",
            "ticks": ""
           },
           "bgcolor": "#E5ECF6",
           "radialaxis": {
            "gridcolor": "white",
            "linecolor": "white",
            "ticks": ""
           }
          },
          "scene": {
           "xaxis": {
            "backgroundcolor": "#E5ECF6",
            "gridcolor": "white",
            "gridwidth": 2,
            "linecolor": "white",
            "showbackground": true,
            "ticks": "",
            "zerolinecolor": "white"
           },
           "yaxis": {
            "backgroundcolor": "#E5ECF6",
            "gridcolor": "white",
            "gridwidth": 2,
            "linecolor": "white",
            "showbackground": true,
            "ticks": "",
            "zerolinecolor": "white"
           },
           "zaxis": {
            "backgroundcolor": "#E5ECF6",
            "gridcolor": "white",
            "gridwidth": 2,
            "linecolor": "white",
            "showbackground": true,
            "ticks": "",
            "zerolinecolor": "white"
           }
          },
          "shapedefaults": {
           "line": {
            "color": "#2a3f5f"
           }
          },
          "ternary": {
           "aaxis": {
            "gridcolor": "white",
            "linecolor": "white",
            "ticks": ""
           },
           "baxis": {
            "gridcolor": "white",
            "linecolor": "white",
            "ticks": ""
           },
           "bgcolor": "#E5ECF6",
           "caxis": {
            "gridcolor": "white",
            "linecolor": "white",
            "ticks": ""
           }
          },
          "title": {
           "x": 0.05
          },
          "xaxis": {
           "automargin": true,
           "gridcolor": "white",
           "linecolor": "white",
           "ticks": "",
           "title": {
            "standoff": 15
           },
           "zerolinecolor": "white",
           "zerolinewidth": 2
          },
          "yaxis": {
           "automargin": true,
           "gridcolor": "white",
           "linecolor": "white",
           "ticks": "",
           "title": {
            "standoff": 15
           },
           "zerolinecolor": "white",
           "zerolinewidth": 2
          }
         }
        },
        "title": {
         "text": "Cumulative Percentage (particle) vs. Effective Diameter (µm)"
        },
        "xaxis": {
         "anchor": "y",
         "domain": [
          0,
          1
         ],
         "title": {
          "text": "eff_diameter_µm"
         }
        },
        "yaxis": {
         "anchor": "x",
         "domain": [
          0,
          1
         ],
         "title": {
          "text": "cumulative_%_particle_dia"
         }
        }
       }
      }
     },
     "metadata": {},
     "output_type": "display_data"
    }
   ],
   "source": [
    "fig_cpp_dia = px.scatter(diameter_data,\n",
    "                      x = diameter_data.columns[2],\n",
    "                      y = diameter_data.columns[6],\n",
    "                      hover_name= \"Particle_number\",\n",
    "                      title=\"Cumulative Percentage (particle) vs. Effective Diameter (µm)\", )\n",
    "fig_cpp_dia.show()"
   ]
  },
  {
   "cell_type": "code",
   "execution_count": 20,
   "metadata": {},
   "outputs": [
    {
     "name": "stdout",
     "output_type": "stream",
     "text": [
      "Sphericity\n"
     ]
    }
   ],
   "source": [
    "print( sph_data.columns[9] )"
   ]
  },
  {
   "cell_type": "code",
   "execution_count": 21,
   "metadata": {},
   "outputs": [
    {
     "data": {
      "application/vnd.plotly.v1+json": {
       "config": {
        "plotlyServerURL": "https://plot.ly"
       },
       "data": [
        {
         "hovertemplate": "<b>%{hovertext}</b><br><br>Sphericity=%{x}<br>cumulative_%_particle_sph=%{y}<extra></extra>",
         "hovertext": [
          1,
          2,
          3,
          4,
          5,
          6,
          7,
          8,
          9,
          10,
          11,
          12,
          13,
          14,
          15,
          16,
          17,
          18,
          19,
          20,
          21,
          22,
          23,
          24,
          25,
          26,
          27,
          28,
          29,
          30,
          31,
          32,
          33,
          34,
          35,
          36,
          37,
          38,
          39,
          40,
          41,
          42,
          43,
          44,
          45,
          46,
          47,
          48,
          49,
          50,
          51,
          52,
          53,
          54,
          55,
          56,
          57,
          58,
          59,
          60,
          61,
          62,
          63,
          64,
          65,
          66,
          67,
          68,
          69,
          70,
          71,
          72,
          73,
          74,
          75,
          76,
          77,
          78,
          79,
          80,
          81,
          82,
          83,
          84,
          85,
          86,
          87,
          88,
          89,
          90,
          91,
          92,
          93,
          94,
          95,
          96,
          97,
          98,
          99,
          100,
          101,
          102,
          103,
          104,
          105,
          106,
          107,
          108,
          109,
          110,
          111,
          112,
          113,
          114,
          115,
          116,
          117,
          118,
          119,
          120,
          121,
          122,
          123,
          124,
          125,
          126,
          127,
          128,
          129,
          130,
          131,
          132,
          133,
          134,
          135,
          136,
          137,
          138,
          139,
          140,
          141,
          142,
          143,
          144
         ],
         "legendgroup": "",
         "marker": {
          "color": "#636efa",
          "symbol": "circle"
         },
         "mode": "markers",
         "name": "",
         "orientation": "v",
         "showlegend": false,
         "type": "scatter",
         "x": [
          0.5339874223475966,
          0.7091287475384869,
          0.7091431305561547,
          0.7325855588058119,
          0.7350952770471778,
          0.7525368236730483,
          0.7580049955887403,
          0.7624746521517333,
          0.7655402258935591,
          0.7682051163974324,
          0.7719597703113766,
          0.7729934564768957,
          0.7747216423009126,
          0.7771443228229125,
          0.7780587326725054,
          0.7782115075780475,
          0.7791205549172839,
          0.780283781793882,
          0.7817569696112834,
          0.7862865738408998,
          0.7873160121188625,
          0.7895699955161726,
          0.7933017924424348,
          0.7937644569587698,
          0.7942901114971455,
          0.7955719804140041,
          0.7962726976462431,
          0.7995376786748278,
          0.8015737272972636,
          0.8029557285677997,
          0.8047546664609038,
          0.8051187082972266,
          0.8104002263119368,
          0.8105306189329369,
          0.8133169983529235,
          0.8134750217328202,
          0.813590760013076,
          0.8144303708077483,
          0.8168436534505948,
          0.8172587856027819,
          0.817603449061766,
          0.817897009448536,
          0.8184592351988683,
          0.8198724173147994,
          0.8205353100524101,
          0.8205992603294224,
          0.8206331359969696,
          0.8210265210750282,
          0.8213480002096033,
          0.8218547067493959,
          0.8226073054794163,
          0.8232656579507627,
          0.8235927946010717,
          0.8239775264492788,
          0.824814408341157,
          0.82502538204604,
          0.8265237366123426,
          0.8270632698559941,
          0.8289757793555937,
          0.8291607412357127,
          0.8292515775781287,
          0.8292558248575695,
          0.8294259395207384,
          0.8302772916921308,
          0.8308375705494117,
          0.8310226983221844,
          0.8310979480329236,
          0.8315515465478555,
          0.8319501912168501,
          0.8321568677954675,
          0.8325620312536157,
          0.8327369200625749,
          0.8328665269561901,
          0.8332797210551771,
          0.8336590355471386,
          0.8347308323078249,
          0.8349062870690491,
          0.8359881164051913,
          0.8363671344180933,
          0.8369626286760634,
          0.8374089839507541,
          0.8374353290814438,
          0.8376927612509167,
          0.838238633083044,
          0.8382476082530688,
          0.838299543723344,
          0.8384349956979678,
          0.8395497424261387,
          0.8397375432210716,
          0.839810132664169,
          0.8403701962957338,
          0.8405431906240077,
          0.8406421513564677,
          0.8408124604342071,
          0.8423905220013219,
          0.8425914033958618,
          0.844163891380884,
          0.8450575329160781,
          0.8450965544855783,
          0.8451712610209035,
          0.8453689268971354,
          0.8453847112885924,
          0.8453979767488605,
          0.8458812126878839,
          0.8460863837074075,
          0.8464751615830418,
          0.846567184821594,
          0.8474654431413161,
          0.8497005951838796,
          0.8501333232133609,
          0.8511532302309719,
          0.8511802567000015,
          0.8512420664475605,
          0.8521360297476193,
          0.8524251320355276,
          0.853032293007022,
          0.8535785335384759,
          0.853901640923466,
          0.8540256866865429,
          0.8548286567932192,
          0.8551391756250779,
          0.8560547942368798,
          0.8569239820200337,
          0.8576255675852867,
          0.8587855120399573,
          0.8603876452779061,
          0.8617298974047574,
          0.8644293236609812,
          0.8684132232297682,
          0.8685843012591132,
          0.8705723066212275,
          0.870586948139791,
          0.8721634747054867,
          0.8738836945152315,
          0.8744201457338041,
          0.8758017288256471,
          0.878357987338967,
          0.8789984976089545,
          0.8799993446148962,
          0.880727050357915,
          0.8815480327286667,
          0.8818714132219596,
          0.8827469977901997,
          0.8834503820633902
         ],
         "xaxis": "x",
         "y": [
          0.6944444444444444,
          1.3888888888888888,
          2.083333333333333,
          2.7777777777777777,
          3.4722222222222223,
          4.166666666666666,
          4.861111111111112,
          5.555555555555555,
          6.25,
          6.944444444444445,
          7.638888888888889,
          8.333333333333332,
          9.027777777777777,
          9.722222222222223,
          10.416666666666668,
          11.11111111111111,
          11.805555555555555,
          12.5,
          13.194444444444445,
          13.88888888888889,
          14.583333333333334,
          15.277777777777779,
          15.972222222222221,
          16.666666666666664,
          17.36111111111111,
          18.055555555555554,
          18.75,
          19.444444444444446,
          20.13888888888889,
          20.833333333333336,
          21.52777777777778,
          22.22222222222222,
          22.916666666666664,
          23.61111111111111,
          24.305555555555554,
          25,
          25.694444444444443,
          26.38888888888889,
          27.083333333333332,
          27.77777777777778,
          28.47222222222222,
          29.166666666666668,
          29.86111111111111,
          30.555555555555557,
          31.25,
          31.944444444444443,
          32.63888888888889,
          33.33333333333333,
          34.02777777777778,
          34.72222222222222,
          35.41666666666667,
          36.11111111111111,
          36.80555555555556,
          37.5,
          38.19444444444444,
          38.88888888888889,
          39.58333333333333,
          40.27777777777778,
          40.97222222222222,
          41.66666666666667,
          42.36111111111111,
          43.05555555555556,
          43.75,
          44.44444444444444,
          45.13888888888889,
          45.83333333333333,
          46.52777777777778,
          47.22222222222222,
          47.91666666666667,
          48.61111111111111,
          49.30555555555556,
          50,
          50.69444444444444,
          51.388888888888886,
          52.083333333333336,
          52.77777777777778,
          53.47222222222222,
          54.166666666666664,
          54.861111111111114,
          55.55555555555556,
          56.25,
          56.94444444444444,
          57.638888888888886,
          58.333333333333336,
          59.02777777777778,
          59.72222222222222,
          60.416666666666664,
          61.111111111111114,
          61.80555555555556,
          62.5,
          63.19444444444444,
          63.888888888888886,
          64.58333333333334,
          65.27777777777779,
          65.97222222222221,
          66.66666666666666,
          67.36111111111111,
          68.05555555555556,
          68.75,
          69.44444444444444,
          70.13888888888889,
          70.83333333333334,
          71.52777777777779,
          72.22222222222221,
          72.91666666666666,
          73.61111111111111,
          74.30555555555556,
          75,
          75.69444444444444,
          76.38888888888889,
          77.08333333333334,
          77.77777777777779,
          78.47222222222221,
          79.16666666666666,
          79.86111111111111,
          80.55555555555556,
          81.25,
          81.94444444444444,
          82.63888888888889,
          83.33333333333334,
          84.02777777777779,
          84.72222222222221,
          85.41666666666666,
          86.11111111111111,
          86.80555555555556,
          87.5,
          88.19444444444444,
          88.88888888888889,
          89.58333333333334,
          90.27777777777779,
          90.97222222222221,
          91.66666666666666,
          92.36111111111111,
          93.05555555555556,
          93.75,
          94.44444444444444,
          95.13888888888889,
          95.83333333333334,
          96.52777777777779,
          97.22222222222221,
          97.91666666666666,
          98.61111111111111,
          99.30555555555556,
          100
         ],
         "yaxis": "y"
        }
       ],
       "layout": {
        "legend": {
         "tracegroupgap": 0
        },
        "template": {
         "data": {
          "bar": [
           {
            "error_x": {
             "color": "#2a3f5f"
            },
            "error_y": {
             "color": "#2a3f5f"
            },
            "marker": {
             "line": {
              "color": "#E5ECF6",
              "width": 0.5
             },
             "pattern": {
              "fillmode": "overlay",
              "size": 10,
              "solidity": 0.2
             }
            },
            "type": "bar"
           }
          ],
          "barpolar": [
           {
            "marker": {
             "line": {
              "color": "#E5ECF6",
              "width": 0.5
             },
             "pattern": {
              "fillmode": "overlay",
              "size": 10,
              "solidity": 0.2
             }
            },
            "type": "barpolar"
           }
          ],
          "carpet": [
           {
            "aaxis": {
             "endlinecolor": "#2a3f5f",
             "gridcolor": "white",
             "linecolor": "white",
             "minorgridcolor": "white",
             "startlinecolor": "#2a3f5f"
            },
            "baxis": {
             "endlinecolor": "#2a3f5f",
             "gridcolor": "white",
             "linecolor": "white",
             "minorgridcolor": "white",
             "startlinecolor": "#2a3f5f"
            },
            "type": "carpet"
           }
          ],
          "choropleth": [
           {
            "colorbar": {
             "outlinewidth": 0,
             "ticks": ""
            },
            "type": "choropleth"
           }
          ],
          "contour": [
           {
            "colorbar": {
             "outlinewidth": 0,
             "ticks": ""
            },
            "colorscale": [
             [
              0,
              "#0d0887"
             ],
             [
              0.1111111111111111,
              "#46039f"
             ],
             [
              0.2222222222222222,
              "#7201a8"
             ],
             [
              0.3333333333333333,
              "#9c179e"
             ],
             [
              0.4444444444444444,
              "#bd3786"
             ],
             [
              0.5555555555555556,
              "#d8576b"
             ],
             [
              0.6666666666666666,
              "#ed7953"
             ],
             [
              0.7777777777777778,
              "#fb9f3a"
             ],
             [
              0.8888888888888888,
              "#fdca26"
             ],
             [
              1,
              "#f0f921"
             ]
            ],
            "type": "contour"
           }
          ],
          "contourcarpet": [
           {
            "colorbar": {
             "outlinewidth": 0,
             "ticks": ""
            },
            "type": "contourcarpet"
           }
          ],
          "heatmap": [
           {
            "colorbar": {
             "outlinewidth": 0,
             "ticks": ""
            },
            "colorscale": [
             [
              0,
              "#0d0887"
             ],
             [
              0.1111111111111111,
              "#46039f"
             ],
             [
              0.2222222222222222,
              "#7201a8"
             ],
             [
              0.3333333333333333,
              "#9c179e"
             ],
             [
              0.4444444444444444,
              "#bd3786"
             ],
             [
              0.5555555555555556,
              "#d8576b"
             ],
             [
              0.6666666666666666,
              "#ed7953"
             ],
             [
              0.7777777777777778,
              "#fb9f3a"
             ],
             [
              0.8888888888888888,
              "#fdca26"
             ],
             [
              1,
              "#f0f921"
             ]
            ],
            "type": "heatmap"
           }
          ],
          "heatmapgl": [
           {
            "colorbar": {
             "outlinewidth": 0,
             "ticks": ""
            },
            "colorscale": [
             [
              0,
              "#0d0887"
             ],
             [
              0.1111111111111111,
              "#46039f"
             ],
             [
              0.2222222222222222,
              "#7201a8"
             ],
             [
              0.3333333333333333,
              "#9c179e"
             ],
             [
              0.4444444444444444,
              "#bd3786"
             ],
             [
              0.5555555555555556,
              "#d8576b"
             ],
             [
              0.6666666666666666,
              "#ed7953"
             ],
             [
              0.7777777777777778,
              "#fb9f3a"
             ],
             [
              0.8888888888888888,
              "#fdca26"
             ],
             [
              1,
              "#f0f921"
             ]
            ],
            "type": "heatmapgl"
           }
          ],
          "histogram": [
           {
            "marker": {
             "pattern": {
              "fillmode": "overlay",
              "size": 10,
              "solidity": 0.2
             }
            },
            "type": "histogram"
           }
          ],
          "histogram2d": [
           {
            "colorbar": {
             "outlinewidth": 0,
             "ticks": ""
            },
            "colorscale": [
             [
              0,
              "#0d0887"
             ],
             [
              0.1111111111111111,
              "#46039f"
             ],
             [
              0.2222222222222222,
              "#7201a8"
             ],
             [
              0.3333333333333333,
              "#9c179e"
             ],
             [
              0.4444444444444444,
              "#bd3786"
             ],
             [
              0.5555555555555556,
              "#d8576b"
             ],
             [
              0.6666666666666666,
              "#ed7953"
             ],
             [
              0.7777777777777778,
              "#fb9f3a"
             ],
             [
              0.8888888888888888,
              "#fdca26"
             ],
             [
              1,
              "#f0f921"
             ]
            ],
            "type": "histogram2d"
           }
          ],
          "histogram2dcontour": [
           {
            "colorbar": {
             "outlinewidth": 0,
             "ticks": ""
            },
            "colorscale": [
             [
              0,
              "#0d0887"
             ],
             [
              0.1111111111111111,
              "#46039f"
             ],
             [
              0.2222222222222222,
              "#7201a8"
             ],
             [
              0.3333333333333333,
              "#9c179e"
             ],
             [
              0.4444444444444444,
              "#bd3786"
             ],
             [
              0.5555555555555556,
              "#d8576b"
             ],
             [
              0.6666666666666666,
              "#ed7953"
             ],
             [
              0.7777777777777778,
              "#fb9f3a"
             ],
             [
              0.8888888888888888,
              "#fdca26"
             ],
             [
              1,
              "#f0f921"
             ]
            ],
            "type": "histogram2dcontour"
           }
          ],
          "mesh3d": [
           {
            "colorbar": {
             "outlinewidth": 0,
             "ticks": ""
            },
            "type": "mesh3d"
           }
          ],
          "parcoords": [
           {
            "line": {
             "colorbar": {
              "outlinewidth": 0,
              "ticks": ""
             }
            },
            "type": "parcoords"
           }
          ],
          "pie": [
           {
            "automargin": true,
            "type": "pie"
           }
          ],
          "scatter": [
           {
            "fillpattern": {
             "fillmode": "overlay",
             "size": 10,
             "solidity": 0.2
            },
            "type": "scatter"
           }
          ],
          "scatter3d": [
           {
            "line": {
             "colorbar": {
              "outlinewidth": 0,
              "ticks": ""
             }
            },
            "marker": {
             "colorbar": {
              "outlinewidth": 0,
              "ticks": ""
             }
            },
            "type": "scatter3d"
           }
          ],
          "scattercarpet": [
           {
            "marker": {
             "colorbar": {
              "outlinewidth": 0,
              "ticks": ""
             }
            },
            "type": "scattercarpet"
           }
          ],
          "scattergeo": [
           {
            "marker": {
             "colorbar": {
              "outlinewidth": 0,
              "ticks": ""
             }
            },
            "type": "scattergeo"
           }
          ],
          "scattergl": [
           {
            "marker": {
             "colorbar": {
              "outlinewidth": 0,
              "ticks": ""
             }
            },
            "type": "scattergl"
           }
          ],
          "scattermapbox": [
           {
            "marker": {
             "colorbar": {
              "outlinewidth": 0,
              "ticks": ""
             }
            },
            "type": "scattermapbox"
           }
          ],
          "scatterpolar": [
           {
            "marker": {
             "colorbar": {
              "outlinewidth": 0,
              "ticks": ""
             }
            },
            "type": "scatterpolar"
           }
          ],
          "scatterpolargl": [
           {
            "marker": {
             "colorbar": {
              "outlinewidth": 0,
              "ticks": ""
             }
            },
            "type": "scatterpolargl"
           }
          ],
          "scatterternary": [
           {
            "marker": {
             "colorbar": {
              "outlinewidth": 0,
              "ticks": ""
             }
            },
            "type": "scatterternary"
           }
          ],
          "surface": [
           {
            "colorbar": {
             "outlinewidth": 0,
             "ticks": ""
            },
            "colorscale": [
             [
              0,
              "#0d0887"
             ],
             [
              0.1111111111111111,
              "#46039f"
             ],
             [
              0.2222222222222222,
              "#7201a8"
             ],
             [
              0.3333333333333333,
              "#9c179e"
             ],
             [
              0.4444444444444444,
              "#bd3786"
             ],
             [
              0.5555555555555556,
              "#d8576b"
             ],
             [
              0.6666666666666666,
              "#ed7953"
             ],
             [
              0.7777777777777778,
              "#fb9f3a"
             ],
             [
              0.8888888888888888,
              "#fdca26"
             ],
             [
              1,
              "#f0f921"
             ]
            ],
            "type": "surface"
           }
          ],
          "table": [
           {
            "cells": {
             "fill": {
              "color": "#EBF0F8"
             },
             "line": {
              "color": "white"
             }
            },
            "header": {
             "fill": {
              "color": "#C8D4E3"
             },
             "line": {
              "color": "white"
             }
            },
            "type": "table"
           }
          ]
         },
         "layout": {
          "annotationdefaults": {
           "arrowcolor": "#2a3f5f",
           "arrowhead": 0,
           "arrowwidth": 1
          },
          "autotypenumbers": "strict",
          "coloraxis": {
           "colorbar": {
            "outlinewidth": 0,
            "ticks": ""
           }
          },
          "colorscale": {
           "diverging": [
            [
             0,
             "#8e0152"
            ],
            [
             0.1,
             "#c51b7d"
            ],
            [
             0.2,
             "#de77ae"
            ],
            [
             0.3,
             "#f1b6da"
            ],
            [
             0.4,
             "#fde0ef"
            ],
            [
             0.5,
             "#f7f7f7"
            ],
            [
             0.6,
             "#e6f5d0"
            ],
            [
             0.7,
             "#b8e186"
            ],
            [
             0.8,
             "#7fbc41"
            ],
            [
             0.9,
             "#4d9221"
            ],
            [
             1,
             "#276419"
            ]
           ],
           "sequential": [
            [
             0,
             "#0d0887"
            ],
            [
             0.1111111111111111,
             "#46039f"
            ],
            [
             0.2222222222222222,
             "#7201a8"
            ],
            [
             0.3333333333333333,
             "#9c179e"
            ],
            [
             0.4444444444444444,
             "#bd3786"
            ],
            [
             0.5555555555555556,
             "#d8576b"
            ],
            [
             0.6666666666666666,
             "#ed7953"
            ],
            [
             0.7777777777777778,
             "#fb9f3a"
            ],
            [
             0.8888888888888888,
             "#fdca26"
            ],
            [
             1,
             "#f0f921"
            ]
           ],
           "sequentialminus": [
            [
             0,
             "#0d0887"
            ],
            [
             0.1111111111111111,
             "#46039f"
            ],
            [
             0.2222222222222222,
             "#7201a8"
            ],
            [
             0.3333333333333333,
             "#9c179e"
            ],
            [
             0.4444444444444444,
             "#bd3786"
            ],
            [
             0.5555555555555556,
             "#d8576b"
            ],
            [
             0.6666666666666666,
             "#ed7953"
            ],
            [
             0.7777777777777778,
             "#fb9f3a"
            ],
            [
             0.8888888888888888,
             "#fdca26"
            ],
            [
             1,
             "#f0f921"
            ]
           ]
          },
          "colorway": [
           "#636efa",
           "#EF553B",
           "#00cc96",
           "#ab63fa",
           "#FFA15A",
           "#19d3f3",
           "#FF6692",
           "#B6E880",
           "#FF97FF",
           "#FECB52"
          ],
          "font": {
           "color": "#2a3f5f"
          },
          "geo": {
           "bgcolor": "white",
           "lakecolor": "white",
           "landcolor": "#E5ECF6",
           "showlakes": true,
           "showland": true,
           "subunitcolor": "white"
          },
          "hoverlabel": {
           "align": "left"
          },
          "hovermode": "closest",
          "mapbox": {
           "style": "light"
          },
          "paper_bgcolor": "white",
          "plot_bgcolor": "#E5ECF6",
          "polar": {
           "angularaxis": {
            "gridcolor": "white",
            "linecolor": "white",
            "ticks": ""
           },
           "bgcolor": "#E5ECF6",
           "radialaxis": {
            "gridcolor": "white",
            "linecolor": "white",
            "ticks": ""
           }
          },
          "scene": {
           "xaxis": {
            "backgroundcolor": "#E5ECF6",
            "gridcolor": "white",
            "gridwidth": 2,
            "linecolor": "white",
            "showbackground": true,
            "ticks": "",
            "zerolinecolor": "white"
           },
           "yaxis": {
            "backgroundcolor": "#E5ECF6",
            "gridcolor": "white",
            "gridwidth": 2,
            "linecolor": "white",
            "showbackground": true,
            "ticks": "",
            "zerolinecolor": "white"
           },
           "zaxis": {
            "backgroundcolor": "#E5ECF6",
            "gridcolor": "white",
            "gridwidth": 2,
            "linecolor": "white",
            "showbackground": true,
            "ticks": "",
            "zerolinecolor": "white"
           }
          },
          "shapedefaults": {
           "line": {
            "color": "#2a3f5f"
           }
          },
          "ternary": {
           "aaxis": {
            "gridcolor": "white",
            "linecolor": "white",
            "ticks": ""
           },
           "baxis": {
            "gridcolor": "white",
            "linecolor": "white",
            "ticks": ""
           },
           "bgcolor": "#E5ECF6",
           "caxis": {
            "gridcolor": "white",
            "linecolor": "white",
            "ticks": ""
           }
          },
          "title": {
           "x": 0.05
          },
          "xaxis": {
           "automargin": true,
           "gridcolor": "white",
           "linecolor": "white",
           "ticks": "",
           "title": {
            "standoff": 15
           },
           "zerolinecolor": "white",
           "zerolinewidth": 2
          },
          "yaxis": {
           "automargin": true,
           "gridcolor": "white",
           "linecolor": "white",
           "ticks": "",
           "title": {
            "standoff": 15
           },
           "zerolinecolor": "white",
           "zerolinewidth": 2
          }
         }
        },
        "title": {
         "text": "Cumulative Percentage (particle) vs. Sphericity "
        },
        "xaxis": {
         "anchor": "y",
         "domain": [
          0,
          1
         ],
         "title": {
          "text": "Sphericity"
         }
        },
        "yaxis": {
         "anchor": "x",
         "domain": [
          0,
          1
         ],
         "title": {
          "text": "cumulative_%_particle_sph"
         }
        }
       }
      }
     },
     "metadata": {},
     "output_type": "display_data"
    }
   ],
   "source": [
    "fig_cpp_sph = px.scatter(sph_data,\n",
    "                      x = sph_data.columns[9],\n",
    "                      y = sph_data.columns[12],\n",
    "                      hover_name= \"Particle_number\",\n",
    "                      title=\"Cumulative Percentage (particle) vs. Sphericity \", )\n",
    "fig_cpp_sph.show()"
   ]
  },
  {
   "cell_type": "markdown",
   "metadata": {},
   "source": [
    "### Distributional Plots"
   ]
  },
  {
   "cell_type": "markdown",
   "metadata": {},
   "source": [
    "#### Histograms"
   ]
  },
  {
   "cell_type": "code",
   "execution_count": 27,
   "metadata": {},
   "outputs": [
    {
     "data": {
      "application/vnd.plotly.v1+json": {
       "config": {
        "plotlyServerURL": "https://plot.ly"
       },
       "data": [
        {
         "alignmentgroup": "True",
         "bingroup": "x",
         "hovertemplate": "eff_diameter_µm=%{x}<br>count=%{y}<extra></extra>",
         "legendgroup": "",
         "marker": {
          "color": "#636efa",
          "pattern": {
           "shape": ""
          }
         },
         "name": "",
         "nbinsx": 40,
         "offsetgroup": "",
         "orientation": "v",
         "showlegend": false,
         "texttemplate": "%{value}",
         "type": "histogram",
         "x": [
          30.31226348292272,
          39.112786213650715,
          43.34356870698043,
          44.61138047163121,
          45.57241142834951,
          45.77048631296643,
          45.84955997973143,
          46.32130482604842,
          46.43852653239263,
          46.672495916868996,
          46.98273301459814,
          47.32968896813821,
          47.521511454445225,
          47.55980988200974,
          47.67452056714088,
          47.71269617622422,
          48.20662423219735,
          48.32006291333859,
          48.62135945348735,
          48.65879221891113,
          48.88356825318203,
          48.88356825318203,
          49.0702248316217,
          49.21906629950339,
          49.33043494913183,
          49.404584196739826,
          49.441681499940834,
          49.51566415715151,
          49.552678301103526,
          49.737079844578204,
          49.81075156272612,
          50.1774876825454,
          50.21401398037038,
          50.5419406652209,
          50.5419406652209,
          50.8318220694399,
          51.012348641531624,
          51.012348641531624,
          51.33579591365354,
          51.479076561462065,
          51.621959524542056,
          52.0839582714471,
          52.22543016141967,
          52.366519856381565,
          52.75290270066526,
          52.82285047879677,
          53.1020798776236,
          53.171568311353965,
          53.31051228602858,
          53.3452514032316,
          53.89755978608923,
          54.00057714618059,
          55.19020049315351,
          55.2238724642261,
          55.55946980174825,
          55.99319411635053,
          56.22544798249314,
          56.851836528872646,
          56.884636841345234,
          56.98303621750425,
          57.01576105281307,
          57.08115443965393,
          57.14647299611562,
          57.43981981062249,
          57.5372697290239,
          57.569790099773435,
          58.151280657189524,
          58.44012857642828,
          58.95065744671685,
          59.362611323733184,
          59.6778182623658,
          59.74061745139943,
          59.77204555752981,
          60.02277193692176,
          60.02277193692176,
          60.085316544940156,
          60.24139397117652,
          60.30381740238248,
          60.36607082305279,
          60.36607082305279,
          60.76958262762883,
          60.92411608560231,
          61.17074493616154,
          61.2629877724449,
          61.84434061105589,
          63.112719194667335,
          63.262233591526,
          63.73854257636558,
          63.94585568974906,
          64.00506413703049,
          64.12321774031842,
          64.18216338102054,
          65.46826366298812,
          66.24652491107106,
          66.58976476073576,
          66.90298915249772,
          67.07338624653097,
          67.15837526993306,
          67.83511116104923,
          68.86682111584807,
          69.22603891069531,
          69.58367677202983,
          70.48405812678739,
          71.37424148855928,
          72.25460377896225,
          72.49298282535453,
          72.73075563590939,
          72.86254549018669,
          74.91681413381598,
          75.50534673456023,
          76.4436704359858,
          76.82116085193178,
          78.21572451706787,
          79.4177755340537,
          79.49084862690374,
          80.29050132948167,
          80.43515374403384,
          81.98697736898302,
          82.24699941294243,
          82.24699941294243,
          82.24699941294243,
          85.15062013065554,
          86.26449507626927,
          86.55786220462609,
          86.78284874726272,
          86.94005880447084,
          88.96051471887273,
          89.2895211795722,
          89.70465345960608,
          95.01207205909783,
          95.32186297109328,
          96.16392575298258,
          96.16392575298258,
          97.56598181899005,
          97.64666293054705,
          99.46647957181408,
          99.80301641348977,
          105.54115859282373,
          106.38269981602565,
          107.10702013805964,
          110.98554164574554,
          114.56805488036463,
          145.1287754046532,
          180.9180677269219
         ],
         "xaxis": "x",
         "yaxis": "y"
        },
        {
         "alignmentgroup": "True",
         "boxpoints": "all",
         "fillcolor": "rgba(255,255,255,0)",
         "hoveron": "points",
         "hovertemplate": "eff_diameter_µm=%{x}<extra></extra>",
         "jitter": 0,
         "legendgroup": "",
         "line": {
          "color": "rgba(255,255,255,0)"
         },
         "marker": {
          "color": "#636efa",
          "symbol": "line-ns-open"
         },
         "name": "",
         "offsetgroup": "",
         "showlegend": false,
         "type": "box",
         "x": [
          30.31226348292272,
          39.112786213650715,
          43.34356870698043,
          44.61138047163121,
          45.57241142834951,
          45.77048631296643,
          45.84955997973143,
          46.32130482604842,
          46.43852653239263,
          46.672495916868996,
          46.98273301459814,
          47.32968896813821,
          47.521511454445225,
          47.55980988200974,
          47.67452056714088,
          47.71269617622422,
          48.20662423219735,
          48.32006291333859,
          48.62135945348735,
          48.65879221891113,
          48.88356825318203,
          48.88356825318203,
          49.0702248316217,
          49.21906629950339,
          49.33043494913183,
          49.404584196739826,
          49.441681499940834,
          49.51566415715151,
          49.552678301103526,
          49.737079844578204,
          49.81075156272612,
          50.1774876825454,
          50.21401398037038,
          50.5419406652209,
          50.5419406652209,
          50.8318220694399,
          51.012348641531624,
          51.012348641531624,
          51.33579591365354,
          51.479076561462065,
          51.621959524542056,
          52.0839582714471,
          52.22543016141967,
          52.366519856381565,
          52.75290270066526,
          52.82285047879677,
          53.1020798776236,
          53.171568311353965,
          53.31051228602858,
          53.3452514032316,
          53.89755978608923,
          54.00057714618059,
          55.19020049315351,
          55.2238724642261,
          55.55946980174825,
          55.99319411635053,
          56.22544798249314,
          56.851836528872646,
          56.884636841345234,
          56.98303621750425,
          57.01576105281307,
          57.08115443965393,
          57.14647299611562,
          57.43981981062249,
          57.5372697290239,
          57.569790099773435,
          58.151280657189524,
          58.44012857642828,
          58.95065744671685,
          59.362611323733184,
          59.6778182623658,
          59.74061745139943,
          59.77204555752981,
          60.02277193692176,
          60.02277193692176,
          60.085316544940156,
          60.24139397117652,
          60.30381740238248,
          60.36607082305279,
          60.36607082305279,
          60.76958262762883,
          60.92411608560231,
          61.17074493616154,
          61.2629877724449,
          61.84434061105589,
          63.112719194667335,
          63.262233591526,
          63.73854257636558,
          63.94585568974906,
          64.00506413703049,
          64.12321774031842,
          64.18216338102054,
          65.46826366298812,
          66.24652491107106,
          66.58976476073576,
          66.90298915249772,
          67.07338624653097,
          67.15837526993306,
          67.83511116104923,
          68.86682111584807,
          69.22603891069531,
          69.58367677202983,
          70.48405812678739,
          71.37424148855928,
          72.25460377896225,
          72.49298282535453,
          72.73075563590939,
          72.86254549018669,
          74.91681413381598,
          75.50534673456023,
          76.4436704359858,
          76.82116085193178,
          78.21572451706787,
          79.4177755340537,
          79.49084862690374,
          80.29050132948167,
          80.43515374403384,
          81.98697736898302,
          82.24699941294243,
          82.24699941294243,
          82.24699941294243,
          85.15062013065554,
          86.26449507626927,
          86.55786220462609,
          86.78284874726272,
          86.94005880447084,
          88.96051471887273,
          89.2895211795722,
          89.70465345960608,
          95.01207205909783,
          95.32186297109328,
          96.16392575298258,
          96.16392575298258,
          97.56598181899005,
          97.64666293054705,
          99.46647957181408,
          99.80301641348977,
          105.54115859282373,
          106.38269981602565,
          107.10702013805964,
          110.98554164574554,
          114.56805488036463,
          145.1287754046532,
          180.9180677269219
         ],
         "xaxis": "x2",
         "yaxis": "y2"
        }
       ],
       "layout": {
        "barmode": "relative",
        "legend": {
         "tracegroupgap": 0
        },
        "template": {
         "data": {
          "bar": [
           {
            "error_x": {
             "color": "#2a3f5f"
            },
            "error_y": {
             "color": "#2a3f5f"
            },
            "marker": {
             "line": {
              "color": "#E5ECF6",
              "width": 0.5
             },
             "pattern": {
              "fillmode": "overlay",
              "size": 10,
              "solidity": 0.2
             }
            },
            "type": "bar"
           }
          ],
          "barpolar": [
           {
            "marker": {
             "line": {
              "color": "#E5ECF6",
              "width": 0.5
             },
             "pattern": {
              "fillmode": "overlay",
              "size": 10,
              "solidity": 0.2
             }
            },
            "type": "barpolar"
           }
          ],
          "carpet": [
           {
            "aaxis": {
             "endlinecolor": "#2a3f5f",
             "gridcolor": "white",
             "linecolor": "white",
             "minorgridcolor": "white",
             "startlinecolor": "#2a3f5f"
            },
            "baxis": {
             "endlinecolor": "#2a3f5f",
             "gridcolor": "white",
             "linecolor": "white",
             "minorgridcolor": "white",
             "startlinecolor": "#2a3f5f"
            },
            "type": "carpet"
           }
          ],
          "choropleth": [
           {
            "colorbar": {
             "outlinewidth": 0,
             "ticks": ""
            },
            "type": "choropleth"
           }
          ],
          "contour": [
           {
            "colorbar": {
             "outlinewidth": 0,
             "ticks": ""
            },
            "colorscale": [
             [
              0,
              "#0d0887"
             ],
             [
              0.1111111111111111,
              "#46039f"
             ],
             [
              0.2222222222222222,
              "#7201a8"
             ],
             [
              0.3333333333333333,
              "#9c179e"
             ],
             [
              0.4444444444444444,
              "#bd3786"
             ],
             [
              0.5555555555555556,
              "#d8576b"
             ],
             [
              0.6666666666666666,
              "#ed7953"
             ],
             [
              0.7777777777777778,
              "#fb9f3a"
             ],
             [
              0.8888888888888888,
              "#fdca26"
             ],
             [
              1,
              "#f0f921"
             ]
            ],
            "type": "contour"
           }
          ],
          "contourcarpet": [
           {
            "colorbar": {
             "outlinewidth": 0,
             "ticks": ""
            },
            "type": "contourcarpet"
           }
          ],
          "heatmap": [
           {
            "colorbar": {
             "outlinewidth": 0,
             "ticks": ""
            },
            "colorscale": [
             [
              0,
              "#0d0887"
             ],
             [
              0.1111111111111111,
              "#46039f"
             ],
             [
              0.2222222222222222,
              "#7201a8"
             ],
             [
              0.3333333333333333,
              "#9c179e"
             ],
             [
              0.4444444444444444,
              "#bd3786"
             ],
             [
              0.5555555555555556,
              "#d8576b"
             ],
             [
              0.6666666666666666,
              "#ed7953"
             ],
             [
              0.7777777777777778,
              "#fb9f3a"
             ],
             [
              0.8888888888888888,
              "#fdca26"
             ],
             [
              1,
              "#f0f921"
             ]
            ],
            "type": "heatmap"
           }
          ],
          "heatmapgl": [
           {
            "colorbar": {
             "outlinewidth": 0,
             "ticks": ""
            },
            "colorscale": [
             [
              0,
              "#0d0887"
             ],
             [
              0.1111111111111111,
              "#46039f"
             ],
             [
              0.2222222222222222,
              "#7201a8"
             ],
             [
              0.3333333333333333,
              "#9c179e"
             ],
             [
              0.4444444444444444,
              "#bd3786"
             ],
             [
              0.5555555555555556,
              "#d8576b"
             ],
             [
              0.6666666666666666,
              "#ed7953"
             ],
             [
              0.7777777777777778,
              "#fb9f3a"
             ],
             [
              0.8888888888888888,
              "#fdca26"
             ],
             [
              1,
              "#f0f921"
             ]
            ],
            "type": "heatmapgl"
           }
          ],
          "histogram": [
           {
            "marker": {
             "pattern": {
              "fillmode": "overlay",
              "size": 10,
              "solidity": 0.2
             }
            },
            "type": "histogram"
           }
          ],
          "histogram2d": [
           {
            "colorbar": {
             "outlinewidth": 0,
             "ticks": ""
            },
            "colorscale": [
             [
              0,
              "#0d0887"
             ],
             [
              0.1111111111111111,
              "#46039f"
             ],
             [
              0.2222222222222222,
              "#7201a8"
             ],
             [
              0.3333333333333333,
              "#9c179e"
             ],
             [
              0.4444444444444444,
              "#bd3786"
             ],
             [
              0.5555555555555556,
              "#d8576b"
             ],
             [
              0.6666666666666666,
              "#ed7953"
             ],
             [
              0.7777777777777778,
              "#fb9f3a"
             ],
             [
              0.8888888888888888,
              "#fdca26"
             ],
             [
              1,
              "#f0f921"
             ]
            ],
            "type": "histogram2d"
           }
          ],
          "histogram2dcontour": [
           {
            "colorbar": {
             "outlinewidth": 0,
             "ticks": ""
            },
            "colorscale": [
             [
              0,
              "#0d0887"
             ],
             [
              0.1111111111111111,
              "#46039f"
             ],
             [
              0.2222222222222222,
              "#7201a8"
             ],
             [
              0.3333333333333333,
              "#9c179e"
             ],
             [
              0.4444444444444444,
              "#bd3786"
             ],
             [
              0.5555555555555556,
              "#d8576b"
             ],
             [
              0.6666666666666666,
              "#ed7953"
             ],
             [
              0.7777777777777778,
              "#fb9f3a"
             ],
             [
              0.8888888888888888,
              "#fdca26"
             ],
             [
              1,
              "#f0f921"
             ]
            ],
            "type": "histogram2dcontour"
           }
          ],
          "mesh3d": [
           {
            "colorbar": {
             "outlinewidth": 0,
             "ticks": ""
            },
            "type": "mesh3d"
           }
          ],
          "parcoords": [
           {
            "line": {
             "colorbar": {
              "outlinewidth": 0,
              "ticks": ""
             }
            },
            "type": "parcoords"
           }
          ],
          "pie": [
           {
            "automargin": true,
            "type": "pie"
           }
          ],
          "scatter": [
           {
            "fillpattern": {
             "fillmode": "overlay",
             "size": 10,
             "solidity": 0.2
            },
            "type": "scatter"
           }
          ],
          "scatter3d": [
           {
            "line": {
             "colorbar": {
              "outlinewidth": 0,
              "ticks": ""
             }
            },
            "marker": {
             "colorbar": {
              "outlinewidth": 0,
              "ticks": ""
             }
            },
            "type": "scatter3d"
           }
          ],
          "scattercarpet": [
           {
            "marker": {
             "colorbar": {
              "outlinewidth": 0,
              "ticks": ""
             }
            },
            "type": "scattercarpet"
           }
          ],
          "scattergeo": [
           {
            "marker": {
             "colorbar": {
              "outlinewidth": 0,
              "ticks": ""
             }
            },
            "type": "scattergeo"
           }
          ],
          "scattergl": [
           {
            "marker": {
             "colorbar": {
              "outlinewidth": 0,
              "ticks": ""
             }
            },
            "type": "scattergl"
           }
          ],
          "scattermapbox": [
           {
            "marker": {
             "colorbar": {
              "outlinewidth": 0,
              "ticks": ""
             }
            },
            "type": "scattermapbox"
           }
          ],
          "scatterpolar": [
           {
            "marker": {
             "colorbar": {
              "outlinewidth": 0,
              "ticks": ""
             }
            },
            "type": "scatterpolar"
           }
          ],
          "scatterpolargl": [
           {
            "marker": {
             "colorbar": {
              "outlinewidth": 0,
              "ticks": ""
             }
            },
            "type": "scatterpolargl"
           }
          ],
          "scatterternary": [
           {
            "marker": {
             "colorbar": {
              "outlinewidth": 0,
              "ticks": ""
             }
            },
            "type": "scatterternary"
           }
          ],
          "surface": [
           {
            "colorbar": {
             "outlinewidth": 0,
             "ticks": ""
            },
            "colorscale": [
             [
              0,
              "#0d0887"
             ],
             [
              0.1111111111111111,
              "#46039f"
             ],
             [
              0.2222222222222222,
              "#7201a8"
             ],
             [
              0.3333333333333333,
              "#9c179e"
             ],
             [
              0.4444444444444444,
              "#bd3786"
             ],
             [
              0.5555555555555556,
              "#d8576b"
             ],
             [
              0.6666666666666666,
              "#ed7953"
             ],
             [
              0.7777777777777778,
              "#fb9f3a"
             ],
             [
              0.8888888888888888,
              "#fdca26"
             ],
             [
              1,
              "#f0f921"
             ]
            ],
            "type": "surface"
           }
          ],
          "table": [
           {
            "cells": {
             "fill": {
              "color": "#EBF0F8"
             },
             "line": {
              "color": "white"
             }
            },
            "header": {
             "fill": {
              "color": "#C8D4E3"
             },
             "line": {
              "color": "white"
             }
            },
            "type": "table"
           }
          ]
         },
         "layout": {
          "annotationdefaults": {
           "arrowcolor": "#2a3f5f",
           "arrowhead": 0,
           "arrowwidth": 1
          },
          "autotypenumbers": "strict",
          "coloraxis": {
           "colorbar": {
            "outlinewidth": 0,
            "ticks": ""
           }
          },
          "colorscale": {
           "diverging": [
            [
             0,
             "#8e0152"
            ],
            [
             0.1,
             "#c51b7d"
            ],
            [
             0.2,
             "#de77ae"
            ],
            [
             0.3,
             "#f1b6da"
            ],
            [
             0.4,
             "#fde0ef"
            ],
            [
             0.5,
             "#f7f7f7"
            ],
            [
             0.6,
             "#e6f5d0"
            ],
            [
             0.7,
             "#b8e186"
            ],
            [
             0.8,
             "#7fbc41"
            ],
            [
             0.9,
             "#4d9221"
            ],
            [
             1,
             "#276419"
            ]
           ],
           "sequential": [
            [
             0,
             "#0d0887"
            ],
            [
             0.1111111111111111,
             "#46039f"
            ],
            [
             0.2222222222222222,
             "#7201a8"
            ],
            [
             0.3333333333333333,
             "#9c179e"
            ],
            [
             0.4444444444444444,
             "#bd3786"
            ],
            [
             0.5555555555555556,
             "#d8576b"
            ],
            [
             0.6666666666666666,
             "#ed7953"
            ],
            [
             0.7777777777777778,
             "#fb9f3a"
            ],
            [
             0.8888888888888888,
             "#fdca26"
            ],
            [
             1,
             "#f0f921"
            ]
           ],
           "sequentialminus": [
            [
             0,
             "#0d0887"
            ],
            [
             0.1111111111111111,
             "#46039f"
            ],
            [
             0.2222222222222222,
             "#7201a8"
            ],
            [
             0.3333333333333333,
             "#9c179e"
            ],
            [
             0.4444444444444444,
             "#bd3786"
            ],
            [
             0.5555555555555556,
             "#d8576b"
            ],
            [
             0.6666666666666666,
             "#ed7953"
            ],
            [
             0.7777777777777778,
             "#fb9f3a"
            ],
            [
             0.8888888888888888,
             "#fdca26"
            ],
            [
             1,
             "#f0f921"
            ]
           ]
          },
          "colorway": [
           "#636efa",
           "#EF553B",
           "#00cc96",
           "#ab63fa",
           "#FFA15A",
           "#19d3f3",
           "#FF6692",
           "#B6E880",
           "#FF97FF",
           "#FECB52"
          ],
          "font": {
           "color": "#2a3f5f"
          },
          "geo": {
           "bgcolor": "white",
           "lakecolor": "white",
           "landcolor": "#E5ECF6",
           "showlakes": true,
           "showland": true,
           "subunitcolor": "white"
          },
          "hoverlabel": {
           "align": "left"
          },
          "hovermode": "closest",
          "mapbox": {
           "style": "light"
          },
          "paper_bgcolor": "white",
          "plot_bgcolor": "#E5ECF6",
          "polar": {
           "angularaxis": {
            "gridcolor": "white",
            "linecolor": "white",
            "ticks": ""
           },
           "bgcolor": "#E5ECF6",
           "radialaxis": {
            "gridcolor": "white",
            "linecolor": "white",
            "ticks": ""
           }
          },
          "scene": {
           "xaxis": {
            "backgroundcolor": "#E5ECF6",
            "gridcolor": "white",
            "gridwidth": 2,
            "linecolor": "white",
            "showbackground": true,
            "ticks": "",
            "zerolinecolor": "white"
           },
           "yaxis": {
            "backgroundcolor": "#E5ECF6",
            "gridcolor": "white",
            "gridwidth": 2,
            "linecolor": "white",
            "showbackground": true,
            "ticks": "",
            "zerolinecolor": "white"
           },
           "zaxis": {
            "backgroundcolor": "#E5ECF6",
            "gridcolor": "white",
            "gridwidth": 2,
            "linecolor": "white",
            "showbackground": true,
            "ticks": "",
            "zerolinecolor": "white"
           }
          },
          "shapedefaults": {
           "line": {
            "color": "#2a3f5f"
           }
          },
          "ternary": {
           "aaxis": {
            "gridcolor": "white",
            "linecolor": "white",
            "ticks": ""
           },
           "baxis": {
            "gridcolor": "white",
            "linecolor": "white",
            "ticks": ""
           },
           "bgcolor": "#E5ECF6",
           "caxis": {
            "gridcolor": "white",
            "linecolor": "white",
            "ticks": ""
           }
          },
          "title": {
           "x": 0.05
          },
          "xaxis": {
           "automargin": true,
           "gridcolor": "white",
           "linecolor": "white",
           "ticks": "",
           "title": {
            "standoff": 15
           },
           "zerolinecolor": "white",
           "zerolinewidth": 2
          },
          "yaxis": {
           "automargin": true,
           "gridcolor": "white",
           "linecolor": "white",
           "ticks": "",
           "title": {
            "standoff": 15
           },
           "zerolinecolor": "white",
           "zerolinewidth": 2
          }
         }
        },
        "title": {
         "text": "Histogramt of Virgin Powder Effective Diameter (µm)"
        },
        "xaxis": {
         "anchor": "y",
         "domain": [
          0,
          1
         ],
         "title": {
          "text": "eff_diameter_µm"
         }
        },
        "xaxis2": {
         "anchor": "y2",
         "domain": [
          0,
          1
         ],
         "matches": "x",
         "showgrid": true,
         "showticklabels": false
        },
        "yaxis": {
         "anchor": "x",
         "domain": [
          0,
          0.8316
         ],
         "title": {
          "text": "count"
         }
        },
        "yaxis2": {
         "anchor": "x2",
         "domain": [
          0.8416,
          1
         ],
         "matches": "y2",
         "showgrid": false,
         "showline": false,
         "showticklabels": false,
         "ticks": ""
        }
       }
      }
     },
     "metadata": {},
     "output_type": "display_data"
    }
   ],
   "source": [
    "fig_hist_dia = px.histogram(diameter_data, \n",
    "                            x= diameter_data.columns[2],\n",
    "                        text_auto=True, marginal=\"rug\",\n",
    "                        title=\"Histogramt of Virgin Powder Effective Diameter (µm)\",\n",
    "                        nbins = 40,\n",
    "                          )\n",
    "fig_hist_dia.show()\n",
    "\n",
    "# Expect most virgin particles to have sizes >= 40, <= 100 microns\n",
    "# Expect  resuse powders to be larger in size, and less sattelite particles (actually good): >= 45 , <= 150"
   ]
  },
  {
   "cell_type": "code",
   "execution_count": 23,
   "metadata": {},
   "outputs": [
    {
     "data": {
      "application/vnd.plotly.v1+json": {
       "config": {
        "plotlyServerURL": "https://plot.ly"
       },
       "data": [
        {
         "alignmentgroup": "True",
         "bingroup": "x",
         "hovertemplate": "Sphericity=%{x}<br>count=%{y}<extra></extra>",
         "legendgroup": "",
         "marker": {
          "color": "#636efa",
          "pattern": {
           "shape": ""
          }
         },
         "name": "",
         "offsetgroup": "",
         "orientation": "v",
         "showlegend": false,
         "texttemplate": "%{value}",
         "type": "histogram",
         "x": [
          0.5339874223475966,
          0.7091287475384869,
          0.7091431305561547,
          0.7325855588058119,
          0.7350952770471778,
          0.7525368236730483,
          0.7580049955887403,
          0.7624746521517333,
          0.7655402258935591,
          0.7682051163974324,
          0.7719597703113766,
          0.7729934564768957,
          0.7747216423009126,
          0.7771443228229125,
          0.7780587326725054,
          0.7782115075780475,
          0.7791205549172839,
          0.780283781793882,
          0.7817569696112834,
          0.7862865738408998,
          0.7873160121188625,
          0.7895699955161726,
          0.7933017924424348,
          0.7937644569587698,
          0.7942901114971455,
          0.7955719804140041,
          0.7962726976462431,
          0.7995376786748278,
          0.8015737272972636,
          0.8029557285677997,
          0.8047546664609038,
          0.8051187082972266,
          0.8104002263119368,
          0.8105306189329369,
          0.8133169983529235,
          0.8134750217328202,
          0.813590760013076,
          0.8144303708077483,
          0.8168436534505948,
          0.8172587856027819,
          0.817603449061766,
          0.817897009448536,
          0.8184592351988683,
          0.8198724173147994,
          0.8205353100524101,
          0.8205992603294224,
          0.8206331359969696,
          0.8210265210750282,
          0.8213480002096033,
          0.8218547067493959,
          0.8226073054794163,
          0.8232656579507627,
          0.8235927946010717,
          0.8239775264492788,
          0.824814408341157,
          0.82502538204604,
          0.8265237366123426,
          0.8270632698559941,
          0.8289757793555937,
          0.8291607412357127,
          0.8292515775781287,
          0.8292558248575695,
          0.8294259395207384,
          0.8302772916921308,
          0.8308375705494117,
          0.8310226983221844,
          0.8310979480329236,
          0.8315515465478555,
          0.8319501912168501,
          0.8321568677954675,
          0.8325620312536157,
          0.8327369200625749,
          0.8328665269561901,
          0.8332797210551771,
          0.8336590355471386,
          0.8347308323078249,
          0.8349062870690491,
          0.8359881164051913,
          0.8363671344180933,
          0.8369626286760634,
          0.8374089839507541,
          0.8374353290814438,
          0.8376927612509167,
          0.838238633083044,
          0.8382476082530688,
          0.838299543723344,
          0.8384349956979678,
          0.8395497424261387,
          0.8397375432210716,
          0.839810132664169,
          0.8403701962957338,
          0.8405431906240077,
          0.8406421513564677,
          0.8408124604342071,
          0.8423905220013219,
          0.8425914033958618,
          0.844163891380884,
          0.8450575329160781,
          0.8450965544855783,
          0.8451712610209035,
          0.8453689268971354,
          0.8453847112885924,
          0.8453979767488605,
          0.8458812126878839,
          0.8460863837074075,
          0.8464751615830418,
          0.846567184821594,
          0.8474654431413161,
          0.8497005951838796,
          0.8501333232133609,
          0.8511532302309719,
          0.8511802567000015,
          0.8512420664475605,
          0.8521360297476193,
          0.8524251320355276,
          0.853032293007022,
          0.8535785335384759,
          0.853901640923466,
          0.8540256866865429,
          0.8548286567932192,
          0.8551391756250779,
          0.8560547942368798,
          0.8569239820200337,
          0.8576255675852867,
          0.8587855120399573,
          0.8603876452779061,
          0.8617298974047574,
          0.8644293236609812,
          0.8684132232297682,
          0.8685843012591132,
          0.8705723066212275,
          0.870586948139791,
          0.8721634747054867,
          0.8738836945152315,
          0.8744201457338041,
          0.8758017288256471,
          0.878357987338967,
          0.8789984976089545,
          0.8799993446148962,
          0.880727050357915,
          0.8815480327286667,
          0.8818714132219596,
          0.8827469977901997,
          0.8834503820633902
         ],
         "xaxis": "x",
         "yaxis": "y"
        },
        {
         "alignmentgroup": "True",
         "boxpoints": "all",
         "fillcolor": "rgba(255,255,255,0)",
         "hoveron": "points",
         "hovertemplate": "Sphericity=%{x}<extra></extra>",
         "jitter": 0,
         "legendgroup": "",
         "line": {
          "color": "rgba(255,255,255,0)"
         },
         "marker": {
          "color": "#636efa",
          "symbol": "line-ns-open"
         },
         "name": "",
         "offsetgroup": "",
         "showlegend": false,
         "type": "box",
         "x": [
          0.5339874223475966,
          0.7091287475384869,
          0.7091431305561547,
          0.7325855588058119,
          0.7350952770471778,
          0.7525368236730483,
          0.7580049955887403,
          0.7624746521517333,
          0.7655402258935591,
          0.7682051163974324,
          0.7719597703113766,
          0.7729934564768957,
          0.7747216423009126,
          0.7771443228229125,
          0.7780587326725054,
          0.7782115075780475,
          0.7791205549172839,
          0.780283781793882,
          0.7817569696112834,
          0.7862865738408998,
          0.7873160121188625,
          0.7895699955161726,
          0.7933017924424348,
          0.7937644569587698,
          0.7942901114971455,
          0.7955719804140041,
          0.7962726976462431,
          0.7995376786748278,
          0.8015737272972636,
          0.8029557285677997,
          0.8047546664609038,
          0.8051187082972266,
          0.8104002263119368,
          0.8105306189329369,
          0.8133169983529235,
          0.8134750217328202,
          0.813590760013076,
          0.8144303708077483,
          0.8168436534505948,
          0.8172587856027819,
          0.817603449061766,
          0.817897009448536,
          0.8184592351988683,
          0.8198724173147994,
          0.8205353100524101,
          0.8205992603294224,
          0.8206331359969696,
          0.8210265210750282,
          0.8213480002096033,
          0.8218547067493959,
          0.8226073054794163,
          0.8232656579507627,
          0.8235927946010717,
          0.8239775264492788,
          0.824814408341157,
          0.82502538204604,
          0.8265237366123426,
          0.8270632698559941,
          0.8289757793555937,
          0.8291607412357127,
          0.8292515775781287,
          0.8292558248575695,
          0.8294259395207384,
          0.8302772916921308,
          0.8308375705494117,
          0.8310226983221844,
          0.8310979480329236,
          0.8315515465478555,
          0.8319501912168501,
          0.8321568677954675,
          0.8325620312536157,
          0.8327369200625749,
          0.8328665269561901,
          0.8332797210551771,
          0.8336590355471386,
          0.8347308323078249,
          0.8349062870690491,
          0.8359881164051913,
          0.8363671344180933,
          0.8369626286760634,
          0.8374089839507541,
          0.8374353290814438,
          0.8376927612509167,
          0.838238633083044,
          0.8382476082530688,
          0.838299543723344,
          0.8384349956979678,
          0.8395497424261387,
          0.8397375432210716,
          0.839810132664169,
          0.8403701962957338,
          0.8405431906240077,
          0.8406421513564677,
          0.8408124604342071,
          0.8423905220013219,
          0.8425914033958618,
          0.844163891380884,
          0.8450575329160781,
          0.8450965544855783,
          0.8451712610209035,
          0.8453689268971354,
          0.8453847112885924,
          0.8453979767488605,
          0.8458812126878839,
          0.8460863837074075,
          0.8464751615830418,
          0.846567184821594,
          0.8474654431413161,
          0.8497005951838796,
          0.8501333232133609,
          0.8511532302309719,
          0.8511802567000015,
          0.8512420664475605,
          0.8521360297476193,
          0.8524251320355276,
          0.853032293007022,
          0.8535785335384759,
          0.853901640923466,
          0.8540256866865429,
          0.8548286567932192,
          0.8551391756250779,
          0.8560547942368798,
          0.8569239820200337,
          0.8576255675852867,
          0.8587855120399573,
          0.8603876452779061,
          0.8617298974047574,
          0.8644293236609812,
          0.8684132232297682,
          0.8685843012591132,
          0.8705723066212275,
          0.870586948139791,
          0.8721634747054867,
          0.8738836945152315,
          0.8744201457338041,
          0.8758017288256471,
          0.878357987338967,
          0.8789984976089545,
          0.8799993446148962,
          0.880727050357915,
          0.8815480327286667,
          0.8818714132219596,
          0.8827469977901997,
          0.8834503820633902
         ],
         "xaxis": "x2",
         "yaxis": "y2"
        }
       ],
       "layout": {
        "barmode": "relative",
        "legend": {
         "tracegroupgap": 0
        },
        "template": {
         "data": {
          "bar": [
           {
            "error_x": {
             "color": "#2a3f5f"
            },
            "error_y": {
             "color": "#2a3f5f"
            },
            "marker": {
             "line": {
              "color": "#E5ECF6",
              "width": 0.5
             },
             "pattern": {
              "fillmode": "overlay",
              "size": 10,
              "solidity": 0.2
             }
            },
            "type": "bar"
           }
          ],
          "barpolar": [
           {
            "marker": {
             "line": {
              "color": "#E5ECF6",
              "width": 0.5
             },
             "pattern": {
              "fillmode": "overlay",
              "size": 10,
              "solidity": 0.2
             }
            },
            "type": "barpolar"
           }
          ],
          "carpet": [
           {
            "aaxis": {
             "endlinecolor": "#2a3f5f",
             "gridcolor": "white",
             "linecolor": "white",
             "minorgridcolor": "white",
             "startlinecolor": "#2a3f5f"
            },
            "baxis": {
             "endlinecolor": "#2a3f5f",
             "gridcolor": "white",
             "linecolor": "white",
             "minorgridcolor": "white",
             "startlinecolor": "#2a3f5f"
            },
            "type": "carpet"
           }
          ],
          "choropleth": [
           {
            "colorbar": {
             "outlinewidth": 0,
             "ticks": ""
            },
            "type": "choropleth"
           }
          ],
          "contour": [
           {
            "colorbar": {
             "outlinewidth": 0,
             "ticks": ""
            },
            "colorscale": [
             [
              0,
              "#0d0887"
             ],
             [
              0.1111111111111111,
              "#46039f"
             ],
             [
              0.2222222222222222,
              "#7201a8"
             ],
             [
              0.3333333333333333,
              "#9c179e"
             ],
             [
              0.4444444444444444,
              "#bd3786"
             ],
             [
              0.5555555555555556,
              "#d8576b"
             ],
             [
              0.6666666666666666,
              "#ed7953"
             ],
             [
              0.7777777777777778,
              "#fb9f3a"
             ],
             [
              0.8888888888888888,
              "#fdca26"
             ],
             [
              1,
              "#f0f921"
             ]
            ],
            "type": "contour"
           }
          ],
          "contourcarpet": [
           {
            "colorbar": {
             "outlinewidth": 0,
             "ticks": ""
            },
            "type": "contourcarpet"
           }
          ],
          "heatmap": [
           {
            "colorbar": {
             "outlinewidth": 0,
             "ticks": ""
            },
            "colorscale": [
             [
              0,
              "#0d0887"
             ],
             [
              0.1111111111111111,
              "#46039f"
             ],
             [
              0.2222222222222222,
              "#7201a8"
             ],
             [
              0.3333333333333333,
              "#9c179e"
             ],
             [
              0.4444444444444444,
              "#bd3786"
             ],
             [
              0.5555555555555556,
              "#d8576b"
             ],
             [
              0.6666666666666666,
              "#ed7953"
             ],
             [
              0.7777777777777778,
              "#fb9f3a"
             ],
             [
              0.8888888888888888,
              "#fdca26"
             ],
             [
              1,
              "#f0f921"
             ]
            ],
            "type": "heatmap"
           }
          ],
          "heatmapgl": [
           {
            "colorbar": {
             "outlinewidth": 0,
             "ticks": ""
            },
            "colorscale": [
             [
              0,
              "#0d0887"
             ],
             [
              0.1111111111111111,
              "#46039f"
             ],
             [
              0.2222222222222222,
              "#7201a8"
             ],
             [
              0.3333333333333333,
              "#9c179e"
             ],
             [
              0.4444444444444444,
              "#bd3786"
             ],
             [
              0.5555555555555556,
              "#d8576b"
             ],
             [
              0.6666666666666666,
              "#ed7953"
             ],
             [
              0.7777777777777778,
              "#fb9f3a"
             ],
             [
              0.8888888888888888,
              "#fdca26"
             ],
             [
              1,
              "#f0f921"
             ]
            ],
            "type": "heatmapgl"
           }
          ],
          "histogram": [
           {
            "marker": {
             "pattern": {
              "fillmode": "overlay",
              "size": 10,
              "solidity": 0.2
             }
            },
            "type": "histogram"
           }
          ],
          "histogram2d": [
           {
            "colorbar": {
             "outlinewidth": 0,
             "ticks": ""
            },
            "colorscale": [
             [
              0,
              "#0d0887"
             ],
             [
              0.1111111111111111,
              "#46039f"
             ],
             [
              0.2222222222222222,
              "#7201a8"
             ],
             [
              0.3333333333333333,
              "#9c179e"
             ],
             [
              0.4444444444444444,
              "#bd3786"
             ],
             [
              0.5555555555555556,
              "#d8576b"
             ],
             [
              0.6666666666666666,
              "#ed7953"
             ],
             [
              0.7777777777777778,
              "#fb9f3a"
             ],
             [
              0.8888888888888888,
              "#fdca26"
             ],
             [
              1,
              "#f0f921"
             ]
            ],
            "type": "histogram2d"
           }
          ],
          "histogram2dcontour": [
           {
            "colorbar": {
             "outlinewidth": 0,
             "ticks": ""
            },
            "colorscale": [
             [
              0,
              "#0d0887"
             ],
             [
              0.1111111111111111,
              "#46039f"
             ],
             [
              0.2222222222222222,
              "#7201a8"
             ],
             [
              0.3333333333333333,
              "#9c179e"
             ],
             [
              0.4444444444444444,
              "#bd3786"
             ],
             [
              0.5555555555555556,
              "#d8576b"
             ],
             [
              0.6666666666666666,
              "#ed7953"
             ],
             [
              0.7777777777777778,
              "#fb9f3a"
             ],
             [
              0.8888888888888888,
              "#fdca26"
             ],
             [
              1,
              "#f0f921"
             ]
            ],
            "type": "histogram2dcontour"
           }
          ],
          "mesh3d": [
           {
            "colorbar": {
             "outlinewidth": 0,
             "ticks": ""
            },
            "type": "mesh3d"
           }
          ],
          "parcoords": [
           {
            "line": {
             "colorbar": {
              "outlinewidth": 0,
              "ticks": ""
             }
            },
            "type": "parcoords"
           }
          ],
          "pie": [
           {
            "automargin": true,
            "type": "pie"
           }
          ],
          "scatter": [
           {
            "fillpattern": {
             "fillmode": "overlay",
             "size": 10,
             "solidity": 0.2
            },
            "type": "scatter"
           }
          ],
          "scatter3d": [
           {
            "line": {
             "colorbar": {
              "outlinewidth": 0,
              "ticks": ""
             }
            },
            "marker": {
             "colorbar": {
              "outlinewidth": 0,
              "ticks": ""
             }
            },
            "type": "scatter3d"
           }
          ],
          "scattercarpet": [
           {
            "marker": {
             "colorbar": {
              "outlinewidth": 0,
              "ticks": ""
             }
            },
            "type": "scattercarpet"
           }
          ],
          "scattergeo": [
           {
            "marker": {
             "colorbar": {
              "outlinewidth": 0,
              "ticks": ""
             }
            },
            "type": "scattergeo"
           }
          ],
          "scattergl": [
           {
            "marker": {
             "colorbar": {
              "outlinewidth": 0,
              "ticks": ""
             }
            },
            "type": "scattergl"
           }
          ],
          "scattermapbox": [
           {
            "marker": {
             "colorbar": {
              "outlinewidth": 0,
              "ticks": ""
             }
            },
            "type": "scattermapbox"
           }
          ],
          "scatterpolar": [
           {
            "marker": {
             "colorbar": {
              "outlinewidth": 0,
              "ticks": ""
             }
            },
            "type": "scatterpolar"
           }
          ],
          "scatterpolargl": [
           {
            "marker": {
             "colorbar": {
              "outlinewidth": 0,
              "ticks": ""
             }
            },
            "type": "scatterpolargl"
           }
          ],
          "scatterternary": [
           {
            "marker": {
             "colorbar": {
              "outlinewidth": 0,
              "ticks": ""
             }
            },
            "type": "scatterternary"
           }
          ],
          "surface": [
           {
            "colorbar": {
             "outlinewidth": 0,
             "ticks": ""
            },
            "colorscale": [
             [
              0,
              "#0d0887"
             ],
             [
              0.1111111111111111,
              "#46039f"
             ],
             [
              0.2222222222222222,
              "#7201a8"
             ],
             [
              0.3333333333333333,
              "#9c179e"
             ],
             [
              0.4444444444444444,
              "#bd3786"
             ],
             [
              0.5555555555555556,
              "#d8576b"
             ],
             [
              0.6666666666666666,
              "#ed7953"
             ],
             [
              0.7777777777777778,
              "#fb9f3a"
             ],
             [
              0.8888888888888888,
              "#fdca26"
             ],
             [
              1,
              "#f0f921"
             ]
            ],
            "type": "surface"
           }
          ],
          "table": [
           {
            "cells": {
             "fill": {
              "color": "#EBF0F8"
             },
             "line": {
              "color": "white"
             }
            },
            "header": {
             "fill": {
              "color": "#C8D4E3"
             },
             "line": {
              "color": "white"
             }
            },
            "type": "table"
           }
          ]
         },
         "layout": {
          "annotationdefaults": {
           "arrowcolor": "#2a3f5f",
           "arrowhead": 0,
           "arrowwidth": 1
          },
          "autotypenumbers": "strict",
          "coloraxis": {
           "colorbar": {
            "outlinewidth": 0,
            "ticks": ""
           }
          },
          "colorscale": {
           "diverging": [
            [
             0,
             "#8e0152"
            ],
            [
             0.1,
             "#c51b7d"
            ],
            [
             0.2,
             "#de77ae"
            ],
            [
             0.3,
             "#f1b6da"
            ],
            [
             0.4,
             "#fde0ef"
            ],
            [
             0.5,
             "#f7f7f7"
            ],
            [
             0.6,
             "#e6f5d0"
            ],
            [
             0.7,
             "#b8e186"
            ],
            [
             0.8,
             "#7fbc41"
            ],
            [
             0.9,
             "#4d9221"
            ],
            [
             1,
             "#276419"
            ]
           ],
           "sequential": [
            [
             0,
             "#0d0887"
            ],
            [
             0.1111111111111111,
             "#46039f"
            ],
            [
             0.2222222222222222,
             "#7201a8"
            ],
            [
             0.3333333333333333,
             "#9c179e"
            ],
            [
             0.4444444444444444,
             "#bd3786"
            ],
            [
             0.5555555555555556,
             "#d8576b"
            ],
            [
             0.6666666666666666,
             "#ed7953"
            ],
            [
             0.7777777777777778,
             "#fb9f3a"
            ],
            [
             0.8888888888888888,
             "#fdca26"
            ],
            [
             1,
             "#f0f921"
            ]
           ],
           "sequentialminus": [
            [
             0,
             "#0d0887"
            ],
            [
             0.1111111111111111,
             "#46039f"
            ],
            [
             0.2222222222222222,
             "#7201a8"
            ],
            [
             0.3333333333333333,
             "#9c179e"
            ],
            [
             0.4444444444444444,
             "#bd3786"
            ],
            [
             0.5555555555555556,
             "#d8576b"
            ],
            [
             0.6666666666666666,
             "#ed7953"
            ],
            [
             0.7777777777777778,
             "#fb9f3a"
            ],
            [
             0.8888888888888888,
             "#fdca26"
            ],
            [
             1,
             "#f0f921"
            ]
           ]
          },
          "colorway": [
           "#636efa",
           "#EF553B",
           "#00cc96",
           "#ab63fa",
           "#FFA15A",
           "#19d3f3",
           "#FF6692",
           "#B6E880",
           "#FF97FF",
           "#FECB52"
          ],
          "font": {
           "color": "#2a3f5f"
          },
          "geo": {
           "bgcolor": "white",
           "lakecolor": "white",
           "landcolor": "#E5ECF6",
           "showlakes": true,
           "showland": true,
           "subunitcolor": "white"
          },
          "hoverlabel": {
           "align": "left"
          },
          "hovermode": "closest",
          "mapbox": {
           "style": "light"
          },
          "paper_bgcolor": "white",
          "plot_bgcolor": "#E5ECF6",
          "polar": {
           "angularaxis": {
            "gridcolor": "white",
            "linecolor": "white",
            "ticks": ""
           },
           "bgcolor": "#E5ECF6",
           "radialaxis": {
            "gridcolor": "white",
            "linecolor": "white",
            "ticks": ""
           }
          },
          "scene": {
           "xaxis": {
            "backgroundcolor": "#E5ECF6",
            "gridcolor": "white",
            "gridwidth": 2,
            "linecolor": "white",
            "showbackground": true,
            "ticks": "",
            "zerolinecolor": "white"
           },
           "yaxis": {
            "backgroundcolor": "#E5ECF6",
            "gridcolor": "white",
            "gridwidth": 2,
            "linecolor": "white",
            "showbackground": true,
            "ticks": "",
            "zerolinecolor": "white"
           },
           "zaxis": {
            "backgroundcolor": "#E5ECF6",
            "gridcolor": "white",
            "gridwidth": 2,
            "linecolor": "white",
            "showbackground": true,
            "ticks": "",
            "zerolinecolor": "white"
           }
          },
          "shapedefaults": {
           "line": {
            "color": "#2a3f5f"
           }
          },
          "ternary": {
           "aaxis": {
            "gridcolor": "white",
            "linecolor": "white",
            "ticks": ""
           },
           "baxis": {
            "gridcolor": "white",
            "linecolor": "white",
            "ticks": ""
           },
           "bgcolor": "#E5ECF6",
           "caxis": {
            "gridcolor": "white",
            "linecolor": "white",
            "ticks": ""
           }
          },
          "title": {
           "x": 0.05
          },
          "xaxis": {
           "automargin": true,
           "gridcolor": "white",
           "linecolor": "white",
           "ticks": "",
           "title": {
            "standoff": 15
           },
           "zerolinecolor": "white",
           "zerolinewidth": 2
          },
          "yaxis": {
           "automargin": true,
           "gridcolor": "white",
           "linecolor": "white",
           "ticks": "",
           "title": {
            "standoff": 15
           },
           "zerolinecolor": "white",
           "zerolinewidth": 2
          }
         }
        },
        "title": {
         "text": "Histogram of Virgin Powder Sphericity"
        },
        "xaxis": {
         "anchor": "y",
         "domain": [
          0,
          1
         ],
         "title": {
          "text": "Sphericity"
         }
        },
        "xaxis2": {
         "anchor": "y2",
         "domain": [
          0,
          1
         ],
         "matches": "x",
         "showgrid": true,
         "showticklabels": false
        },
        "yaxis": {
         "anchor": "x",
         "domain": [
          0,
          0.8316
         ],
         "title": {
          "text": "count"
         }
        },
        "yaxis2": {
         "anchor": "x2",
         "domain": [
          0.8416,
          1
         ],
         "matches": "y2",
         "showgrid": false,
         "showline": false,
         "showticklabels": false,
         "ticks": ""
        }
       }
      }
     },
     "metadata": {},
     "output_type": "display_data"
    }
   ],
   "source": [
    "fig_hist_sph = px.histogram(sph_data, \n",
    "                        x= sph_data.columns[9],\n",
    "                        text_auto=True, marginal=\"rug\",\n",
    "                        title=\"Histogram of Virgin Powder Sphericity\", )\n",
    "fig_hist_sph.show()\n",
    "\n",
    "# Expect nearly all of our virgin powder to spherical >0.6\n",
    "# Expect most of our resue powder to fall betwen 0.2-0.8 sphericity histogram"
   ]
  },
  {
   "cell_type": "markdown",
   "metadata": {},
   "source": [
    "#### Strip plots"
   ]
  },
  {
   "cell_type": "code",
   "execution_count": 24,
   "metadata": {},
   "outputs": [
    {
     "data": {
      "application/vnd.plotly.v1+json": {
       "config": {
        "plotlyServerURL": "https://plot.ly"
       },
       "data": [
        {
         "alignmentgroup": "True",
         "boxpoints": "all",
         "fillcolor": "rgba(255,255,255,0)",
         "hoveron": "points",
         "hovertemplate": "eff_diameter_µm=%{x}<extra></extra>",
         "legendgroup": "",
         "line": {
          "color": "rgba(255,255,255,0)"
         },
         "marker": {
          "color": "#636efa"
         },
         "name": "",
         "offsetgroup": "",
         "orientation": "h",
         "pointpos": 0,
         "showlegend": false,
         "type": "box",
         "x": [
          30.31226348292272,
          39.112786213650715,
          43.34356870698043,
          44.61138047163121,
          45.57241142834951,
          45.77048631296643,
          45.84955997973143,
          46.32130482604842,
          46.43852653239263,
          46.672495916868996,
          46.98273301459814,
          47.32968896813821,
          47.521511454445225,
          47.55980988200974,
          47.67452056714088,
          47.71269617622422,
          48.20662423219735,
          48.32006291333859,
          48.62135945348735,
          48.65879221891113,
          48.88356825318203,
          48.88356825318203,
          49.0702248316217,
          49.21906629950339,
          49.33043494913183,
          49.404584196739826,
          49.441681499940834,
          49.51566415715151,
          49.552678301103526,
          49.737079844578204,
          49.81075156272612,
          50.1774876825454,
          50.21401398037038,
          50.5419406652209,
          50.5419406652209,
          50.8318220694399,
          51.012348641531624,
          51.012348641531624,
          51.33579591365354,
          51.479076561462065,
          51.621959524542056,
          52.0839582714471,
          52.22543016141967,
          52.366519856381565,
          52.75290270066526,
          52.82285047879677,
          53.1020798776236,
          53.171568311353965,
          53.31051228602858,
          53.3452514032316,
          53.89755978608923,
          54.00057714618059,
          55.19020049315351,
          55.2238724642261,
          55.55946980174825,
          55.99319411635053,
          56.22544798249314,
          56.851836528872646,
          56.884636841345234,
          56.98303621750425,
          57.01576105281307,
          57.08115443965393,
          57.14647299611562,
          57.43981981062249,
          57.5372697290239,
          57.569790099773435,
          58.151280657189524,
          58.44012857642828,
          58.95065744671685,
          59.362611323733184,
          59.6778182623658,
          59.74061745139943,
          59.77204555752981,
          60.02277193692176,
          60.02277193692176,
          60.085316544940156,
          60.24139397117652,
          60.30381740238248,
          60.36607082305279,
          60.36607082305279,
          60.76958262762883,
          60.92411608560231,
          61.17074493616154,
          61.2629877724449,
          61.84434061105589,
          63.112719194667335,
          63.262233591526,
          63.73854257636558,
          63.94585568974906,
          64.00506413703049,
          64.12321774031842,
          64.18216338102054,
          65.46826366298812,
          66.24652491107106,
          66.58976476073576,
          66.90298915249772,
          67.07338624653097,
          67.15837526993306,
          67.83511116104923,
          68.86682111584807,
          69.22603891069531,
          69.58367677202983,
          70.48405812678739,
          71.37424148855928,
          72.25460377896225,
          72.49298282535453,
          72.73075563590939,
          72.86254549018669,
          74.91681413381598,
          75.50534673456023,
          76.4436704359858,
          76.82116085193178,
          78.21572451706787,
          79.4177755340537,
          79.49084862690374,
          80.29050132948167,
          80.43515374403384,
          81.98697736898302,
          82.24699941294243,
          82.24699941294243,
          82.24699941294243,
          85.15062013065554,
          86.26449507626927,
          86.55786220462609,
          86.78284874726272,
          86.94005880447084,
          88.96051471887273,
          89.2895211795722,
          89.70465345960608,
          95.01207205909783,
          95.32186297109328,
          96.16392575298258,
          96.16392575298258,
          97.56598181899005,
          97.64666293054705,
          99.46647957181408,
          99.80301641348977,
          105.54115859282373,
          106.38269981602565,
          107.10702013805964,
          110.98554164574554,
          114.56805488036463,
          145.1287754046532,
          180.9180677269219
         ],
         "x0": " ",
         "xaxis": "x",
         "y0": " ",
         "yaxis": "y"
        }
       ],
       "layout": {
        "boxmode": "group",
        "legend": {
         "tracegroupgap": 0
        },
        "template": {
         "data": {
          "bar": [
           {
            "error_x": {
             "color": "#2a3f5f"
            },
            "error_y": {
             "color": "#2a3f5f"
            },
            "marker": {
             "line": {
              "color": "#E5ECF6",
              "width": 0.5
             },
             "pattern": {
              "fillmode": "overlay",
              "size": 10,
              "solidity": 0.2
             }
            },
            "type": "bar"
           }
          ],
          "barpolar": [
           {
            "marker": {
             "line": {
              "color": "#E5ECF6",
              "width": 0.5
             },
             "pattern": {
              "fillmode": "overlay",
              "size": 10,
              "solidity": 0.2
             }
            },
            "type": "barpolar"
           }
          ],
          "carpet": [
           {
            "aaxis": {
             "endlinecolor": "#2a3f5f",
             "gridcolor": "white",
             "linecolor": "white",
             "minorgridcolor": "white",
             "startlinecolor": "#2a3f5f"
            },
            "baxis": {
             "endlinecolor": "#2a3f5f",
             "gridcolor": "white",
             "linecolor": "white",
             "minorgridcolor": "white",
             "startlinecolor": "#2a3f5f"
            },
            "type": "carpet"
           }
          ],
          "choropleth": [
           {
            "colorbar": {
             "outlinewidth": 0,
             "ticks": ""
            },
            "type": "choropleth"
           }
          ],
          "contour": [
           {
            "colorbar": {
             "outlinewidth": 0,
             "ticks": ""
            },
            "colorscale": [
             [
              0,
              "#0d0887"
             ],
             [
              0.1111111111111111,
              "#46039f"
             ],
             [
              0.2222222222222222,
              "#7201a8"
             ],
             [
              0.3333333333333333,
              "#9c179e"
             ],
             [
              0.4444444444444444,
              "#bd3786"
             ],
             [
              0.5555555555555556,
              "#d8576b"
             ],
             [
              0.6666666666666666,
              "#ed7953"
             ],
             [
              0.7777777777777778,
              "#fb9f3a"
             ],
             [
              0.8888888888888888,
              "#fdca26"
             ],
             [
              1,
              "#f0f921"
             ]
            ],
            "type": "contour"
           }
          ],
          "contourcarpet": [
           {
            "colorbar": {
             "outlinewidth": 0,
             "ticks": ""
            },
            "type": "contourcarpet"
           }
          ],
          "heatmap": [
           {
            "colorbar": {
             "outlinewidth": 0,
             "ticks": ""
            },
            "colorscale": [
             [
              0,
              "#0d0887"
             ],
             [
              0.1111111111111111,
              "#46039f"
             ],
             [
              0.2222222222222222,
              "#7201a8"
             ],
             [
              0.3333333333333333,
              "#9c179e"
             ],
             [
              0.4444444444444444,
              "#bd3786"
             ],
             [
              0.5555555555555556,
              "#d8576b"
             ],
             [
              0.6666666666666666,
              "#ed7953"
             ],
             [
              0.7777777777777778,
              "#fb9f3a"
             ],
             [
              0.8888888888888888,
              "#fdca26"
             ],
             [
              1,
              "#f0f921"
             ]
            ],
            "type": "heatmap"
           }
          ],
          "heatmapgl": [
           {
            "colorbar": {
             "outlinewidth": 0,
             "ticks": ""
            },
            "colorscale": [
             [
              0,
              "#0d0887"
             ],
             [
              0.1111111111111111,
              "#46039f"
             ],
             [
              0.2222222222222222,
              "#7201a8"
             ],
             [
              0.3333333333333333,
              "#9c179e"
             ],
             [
              0.4444444444444444,
              "#bd3786"
             ],
             [
              0.5555555555555556,
              "#d8576b"
             ],
             [
              0.6666666666666666,
              "#ed7953"
             ],
             [
              0.7777777777777778,
              "#fb9f3a"
             ],
             [
              0.8888888888888888,
              "#fdca26"
             ],
             [
              1,
              "#f0f921"
             ]
            ],
            "type": "heatmapgl"
           }
          ],
          "histogram": [
           {
            "marker": {
             "pattern": {
              "fillmode": "overlay",
              "size": 10,
              "solidity": 0.2
             }
            },
            "type": "histogram"
           }
          ],
          "histogram2d": [
           {
            "colorbar": {
             "outlinewidth": 0,
             "ticks": ""
            },
            "colorscale": [
             [
              0,
              "#0d0887"
             ],
             [
              0.1111111111111111,
              "#46039f"
             ],
             [
              0.2222222222222222,
              "#7201a8"
             ],
             [
              0.3333333333333333,
              "#9c179e"
             ],
             [
              0.4444444444444444,
              "#bd3786"
             ],
             [
              0.5555555555555556,
              "#d8576b"
             ],
             [
              0.6666666666666666,
              "#ed7953"
             ],
             [
              0.7777777777777778,
              "#fb9f3a"
             ],
             [
              0.8888888888888888,
              "#fdca26"
             ],
             [
              1,
              "#f0f921"
             ]
            ],
            "type": "histogram2d"
           }
          ],
          "histogram2dcontour": [
           {
            "colorbar": {
             "outlinewidth": 0,
             "ticks": ""
            },
            "colorscale": [
             [
              0,
              "#0d0887"
             ],
             [
              0.1111111111111111,
              "#46039f"
             ],
             [
              0.2222222222222222,
              "#7201a8"
             ],
             [
              0.3333333333333333,
              "#9c179e"
             ],
             [
              0.4444444444444444,
              "#bd3786"
             ],
             [
              0.5555555555555556,
              "#d8576b"
             ],
             [
              0.6666666666666666,
              "#ed7953"
             ],
             [
              0.7777777777777778,
              "#fb9f3a"
             ],
             [
              0.8888888888888888,
              "#fdca26"
             ],
             [
              1,
              "#f0f921"
             ]
            ],
            "type": "histogram2dcontour"
           }
          ],
          "mesh3d": [
           {
            "colorbar": {
             "outlinewidth": 0,
             "ticks": ""
            },
            "type": "mesh3d"
           }
          ],
          "parcoords": [
           {
            "line": {
             "colorbar": {
              "outlinewidth": 0,
              "ticks": ""
             }
            },
            "type": "parcoords"
           }
          ],
          "pie": [
           {
            "automargin": true,
            "type": "pie"
           }
          ],
          "scatter": [
           {
            "fillpattern": {
             "fillmode": "overlay",
             "size": 10,
             "solidity": 0.2
            },
            "type": "scatter"
           }
          ],
          "scatter3d": [
           {
            "line": {
             "colorbar": {
              "outlinewidth": 0,
              "ticks": ""
             }
            },
            "marker": {
             "colorbar": {
              "outlinewidth": 0,
              "ticks": ""
             }
            },
            "type": "scatter3d"
           }
          ],
          "scattercarpet": [
           {
            "marker": {
             "colorbar": {
              "outlinewidth": 0,
              "ticks": ""
             }
            },
            "type": "scattercarpet"
           }
          ],
          "scattergeo": [
           {
            "marker": {
             "colorbar": {
              "outlinewidth": 0,
              "ticks": ""
             }
            },
            "type": "scattergeo"
           }
          ],
          "scattergl": [
           {
            "marker": {
             "colorbar": {
              "outlinewidth": 0,
              "ticks": ""
             }
            },
            "type": "scattergl"
           }
          ],
          "scattermapbox": [
           {
            "marker": {
             "colorbar": {
              "outlinewidth": 0,
              "ticks": ""
             }
            },
            "type": "scattermapbox"
           }
          ],
          "scatterpolar": [
           {
            "marker": {
             "colorbar": {
              "outlinewidth": 0,
              "ticks": ""
             }
            },
            "type": "scatterpolar"
           }
          ],
          "scatterpolargl": [
           {
            "marker": {
             "colorbar": {
              "outlinewidth": 0,
              "ticks": ""
             }
            },
            "type": "scatterpolargl"
           }
          ],
          "scatterternary": [
           {
            "marker": {
             "colorbar": {
              "outlinewidth": 0,
              "ticks": ""
             }
            },
            "type": "scatterternary"
           }
          ],
          "surface": [
           {
            "colorbar": {
             "outlinewidth": 0,
             "ticks": ""
            },
            "colorscale": [
             [
              0,
              "#0d0887"
             ],
             [
              0.1111111111111111,
              "#46039f"
             ],
             [
              0.2222222222222222,
              "#7201a8"
             ],
             [
              0.3333333333333333,
              "#9c179e"
             ],
             [
              0.4444444444444444,
              "#bd3786"
             ],
             [
              0.5555555555555556,
              "#d8576b"
             ],
             [
              0.6666666666666666,
              "#ed7953"
             ],
             [
              0.7777777777777778,
              "#fb9f3a"
             ],
             [
              0.8888888888888888,
              "#fdca26"
             ],
             [
              1,
              "#f0f921"
             ]
            ],
            "type": "surface"
           }
          ],
          "table": [
           {
            "cells": {
             "fill": {
              "color": "#EBF0F8"
             },
             "line": {
              "color": "white"
             }
            },
            "header": {
             "fill": {
              "color": "#C8D4E3"
             },
             "line": {
              "color": "white"
             }
            },
            "type": "table"
           }
          ]
         },
         "layout": {
          "annotationdefaults": {
           "arrowcolor": "#2a3f5f",
           "arrowhead": 0,
           "arrowwidth": 1
          },
          "autotypenumbers": "strict",
          "coloraxis": {
           "colorbar": {
            "outlinewidth": 0,
            "ticks": ""
           }
          },
          "colorscale": {
           "diverging": [
            [
             0,
             "#8e0152"
            ],
            [
             0.1,
             "#c51b7d"
            ],
            [
             0.2,
             "#de77ae"
            ],
            [
             0.3,
             "#f1b6da"
            ],
            [
             0.4,
             "#fde0ef"
            ],
            [
             0.5,
             "#f7f7f7"
            ],
            [
             0.6,
             "#e6f5d0"
            ],
            [
             0.7,
             "#b8e186"
            ],
            [
             0.8,
             "#7fbc41"
            ],
            [
             0.9,
             "#4d9221"
            ],
            [
             1,
             "#276419"
            ]
           ],
           "sequential": [
            [
             0,
             "#0d0887"
            ],
            [
             0.1111111111111111,
             "#46039f"
            ],
            [
             0.2222222222222222,
             "#7201a8"
            ],
            [
             0.3333333333333333,
             "#9c179e"
            ],
            [
             0.4444444444444444,
             "#bd3786"
            ],
            [
             0.5555555555555556,
             "#d8576b"
            ],
            [
             0.6666666666666666,
             "#ed7953"
            ],
            [
             0.7777777777777778,
             "#fb9f3a"
            ],
            [
             0.8888888888888888,
             "#fdca26"
            ],
            [
             1,
             "#f0f921"
            ]
           ],
           "sequentialminus": [
            [
             0,
             "#0d0887"
            ],
            [
             0.1111111111111111,
             "#46039f"
            ],
            [
             0.2222222222222222,
             "#7201a8"
            ],
            [
             0.3333333333333333,
             "#9c179e"
            ],
            [
             0.4444444444444444,
             "#bd3786"
            ],
            [
             0.5555555555555556,
             "#d8576b"
            ],
            [
             0.6666666666666666,
             "#ed7953"
            ],
            [
             0.7777777777777778,
             "#fb9f3a"
            ],
            [
             0.8888888888888888,
             "#fdca26"
            ],
            [
             1,
             "#f0f921"
            ]
           ]
          },
          "colorway": [
           "#636efa",
           "#EF553B",
           "#00cc96",
           "#ab63fa",
           "#FFA15A",
           "#19d3f3",
           "#FF6692",
           "#B6E880",
           "#FF97FF",
           "#FECB52"
          ],
          "font": {
           "color": "#2a3f5f"
          },
          "geo": {
           "bgcolor": "white",
           "lakecolor": "white",
           "landcolor": "#E5ECF6",
           "showlakes": true,
           "showland": true,
           "subunitcolor": "white"
          },
          "hoverlabel": {
           "align": "left"
          },
          "hovermode": "closest",
          "mapbox": {
           "style": "light"
          },
          "paper_bgcolor": "white",
          "plot_bgcolor": "#E5ECF6",
          "polar": {
           "angularaxis": {
            "gridcolor": "white",
            "linecolor": "white",
            "ticks": ""
           },
           "bgcolor": "#E5ECF6",
           "radialaxis": {
            "gridcolor": "white",
            "linecolor": "white",
            "ticks": ""
           }
          },
          "scene": {
           "xaxis": {
            "backgroundcolor": "#E5ECF6",
            "gridcolor": "white",
            "gridwidth": 2,
            "linecolor": "white",
            "showbackground": true,
            "ticks": "",
            "zerolinecolor": "white"
           },
           "yaxis": {
            "backgroundcolor": "#E5ECF6",
            "gridcolor": "white",
            "gridwidth": 2,
            "linecolor": "white",
            "showbackground": true,
            "ticks": "",
            "zerolinecolor": "white"
           },
           "zaxis": {
            "backgroundcolor": "#E5ECF6",
            "gridcolor": "white",
            "gridwidth": 2,
            "linecolor": "white",
            "showbackground": true,
            "ticks": "",
            "zerolinecolor": "white"
           }
          },
          "shapedefaults": {
           "line": {
            "color": "#2a3f5f"
           }
          },
          "ternary": {
           "aaxis": {
            "gridcolor": "white",
            "linecolor": "white",
            "ticks": ""
           },
           "baxis": {
            "gridcolor": "white",
            "linecolor": "white",
            "ticks": ""
           },
           "bgcolor": "#E5ECF6",
           "caxis": {
            "gridcolor": "white",
            "linecolor": "white",
            "ticks": ""
           }
          },
          "title": {
           "x": 0.05
          },
          "xaxis": {
           "automargin": true,
           "gridcolor": "white",
           "linecolor": "white",
           "ticks": "",
           "title": {
            "standoff": 15
           },
           "zerolinecolor": "white",
           "zerolinewidth": 2
          },
          "yaxis": {
           "automargin": true,
           "gridcolor": "white",
           "linecolor": "white",
           "ticks": "",
           "title": {
            "standoff": 15
           },
           "zerolinecolor": "white",
           "zerolinewidth": 2
          }
         }
        },
        "title": {
         "text": "Strip plot of Virgin Powder Effective Diameter (µm)"
        },
        "xaxis": {
         "anchor": "y",
         "domain": [
          0,
          1
         ],
         "title": {
          "text": "eff_diameter_µm"
         }
        },
        "yaxis": {
         "anchor": "x",
         "domain": [
          0,
          1
         ]
        }
       }
      }
     },
     "metadata": {},
     "output_type": "display_data"
    }
   ],
   "source": [
    "\n",
    "fig_strip_dia = px.strip(diameter_data, \n",
    "              x=\"eff_diameter_µm\",\n",
    "              title=\"Strip plot of Virgin Powder Effective Diameter (µm)\", \n",
    "              )\n",
    "fig_strip_dia.show()\n"
   ]
  },
  {
   "cell_type": "code",
   "execution_count": 25,
   "metadata": {},
   "outputs": [
    {
     "data": {
      "application/vnd.plotly.v1+json": {
       "config": {
        "plotlyServerURL": "https://plot.ly"
       },
       "data": [
        {
         "alignmentgroup": "True",
         "boxpoints": "all",
         "fillcolor": "rgba(255,255,255,0)",
         "hoveron": "points",
         "hovertemplate": "Sphericity=%{x}<extra></extra>",
         "legendgroup": "",
         "line": {
          "color": "rgba(255,255,255,0)"
         },
         "marker": {
          "color": "#636efa"
         },
         "name": "",
         "offsetgroup": "",
         "orientation": "h",
         "pointpos": 0,
         "showlegend": false,
         "type": "box",
         "x": [
          0.5339874223475966,
          0.7091287475384869,
          0.7091431305561547,
          0.7325855588058119,
          0.7350952770471778,
          0.7525368236730483,
          0.7580049955887403,
          0.7624746521517333,
          0.7655402258935591,
          0.7682051163974324,
          0.7719597703113766,
          0.7729934564768957,
          0.7747216423009126,
          0.7771443228229125,
          0.7780587326725054,
          0.7782115075780475,
          0.7791205549172839,
          0.780283781793882,
          0.7817569696112834,
          0.7862865738408998,
          0.7873160121188625,
          0.7895699955161726,
          0.7933017924424348,
          0.7937644569587698,
          0.7942901114971455,
          0.7955719804140041,
          0.7962726976462431,
          0.7995376786748278,
          0.8015737272972636,
          0.8029557285677997,
          0.8047546664609038,
          0.8051187082972266,
          0.8104002263119368,
          0.8105306189329369,
          0.8133169983529235,
          0.8134750217328202,
          0.813590760013076,
          0.8144303708077483,
          0.8168436534505948,
          0.8172587856027819,
          0.817603449061766,
          0.817897009448536,
          0.8184592351988683,
          0.8198724173147994,
          0.8205353100524101,
          0.8205992603294224,
          0.8206331359969696,
          0.8210265210750282,
          0.8213480002096033,
          0.8218547067493959,
          0.8226073054794163,
          0.8232656579507627,
          0.8235927946010717,
          0.8239775264492788,
          0.824814408341157,
          0.82502538204604,
          0.8265237366123426,
          0.8270632698559941,
          0.8289757793555937,
          0.8291607412357127,
          0.8292515775781287,
          0.8292558248575695,
          0.8294259395207384,
          0.8302772916921308,
          0.8308375705494117,
          0.8310226983221844,
          0.8310979480329236,
          0.8315515465478555,
          0.8319501912168501,
          0.8321568677954675,
          0.8325620312536157,
          0.8327369200625749,
          0.8328665269561901,
          0.8332797210551771,
          0.8336590355471386,
          0.8347308323078249,
          0.8349062870690491,
          0.8359881164051913,
          0.8363671344180933,
          0.8369626286760634,
          0.8374089839507541,
          0.8374353290814438,
          0.8376927612509167,
          0.838238633083044,
          0.8382476082530688,
          0.838299543723344,
          0.8384349956979678,
          0.8395497424261387,
          0.8397375432210716,
          0.839810132664169,
          0.8403701962957338,
          0.8405431906240077,
          0.8406421513564677,
          0.8408124604342071,
          0.8423905220013219,
          0.8425914033958618,
          0.844163891380884,
          0.8450575329160781,
          0.8450965544855783,
          0.8451712610209035,
          0.8453689268971354,
          0.8453847112885924,
          0.8453979767488605,
          0.8458812126878839,
          0.8460863837074075,
          0.8464751615830418,
          0.846567184821594,
          0.8474654431413161,
          0.8497005951838796,
          0.8501333232133609,
          0.8511532302309719,
          0.8511802567000015,
          0.8512420664475605,
          0.8521360297476193,
          0.8524251320355276,
          0.853032293007022,
          0.8535785335384759,
          0.853901640923466,
          0.8540256866865429,
          0.8548286567932192,
          0.8551391756250779,
          0.8560547942368798,
          0.8569239820200337,
          0.8576255675852867,
          0.8587855120399573,
          0.8603876452779061,
          0.8617298974047574,
          0.8644293236609812,
          0.8684132232297682,
          0.8685843012591132,
          0.8705723066212275,
          0.870586948139791,
          0.8721634747054867,
          0.8738836945152315,
          0.8744201457338041,
          0.8758017288256471,
          0.878357987338967,
          0.8789984976089545,
          0.8799993446148962,
          0.880727050357915,
          0.8815480327286667,
          0.8818714132219596,
          0.8827469977901997,
          0.8834503820633902
         ],
         "x0": " ",
         "xaxis": "x",
         "y0": " ",
         "yaxis": "y"
        }
       ],
       "layout": {
        "boxmode": "group",
        "legend": {
         "tracegroupgap": 0
        },
        "template": {
         "data": {
          "bar": [
           {
            "error_x": {
             "color": "#2a3f5f"
            },
            "error_y": {
             "color": "#2a3f5f"
            },
            "marker": {
             "line": {
              "color": "#E5ECF6",
              "width": 0.5
             },
             "pattern": {
              "fillmode": "overlay",
              "size": 10,
              "solidity": 0.2
             }
            },
            "type": "bar"
           }
          ],
          "barpolar": [
           {
            "marker": {
             "line": {
              "color": "#E5ECF6",
              "width": 0.5
             },
             "pattern": {
              "fillmode": "overlay",
              "size": 10,
              "solidity": 0.2
             }
            },
            "type": "barpolar"
           }
          ],
          "carpet": [
           {
            "aaxis": {
             "endlinecolor": "#2a3f5f",
             "gridcolor": "white",
             "linecolor": "white",
             "minorgridcolor": "white",
             "startlinecolor": "#2a3f5f"
            },
            "baxis": {
             "endlinecolor": "#2a3f5f",
             "gridcolor": "white",
             "linecolor": "white",
             "minorgridcolor": "white",
             "startlinecolor": "#2a3f5f"
            },
            "type": "carpet"
           }
          ],
          "choropleth": [
           {
            "colorbar": {
             "outlinewidth": 0,
             "ticks": ""
            },
            "type": "choropleth"
           }
          ],
          "contour": [
           {
            "colorbar": {
             "outlinewidth": 0,
             "ticks": ""
            },
            "colorscale": [
             [
              0,
              "#0d0887"
             ],
             [
              0.1111111111111111,
              "#46039f"
             ],
             [
              0.2222222222222222,
              "#7201a8"
             ],
             [
              0.3333333333333333,
              "#9c179e"
             ],
             [
              0.4444444444444444,
              "#bd3786"
             ],
             [
              0.5555555555555556,
              "#d8576b"
             ],
             [
              0.6666666666666666,
              "#ed7953"
             ],
             [
              0.7777777777777778,
              "#fb9f3a"
             ],
             [
              0.8888888888888888,
              "#fdca26"
             ],
             [
              1,
              "#f0f921"
             ]
            ],
            "type": "contour"
           }
          ],
          "contourcarpet": [
           {
            "colorbar": {
             "outlinewidth": 0,
             "ticks": ""
            },
            "type": "contourcarpet"
           }
          ],
          "heatmap": [
           {
            "colorbar": {
             "outlinewidth": 0,
             "ticks": ""
            },
            "colorscale": [
             [
              0,
              "#0d0887"
             ],
             [
              0.1111111111111111,
              "#46039f"
             ],
             [
              0.2222222222222222,
              "#7201a8"
             ],
             [
              0.3333333333333333,
              "#9c179e"
             ],
             [
              0.4444444444444444,
              "#bd3786"
             ],
             [
              0.5555555555555556,
              "#d8576b"
             ],
             [
              0.6666666666666666,
              "#ed7953"
             ],
             [
              0.7777777777777778,
              "#fb9f3a"
             ],
             [
              0.8888888888888888,
              "#fdca26"
             ],
             [
              1,
              "#f0f921"
             ]
            ],
            "type": "heatmap"
           }
          ],
          "heatmapgl": [
           {
            "colorbar": {
             "outlinewidth": 0,
             "ticks": ""
            },
            "colorscale": [
             [
              0,
              "#0d0887"
             ],
             [
              0.1111111111111111,
              "#46039f"
             ],
             [
              0.2222222222222222,
              "#7201a8"
             ],
             [
              0.3333333333333333,
              "#9c179e"
             ],
             [
              0.4444444444444444,
              "#bd3786"
             ],
             [
              0.5555555555555556,
              "#d8576b"
             ],
             [
              0.6666666666666666,
              "#ed7953"
             ],
             [
              0.7777777777777778,
              "#fb9f3a"
             ],
             [
              0.8888888888888888,
              "#fdca26"
             ],
             [
              1,
              "#f0f921"
             ]
            ],
            "type": "heatmapgl"
           }
          ],
          "histogram": [
           {
            "marker": {
             "pattern": {
              "fillmode": "overlay",
              "size": 10,
              "solidity": 0.2
             }
            },
            "type": "histogram"
           }
          ],
          "histogram2d": [
           {
            "colorbar": {
             "outlinewidth": 0,
             "ticks": ""
            },
            "colorscale": [
             [
              0,
              "#0d0887"
             ],
             [
              0.1111111111111111,
              "#46039f"
             ],
             [
              0.2222222222222222,
              "#7201a8"
             ],
             [
              0.3333333333333333,
              "#9c179e"
             ],
             [
              0.4444444444444444,
              "#bd3786"
             ],
             [
              0.5555555555555556,
              "#d8576b"
             ],
             [
              0.6666666666666666,
              "#ed7953"
             ],
             [
              0.7777777777777778,
              "#fb9f3a"
             ],
             [
              0.8888888888888888,
              "#fdca26"
             ],
             [
              1,
              "#f0f921"
             ]
            ],
            "type": "histogram2d"
           }
          ],
          "histogram2dcontour": [
           {
            "colorbar": {
             "outlinewidth": 0,
             "ticks": ""
            },
            "colorscale": [
             [
              0,
              "#0d0887"
             ],
             [
              0.1111111111111111,
              "#46039f"
             ],
             [
              0.2222222222222222,
              "#7201a8"
             ],
             [
              0.3333333333333333,
              "#9c179e"
             ],
             [
              0.4444444444444444,
              "#bd3786"
             ],
             [
              0.5555555555555556,
              "#d8576b"
             ],
             [
              0.6666666666666666,
              "#ed7953"
             ],
             [
              0.7777777777777778,
              "#fb9f3a"
             ],
             [
              0.8888888888888888,
              "#fdca26"
             ],
             [
              1,
              "#f0f921"
             ]
            ],
            "type": "histogram2dcontour"
           }
          ],
          "mesh3d": [
           {
            "colorbar": {
             "outlinewidth": 0,
             "ticks": ""
            },
            "type": "mesh3d"
           }
          ],
          "parcoords": [
           {
            "line": {
             "colorbar": {
              "outlinewidth": 0,
              "ticks": ""
             }
            },
            "type": "parcoords"
           }
          ],
          "pie": [
           {
            "automargin": true,
            "type": "pie"
           }
          ],
          "scatter": [
           {
            "fillpattern": {
             "fillmode": "overlay",
             "size": 10,
             "solidity": 0.2
            },
            "type": "scatter"
           }
          ],
          "scatter3d": [
           {
            "line": {
             "colorbar": {
              "outlinewidth": 0,
              "ticks": ""
             }
            },
            "marker": {
             "colorbar": {
              "outlinewidth": 0,
              "ticks": ""
             }
            },
            "type": "scatter3d"
           }
          ],
          "scattercarpet": [
           {
            "marker": {
             "colorbar": {
              "outlinewidth": 0,
              "ticks": ""
             }
            },
            "type": "scattercarpet"
           }
          ],
          "scattergeo": [
           {
            "marker": {
             "colorbar": {
              "outlinewidth": 0,
              "ticks": ""
             }
            },
            "type": "scattergeo"
           }
          ],
          "scattergl": [
           {
            "marker": {
             "colorbar": {
              "outlinewidth": 0,
              "ticks": ""
             }
            },
            "type": "scattergl"
           }
          ],
          "scattermapbox": [
           {
            "marker": {
             "colorbar": {
              "outlinewidth": 0,
              "ticks": ""
             }
            },
            "type": "scattermapbox"
           }
          ],
          "scatterpolar": [
           {
            "marker": {
             "colorbar": {
              "outlinewidth": 0,
              "ticks": ""
             }
            },
            "type": "scatterpolar"
           }
          ],
          "scatterpolargl": [
           {
            "marker": {
             "colorbar": {
              "outlinewidth": 0,
              "ticks": ""
             }
            },
            "type": "scatterpolargl"
           }
          ],
          "scatterternary": [
           {
            "marker": {
             "colorbar": {
              "outlinewidth": 0,
              "ticks": ""
             }
            },
            "type": "scatterternary"
           }
          ],
          "surface": [
           {
            "colorbar": {
             "outlinewidth": 0,
             "ticks": ""
            },
            "colorscale": [
             [
              0,
              "#0d0887"
             ],
             [
              0.1111111111111111,
              "#46039f"
             ],
             [
              0.2222222222222222,
              "#7201a8"
             ],
             [
              0.3333333333333333,
              "#9c179e"
             ],
             [
              0.4444444444444444,
              "#bd3786"
             ],
             [
              0.5555555555555556,
              "#d8576b"
             ],
             [
              0.6666666666666666,
              "#ed7953"
             ],
             [
              0.7777777777777778,
              "#fb9f3a"
             ],
             [
              0.8888888888888888,
              "#fdca26"
             ],
             [
              1,
              "#f0f921"
             ]
            ],
            "type": "surface"
           }
          ],
          "table": [
           {
            "cells": {
             "fill": {
              "color": "#EBF0F8"
             },
             "line": {
              "color": "white"
             }
            },
            "header": {
             "fill": {
              "color": "#C8D4E3"
             },
             "line": {
              "color": "white"
             }
            },
            "type": "table"
           }
          ]
         },
         "layout": {
          "annotationdefaults": {
           "arrowcolor": "#2a3f5f",
           "arrowhead": 0,
           "arrowwidth": 1
          },
          "autotypenumbers": "strict",
          "coloraxis": {
           "colorbar": {
            "outlinewidth": 0,
            "ticks": ""
           }
          },
          "colorscale": {
           "diverging": [
            [
             0,
             "#8e0152"
            ],
            [
             0.1,
             "#c51b7d"
            ],
            [
             0.2,
             "#de77ae"
            ],
            [
             0.3,
             "#f1b6da"
            ],
            [
             0.4,
             "#fde0ef"
            ],
            [
             0.5,
             "#f7f7f7"
            ],
            [
             0.6,
             "#e6f5d0"
            ],
            [
             0.7,
             "#b8e186"
            ],
            [
             0.8,
             "#7fbc41"
            ],
            [
             0.9,
             "#4d9221"
            ],
            [
             1,
             "#276419"
            ]
           ],
           "sequential": [
            [
             0,
             "#0d0887"
            ],
            [
             0.1111111111111111,
             "#46039f"
            ],
            [
             0.2222222222222222,
             "#7201a8"
            ],
            [
             0.3333333333333333,
             "#9c179e"
            ],
            [
             0.4444444444444444,
             "#bd3786"
            ],
            [
             0.5555555555555556,
             "#d8576b"
            ],
            [
             0.6666666666666666,
             "#ed7953"
            ],
            [
             0.7777777777777778,
             "#fb9f3a"
            ],
            [
             0.8888888888888888,
             "#fdca26"
            ],
            [
             1,
             "#f0f921"
            ]
           ],
           "sequentialminus": [
            [
             0,
             "#0d0887"
            ],
            [
             0.1111111111111111,
             "#46039f"
            ],
            [
             0.2222222222222222,
             "#7201a8"
            ],
            [
             0.3333333333333333,
             "#9c179e"
            ],
            [
             0.4444444444444444,
             "#bd3786"
            ],
            [
             0.5555555555555556,
             "#d8576b"
            ],
            [
             0.6666666666666666,
             "#ed7953"
            ],
            [
             0.7777777777777778,
             "#fb9f3a"
            ],
            [
             0.8888888888888888,
             "#fdca26"
            ],
            [
             1,
             "#f0f921"
            ]
           ]
          },
          "colorway": [
           "#636efa",
           "#EF553B",
           "#00cc96",
           "#ab63fa",
           "#FFA15A",
           "#19d3f3",
           "#FF6692",
           "#B6E880",
           "#FF97FF",
           "#FECB52"
          ],
          "font": {
           "color": "#2a3f5f"
          },
          "geo": {
           "bgcolor": "white",
           "lakecolor": "white",
           "landcolor": "#E5ECF6",
           "showlakes": true,
           "showland": true,
           "subunitcolor": "white"
          },
          "hoverlabel": {
           "align": "left"
          },
          "hovermode": "closest",
          "mapbox": {
           "style": "light"
          },
          "paper_bgcolor": "white",
          "plot_bgcolor": "#E5ECF6",
          "polar": {
           "angularaxis": {
            "gridcolor": "white",
            "linecolor": "white",
            "ticks": ""
           },
           "bgcolor": "#E5ECF6",
           "radialaxis": {
            "gridcolor": "white",
            "linecolor": "white",
            "ticks": ""
           }
          },
          "scene": {
           "xaxis": {
            "backgroundcolor": "#E5ECF6",
            "gridcolor": "white",
            "gridwidth": 2,
            "linecolor": "white",
            "showbackground": true,
            "ticks": "",
            "zerolinecolor": "white"
           },
           "yaxis": {
            "backgroundcolor": "#E5ECF6",
            "gridcolor": "white",
            "gridwidth": 2,
            "linecolor": "white",
            "showbackground": true,
            "ticks": "",
            "zerolinecolor": "white"
           },
           "zaxis": {
            "backgroundcolor": "#E5ECF6",
            "gridcolor": "white",
            "gridwidth": 2,
            "linecolor": "white",
            "showbackground": true,
            "ticks": "",
            "zerolinecolor": "white"
           }
          },
          "shapedefaults": {
           "line": {
            "color": "#2a3f5f"
           }
          },
          "ternary": {
           "aaxis": {
            "gridcolor": "white",
            "linecolor": "white",
            "ticks": ""
           },
           "baxis": {
            "gridcolor": "white",
            "linecolor": "white",
            "ticks": ""
           },
           "bgcolor": "#E5ECF6",
           "caxis": {
            "gridcolor": "white",
            "linecolor": "white",
            "ticks": ""
           }
          },
          "title": {
           "x": 0.05
          },
          "xaxis": {
           "automargin": true,
           "gridcolor": "white",
           "linecolor": "white",
           "ticks": "",
           "title": {
            "standoff": 15
           },
           "zerolinecolor": "white",
           "zerolinewidth": 2
          },
          "yaxis": {
           "automargin": true,
           "gridcolor": "white",
           "linecolor": "white",
           "ticks": "",
           "title": {
            "standoff": 15
           },
           "zerolinecolor": "white",
           "zerolinewidth": 2
          }
         }
        },
        "title": {
         "text": "Strip plot of Virgin Powder Sphericity"
        },
        "xaxis": {
         "anchor": "y",
         "domain": [
          0,
          1
         ],
         "title": {
          "text": "Sphericity"
         }
        },
        "yaxis": {
         "anchor": "x",
         "domain": [
          0,
          1
         ]
        }
       }
      }
     },
     "metadata": {},
     "output_type": "display_data"
    }
   ],
   "source": [
    "\n",
    "fig_strip_sph = px.strip(sph_data, \n",
    "              x=\"Sphericity\", \n",
    "              title=\"Strip plot of Virgin Powder Sphericity\", \n",
    "              )\n",
    "fig_strip_sph.show()\n"
   ]
  }
 ],
 "metadata": {
  "kernelspec": {
   "display_name": "imageprocessing-py-dev",
   "language": "python",
   "name": "python3"
  },
  "language_info": {
   "codemirror_mode": {
    "name": "ipython",
    "version": 3
   },
   "file_extension": ".py",
   "mimetype": "text/x-python",
   "name": "python",
   "nbconvert_exporter": "python",
   "pygments_lexer": "ipython3",
   "version": "3.9.19"
  }
 },
 "nbformat": 4,
 "nbformat_minor": 2
}
