{
 "cells": [
  {
   "cell_type": "markdown",
   "metadata": {},
   "source": [
    "## visualization for nodules -- ALM Ortho Powders"
   ]
  },
  {
   "cell_type": "code",
   "execution_count": 1,
   "metadata": {},
   "outputs": [],
   "source": [
    "## import modules and libraries for visualization \n",
    "import matplotlib.pyplot as plt \n",
    "import pandas as pd \n",
    "import numpy as np\n",
    "import os"
   ]
  },
  {
   "cell_type": "code",
   "execution_count": null,
   "metadata": {},
   "outputs": [],
   "source": [
    "import os\n",
    "import pandas as pd\n",
    "import re\n",
    "\n",
    "# Path to the folder containing the CSV files\n",
    "folder_path = '/Users/sarah/Documents/areospace research/material recycling project/PyImageJ-Particle-Analysis/FlowCam Ti64 Powders/ImageJ Ti64 Data'\n",
    "output_path = '/Users/sarah/Documents/areospace research/material recycling project/PyImageJ-Particle-Analysis/FlowCam Ti64 Powders/ImageJ Ti64 Data/ImageJoutput.csv'\n",
    "\n",
    "# Pattern to match filenames\n",
    "pattern = r\"(?P<Lot>P\\d+) Group (?P<Group>\\d+) Rev (?P<Rev>\\d+)\"\n",
    "\n",
    "dataframes = []\n",
    "unmatched_files = []\n",
    "\n",
    "# Iterate over files in the folder\n",
    "for file_name in os.listdir(folder_path):\n",
    "    if file_name.endswith(\".csv\"):\n",
    "        match = re.search(pattern, file_name)\n",
    "        if match:\n",
    "            # Extract Lot, Rev, and Group from the filename\n",
    "            lot = match.group(\"Lot\")\n",
    "            group = int(match.group(\"Group\"))\n",
    "            rev = int(match.group(\"Rev\"))\n",
    "            \n",
    "            # Full path to the file\n",
    "            file_path = os.path.join(folder_path, file_name)\n",
    "            \n",
    "            try:\n",
    "                # Read the CSV into a DataFrame\n",
    "                df = pd.read_csv(file_path, encoding='ISO-8859-1')\n",
    "                \n",
    "                # Check if the DataFrame is empty\n",
    "                if df.empty:\n",
    "                    print(f\"Warning: {file_name} is empty and will be skipped.\")\n",
    "                    continue\n",
    "                \n",
    "                # Add new columns\n",
    "                df['Lot'] = lot\n",
    "                df['Rev'] = rev\n",
    "                df['Group'] = group\n",
    "                \n",
    "                # Append the DataFrame to the list\n",
    "                dataframes.append(df)\n",
    "                print(f\"Processed file: {file_name}, shape: {df.shape}\")\n",
    "            except Exception as e:\n",
    "                print(f\"Error processing file {file_name}: {e}\")\n",
    "        else:\n",
    "            unmatched_files.append(file_name)\n",
    "\n",
    "# Concatenate all DataFrames\n",
    "if dataframes:\n",
    "    final_df = pd.concat(dataframes, ignore_index=True)\n",
    "    print(f\"Concatenation complete. Combined DataFrame shape: {final_df.shape}\")\n",
    "    \n",
    "    # Save the final DataFrame to the specified file\n",
    "    try:\n",
    "        final_df.to_csv(output_path, index=False)\n",
    "        print(f\"Output saved to: {output_path}\")\n",
    "    except Exception as e:\n",
    "        print(f\"Error saving the output file: {e}\")\n",
    "else:\n",
    "    print(\"No dataframes to concatenate.\")\n",
    "\n",
    "# List unmatched files\n",
    "if unmatched_files:\n",
    "    print(\"Unmatched files:\")\n",
    "    for file in unmatched_files:\n",
    "        print(file)\n"
   ]
  },
  {
   "cell_type": "code",
   "execution_count": 5,
   "metadata": {},
   "outputs": [
    {
     "name": "stderr",
     "output_type": "stream",
     "text": [
      "/var/folders/27/_cqkc85s1rz_whsq2n2qsjjr0000gn/T/ipykernel_71603/1965729722.py:3: DtypeWarning: Columns (73) have mixed types. Specify dtype option on import or set low_memory=False.\n",
      "  flowcam_data = pd.read_csv('/Users/sarah/Documents/Roux co-op/material recycling project/PyImageJ-Particle-Analysis/FlowCam Ti64 Powders/FlowCam Ti64 Data/FlowCamoutput.csv')\n"
     ]
    }
   ],
   "source": [
    "# import imagej \n",
    "imagej_nodules = pd.read_csv('/Users/sarah/Documents/Roux co-op/material recycling project/PyImageJ-Particle-Analysis/FlowCam Ti64 Powders/ImageJ Ti64 Data/ImageJoutput.csv')\n",
    "flowcam_data = pd.read_csv('/Users/sarah/Documents/Roux co-op/material recycling project/PyImageJ-Particle-Analysis/FlowCam Ti64 Powders/FlowCam Ti64 Data/FlowCamoutput.csv')"
   ]
  },
  {
   "cell_type": "code",
   "execution_count": 6,
   "metadata": {},
   "outputs": [
    {
     "data": {
      "text/plain": [
       "[1606, 1009, 112, 0, 2748, 4098, 4650, 6151, 3993, 2260]"
      ]
     },
     "execution_count": 6,
     "metadata": {},
     "output_type": "execute_result"
    }
   ],
   "source": [
    "imagej_nodules['Rev'] = pd.to_numeric(imagej_nodules['Rev'], errors='coerce')\n",
    "filtered_lots = ['P1444', 'P1440', 'P1442', 'P2328']\n",
    "filtered_nodules = imagej_nodules[imagej_nodules['Lot'].isin(filtered_lots)]\n",
    "Imagej_particle_count = filtered_nodules.groupby('Rev')['Count'].sum()\n",
    "Imagej_particle_count = Imagej_particle_count.reindex(range(1, 11), fill_value=0)\n",
    "Imagej_particle_count = Imagej_particle_count.tolist()\n",
    "\n",
    "Imagej_particle_count\n"
   ]
  },
  {
   "cell_type": "code",
   "execution_count": 7,
   "metadata": {},
   "outputs": [
    {
     "ename": "KeyError",
     "evalue": "'Column not found: Count'",
     "output_type": "error",
     "traceback": [
      "\u001b[0;31m---------------------------------------------------------------------------\u001b[0m",
      "\u001b[0;31mKeyError\u001b[0m                                  Traceback (most recent call last)",
      "Cell \u001b[0;32mIn[7], line 4\u001b[0m\n\u001b[1;32m      2\u001b[0m filtered_lots \u001b[38;5;241m=\u001b[39m [\u001b[38;5;124m'\u001b[39m\u001b[38;5;124mP1444\u001b[39m\u001b[38;5;124m'\u001b[39m, \u001b[38;5;124m'\u001b[39m\u001b[38;5;124mP1440\u001b[39m\u001b[38;5;124m'\u001b[39m, \u001b[38;5;124m'\u001b[39m\u001b[38;5;124mP1442\u001b[39m\u001b[38;5;124m'\u001b[39m, \u001b[38;5;124m'\u001b[39m\u001b[38;5;124mP2328\u001b[39m\u001b[38;5;124m'\u001b[39m]\n\u001b[1;32m      3\u001b[0m filtered_flowcam \u001b[38;5;241m=\u001b[39m flowcam_data[flowcam_data[\u001b[38;5;124m'\u001b[39m\u001b[38;5;124mLot\u001b[39m\u001b[38;5;124m'\u001b[39m]\u001b[38;5;241m.\u001b[39misin(filtered_lots)]\n\u001b[0;32m----> 4\u001b[0m flowcam_particle_count \u001b[38;5;241m=\u001b[39m \u001b[43mfiltered_flowcam\u001b[49m\u001b[38;5;241;43m.\u001b[39;49m\u001b[43mgroupby\u001b[49m\u001b[43m(\u001b[49m\u001b[38;5;124;43m'\u001b[39;49m\u001b[38;5;124;43mRev\u001b[39;49m\u001b[38;5;124;43m'\u001b[39;49m\u001b[43m)\u001b[49m\u001b[43m[\u001b[49m\u001b[38;5;124;43m'\u001b[39;49m\u001b[38;5;124;43mCount\u001b[39;49m\u001b[38;5;124;43m'\u001b[39;49m\u001b[43m]\u001b[49m\u001b[38;5;241m.\u001b[39msum()\n\u001b[1;32m      5\u001b[0m flowcam_particle_count \u001b[38;5;241m=\u001b[39m flowcam_particle_count\u001b[38;5;241m.\u001b[39mreindex(\u001b[38;5;28mrange\u001b[39m(\u001b[38;5;241m1\u001b[39m, \u001b[38;5;241m11\u001b[39m), fill_value\u001b[38;5;241m=\u001b[39m\u001b[38;5;241m0\u001b[39m)\n\u001b[1;32m      6\u001b[0m flowcam_particle_count \u001b[38;5;241m=\u001b[39m flowcam_particle_count\u001b[38;5;241m.\u001b[39mtolist()\n",
      "File \u001b[0;32m~/anaconda3/envs/ds/lib/python3.11/site-packages/pandas/core/groupby/generic.py:1771\u001b[0m, in \u001b[0;36mDataFrameGroupBy.__getitem__\u001b[0;34m(self, key)\u001b[0m\n\u001b[1;32m   1764\u001b[0m \u001b[38;5;28;01mif\u001b[39;00m \u001b[38;5;28misinstance\u001b[39m(key, \u001b[38;5;28mtuple\u001b[39m) \u001b[38;5;129;01mand\u001b[39;00m \u001b[38;5;28mlen\u001b[39m(key) \u001b[38;5;241m>\u001b[39m \u001b[38;5;241m1\u001b[39m:\n\u001b[1;32m   1765\u001b[0m     \u001b[38;5;66;03m# if len == 1, then it becomes a SeriesGroupBy and this is actually\u001b[39;00m\n\u001b[1;32m   1766\u001b[0m     \u001b[38;5;66;03m# valid syntax, so don't raise\u001b[39;00m\n\u001b[1;32m   1767\u001b[0m     \u001b[38;5;28;01mraise\u001b[39;00m \u001b[38;5;167;01mValueError\u001b[39;00m(\n\u001b[1;32m   1768\u001b[0m         \u001b[38;5;124m\"\u001b[39m\u001b[38;5;124mCannot subset columns with a tuple with more than one element. \u001b[39m\u001b[38;5;124m\"\u001b[39m\n\u001b[1;32m   1769\u001b[0m         \u001b[38;5;124m\"\u001b[39m\u001b[38;5;124mUse a list instead.\u001b[39m\u001b[38;5;124m\"\u001b[39m\n\u001b[1;32m   1770\u001b[0m     )\n\u001b[0;32m-> 1771\u001b[0m \u001b[38;5;28;01mreturn\u001b[39;00m \u001b[38;5;28;43msuper\u001b[39;49m\u001b[43m(\u001b[49m\u001b[43m)\u001b[49m\u001b[38;5;241;43m.\u001b[39;49m\u001b[38;5;21;43m__getitem__\u001b[39;49m\u001b[43m(\u001b[49m\u001b[43mkey\u001b[49m\u001b[43m)\u001b[49m\n",
      "File \u001b[0;32m~/anaconda3/envs/ds/lib/python3.11/site-packages/pandas/core/base.py:244\u001b[0m, in \u001b[0;36mSelectionMixin.__getitem__\u001b[0;34m(self, key)\u001b[0m\n\u001b[1;32m    242\u001b[0m \u001b[38;5;28;01melse\u001b[39;00m:\n\u001b[1;32m    243\u001b[0m     \u001b[38;5;28;01mif\u001b[39;00m key \u001b[38;5;129;01mnot\u001b[39;00m \u001b[38;5;129;01min\u001b[39;00m \u001b[38;5;28mself\u001b[39m\u001b[38;5;241m.\u001b[39mobj:\n\u001b[0;32m--> 244\u001b[0m         \u001b[38;5;28;01mraise\u001b[39;00m \u001b[38;5;167;01mKeyError\u001b[39;00m(\u001b[38;5;124mf\u001b[39m\u001b[38;5;124m\"\u001b[39m\u001b[38;5;124mColumn not found: \u001b[39m\u001b[38;5;132;01m{\u001b[39;00mkey\u001b[38;5;132;01m}\u001b[39;00m\u001b[38;5;124m\"\u001b[39m)\n\u001b[1;32m    245\u001b[0m     ndim \u001b[38;5;241m=\u001b[39m \u001b[38;5;28mself\u001b[39m\u001b[38;5;241m.\u001b[39mobj[key]\u001b[38;5;241m.\u001b[39mndim\n\u001b[1;32m    246\u001b[0m     \u001b[38;5;28;01mreturn\u001b[39;00m \u001b[38;5;28mself\u001b[39m\u001b[38;5;241m.\u001b[39m_gotitem(key, ndim\u001b[38;5;241m=\u001b[39mndim)\n",
      "\u001b[0;31mKeyError\u001b[0m: 'Column not found: Count'"
     ]
    }
   ],
   "source": [
    "flowcam_data['Rev'] = pd.to_numeric(flowcam_data['Rev'], errors='coerce')\n",
    "filtered_lots = ['P1444', 'P1440', 'P1442', 'P2328']\n",
    "filtered_flowcam = flowcam_data[flowcam_data['Lot'].isin(filtered_lots)]\n",
    "flowcam_particle_count = filtered_flowcam.groupby('Rev')['Count'].sum()\n",
    "flowcam_particle_count = flowcam_particle_count.reindex(range(1, 11), fill_value=0)\n",
    "flowcam_particle_count = flowcam_particle_count.tolist()\n",
    "\n",
    "flowcam_particle_count"
   ]
  },
  {
   "cell_type": "code",
   "execution_count": null,
   "metadata": {},
   "outputs": [],
   "source": [
    "# plot \n",
    "X = [1,2,3,4,5,6,7,8,9,10]\n",
    "X_axis = np.arange(len(X))\n",
    "\n",
    "plt.bar(X_axis - 0.2, flowcam_particle_count, 0.4, label = 'Flowcam Data')\n",
    "plt.bar(X_axis + 0.2, Imagej_particle_count, 0.4, label = 'ImageJ Data', color='red')\n",
    "\n",
    "plt.xticks(X_axis, X)\n",
    "plt.xlabel('Build Cycles')\n",
    "plt.ylabel('Particle Count')\n",
    "plt.title('Particles per Build Cycle')\n",
    "plt.legend()\n",
    "plt.show()"
   ]
  }
 ],
 "metadata": {
  "kernelspec": {
   "display_name": "ds",
   "language": "python",
   "name": "python3"
  },
  "language_info": {
   "codemirror_mode": {
    "name": "ipython",
    "version": 3
   },
   "file_extension": ".py",
   "mimetype": "text/x-python",
   "name": "python",
   "nbconvert_exporter": "python",
   "pygments_lexer": "ipython3",
   "version": "3.11.8"
  }
 },
 "nbformat": 4,
 "nbformat_minor": 2
}
