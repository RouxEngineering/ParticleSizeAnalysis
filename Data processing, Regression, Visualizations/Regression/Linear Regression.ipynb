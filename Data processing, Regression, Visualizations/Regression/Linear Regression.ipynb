{
 "cells": [
  {
   "cell_type": "markdown",
   "metadata": {},
   "source": [
    "# Applying Linear Regression for Reuse Powders"
   ]
  },
  {
   "cell_type": "code",
   "execution_count": null,
   "metadata": {},
   "outputs": [],
   "source": [
    "# install packages and libraries as well as initializing font to times new roman\n",
    "import matplotlib.pyplot as plt\n",
    "import pandas as pd\n",
    "from sklearn.model_selection import train_test_split\n",
    "from sklearn.linear_model import LinearRegression\n",
    "from sklearn.metrics import r2_score\n",
    "from sklearn.model_selection import train_test_split\n",
    "import matplotlib as mpl\n",
    "\n",
    "\n",
    "mpl.rcParams['font.family'] = 'Times New Roman'\n",
    "mpl.rcParams['axes.unicode_minus'] = False"
   ]
  },
  {
   "cell_type": "code",
   "execution_count": 94,
   "metadata": {},
   "outputs": [],
   "source": [
    "def linear_regression(particle_data, features, targets):\n",
    "    '''Function to apply linear regression to test between features and other characteristics as targets\n",
    "    \n",
    "    parameters: \n",
    "    particle_data (df): pandas dataframe containing particle data \n",
    "    features: feature we are using to predict target \n",
    "    tagets: target features we want to predit \n",
    "    \n",
    "    return:\n",
    "    result_table(df): dataframe containing linear regression model metrics (R2), slope, intercept, and standard deviation and average of targer feature values '''\n",
    "\n",
    "    result_list = []\n",
    "    # initialize features we want to test \n",
    "    X = particle_data[features]\n",
    "\n",
    "    # iterate through dependent features \n",
    "    for target in targets:\n",
    "        #  skip column if entirely empty \n",
    "        if particle_data[target].isna().all():\n",
    "            continue\n",
    "        \n",
    "        # get target characteristic \n",
    "        y = particle_data[[target]]\n",
    "\n",
    "        # split and train data \n",
    "        X_train, X_test, y_train, y_test = train_test_split(X, y, test_size=0.3, random_state=None)\n",
    "        \n",
    "        # linear regression and predict \n",
    "        model = LinearRegression()\n",
    "        model.fit(X_train, y_train)\n",
    "        y_pred = model.predict(X_test)\n",
    "\n",
    "        # calclate R2 value \n",
    "        r2 = r2_score(y_test, y_pred)\n",
    "\n",
    "        # compute averages and std of data \n",
    "        avg_value = particle_data[target].mean()\n",
    "        std_value = particle_data[target].std()\n",
    "\n",
    "        # get slope and intercept for the data \n",
    "        intercept = model.intercept_[0] \n",
    "        slope = model.coef_.flatten().tolist() if len(features) > 1 else model.coef_[0]\n",
    "\n",
    "        # append result to list\n",
    "        result_list.append({\n",
    "            'target': target,\n",
    "            'Average': avg_value,\n",
    "            'Standard Deviation': std_value,\n",
    "            'R2': r2,\n",
    "            'Intercept': intercept,\n",
    "            'Slope': slope[0]\n",
    "        })\n",
    "\n",
    "    # convert result to dataframe \n",
    "    result_table = pd.DataFrame(result_list)\n",
    "\n",
    "    return result_table"
   ]
  },
  {
   "cell_type": "markdown",
   "metadata": {},
   "source": [
    "### Linear Regression with ALM Ortho Powders (Elemental Data)"
   ]
  },
  {
   "cell_type": "code",
   "execution_count": 99,
   "metadata": {},
   "outputs": [
    {
     "data": {
      "text/plain": [
       "Index(['Lot', 'GroupID', 'Rev', 'Aluminum (wt%)', 'Carbon (wt%)',\n",
       "       'Chromium (wt%)', 'Hydrogen (wt%)', 'Iron (wt%)', 'Nickel (wt%)',\n",
       "       'Nitrogen (wt%)', 'Oxygen (wt%)', 'Silicon (wt%)', 'Titanium (wt%)',\n",
       "       'Vanadium (wt%)', 'Yttrium (wt%)'],\n",
       "      dtype='object')"
      ]
     },
     "execution_count": 99,
     "metadata": {},
     "output_type": "execute_result"
    }
   ],
   "source": [
    "# import data\n",
    "alm_ortho_particle_data = pd.read_csv('/Users/sarah/Documents/Roux co-op/material recycling project/PyImageJ-Particle-Analysis/ALM Ortho Microscopy Powders/Merged_Element_Composition_Tables.csv')\n",
    "alm_ortho_particle_data.columns"
   ]
  },
  {
   "cell_type": "code",
   "execution_count": null,
   "metadata": {},
   "outputs": [
    {
     "data": {
      "text/plain": [
       "Index(['Lot', 'GroupID', 'Rev', 'Aluminum (wt%)', 'Carbon (wt%)',\n",
       "       'Chromium (wt%)', 'Hydrogen (wt%)', 'Iron (wt%)', 'Nickel (wt%)',\n",
       "       'Nitrogen (wt%)', 'Oxygen (wt%)', 'Silicon (wt%)', 'Titanium (wt%)',\n",
       "       'Vanadium (wt%)', 'Yttrium (wt%)'],\n",
       "      dtype='object')"
      ]
     },
     "execution_count": 102,
     "metadata": {},
     "output_type": "execute_result"
    }
   ],
   "source": [
    "# Cleaning ALM Ortho Data \n",
    "# slice for specific lot \n",
    "alm_ortho_particle_data_cleaned = alm_ortho_particle_data.loc[alm_ortho_particle_data['Lot']=='P1444']\n",
    "alm_ortho_particle_data_cleaned = alm_ortho_particle_data_cleaned.dropna()\n",
    "alm_ortho_particle_data_cleaned = alm_ortho_particle_data_cleaned[['Lot', 'GroupID', 'Rev', 'Aluminum (wt%)', 'Carbon (wt%)','Chromium (wt%)', 'Hydrogen (wt%)', 'Iron (wt%)', 'Nickel (wt%)','Nitrogen (wt%)', 'Oxygen (wt%)', 'Silicon (wt%)', 'Titanium (wt%)','Vanadium (wt%)', 'Yttrium (wt%)']]"
   ]
  },
  {
   "cell_type": "code",
   "execution_count": null,
   "metadata": {},
   "outputs": [
    {
     "data": {
      "text/html": [
       "<div>\n",
       "<style scoped>\n",
       "    .dataframe tbody tr th:only-of-type {\n",
       "        vertical-align: middle;\n",
       "    }\n",
       "\n",
       "    .dataframe tbody tr th {\n",
       "        vertical-align: top;\n",
       "    }\n",
       "\n",
       "    .dataframe thead th {\n",
       "        text-align: right;\n",
       "    }\n",
       "</style>\n",
       "<table border=\"1\" class=\"dataframe\">\n",
       "  <thead>\n",
       "    <tr style=\"text-align: right;\">\n",
       "      <th></th>\n",
       "      <th>target</th>\n",
       "      <th>Average</th>\n",
       "      <th>Standard Deviation</th>\n",
       "      <th>R2</th>\n",
       "      <th>Intercept</th>\n",
       "      <th>Slope</th>\n",
       "    </tr>\n",
       "  </thead>\n",
       "  <tbody>\n",
       "    <tr>\n",
       "      <th>0</th>\n",
       "      <td>Oxygen (wt%)</td>\n",
       "      <td>0.123</td>\n",
       "      <td>0.032</td>\n",
       "      <td>0.936</td>\n",
       "      <td>0.080</td>\n",
       "      <td>0.011</td>\n",
       "    </tr>\n",
       "    <tr>\n",
       "      <th>1</th>\n",
       "      <td>Vanadium (wt%)</td>\n",
       "      <td>4.007</td>\n",
       "      <td>0.054</td>\n",
       "      <td>-0.048</td>\n",
       "      <td>3.974</td>\n",
       "      <td>0.009</td>\n",
       "    </tr>\n",
       "    <tr>\n",
       "      <th>2</th>\n",
       "      <td>Iron (wt%)</td>\n",
       "      <td>0.190</td>\n",
       "      <td>0.010</td>\n",
       "      <td>-0.193</td>\n",
       "      <td>0.183</td>\n",
       "      <td>0.002</td>\n",
       "    </tr>\n",
       "    <tr>\n",
       "      <th>3</th>\n",
       "      <td>Aluminum (wt%)</td>\n",
       "      <td>6.395</td>\n",
       "      <td>0.066</td>\n",
       "      <td>-0.081</td>\n",
       "      <td>6.382</td>\n",
       "      <td>0.004</td>\n",
       "    </tr>\n",
       "  </tbody>\n",
       "</table>\n",
       "</div>"
      ],
      "text/plain": [
       "           target  Average  Standard Deviation     R2  Intercept  Slope\n",
       "0    Oxygen (wt%)    0.123               0.032  0.936      0.080  0.011\n",
       "1  Vanadium (wt%)    4.007               0.054 -0.048      3.974  0.009\n",
       "2      Iron (wt%)    0.190               0.010 -0.193      0.183  0.002\n",
       "3  Aluminum (wt%)    6.395               0.066 -0.081      6.382  0.004"
      ]
     },
     "execution_count": 113,
     "metadata": {},
     "output_type": "execute_result"
    }
   ],
   "source": [
    "features = ['Rev']\n",
    "target = ['Oxygen (wt%)', 'Vanadium (wt%)',  'Iron (wt%)', 'Aluminum (wt%)']\n",
    "\n",
    "# call linear regression model \n",
    "r2_table = linear_regression(alm_ortho_particle_data_cleaned, features=features, targets=target)\n",
    "\n",
    "# show resulting table \n",
    "r2_table = r2_table.round(3)\n",
    "r2_table"
   ]
  },
  {
   "cell_type": "code",
   "execution_count": null,
   "metadata": {},
   "outputs": [],
   "source": [
    "alm_ortho_particle_data_cleaned = alm_ortho_particle_data_cleaned.loc[(alm_ortho_particle_data_cleaned['Diameter (ABD) (µm)'] >= 40) & (alm_ortho_particle_data_cleaned['Diameter (ABD) (µm)'] <= 110)]"
   ]
  }
 ],
 "metadata": {
  "kernelspec": {
   "display_name": "ds",
   "language": "python",
   "name": "python3"
  },
  "language_info": {
   "codemirror_mode": {
    "name": "ipython",
    "version": 3
   },
   "file_extension": ".py",
   "mimetype": "text/x-python",
   "name": "python",
   "nbconvert_exporter": "python",
   "pygments_lexer": "ipython3",
   "version": "3.11.8"
  }
 },
 "nbformat": 4,
 "nbformat_minor": 2
}
