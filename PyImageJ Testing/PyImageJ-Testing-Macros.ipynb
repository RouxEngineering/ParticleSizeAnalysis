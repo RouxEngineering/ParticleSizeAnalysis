{
 "cells": [
  {
   "cell_type": "markdown",
   "metadata": {},
   "source": [
    "### PyImageJ Testing \n",
    "Testing PyImageJ's capabilities to do particle image processing"
   ]
  },
  {
   "cell_type": "code",
   "execution_count": 2,
   "metadata": {},
   "outputs": [],
   "source": [
    "import scyjava as sj              # {optional} Set memory pool\n",
    "from skimage import io, color            # ImageJ opener, open the image on the background ImageJ\n",
    "from IPython.display import Image # Display only images\n",
    "import os                         # Used to manipulate and create directory with python. \n",
    "from skimage import io\n",
    "import pandas as pd\n",
    "import matplotlib.pyplot as plt\n",
    "import numpy as np\n",
    "import imagej\n",
    "from imagej import Mode"
   ]
  },
  {
   "cell_type": "markdown",
   "metadata": {},
   "source": [
    "Initializing ImageJ "
   ]
  },
  {
   "cell_type": "code",
   "execution_count": 3,
   "metadata": {},
   "outputs": [
    {
     "name": "stderr",
     "output_type": "stream",
     "text": [
      "[ERROR] Cannot create plugin: org.scijava.plugins.scripting.javascript.JavaScriptScriptLanguage\n"
     ]
    }
   ],
   "source": [
    "# Initialize ImageJ\n",
    "ij = imagej.init('net.imagej:imagej+net.imagej:imagej-legacy', mode=Mode.HEADLESS)"
   ]
  },
  {
   "cell_type": "markdown",
   "metadata": {},
   "source": [
    "Opening Image"
   ]
  },
  {
   "cell_type": "code",
   "execution_count": 4,
   "metadata": {},
   "outputs": [],
   "source": [
    "# Open the image\n",
    "image_path = '/workspaces/PyImageJ-Particle-Analysis/Particle Images/image.png'"
   ]
  },
  {
   "cell_type": "code",
   "execution_count": 9,
   "metadata": {},
   "outputs": [
    {
     "data": {
      "text/plain": [
       "<java object 'org.scijava.script.ScriptModule'>"
      ]
     },
     "execution_count": 9,
     "metadata": {},
     "output_type": "execute_result"
    }
   ],
   "source": [
    "# macro command \n",
    "input_image = '/workspaces/PyImageJ-Particle-Analysis/Particle Images/Ti64_Lot232-EZ2316_1Use_10X_Scale.png'\n",
    "output_image = '/workspaces/PyImageJ-Particle-Analysis/Processed Images/processed_image.png'\n",
    "results_summary = '/workspaces/PyImageJ-Particle-Analysis/Processed Images/results_summary.csv'\n",
    "\n",
    "\n",
    "import os\n",
    "os.makedirs(os.path.dirname(output_image), exist_ok=True)\n",
    "\n",
    "\n",
    "macro_cmd = f\"\"\"\n",
    "//Macro Code\n",
    "open(\"{input_image}\");\n",
    "run(\"8-bit\");\n",
    "setThreshold(70, 255);\n",
    "run(\"Invert\");\n",
    "run(\"Convert to Mask\");\n",
    "saveAs(\"png\", \"{output_image}\");\n",
    "run(\"Analyze Particles...\",\"size=0-Infinity\");\n",
    "// Save results to CSV\n",
    "saveAs(\"Results\", \"{results_summary}\");\n",
    "\"\"\"\n",
    "\n",
    "ij.py.run_macro(macro_cmd)"
   ]
  }
 ],
 "metadata": {
  "kernelspec": {
   "display_name": "Python 3",
   "language": "python",
   "name": "python3"
  },
  "language_info": {
   "codemirror_mode": {
    "name": "ipython",
    "version": 3
   },
   "file_extension": ".py",
   "mimetype": "text/x-python",
   "name": "python",
   "nbconvert_exporter": "python",
   "pygments_lexer": "ipython3",
   "version": "3.11.9"
  }
 },
 "nbformat": 4,
 "nbformat_minor": 2
}
