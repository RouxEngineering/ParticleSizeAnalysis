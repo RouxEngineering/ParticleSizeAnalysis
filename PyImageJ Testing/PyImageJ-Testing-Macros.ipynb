{
 "cells": [
  {
   "cell_type": "markdown",
   "metadata": {},
   "source": [
    "### PyImageJ Testing \n",
    "Testing PyImageJ's capabilities to do particle image processing"
   ]
  },
  {
   "cell_type": "code",
   "execution_count": 2,
   "metadata": {},
   "outputs": [],
   "source": [
    "import imagej\n",
    "from imagej import Mode\n",
    "import cv2\n",
    "import pandas as pd"
   ]
  },
  {
   "cell_type": "markdown",
   "metadata": {},
   "source": [
    "Initializing ImageJ "
   ]
  },
  {
   "cell_type": "code",
   "execution_count": 2,
   "metadata": {},
   "outputs": [
    {
     "name": "stderr",
     "output_type": "stream",
     "text": [
      "WARNING: package sun.awt.X11 not in java.desktop\n"
     ]
    }
   ],
   "source": [
    "# initalize imagej\n",
    "ij = imagej.init('net.imagej:imagej+net.imagej:imagej-legacy', mode=Mode.HEADLESS)"
   ]
  },
  {
   "cell_type": "markdown",
   "metadata": {},
   "source": [
    "Opening Image"
   ]
  },
  {
   "cell_type": "code",
   "execution_count": 3,
   "metadata": {},
   "outputs": [
    {
     "name": "stderr",
     "output_type": "stream",
     "text": [
      "Operating in headless mode - the original ImageJ will have limited functionality.\n"
     ]
    },
    {
     "data": {
      "text/plain": [
       "<java object 'org.scijava.script.ScriptModule'>"
      ]
     },
     "execution_count": 3,
     "metadata": {},
     "output_type": "execute_result"
    }
   ],
   "source": [
    "# macro command \n",
    "input_image = '/Users/sarah/Documents/areospace research/material recycling project/PyImageJ-Particle-Analysis/Particle Images/Ti64_Lot232-EZ2316_1Use_10X_Scale.png'\n",
    "output_image = '/Users/sarah/Documents/areospace research/material recycling project/PyImageJ-Particle-Analysis/Processed Testing Output/processed_img.png'\n",
    "results_summary = '/Users/sarah/Documents/areospace research/material recycling project/PyImageJ-Particle-Analysis/Processed Testing Output/results_summary.csv'\n",
    "\n",
    "macro_cmd = f\"\"\"\n",
    "// open image file \n",
    "open(\"{input_image}\");\n",
    "\n",
    "// convert image to 8-bit image type\n",
    "run(\"8-bit\");\n",
    "\n",
    "// set threshold for image and invert\n",
    "setThreshold(70, 255);\n",
    "run(\"Invert\");\n",
    "\n",
    "// convert to a binary mask \n",
    "run(\"Convert to Mask\");\n",
    "\n",
    "// save preprocessed image\n",
    "saveAs(\"png\", \"{output_image}\");\n",
    "\n",
    "// implement scale \n",
    " run(\"Set Scale...\", \"distance=180 known=100 unit=um\"); \n",
    "\n",
    "// set measurements\n",
    "run(\"Set Measurements...\", \"area mean standard min centroid perimeter bounding box fit shape feret's integrated density median skewness kurtosis area_fraction stack position\")\n",
    "\n",
    "// analyze particles \n",
    "run(\"Analyze Particles...\",\"size=0-Infinity exclude\");\n",
    "\n",
    "// save analyzed particle results to summary csv file\n",
    "saveAs(\"Results\", \"{results_summary}\");\n",
    "\"\"\"\n",
    "\n",
    "ij.py.run_macro(macro_cmd)"
   ]
  },
  {
   "cell_type": "code",
   "execution_count": 14,
   "metadata": {},
   "outputs": [
    {
     "data": {
      "text/plain": [
       "True"
      ]
     },
     "execution_count": 14,
     "metadata": {},
     "output_type": "execute_result"
    }
   ],
   "source": [
    "output_image = '/Users/sarah/Documents/areospace research/material recycling project/PyImageJ-Particle-Analysis/Processed Images/Ti64_Lot232-EZ2316_1Use_10X_Scale_processedimage.png'\n",
    "results_summary = '/Users/sarah/Documents/areospace research/material recycling project/PyImageJ-Particle-Analysis/Processed Results/Ti64_Lot232-EZ2316_1Use_10X_Scale_results.csv'\n",
    "# open image\n",
    "img = cv2.imread(output_image)\n",
    "\n",
    "#create pandas df and iterativly label each particle \n",
    "particle_analysis_df = pd.read_csv(results_summary)\n",
    "\n",
    "# get X, Y and labels for each particle \n",
    "label = particle_analysis_df.iloc[:,0]\n",
    "\n",
    "# create list of tuples \n",
    "coordinates = particle_analysis_df.filter(['X','Y'], axis=1)\n",
    "\n",
    "\n",
    "# Convert the coordinates to a list of tuples and multiply each by 100\n",
    "tuples_list = [(int((row['X']*280)/100), int((row['Y']*280)/100)) for index, row in coordinates.iterrows()]\n",
    "\n",
    "\n",
    "radius = 10\n",
    "   \n",
    "# Blue color in BGR \n",
    "color = (255, 0, 0) \n",
    "\n",
    "# Line thickness of 2 px \n",
    "thickness = -1\n",
    "\n",
    "for coordinate in tuples_list: \n",
    "    cv2.circle(img, coordinate, radius, color, thickness)\n",
    "\n",
    "processed_image_path = '/Users/sarah/Documents/areospace research/material recycling project/PyImageJ-Particle-Analysis/Processed Images/Ti64_Lot232-EZ2316_1Use_10X_Scale_results.png'\n",
    "cv2.imwrite(processed_image_path, img)"
   ]
  }
 ],
 "metadata": {
  "kernelspec": {
   "display_name": "Python 3",
   "language": "python",
   "name": "python3"
  },
  "language_info": {
   "codemirror_mode": {
    "name": "ipython",
    "version": 3
   },
   "file_extension": ".py",
   "mimetype": "text/x-python",
   "name": "python",
   "nbconvert_exporter": "python",
   "pygments_lexer": "ipython3",
   "version": "3.11.8"
  }
 },
 "nbformat": 4,
 "nbformat_minor": 2
}
